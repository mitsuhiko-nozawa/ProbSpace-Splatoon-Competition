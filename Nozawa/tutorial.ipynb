{
 "cells": [
  {
   "cell_type": "code",
   "execution_count": 1,
   "metadata": {},
   "outputs": [
    {
     "name": "stdout",
     "output_type": "stream",
     "text": [
      "Python 3.6.12 :: Anaconda, Inc.\n",
      "1.1.1\n",
      "1.19.1\n",
      "0.23.2\n",
      "3.3.1\n"
     ]
    }
   ],
   "source": [
    "#環境確認\n",
    "import pandas as pd\n",
    "import numpy as np\n",
    "import sklearn\n",
    "!python3 --version\n",
    "print(pd.__version__)\n",
    "print(np.__version__)\n",
    "print(sklearn.__version__)\n",
    "import matplotlib\n",
    "print(matplotlib.__version__)"
   ]
  },
  {
   "cell_type": "code",
   "execution_count": 2,
   "metadata": {},
   "outputs": [
    {
     "name": "stdout",
     "output_type": "stream",
     "text": [
      "(66125, 31)\n"
     ]
    }
   ],
   "source": [
    "#データの読み込みと前処理\n",
    "train_data = pd.read_csv(\"Data/train_data.csv\", index_col='id')\n",
    "print(train_data.shape)"
   ]
  },
  {
   "cell_type": "code",
   "execution_count": 3,
   "metadata": {},
   "outputs": [
    {
     "data": {
      "text/html": [
       "<div>\n",
       "<style scoped>\n",
       "    .dataframe tbody tr th:only-of-type {\n",
       "        vertical-align: middle;\n",
       "    }\n",
       "\n",
       "    .dataframe tbody tr th {\n",
       "        vertical-align: top;\n",
       "    }\n",
       "\n",
       "    .dataframe thead th {\n",
       "        text-align: right;\n",
       "    }\n",
       "</style>\n",
       "<table border=\"1\" class=\"dataframe\">\n",
       "  <thead>\n",
       "    <tr style=\"text-align: right;\">\n",
       "      <th></th>\n",
       "      <th>period</th>\n",
       "      <th>game-ver</th>\n",
       "      <th>lobby-mode</th>\n",
       "      <th>lobby</th>\n",
       "      <th>mode</th>\n",
       "      <th>stage</th>\n",
       "      <th>A1-weapon</th>\n",
       "      <th>A1-rank</th>\n",
       "      <th>A1-level</th>\n",
       "      <th>A2-weapon</th>\n",
       "      <th>...</th>\n",
       "      <th>B2-weapon</th>\n",
       "      <th>B2-rank</th>\n",
       "      <th>B2-level</th>\n",
       "      <th>B3-weapon</th>\n",
       "      <th>B3-rank</th>\n",
       "      <th>B3-level</th>\n",
       "      <th>B4-weapon</th>\n",
       "      <th>B4-rank</th>\n",
       "      <th>B4-level</th>\n",
       "      <th>y</th>\n",
       "    </tr>\n",
       "    <tr>\n",
       "      <th>id</th>\n",
       "      <th></th>\n",
       "      <th></th>\n",
       "      <th></th>\n",
       "      <th></th>\n",
       "      <th></th>\n",
       "      <th></th>\n",
       "      <th></th>\n",
       "      <th></th>\n",
       "      <th></th>\n",
       "      <th></th>\n",
       "      <th></th>\n",
       "      <th></th>\n",
       "      <th></th>\n",
       "      <th></th>\n",
       "      <th></th>\n",
       "      <th></th>\n",
       "      <th></th>\n",
       "      <th></th>\n",
       "      <th></th>\n",
       "      <th></th>\n",
       "      <th></th>\n",
       "    </tr>\n",
       "  </thead>\n",
       "  <tbody>\n",
       "    <tr>\n",
       "      <th>1</th>\n",
       "      <td>2019-10-15T20:00:00+00:00</td>\n",
       "      <td>5.0.1</td>\n",
       "      <td>regular</td>\n",
       "      <td>standard</td>\n",
       "      <td>nawabari</td>\n",
       "      <td>sumeshi</td>\n",
       "      <td>sshooter_becchu</td>\n",
       "      <td>NaN</td>\n",
       "      <td>139</td>\n",
       "      <td>soytuber_custom</td>\n",
       "      <td>...</td>\n",
       "      <td>hokusai_becchu</td>\n",
       "      <td>NaN</td>\n",
       "      <td>26.0</td>\n",
       "      <td>herocharger_replica</td>\n",
       "      <td>NaN</td>\n",
       "      <td>68.0</td>\n",
       "      <td>sharp_neo</td>\n",
       "      <td>NaN</td>\n",
       "      <td>31.0</td>\n",
       "      <td>1</td>\n",
       "    </tr>\n",
       "    <tr>\n",
       "      <th>2</th>\n",
       "      <td>2019-12-14T04:00:00+00:00</td>\n",
       "      <td>5.0.1</td>\n",
       "      <td>regular</td>\n",
       "      <td>standard</td>\n",
       "      <td>nawabari</td>\n",
       "      <td>arowana</td>\n",
       "      <td>parashelter_sorella</td>\n",
       "      <td>NaN</td>\n",
       "      <td>198</td>\n",
       "      <td>jetsweeper</td>\n",
       "      <td>...</td>\n",
       "      <td>squiclean_b</td>\n",
       "      <td>NaN</td>\n",
       "      <td>118.0</td>\n",
       "      <td>campingshelter</td>\n",
       "      <td>NaN</td>\n",
       "      <td>168.0</td>\n",
       "      <td>sputtery_clear</td>\n",
       "      <td>NaN</td>\n",
       "      <td>151.0</td>\n",
       "      <td>0</td>\n",
       "    </tr>\n",
       "    <tr>\n",
       "      <th>3</th>\n",
       "      <td>2019-12-25T14:00:00+00:00</td>\n",
       "      <td>5.0.1</td>\n",
       "      <td>gachi</td>\n",
       "      <td>standard</td>\n",
       "      <td>hoko</td>\n",
       "      <td>ama</td>\n",
       "      <td>nzap89</td>\n",
       "      <td>a-</td>\n",
       "      <td>114</td>\n",
       "      <td>quadhopper_black</td>\n",
       "      <td>...</td>\n",
       "      <td>nzap85</td>\n",
       "      <td>a+</td>\n",
       "      <td>163.0</td>\n",
       "      <td>prime_becchu</td>\n",
       "      <td>a-</td>\n",
       "      <td>160.0</td>\n",
       "      <td>dualsweeper_custom</td>\n",
       "      <td>a</td>\n",
       "      <td>126.0</td>\n",
       "      <td>0</td>\n",
       "    </tr>\n",
       "    <tr>\n",
       "      <th>4</th>\n",
       "      <td>2019-11-11T14:00:00+00:00</td>\n",
       "      <td>5.0.1</td>\n",
       "      <td>regular</td>\n",
       "      <td>standard</td>\n",
       "      <td>nawabari</td>\n",
       "      <td>engawa</td>\n",
       "      <td>bamboo14mk1</td>\n",
       "      <td>NaN</td>\n",
       "      <td>336</td>\n",
       "      <td>splatroller_becchu</td>\n",
       "      <td>...</td>\n",
       "      <td>liter4k</td>\n",
       "      <td>NaN</td>\n",
       "      <td>189.0</td>\n",
       "      <td>promodeler_mg</td>\n",
       "      <td>NaN</td>\n",
       "      <td>194.0</td>\n",
       "      <td>hotblaster_custom</td>\n",
       "      <td>NaN</td>\n",
       "      <td>391.0</td>\n",
       "      <td>0</td>\n",
       "    </tr>\n",
       "    <tr>\n",
       "      <th>5</th>\n",
       "      <td>2019-12-14T06:00:00+00:00</td>\n",
       "      <td>5.0.1</td>\n",
       "      <td>gachi</td>\n",
       "      <td>standard</td>\n",
       "      <td>hoko</td>\n",
       "      <td>chozame</td>\n",
       "      <td>bold_7</td>\n",
       "      <td>x</td>\n",
       "      <td>299</td>\n",
       "      <td>hissen_hue</td>\n",
       "      <td>...</td>\n",
       "      <td>sputtery_hue</td>\n",
       "      <td>x</td>\n",
       "      <td>45.0</td>\n",
       "      <td>bucketslosher_soda</td>\n",
       "      <td>x</td>\n",
       "      <td>246.0</td>\n",
       "      <td>wakaba</td>\n",
       "      <td>x</td>\n",
       "      <td>160.0</td>\n",
       "      <td>1</td>\n",
       "    </tr>\n",
       "  </tbody>\n",
       "</table>\n",
       "<p>5 rows × 31 columns</p>\n",
       "</div>"
      ],
      "text/plain": [
       "                       period game-ver lobby-mode     lobby      mode  \\\n",
       "id                                                                      \n",
       "1   2019-10-15T20:00:00+00:00    5.0.1    regular  standard  nawabari   \n",
       "2   2019-12-14T04:00:00+00:00    5.0.1    regular  standard  nawabari   \n",
       "3   2019-12-25T14:00:00+00:00    5.0.1      gachi  standard      hoko   \n",
       "4   2019-11-11T14:00:00+00:00    5.0.1    regular  standard  nawabari   \n",
       "5   2019-12-14T06:00:00+00:00    5.0.1      gachi  standard      hoko   \n",
       "\n",
       "      stage            A1-weapon A1-rank  A1-level           A2-weapon  ...  \\\n",
       "id                                                                      ...   \n",
       "1   sumeshi      sshooter_becchu     NaN       139     soytuber_custom  ...   \n",
       "2   arowana  parashelter_sorella     NaN       198          jetsweeper  ...   \n",
       "3       ama               nzap89      a-       114    quadhopper_black  ...   \n",
       "4    engawa          bamboo14mk1     NaN       336  splatroller_becchu  ...   \n",
       "5   chozame               bold_7       x       299          hissen_hue  ...   \n",
       "\n",
       "         B2-weapon  B2-rank B2-level            B3-weapon  B3-rank B3-level  \\\n",
       "id                                                                            \n",
       "1   hokusai_becchu      NaN     26.0  herocharger_replica      NaN     68.0   \n",
       "2      squiclean_b      NaN    118.0       campingshelter      NaN    168.0   \n",
       "3           nzap85       a+    163.0         prime_becchu       a-    160.0   \n",
       "4          liter4k      NaN    189.0        promodeler_mg      NaN    194.0   \n",
       "5     sputtery_hue        x     45.0   bucketslosher_soda        x    246.0   \n",
       "\n",
       "             B4-weapon  B4-rank B4-level  y  \n",
       "id                                           \n",
       "1            sharp_neo      NaN     31.0  1  \n",
       "2       sputtery_clear      NaN    151.0  0  \n",
       "3   dualsweeper_custom        a    126.0  0  \n",
       "4    hotblaster_custom      NaN    391.0  0  \n",
       "5               wakaba        x    160.0  1  \n",
       "\n",
       "[5 rows x 31 columns]"
      ]
     },
     "execution_count": 3,
     "metadata": {},
     "output_type": "execute_result"
    }
   ],
   "source": [
    "train_data.head()"
   ]
  },
  {
   "cell_type": "code",
   "execution_count": 4,
   "metadata": {},
   "outputs": [
    {
     "data": {
      "text/plain": [
       "(0.524703213610586, 0.47529678638941397)"
      ]
     },
     "execution_count": 4,
     "metadata": {},
     "output_type": "execute_result"
    }
   ],
   "source": [
    "np.sum(train_data['y'] == 1) / train_data['y'].count(), np.sum(train_data['y'] == 0) / train_data['y'].count()"
   ]
  },
  {
   "cell_type": "code",
   "execution_count": 5,
   "metadata": {},
   "outputs": [
    {
     "name": "stdout",
     "output_type": "stream",
     "text": [
      "<class 'pandas.core.frame.DataFrame'>\n",
      "Int64Index: 66125 entries, 1 to 66125\n",
      "Data columns (total 31 columns):\n",
      " #   Column      Non-Null Count  Dtype  \n",
      "---  ------      --------------  -----  \n",
      " 0   period      66125 non-null  object \n",
      " 1   game-ver    66125 non-null  object \n",
      " 2   lobby-mode  66125 non-null  object \n",
      " 3   lobby       66125 non-null  object \n",
      " 4   mode        66125 non-null  object \n",
      " 5   stage       66125 non-null  object \n",
      " 6   A1-weapon   66125 non-null  object \n",
      " 7   A1-rank     51681 non-null  object \n",
      " 8   A1-level    66125 non-null  int64  \n",
      " 9   A2-weapon   66125 non-null  object \n",
      " 10  A2-rank     51681 non-null  object \n",
      " 11  A2-level    66125 non-null  float64\n",
      " 12  A3-weapon   66125 non-null  object \n",
      " 13  A3-rank     51681 non-null  object \n",
      " 14  A3-level    66125 non-null  float64\n",
      " 15  A4-weapon   66074 non-null  object \n",
      " 16  A4-rank     51638 non-null  object \n",
      " 17  A4-level    66074 non-null  float64\n",
      " 18  B1-weapon   66125 non-null  object \n",
      " 19  B1-rank     51681 non-null  object \n",
      " 20  B1-level    66125 non-null  int64  \n",
      " 21  B2-weapon   66125 non-null  object \n",
      " 22  B2-rank     51681 non-null  object \n",
      " 23  B2-level    66125 non-null  float64\n",
      " 24  B3-weapon   66124 non-null  object \n",
      " 25  B3-rank     51681 non-null  object \n",
      " 26  B3-level    66124 non-null  float64\n",
      " 27  B4-weapon   66058 non-null  object \n",
      " 28  B4-rank     51624 non-null  object \n",
      " 29  B4-level    66058 non-null  float64\n",
      " 30  y           66125 non-null  int64  \n",
      "dtypes: float64(6), int64(3), object(22)\n",
      "memory usage: 16.1+ MB\n"
     ]
    }
   ],
   "source": [
    "train_data.info()"
   ]
  },
  {
   "cell_type": "code",
   "execution_count": 6,
   "metadata": {},
   "outputs": [],
   "source": [
    "from sklearn.preprocessing import MultiLabelBinarizer"
   ]
  },
  {
   "cell_type": "code",
   "execution_count": 7,
   "metadata": {},
   "outputs": [
    {
     "data": {
      "text/plain": [
       "MultiLabelBinarizer()"
      ]
     },
     "execution_count": 7,
     "metadata": {},
     "output_type": "execute_result"
    }
   ],
   "source": [
    "mlb = MultiLabelBinarizer()\n",
    "mlb.fit([set(train_data['A1-weapon'].unique())])"
   ]
  },
  {
   "cell_type": "code",
   "execution_count": 8,
   "metadata": {},
   "outputs": [],
   "source": [
    "def trans_weapon(df, columns=['A1-weapon', 'A2-weapon', 'A3-weapon', 'A4-weapon']):\n",
    "    weapon = df.fillna('none') \n",
    "    weapon_binarized = mlb.transform(weapon[columns].values)\n",
    "    return pd.DataFrame(weapon_binarized, columns=mlb.classes_)\n",
    "\n",
    "def make_input_output(df, with_y=False):\n",
    "    a_weapon = trans_weapon(df, ['A1-weapon', 'A2-weapon', 'A3-weapon', 'A4-weapon'])\n",
    "    b_weapon = trans_weapon(df, ['B1-weapon', 'B2-weapon', 'B3-weapon', 'B4-weapon'])\n",
    "    X = pd.concat([a_weapon, b_weapon], axis=1)\n",
    "    if with_y:\n",
    "        y = df['y']\n",
    "        return X, y\n",
    "    return X"
   ]
  },
  {
   "cell_type": "code",
   "execution_count": 9,
   "metadata": {},
   "outputs": [
    {
     "name": "stderr",
     "output_type": "stream",
     "text": [
      "/opt/anaconda3/envs/spla/lib/python3.6/site-packages/sklearn/preprocessing/_label.py:995: UserWarning: unknown class(es) ['none'] will be ignored\n",
      "  .format(sorted(unknown, key=str)))\n"
     ]
    }
   ],
   "source": [
    "X, y = make_input_output(train_data, with_y=True)"
   ]
  },
  {
   "cell_type": "code",
   "execution_count": 10,
   "metadata": {},
   "outputs": [
    {
     "data": {
      "text/plain": [
       "RandomForestClassifier()"
      ]
     },
     "execution_count": 10,
     "metadata": {},
     "output_type": "execute_result"
    }
   ],
   "source": [
    "#scikit-learnライブラリをimport\n",
    "import sklearn\n",
    "from sklearn.ensemble import RandomForestClassifier\n",
    "\n",
    "#線形回帰モデルのインスタンス化\n",
    "model = RandomForestClassifier()\n",
    "\n",
    "#予測モデルの作成\n",
    "model.fit(X, y)"
   ]
  },
  {
   "cell_type": "code",
   "execution_count": 11,
   "metadata": {},
   "outputs": [
    {
     "data": {
      "text/plain": [
       "[(0.01369338767835914, 'prime_becchu'),\n",
       " (0.011496003033728887, 'splatroller'),\n",
       " (0.010738931692563892, 'nzap85'),\n",
       " (0.010508018059754043, 'splatroller'),\n",
       " (0.01043445397989815, 'nzap89'),\n",
       " (0.010220803963441064, 'prime_becchu'),\n",
       " (0.010122493186663585, 'wakaba'),\n",
       " (0.009592493288061391, 'wakaba'),\n",
       " (0.009534039289199771, 'nzap89'),\n",
       " (0.009193470446953041, 'dualsweeper_custom')]"
      ]
     },
     "execution_count": 11,
     "metadata": {},
     "output_type": "execute_result"
    }
   ],
   "source": [
    "list(reversed(sorted(list(zip(model.feature_importances_, X.columns)))))[:10]"
   ]
  },
  {
   "cell_type": "code",
   "execution_count": 12,
   "metadata": {},
   "outputs": [
    {
     "name": "stdout",
     "output_type": "stream",
     "text": [
      "0.9999848771266541\n"
     ]
    }
   ],
   "source": [
    "# accuracyの出力\n",
    "from sklearn.metrics import accuracy_score\n",
    "y_true = y\n",
    "y_pred = model.predict(X)\n",
    "print(accuracy_score(y_true, y_pred))"
   ]
  },
  {
   "cell_type": "code",
   "execution_count": 13,
   "metadata": {},
   "outputs": [
    {
     "data": {
      "text/html": [
       "<div>\n",
       "<style scoped>\n",
       "    .dataframe tbody tr th:only-of-type {\n",
       "        vertical-align: middle;\n",
       "    }\n",
       "\n",
       "    .dataframe tbody tr th {\n",
       "        vertical-align: top;\n",
       "    }\n",
       "\n",
       "    .dataframe thead th {\n",
       "        text-align: right;\n",
       "    }\n",
       "</style>\n",
       "<table border=\"1\" class=\"dataframe\">\n",
       "  <thead>\n",
       "    <tr style=\"text-align: right;\">\n",
       "      <th></th>\n",
       "      <th>period</th>\n",
       "      <th>game-ver</th>\n",
       "      <th>lobby-mode</th>\n",
       "      <th>lobby</th>\n",
       "      <th>mode</th>\n",
       "      <th>stage</th>\n",
       "      <th>A1-weapon</th>\n",
       "      <th>A1-rank</th>\n",
       "      <th>A1-level</th>\n",
       "      <th>A2-weapon</th>\n",
       "      <th>...</th>\n",
       "      <th>B1-level</th>\n",
       "      <th>B2-weapon</th>\n",
       "      <th>B2-rank</th>\n",
       "      <th>B2-level</th>\n",
       "      <th>B3-weapon</th>\n",
       "      <th>B3-rank</th>\n",
       "      <th>B3-level</th>\n",
       "      <th>B4-weapon</th>\n",
       "      <th>B4-rank</th>\n",
       "      <th>B4-level</th>\n",
       "    </tr>\n",
       "    <tr>\n",
       "      <th>id</th>\n",
       "      <th></th>\n",
       "      <th></th>\n",
       "      <th></th>\n",
       "      <th></th>\n",
       "      <th></th>\n",
       "      <th></th>\n",
       "      <th></th>\n",
       "      <th></th>\n",
       "      <th></th>\n",
       "      <th></th>\n",
       "      <th></th>\n",
       "      <th></th>\n",
       "      <th></th>\n",
       "      <th></th>\n",
       "      <th></th>\n",
       "      <th></th>\n",
       "      <th></th>\n",
       "      <th></th>\n",
       "      <th></th>\n",
       "      <th></th>\n",
       "      <th></th>\n",
       "    </tr>\n",
       "  </thead>\n",
       "  <tbody>\n",
       "    <tr>\n",
       "      <th>1</th>\n",
       "      <td>2019-12-17T12:00:00+00:00</td>\n",
       "      <td>5.0.1</td>\n",
       "      <td>gachi</td>\n",
       "      <td>standard</td>\n",
       "      <td>area</td>\n",
       "      <td>hakofugu</td>\n",
       "      <td>prime_collabo</td>\n",
       "      <td>x</td>\n",
       "      <td>174</td>\n",
       "      <td>herospinner_replica</td>\n",
       "      <td>...</td>\n",
       "      <td>160</td>\n",
       "      <td>nautilus47</td>\n",
       "      <td>x</td>\n",
       "      <td>151.0</td>\n",
       "      <td>l3reelgun_d</td>\n",
       "      <td>x</td>\n",
       "      <td>213.0</td>\n",
       "      <td>nzap89</td>\n",
       "      <td>x</td>\n",
       "      <td>306.0</td>\n",
       "    </tr>\n",
       "    <tr>\n",
       "      <th>2</th>\n",
       "      <td>2019-11-25T16:00:00+00:00</td>\n",
       "      <td>5.0.1</td>\n",
       "      <td>gachi</td>\n",
       "      <td>standard</td>\n",
       "      <td>asari</td>\n",
       "      <td>anchovy</td>\n",
       "      <td>prime_becchu</td>\n",
       "      <td>s+</td>\n",
       "      <td>363</td>\n",
       "      <td>nzap89</td>\n",
       "      <td>...</td>\n",
       "      <td>326</td>\n",
       "      <td>dualsweeper_custom</td>\n",
       "      <td>s+</td>\n",
       "      <td>289.0</td>\n",
       "      <td>prime_becchu</td>\n",
       "      <td>s+</td>\n",
       "      <td>147.0</td>\n",
       "      <td>splatroller</td>\n",
       "      <td>s+</td>\n",
       "      <td>156.0</td>\n",
       "    </tr>\n",
       "    <tr>\n",
       "      <th>3</th>\n",
       "      <td>2019-10-22T08:00:00+00:00</td>\n",
       "      <td>5.0.1</td>\n",
       "      <td>gachi</td>\n",
       "      <td>standard</td>\n",
       "      <td>area</td>\n",
       "      <td>mutsugoro</td>\n",
       "      <td>furo_deco</td>\n",
       "      <td>s</td>\n",
       "      <td>116</td>\n",
       "      <td>bold</td>\n",
       "      <td>...</td>\n",
       "      <td>76</td>\n",
       "      <td>momiji</td>\n",
       "      <td>s</td>\n",
       "      <td>232.0</td>\n",
       "      <td>nzap83</td>\n",
       "      <td>s</td>\n",
       "      <td>183.0</td>\n",
       "      <td>promodeler_pg</td>\n",
       "      <td>s</td>\n",
       "      <td>105.0</td>\n",
       "    </tr>\n",
       "    <tr>\n",
       "      <th>4</th>\n",
       "      <td>2019-12-30T04:00:00+00:00</td>\n",
       "      <td>5.0.1</td>\n",
       "      <td>gachi</td>\n",
       "      <td>standard</td>\n",
       "      <td>asari</td>\n",
       "      <td>devon</td>\n",
       "      <td>prime_becchu</td>\n",
       "      <td>s+</td>\n",
       "      <td>192</td>\n",
       "      <td>splatspinner_collabo</td>\n",
       "      <td>...</td>\n",
       "      <td>90</td>\n",
       "      <td>quadhopper_black</td>\n",
       "      <td>s+</td>\n",
       "      <td>119.0</td>\n",
       "      <td>soytuber</td>\n",
       "      <td>s+</td>\n",
       "      <td>172.0</td>\n",
       "      <td>prime</td>\n",
       "      <td>s+</td>\n",
       "      <td>70.0</td>\n",
       "    </tr>\n",
       "    <tr>\n",
       "      <th>5</th>\n",
       "      <td>2019-10-15T16:00:00+00:00</td>\n",
       "      <td>5.0.1</td>\n",
       "      <td>gachi</td>\n",
       "      <td>standard</td>\n",
       "      <td>yagura</td>\n",
       "      <td>anchovy</td>\n",
       "      <td>l3reelgun_d</td>\n",
       "      <td>x</td>\n",
       "      <td>267</td>\n",
       "      <td>rapid_becchu</td>\n",
       "      <td>...</td>\n",
       "      <td>259</td>\n",
       "      <td>sshooter_becchu</td>\n",
       "      <td>x</td>\n",
       "      <td>198.0</td>\n",
       "      <td>splatscope</td>\n",
       "      <td>x</td>\n",
       "      <td>50.0</td>\n",
       "      <td>screwslosher_becchu</td>\n",
       "      <td>x</td>\n",
       "      <td>287.0</td>\n",
       "    </tr>\n",
       "  </tbody>\n",
       "</table>\n",
       "<p>5 rows × 30 columns</p>\n",
       "</div>"
      ],
      "text/plain": [
       "                       period game-ver lobby-mode     lobby    mode  \\\n",
       "id                                                                    \n",
       "1   2019-12-17T12:00:00+00:00    5.0.1      gachi  standard    area   \n",
       "2   2019-11-25T16:00:00+00:00    5.0.1      gachi  standard   asari   \n",
       "3   2019-10-22T08:00:00+00:00    5.0.1      gachi  standard    area   \n",
       "4   2019-12-30T04:00:00+00:00    5.0.1      gachi  standard   asari   \n",
       "5   2019-10-15T16:00:00+00:00    5.0.1      gachi  standard  yagura   \n",
       "\n",
       "        stage      A1-weapon A1-rank  A1-level             A2-weapon  ...  \\\n",
       "id                                                                    ...   \n",
       "1    hakofugu  prime_collabo       x       174   herospinner_replica  ...   \n",
       "2     anchovy   prime_becchu      s+       363                nzap89  ...   \n",
       "3   mutsugoro      furo_deco       s       116                  bold  ...   \n",
       "4       devon   prime_becchu      s+       192  splatspinner_collabo  ...   \n",
       "5     anchovy    l3reelgun_d       x       267          rapid_becchu  ...   \n",
       "\n",
       "   B1-level           B2-weapon B2-rank B2-level     B3-weapon B3-rank  \\\n",
       "id                                                                       \n",
       "1       160          nautilus47       x    151.0   l3reelgun_d       x   \n",
       "2       326  dualsweeper_custom      s+    289.0  prime_becchu      s+   \n",
       "3        76              momiji       s    232.0        nzap83       s   \n",
       "4        90    quadhopper_black      s+    119.0      soytuber      s+   \n",
       "5       259     sshooter_becchu       x    198.0    splatscope       x   \n",
       "\n",
       "   B3-level            B4-weapon B4-rank B4-level  \n",
       "id                                                 \n",
       "1     213.0               nzap89       x    306.0  \n",
       "2     147.0          splatroller      s+    156.0  \n",
       "3     183.0        promodeler_pg       s    105.0  \n",
       "4     172.0                prime      s+     70.0  \n",
       "5      50.0  screwslosher_becchu       x    287.0  \n",
       "\n",
       "[5 rows x 30 columns]"
      ]
     },
     "execution_count": 13,
     "metadata": {},
     "output_type": "execute_result"
    }
   ],
   "source": [
    "path_test = \"Data/test_data.csv\"\n",
    "test_data = pd.read_csv(path_test, index_col='id')\n",
    "test_data.head()"
   ]
  },
  {
   "cell_type": "code",
   "execution_count": 14,
   "metadata": {},
   "outputs": [
    {
     "name": "stderr",
     "output_type": "stream",
     "text": [
      "/opt/anaconda3/envs/spla/lib/python3.6/site-packages/sklearn/preprocessing/_label.py:995: UserWarning: unknown class(es) ['none'] will be ignored\n",
      "  .format(sorted(unknown, key=str)))\n"
     ]
    }
   ],
   "source": [
    "test_X = make_input_output(test_data)"
   ]
  },
  {
   "cell_type": "code",
   "execution_count": 15,
   "metadata": {},
   "outputs": [],
   "source": [
    "#テスト結果の出力\n",
    "test_predicted = model.predict(test_X)\n",
    "submit_df = pd.DataFrame({'y': test_predicted})\n",
    "submit_df.index.name = 'id'\n",
    "submit_df.to_csv('Submissions/submission.csv')"
   ]
  },
  {
   "cell_type": "markdown",
   "metadata": {},
   "source": [
    "## ここから自分で実装"
   ]
  },
  {
   "cell_type": "code",
   "execution_count": 16,
   "metadata": {},
   "outputs": [
    {
     "name": "stderr",
     "output_type": "stream",
     "text": [
      "/opt/anaconda3/envs/spla/lib/python3.6/site-packages/lightgbm/__init__.py:48: UserWarning: Starting from version 2.2.1, the library file in distribution wheels for macOS is built by the Apple Clang (Xcode_8.3.3) compiler.\n",
      "This means that in case of installing LightGBM from PyPI via the ``pip install lightgbm`` command, you don't need to install the gcc compiler anymore.\n",
      "Instead of that, you need to install the OpenMP library, which is required for running LightGBM on the system with the Apple Clang compiler.\n",
      "You can install the OpenMP library by the following command: ``brew install libomp``.\n",
      "  \"You can install the OpenMP library by the following command: ``brew install libomp``.\", UserWarning)\n"
     ]
    }
   ],
   "source": [
    "import random\n",
    "\n",
    "from sklearn.model_selection import train_test_split\n",
    "from sklearn.metrics import accuracy_score\n",
    "import lightgbm as lgb\n",
    "from lightgbm import LGBMClassifier\n",
    "\n",
    "\n",
    "random.seed(0)"
   ]
  },
  {
   "cell_type": "code",
   "execution_count": 17,
   "metadata": {},
   "outputs": [
    {
     "name": "stdout",
     "output_type": "stream",
     "text": [
      "5\n",
      "fold  1  size is  13225\n",
      "fold  2  size is  13225\n",
      "fold  3  size is  13225\n",
      "fold  4  size is  13225\n",
      "fold  5  size is  13225\n",
      "successfully split\n"
     ]
    }
   ],
   "source": [
    "# 全データを5つに分割\n",
    "SIZE = X.shape[0]\n",
    "K = 5\n",
    "\n",
    "def make_kfolds(SIZE, K):\n",
    "    # return list object, each element is indices of its fold\n",
    "    FOLD_SIZE = int(SIZE/K)\n",
    "    res = []\n",
    "    indices = [i for i in range(SIZE)]\n",
    "    for i in range(K-1):\n",
    "        fold = random.sample(indices, FOLD_SIZE)\n",
    "        indices = list(set(indices) - set(fold))\n",
    "        res.append(fold)\n",
    "    res.append(indices)\n",
    "    return res\n",
    "\n",
    "folds = make_kfolds(SIZE, K)\n",
    "print(len(folds))\n",
    "for i, fold in enumerate(folds):\n",
    "    print(\"fold \", i+1, \" size is \", len(fold))\n",
    "    \n",
    "\n",
    "    \n",
    "if SIZE != len(set(sum(folds, []))):\n",
    "    print(\"error is occuring in spliting\")\n",
    "else :\n",
    "    print(\"successfully split\")\n"
   ]
  },
  {
   "cell_type": "code",
   "execution_count": 53,
   "metadata": {
    "scrolled": true
   },
   "outputs": [
    {
     "name": "stdout",
     "output_type": "stream",
     "text": [
      "Training until validation scores don't improve for 2 rounds\n",
      "[10]\tvalid_0's binary_logloss: 0.690586\n",
      "[20]\tvalid_0's binary_logloss: 0.689553\n",
      "[30]\tvalid_0's binary_logloss: 0.688889\n",
      "[40]\tvalid_0's binary_logloss: 0.688666\n",
      "Early stopping, best iteration is:\n",
      "[42]\tvalid_0's binary_logloss: 0.688625\n",
      "Training until validation scores don't improve for 2 rounds\n",
      "[10]\tvalid_0's binary_logloss: 0.689467\n",
      "[20]\tvalid_0's binary_logloss: 0.688654\n",
      "[30]\tvalid_0's binary_logloss: 0.688145\n",
      "Early stopping, best iteration is:\n",
      "[34]\tvalid_0's binary_logloss: 0.687953\n",
      "Training until validation scores don't improve for 2 rounds\n",
      "[10]\tvalid_0's binary_logloss: 0.689599\n",
      "[20]\tvalid_0's binary_logloss: 0.688677\n",
      "Early stopping, best iteration is:\n",
      "[26]\tvalid_0's binary_logloss: 0.688265\n",
      "Training until validation scores don't improve for 2 rounds\n",
      "[10]\tvalid_0's binary_logloss: 0.688293\n",
      "[20]\tvalid_0's binary_logloss: 0.687313\n",
      "Early stopping, best iteration is:\n",
      "[18]\tvalid_0's binary_logloss: 0.687295\n",
      "Training until validation scores don't improve for 2 rounds\n",
      "[10]\tvalid_0's binary_logloss: 0.689564\n",
      "[20]\tvalid_0's binary_logloss: 0.689009\n",
      "Early stopping, best iteration is:\n",
      "[27]\tvalid_0's binary_logloss: 0.68852\n",
      "cv score :  0.5402495274102079\n"
     ]
    }
   ],
   "source": [
    "param = {\n",
    "    \"num_leaves\" : 20,\n",
    "    \"n_estimators\" : 100,\n",
    "    \"learning_rate\" : 0.1,\n",
    "    \"num_iterations\" : 50,\n",
    "    \"objective\" : \"binary\",\n",
    "    \"metric\" : [\"binary_logloss\"],\n",
    "}\n",
    "\n",
    "THRESHOLD = 0.51\n",
    "models = []\n",
    "cv_scores = []\n",
    "\n",
    "all_indices = sum(folds, [])\n",
    "for i in range(K):\n",
    "    valid_indices = folds[i]\n",
    "    train_indices = list(set(all_indices) - set(valid_indices))\n",
    "    # print(\"train \", len(train_indices), \" , valid \", len(valid_indices))\n",
    "    train_X = X.iloc[train_indices].values\n",
    "    train_y = y.iloc[train_indices].values\n",
    "    valid_X = X.iloc[valid_indices].values\n",
    "    valid_y = y.iloc[valid_indices].values\n",
    "    \n",
    "    train_data = lgb.Dataset(train_X, label=train_y)\n",
    "    valid_data = lgb.Dataset(valid_X, label=valid_y)\n",
    "    \n",
    "    model = lgb.train(param, train_data, valid_sets=valid_data, early_stopping_rounds=2, verbose_eval=10)\n",
    "    pred = model.predict(valid_X)\n",
    "    pred = np.where(pred < THRESHOLD, 0, 1)\n",
    "    \n",
    "    #model = LGBMClassifier()\n",
    "    #model.set_params(**param)\n",
    "    \n",
    "    #model.fit(train_X, train_y, eval_set=(valid_X, valid_y),  early_stopping_rounds=1, verbose=False)\n",
    "    #pred = model.predict(valid_X)\n",
    "    score = accuracy_score(pred, valid_y)\n",
    "    \n",
    "    models.append(model)\n",
    "    cv_scores.append(score)\n",
    "    \n",
    "    \n",
    "print(\"cv score : \", np.mean(cv_scores))    "
   ]
  },
  {
   "cell_type": "code",
   "execution_count": 54,
   "metadata": {},
   "outputs": [
    {
     "name": "stdout",
     "output_type": "stream",
     "text": [
      "0.5270093969054028\n",
      "0.5247101552746444\n",
      "0.523681623239878\n",
      "0.5219899760487852\n",
      "0.5237909131933219\n",
      "0.5242364129324065\n"
     ]
    },
    {
     "data": {
      "text/plain": [
       "array([[<AxesSubplot:title={'center':'pred'}>]], dtype=object)"
      ]
     },
     "execution_count": 54,
     "metadata": {},
     "output_type": "execute_result"
    },
    {
     "data": {
      "image/png": "[encoded data removed]",
      "text/plain": [
       "<Figure size 432x288 with 1 Axes>"
      ]
     },
     "metadata": {
      "needs_background": "light"
     },
     "output_type": "display_data"
    }
   ],
   "source": [
    "preds = []\n",
    "for i in range(K):\n",
    "    model = models[i]\n",
    "    pred = model.predict(test_X)\n",
    "    preds.append(pred)\n",
    "    print(np.sum(pred) / pred.shape[0])\n",
    "    \n",
    "preds = np.array(preds)\n",
    "preds = np.mean(preds, axis=0)\n",
    "print(np.sum(preds) / preds.shape[0])\n",
    "\n",
    "\n",
    "temp = pd.DataFrame({\"pred\":pred})\n",
    "temp.hist()"
   ]
  },
  {
   "cell_type": "code",
   "execution_count": 55,
   "metadata": {},
   "outputs": [
    {
     "name": "stdout",
     "output_type": "stream",
     "text": [
      "0.7375793930839802\n"
     ]
    }
   ],
   "source": [
    "preds = np.where(preds < THRESHOLD, 0, 1)\n",
    "print(np.sum(preds) / preds.shape[0])\n",
    "\n",
    "submit_df = pd.DataFrame({'y': preds})\n",
    "submit_df.index.name = 'id'\n",
    "submit_df.to_csv('Submissions/submission3.csv')"
   ]
  },
  {
   "cell_type": "code",
   "execution_count": null,
   "metadata": {},
   "outputs": [],
   "source": []
  },
  {
   "cell_type": "code",
   "execution_count": null,
   "metadata": {},
   "outputs": [],
   "source": []
  },
  {
   "cell_type": "code",
   "execution_count": null,
   "metadata": {},
   "outputs": [],
   "source": []
  },
  {
   "cell_type": "code",
   "execution_count": null,
   "metadata": {},
   "outputs": [],
   "source": []
  }
 ],
 "metadata": {
  "kernelspec": {
   "display_name": "Python 3",
   "language": "python",
   "name": "python3"
  },
  "language_info": {
   "codemirror_mode": {
    "name": "ipython",
    "version": 3
   },
   "file_extension": ".py",
   "mimetype": "text/x-python",
   "name": "python",
   "nbconvert_exporter": "python",
   "pygments_lexer": "ipython3",
   "version": "3.8.3"
  }
 },
 "nbformat": 4,
 "nbformat_minor": 4
}
