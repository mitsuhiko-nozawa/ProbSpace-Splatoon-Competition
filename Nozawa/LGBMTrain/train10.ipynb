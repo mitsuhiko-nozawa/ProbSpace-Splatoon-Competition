{
 "cells": [
  {
   "cell_type": "markdown",
   "metadata": {},
   "source": [
    "#### cv score :  0.5502911153119092 (5 folds, tgt enc)\n",
    "#### cv score :  0.552007561436673(5fold)\n",
    "#### cv score :   (10 folds)"
   ]
  },
  {
   "cell_type": "code",
   "execution_count": 1,
   "metadata": {},
   "outputs": [
    {
     "name": "stderr",
     "output_type": "stream",
     "text": [
      "/opt/anaconda3/envs/spla/lib/python3.6/site-packages/lightgbm/__init__.py:48: UserWarning: Starting from version 2.2.1, the library file in distribution wheels for macOS is built by the Apple Clang (Xcode_8.3.3) compiler.\n",
      "This means that in case of installing LightGBM from PyPI via the ``pip install lightgbm`` command, you don't need to install the gcc compiler anymore.\n",
      "Instead of that, you need to install the OpenMP library, which is required for running LightGBM on the system with the Apple Clang compiler.\n",
      "You can install the OpenMP library by the following command: ``brew install libomp``.\n",
      "  \"You can install the OpenMP library by the following command: ``brew install libomp``.\", UserWarning)\n"
     ]
    }
   ],
   "source": [
    "import sys\n",
    "sys.path.append('../')\n",
    "import pandas as pd\n",
    "import numpy as np\n",
    "import sklearn\n",
    "from Functions import prepro\n",
    "import warnings\n",
    "\n",
    "import random\n",
    "\n",
    "from sklearn.model_selection import train_test_split\n",
    "from sklearn.metrics import accuracy_score\n",
    "import lightgbm as lgb\n",
    "from lightgbm import LGBMClassifier\n",
    "\n",
    "\n",
    "random.seed(0)\n",
    "\n",
    "pd.set_option(\"display.max_columns\", 500)\n",
    "pd.set_option(\"display.max_rows\", 500)\n",
    "warnings.filterwarnings('ignore')"
   ]
  },
  {
   "cell_type": "code",
   "execution_count": 2,
   "metadata": {},
   "outputs": [
    {
     "name": "stdout",
     "output_type": "stream",
     "text": [
      "(66125, 192)\n",
      "(28340, 191)\n"
     ]
    }
   ],
   "source": [
    "train_df = pd.read_csv(\"../../data/Processed/train2.csv\")\n",
    "test_df = pd.read_csv(\"../../data/Processed/test2.csv\")\n",
    "print(train_df.shape)\n",
    "print(test_df.shape)"
   ]
  },
  {
   "cell_type": "code",
   "execution_count": 3,
   "metadata": {},
   "outputs": [],
   "source": [
    "y = train_df[\"y\"].values\n",
    "train_df = train_df.drop(\"y\", axis=1)"
   ]
  },
  {
   "cell_type": "code",
   "execution_count": 4,
   "metadata": {},
   "outputs": [],
   "source": [
    "# add disconnection info\n",
    "\n",
    "train_df = prepro.add_disconnection(train_df)\n",
    "test_df = prepro.add_disconnection(test_df)"
   ]
  },
  {
   "cell_type": "code",
   "execution_count": 5,
   "metadata": {},
   "outputs": [],
   "source": [
    "# add info about numeric column\n",
    "# 武器データの中のnum_colsを持つ特徴について、チーム内の統計量を計算、levelは結構効いてる\n",
    "\n",
    "num_cols = [\"level\", \"range\", \"rapid-\", \"atack\", \"ink-sub\", \"fav-main\", \"good-special\"]\n",
    "\n",
    "#train_df = prepro.flat(train_df, num_cols)\n",
    "#test_df = prepro.flat(test_df, num_cols)\n",
    "\n",
    "train_df = prepro.add_numeric_info(train_df, num_cols)\n",
    "test_df = prepro.add_numeric_info(test_df, num_cols)"
   ]
  },
  {
   "cell_type": "markdown",
   "metadata": {},
   "source": [
    "# 欠損値埋め先にやろう\n",
    "欠損値がある列\n",
    "\n",
    "rank, weapon, level ⇨　回線切れ or ナワバリ\n",
    "\n",
    "weaponの欠損に並んでそれに関係ある列、A3, A4, B3, B4 ⇨ 回線切れ\n",
    "\n",
    "level, weaponが消えていたら回線切れ"
   ]
  },
  {
   "cell_type": "code",
   "execution_count": 6,
   "metadata": {},
   "outputs": [],
   "source": [
    "# rankの欠損値を埋める\n",
    "train_df, test_df = prepro.fillna_rank(train_df, test_df)\n",
    "\n",
    "#そのほかの欠損値を埋める\n",
    "train_df, test_df = prepro.fillna(train_df, test_df)"
   ]
  },
  {
   "cell_type": "code",
   "execution_count": 7,
   "metadata": {},
   "outputs": [
    {
     "name": "stdout",
     "output_type": "stream",
     "text": [
      "0\n",
      "0\n"
     ]
    }
   ],
   "source": [
    "print(train_df.isnull().sum().sum())\n",
    "print(test_df.isnull().sum().sum())"
   ]
  },
  {
   "cell_type": "markdown",
   "metadata": {},
   "source": [
    "# 特徴量エンジニアリング\n"
   ]
  },
  {
   "cell_type": "code",
   "execution_count": 8,
   "metadata": {},
   "outputs": [],
   "source": [
    "# まずは水増し\n",
    "train_df, y = prepro.mizumashi(train_df, y)"
   ]
  },
  {
   "cell_type": "code",
   "execution_count": 9,
   "metadata": {
    "scrolled": true
   },
   "outputs": [],
   "source": [
    "# count weapon\n",
    "train_df, test_df = prepro.count_weapon(train_df, test_df)\n",
    "\n",
    "# count weapon by mode\n",
    "train_df, test_df = prepro.count_weapon_by_mode(train_df, test_df)\n",
    "\n",
    "# is_nawabari\n",
    "train_df, test_df = prepro.is_nawabari(train_df, test_df)\n",
    "\n",
    "# match rank\n",
    "train_df, test_df = prepro.match_rank(train_df, test_df)"
   ]
  },
  {
   "cell_type": "code",
   "execution_count": null,
   "metadata": {},
   "outputs": [
    {
     "name": "stdout",
     "output_type": "stream",
     "text": [
      "(160590, 295)\n",
      "special-A\n",
      "special-B\n",
      "subweapon-A\n",
      "subweapon-B\n",
      "category1-A\n",
      "category1-B\n",
      "category2-A\n"
     ]
    }
   ],
   "source": [
    "# add team info\n",
    "\n",
    "train_df,  test_df = prepro.addTeamInfo(train_df, test_df, cols=[\"special\", \"subweapon\", \"category1\", \"category2\", \"mainweapon\"])"
   ]
  },
  {
   "cell_type": "code",
   "execution_count": null,
   "metadata": {},
   "outputs": [],
   "source": [
    "# categorize team\n",
    "\n",
    "categorize_col = [\"category1\", \"category2\", \"subweapon\", \"special\", \"mainweapon\"]\n",
    "for col in categorize_col:\n",
    "    print(col)\n",
    "    train_df_, test_df_ = prepro.categorize_team(train_df, test_df, col)"
   ]
  },
  {
   "cell_type": "code",
   "execution_count": null,
   "metadata": {
    "scrolled": true
   },
   "outputs": [],
   "source": [
    "# make input\n",
    "\n",
    "drop_cols = [\"id\", \"lobby\", \"lobby-mode\",  \"period\", \"game-ver\", \"A1-weapon\", \"A2-weapon\", \"A3-weapon\", \"A4-weapon\", \\\n",
    "              \"B1-weapon\", \"B2-weapon\", \"B3-weapon\", \"B4-weapon\"]\n",
    "\n",
    "categorical_feature = [col for col in train_df.dtypes[train_df.dtypes == \"object\"].index.to_list() if col not in drop_cols]\n",
    "\n",
    "X, test_X = prepro.make_input(train_df, test_df, drop_cols, categorical_encode=True, scaler=False, verbose=True)\n"
   ]
  },
  {
   "cell_type": "markdown",
   "metadata": {},
   "source": [
    "# モデル学習"
   ]
  },
  {
   "cell_type": "code",
   "execution_count": null,
   "metadata": {},
   "outputs": [],
   "source": [
    "# 全データを5つに分割\n",
    "SIZE = X.shape[0]\n",
    "K = 10\n",
    "cat_tgtenc_cols = [\"mode\", \"stage\", \"team-category1-A\", \"team-category1-B\"]\n",
    "#cat_tgtenc_cols = [\"mode\", \"stage\"]\n",
    "\n",
    "folds = prepro.make_kfolds(SIZE, K)\n",
    "print(len(folds))\n",
    "for i, fold in enumerate(folds):\n",
    "    print(\"fold \", i+1, \" size is \", len(fold))\n",
    "    \n",
    "\n",
    "    \n",
    "if SIZE != len(set(sum(folds, []))):\n",
    "    print(\"error is occuring in spliting\")\n",
    "else :\n",
    "    print(\"successfully split\")\n"
   ]
  },
  {
   "cell_type": "code",
   "execution_count": null,
   "metadata": {
    "scrolled": true
   },
   "outputs": [],
   "source": [
    "param = {\n",
    "    \"num_leaves\" : 20,\n",
    "    \"n_estimators\" : 100,\n",
    "    \"learning_rate\" : 0.1,\n",
    "    \"num_iterations\" : 1000,\n",
    "    \"objective\" : \"binary\",\n",
    "    \"metric\" : [\"binary_logloss\"],\n",
    "    \"random_state\" : 1234,\n",
    "}\n",
    "\n",
    "THRESHOLD = 0.50\n",
    "models = []\n",
    "cv_scores = []\n",
    "temp = 0\n",
    "train_pred = []\n",
    "train_Xs = []\n",
    "tgt_encode = False\n",
    "\n",
    "all_indices = sum(folds, [])\n",
    "for i in range(K):\n",
    "    print(\"======================== fold {} ========================\".format(i+1))\n",
    "    valid_indices = folds[i]\n",
    "    train_indices = list(set(all_indices) - set(valid_indices))\n",
    "    # print(\"train \", len(train_indices), \" , valid \", len(valid_indices))\n",
    "    train_X = X.iloc[train_indices]\n",
    "    try:\n",
    "        train_y = y.iloc[train_indices]\n",
    "    except:\n",
    "        train_y = y[train_indices]\n",
    "    valid_X = X.iloc[valid_indices]\n",
    "    try:\n",
    "        valid_y = y.iloc[valid_indices]\n",
    "    except:\n",
    "        valid_y = y[valid_indices]\n",
    "    \n",
    "    \n",
    "    if tgt_encode:\n",
    "        for col in cat_tgtenc_cols:\n",
    "            print(col)\n",
    "            train_X, valid_X = prepro.target_encoding(train_X, valid_X, train_y, col, \"y\")\n",
    "        \n",
    "    train_Xs.append(train_X)\n",
    "    \n",
    "    train_data = lgb.Dataset(train_X, label=train_y)\n",
    "    valid_data = lgb.Dataset(valid_X, label=valid_y)\n",
    "    \n",
    "    model = lgb.train(\n",
    "        param, \n",
    "        train_data, \n",
    "        valid_sets=valid_data, \n",
    "        #categorical_feature=categorical_feature,\n",
    "        early_stopping_rounds=10, \n",
    "        verbose_eval=20,\n",
    "        \n",
    "    )\n",
    "    pred = model.predict(valid_X)\n",
    "    pred = np.where(pred < THRESHOLD, 0, 1)\n",
    "    train_pred.append(pred)\n",
    "    temp += np.sum(pred)\n",
    "    \n",
    "    score = accuracy_score(pred, valid_y)\n",
    "    \n",
    "    models.append(model)\n",
    "    cv_scores.append(score)\n",
    "    \n",
    "    \n",
    "print(\"cv score : \", np.mean(cv_scores))    \n",
    "print(\"cv ratio : \", temp / SIZE)"
   ]
  },
  {
   "cell_type": "code",
   "execution_count": null,
   "metadata": {
    "scrolled": true
   },
   "outputs": [],
   "source": [
    "preds = []\n",
    "if tgt_encode:\n",
    "    for col in cat_tgtenc_cols:\n",
    "        print(col)\n",
    "        X, test_X = prepro.target_encoding(X, test_X, y, col, \"y\")\n",
    "\n",
    "for i in range(K):\n",
    "    model = models[i]\n",
    "    pred = model.predict(test_X)\n",
    "    preds.append(pred)\n",
    "    print(np.sum(pred) / pred.shape[0])\n",
    "    \n",
    "preds = np.array(preds)\n",
    "preds = np.mean(preds, axis=0)\n",
    "print(np.sum(preds) / preds.shape[0])\n",
    "\n",
    "\n",
    "temp = pd.DataFrame({\"pred\":pred})\n",
    "temp.hist(bins=20)"
   ]
  },
  {
   "cell_type": "code",
   "execution_count": null,
   "metadata": {},
   "outputs": [],
   "source": [
    "preds = np.where(preds < THRESHOLD, 0, 1)\n",
    "print(np.sum(preds) / preds.shape[0])\n",
    "\n",
    "submit_df = pd.DataFrame({'y': preds})\n",
    "submit_df.index.name = 'id'\n",
    "submit_df.to_csv('../Submissions/submission10_{}.csv'.format(K))"
   ]
  },
  {
   "cell_type": "markdown",
   "metadata": {},
   "source": [
    "# モデル解釈"
   ]
  },
  {
   "cell_type": "code",
   "execution_count": null,
   "metadata": {},
   "outputs": [],
   "source": [
    "importance = pd.DataFrame(models[0].feature_importance(), index=train_Xs[0].columns, columns=['importance']).sort_values('importance', ascending=False)\n",
    "display(importance)"
   ]
  },
  {
   "cell_type": "code",
   "execution_count": null,
   "metadata": {},
   "outputs": [],
   "source": [
    "indices = [index for index in importance.index if \"match\" in index]\n",
    "importance.loc[indices]"
   ]
  },
  {
   "cell_type": "code",
   "execution_count": null,
   "metadata": {},
   "outputs": [],
   "source": [
    "importance[\"importance\"].sum()"
   ]
  },
  {
   "cell_type": "code",
   "execution_count": null,
   "metadata": {},
   "outputs": [],
   "source": [
    "train_df[\"pred\"] = 0\n",
    "train_df[\"y\"] = y.values\n",
    "for i in range(K):\n",
    "    train_df[\"pred\"].iloc[folds[i]] = train_pred[i]"
   ]
  },
  {
   "cell_type": "code",
   "execution_count": null,
   "metadata": {},
   "outputs": [],
   "source": [
    "result_df = train_df[train_df[\"y\"] != train_df[\"pred\"]]"
   ]
  },
  {
   "cell_type": "code",
   "execution_count": null,
   "metadata": {},
   "outputs": [],
   "source": [
    "print(result_df[result_df[\"mode\"] == \"nawabari\"].shape[0]/result_df.shape[0])\n",
    "print(result_df[result_df[\"mode\"] == \"hoko\"].shape[0]/result_df.shape[0])\n",
    "print(result_df[result_df[\"mode\"] == \"asari\"].shape[0]/result_df.shape[0])\n",
    "print(result_df[result_df[\"mode\"] == \"area\"].shape[0]/result_df.shape[0])\n",
    "print(result_df[result_df[\"mode\"] == \"yagura\"].shape[0]/result_df.shape[0])"
   ]
  },
  {
   "cell_type": "code",
   "execution_count": null,
   "metadata": {},
   "outputs": [],
   "source": [
    "X"
   ]
  },
  {
   "cell_type": "code",
   "execution_count": null,
   "metadata": {},
   "outputs": [],
   "source": []
  },
  {
   "cell_type": "code",
   "execution_count": null,
   "metadata": {},
   "outputs": [],
   "source": []
  },
  {
   "cell_type": "code",
   "execution_count": null,
   "metadata": {},
   "outputs": [],
   "source": []
  },
  {
   "cell_type": "code",
   "execution_count": null,
   "metadata": {},
   "outputs": [],
   "source": []
  },
  {
   "cell_type": "code",
   "execution_count": null,
   "metadata": {},
   "outputs": [],
   "source": []
  }
 ],
 "metadata": {
  "kernelspec": {
   "display_name": "Python 3",
   "language": "python",
   "name": "python3"
  },
  "language_info": {
   "codemirror_mode": {
    "name": "ipython",
    "version": 3
   },
   "file_extension": ".py",
   "mimetype": "text/x-python",
   "name": "python",
   "nbconvert_exporter": "python",
   "pygments_lexer": "ipython3",
   "version": "3.6.12"
  }
 },
 "nbformat": 4,
 "nbformat_minor": 4
}
