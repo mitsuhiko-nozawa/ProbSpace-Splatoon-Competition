{
 "cells": [
  {
   "cell_type": "markdown",
   "metadata": {},
   "source": [
    "# Light GBM Model\n",
    "cv score :  0.5547750472589792 (10folds)\n",
    "\n",
    "cv score :  0.5547145557655955 (10folds)"
   ]
  },
  {
   "cell_type": "code",
   "execution_count": 1,
   "metadata": {},
   "outputs": [],
   "source": [
    "import sys\n",
    "sys.path.append('../')\n",
    "import pandas as pd\n",
    "import numpy as np\n",
    "import sklearn\n",
    "from Functions import prepro\n",
    "import warnings\n",
    "warnings.filterwarnings('ignore')\n",
    "\n",
    "import random\n",
    "\n",
    "from sklearn.model_selection import train_test_split\n",
    "from sklearn.metrics import accuracy_score\n",
    "warnings.filterwarnings('ignore')\n",
    "import lightgbm as lgb\n",
    "from lightgbm import LGBMClassifier\n",
    "\n",
    "\n",
    "FEATURE_SELECTION = False\n",
    "tgt_encode = False\n",
    "\n",
    "random.seed(0)\n",
    "\n",
    "pd.set_option(\"display.max_columns\", 1000)\n",
    "pd.set_option(\"display.max_rows\", 1000)\n"
   ]
  },
  {
   "cell_type": "code",
   "execution_count": 2,
   "metadata": {},
   "outputs": [
    {
     "name": "stdout",
     "output_type": "stream",
     "text": [
      "(66125, 304)\n",
      "(28340, 303)\n"
     ]
    }
   ],
   "source": [
    "train_df = pd.read_csv(\"../../data/Processed/train2.csv\")\n",
    "test_df = pd.read_csv(\"../../data/Processed/test2.csv\")\n",
    "print(train_df.shape)\n",
    "print(test_df.shape)"
   ]
  },
  {
   "cell_type": "code",
   "execution_count": 3,
   "metadata": {},
   "outputs": [],
   "source": [
    "y = train_df[\"y\"].values\n",
    "train_df = train_df.drop(\"y\", axis=1)"
   ]
  },
  {
   "cell_type": "code",
   "execution_count": 4,
   "metadata": {},
   "outputs": [],
   "source": [
    "# add disconnection info\n",
    "\n",
    "train_df = prepro.add_disconnection(train_df)\n",
    "test_df = prepro.add_disconnection(test_df)\n",
    "\n",
    "train_df[\"A1-level\"] = train_df[\"A1-level\"].astype(float)\n",
    "test_df[\"A1-level\"] = test_df[\"A1-level\"].astype(float)\n",
    "train_df[\"B1-level\"] = train_df[\"B1-level\"].astype(float)\n",
    "test_df[\"B1-level\"] = test_df[\"B1-level\"].astype(float)"
   ]
  },
  {
   "cell_type": "markdown",
   "metadata": {},
   "source": [
    "train_df[\"good-special-A1\"].corr(train_df[\"good-sub-A1\"])"
   ]
  },
  {
   "cell_type": "code",
   "execution_count": 5,
   "metadata": {},
   "outputs": [],
   "source": [
    "# add info about numeric column\n",
    "# 武器データの中のnum_colsを持つ特徴について、チーム内の統計量を計算、levelは結構効いてる\n",
    "\n",
    "# num_cols = [\"level\", \"range\", \"rapid\", \"atack\", \"ink-sub\", \"fav-main\", \"good-special\"]\n",
    "\n",
    "num_cols = [\n",
    "    \"level\", \"range-main\", \"range-bullet-main\", \"distant-range_sub\", \n",
    "    \"rapid\", \"atack\", \"ink-sub\", \"fav-main\", \"good-special\", \"DPS\", \"kill_time_ika-main\",\n",
    "    \"front_gap_human-main\", \"front_gap_ika-main\", \"rensya_frame-main\", \"saidai_damege-main\", \"damage_min-sub\", \n",
    "    \"damage_max-sub\", \"install_num-sub\", \"good-sub\", \"damage_max-special\", \n",
    "    \"duration-special\", \"good-special\", \"direct_rad-special\", \"distant_rad-special\"\n",
    "]\n",
    "\n",
    "cols = [col for col in train_df.columns if \"A1\" in col or \"A2\" in col or \"A3\" in col or \"A4\" in col or \n",
    "        \"B1\" in col or \"B2\" in col or \"B3\" in col or \"B4\" in col]\n",
    "drop_cols = []\n",
    "for col1 in cols:\n",
    "    f = True\n",
    "    for col2 in num_cols:\n",
    "        if col2 in col1:\n",
    "            f = False\n",
    "    if f and train_df[col1].dtype in [int, float]:\n",
    "        drop_cols.append(col1)\n",
    "        \n",
    "#train_df = train_df.drop(columns=drop_cols)\n",
    "#test_df = test_df.drop(columns=drop_cols)\n",
    "        \n",
    "    \n",
    "\n",
    "train_df = prepro.add_numeric_info(train_df, num_cols)\n",
    "test_df = prepro.add_numeric_info(test_df, num_cols)"
   ]
  },
  {
   "cell_type": "markdown",
   "metadata": {},
   "source": [
    "# 欠損値埋め先にやろう\n",
    "欠損値がある列\n",
    "\n",
    "rank, weapon, level ⇨　回線切れ or ナワバリ\n",
    "\n",
    "weaponの欠損に並んでそれに関係ある列、A3, A4, B3, B4 ⇨ 回線切れ\n",
    "\n",
    "level, weaponが消えていたら回線切れ"
   ]
  },
  {
   "cell_type": "code",
   "execution_count": 6,
   "metadata": {},
   "outputs": [],
   "source": [
    "# rankの欠損値を埋める\n",
    "train_df, test_df = prepro.fillna_rank(train_df, test_df)\n",
    "\n",
    "#そのほかの欠損値を埋める\n",
    "train_df, test_df = prepro.fillna(train_df, test_df)"
   ]
  },
  {
   "cell_type": "code",
   "execution_count": 7,
   "metadata": {},
   "outputs": [
    {
     "name": "stdout",
     "output_type": "stream",
     "text": [
      "0\n",
      "0\n"
     ]
    }
   ],
   "source": [
    "print(train_df.isnull().sum().sum())\n",
    "print(test_df.isnull().sum().sum())"
   ]
  },
  {
   "cell_type": "markdown",
   "metadata": {},
   "source": [
    "# 特徴量エンジニアリング\n"
   ]
  },
  {
   "cell_type": "code",
   "execution_count": 8,
   "metadata": {
    "scrolled": true
   },
   "outputs": [
    {
     "name": "stdout",
     "output_type": "stream",
     "text": [
      "reskin\n",
      "mainweapon\n",
      "subweapon\n",
      "special\n",
      "mizumashi\n"
     ]
    }
   ],
   "source": [
    "# count reskin, by mode\n",
    "print(\"reskin\")\n",
    "train_df, test_df = prepro.count_reskin(train_df, test_df)\n",
    "train_df, test_df = prepro.count_reskin_by_mode(train_df, test_df)\n",
    "\n",
    "# count mainweapon, by mode\n",
    "print(\"mainweapon\")\n",
    "train_df, test_df = prepro.count_mainweapon(train_df, test_df)\n",
    "train_df, test_df = prepro.count_mainweapon_by_mode(train_df, test_df)\n",
    "\n",
    "# count subweapon, by mode\n",
    "print(\"subweapon\")\n",
    "train_df, test_df = prepro.count_subweapon(train_df, test_df)\n",
    "train_df, test_df = prepro.count_subweapon_by_mode(train_df, test_df)\n",
    "\n",
    "# count special, by mode\n",
    "print(\"special\")\n",
    "train_df, test_df = prepro.count_special(train_df, test_df)\n",
    "train_df, test_df = prepro.count_special_by_mode(train_df, test_df)\n",
    "\n",
    "\n",
    "#identify A1\n",
    "train_df, test_df = prepro.identify_A1(train_df, test_df)\n",
    "\n",
    "\n",
    "# 水増し, A1も統計量に含めた特徴を作る場合は水ましより先にやる\n",
    "print(\"mizumashi\")\n",
    "train_df, y = prepro.mizumashi(train_df, y)\n",
    "\n",
    "# is_nawabari\n",
    "train_df, test_df = prepro.is_nawabari(train_df, test_df)\n",
    "\n",
    "# match rank、単体で意味なし\n",
    "train_df, test_df = prepro.match_rank(train_df, test_df)\n",
    "\n",
    "# rankを二列に分ける\n",
    "train_df, test_df = prepro.ranker(train_df, test_df)\n",
    "\n",
    "\n"
   ]
  },
  {
   "cell_type": "code",
   "execution_count": 9,
   "metadata": {},
   "outputs": [
    {
     "name": "stdout",
     "output_type": "stream",
     "text": [
      "(94465, 648)\n",
      "special-A\n",
      "special-B\n",
      "subweapon-A\n",
      "subweapon-B\n",
      "category1-A\n",
      "category1-B\n",
      "category2-A\n",
      "category2-B\n",
      "rank-mark-A\n",
      "rank-mark-B\n",
      "(94465, 754)\n",
      "complete\n"
     ]
    }
   ],
   "source": [
    "# add team info、メインはなくてもいい\n",
    "\n",
    "#train_df,  test_df = prepro.addTeamInfo(train_df, test_df, cols=[\"special\", \"subweapon\", \"category1\", \"category2\", \"mainweapon\"])\n",
    "train_df,  test_df = prepro.addTeamInfo(train_df, test_df, cols=[\"special\", \"subweapon\", \"category1\", \"category2\", \"rank-mark\"])"
   ]
  },
  {
   "cell_type": "code",
   "execution_count": 10,
   "metadata": {},
   "outputs": [
    {
     "name": "stdout",
     "output_type": "stream",
     "text": [
      "category1\n",
      "category2\n",
      "subweapon\n",
      "special\n"
     ]
    }
   ],
   "source": [
    "# categorize team , 良い\n",
    "\n",
    "#categorize_col = [\"category1\", \"category2\", \"subweapon\", \"special\", \"mainweapon\"]\n",
    "categorize_col = [\"category1\", \"category2\", \"subweapon\", \"special\"]\n",
    "for col in categorize_col:\n",
    "    print(col)\n",
    "    train_df, test_df = prepro.categorize_team(train_df, test_df, col)"
   ]
  },
  {
   "cell_type": "code",
   "execution_count": 11,
   "metadata": {},
   "outputs": [
    {
     "name": "stdout",
     "output_type": "stream",
     "text": [
      "fin count\n",
      "fin find rare 60\n",
      "fin count\n",
      "fin find rare 295\n",
      "fin count\n",
      "fin find rare 650\n",
      "fin count\n",
      "fin find rare 1427\n"
     ]
    }
   ],
   "source": [
    "#出現率の低いものをまとめる\n",
    "\n",
    "train_df, test_df = prepro.find_rare(train_df, test_df, \"team-category1\")\n",
    "train_df, test_df = prepro.find_rare(train_df, test_df, \"team-category2\")\n",
    "train_df, test_df = prepro.find_rare(train_df, test_df, \"team-subweapon\")\n",
    "train_df, test_df = prepro.find_rare(train_df, test_df, \"team-special\")"
   ]
  },
  {
   "cell_type": "code",
   "execution_count": 12,
   "metadata": {},
   "outputs": [],
   "source": [
    "# product categorical feature\n",
    "train_df, test_df = prepro.prod(train_df, test_df, \"mode\", \"stage\")\n",
    "train_df, test_df = prepro.prod(train_df, test_df, \"mode\", \"team-category1-A\")\n",
    "train_df, test_df = prepro.prod(train_df, test_df, \"mode\", \"team-category1-B\")\n",
    "train_df, test_df = prepro.prod(train_df, test_df, \"mode\", \"team-category2-A\")\n",
    "train_df, test_df = prepro.prod(train_df, test_df, \"mode\", \"team-category2-B\")\n",
    "#train_df, test_df = prepro.prod(train_df, test_df, \"mode\", \"team-mainweapon-A\")\n",
    "#train_df, test_df = prepro.prod(train_df, test_df, \"mode\", \"team-mainweapon-B\")\n",
    "train_df, test_df = prepro.prod(train_df, test_df, \"mode\", \"team-subweapon-A\")\n",
    "train_df, test_df = prepro.prod(train_df, test_df, \"mode\", \"team-subweapon-B\")\n",
    "train_df, test_df = prepro.prod(train_df, test_df, \"mode\", \"team-special-A\")\n",
    "train_df, test_df = prepro.prod(train_df, test_df, \"mode\", \"team-special-B\")\n",
    "train_df, test_df = prepro.prod(train_df, test_df, \"mode\", \"match_rank\")\n",
    "\n",
    "train_df, test_df = prepro.prod(train_df, test_df, \"stage\", \"team-category1-A\")\n",
    "train_df, test_df = prepro.prod(train_df, test_df, \"stage\", \"team-category1-B\")\n",
    "train_df, test_df = prepro.prod(train_df, test_df, \"stage\", \"team-category2-A\")\n",
    "train_df, test_df = prepro.prod(train_df, test_df, \"stage\", \"team-category2-B\")\n",
    "#train_df, test_df = prepro.prod(train_df, test_df, \"stage\", \"team-mainweapon-A\")\n",
    "#train_df, test_df = prepro.prod(train_df, test_df, \"stage\", \"team-mainweapon-B\")\n",
    "train_df, test_df = prepro.prod(train_df, test_df, \"stage\", \"team-subweapon-A\")\n",
    "train_df, test_df = prepro.prod(train_df, test_df, \"stage\", \"team-subweapon-B\")\n",
    "train_df, test_df = prepro.prod(train_df, test_df, \"stage\", \"team-special-A\")\n",
    "train_df, test_df = prepro.prod(train_df, test_df, \"stage\", \"team-special-B\")\n",
    "train_df, test_df = prepro.prod(train_df, test_df, \"stage\", \"match_rank\")\n"
   ]
  },
  {
   "cell_type": "markdown",
   "metadata": {},
   "source": [
    "# Make Input"
   ]
  },
  {
   "cell_type": "code",
   "execution_count": 13,
   "metadata": {},
   "outputs": [],
   "source": [
    "# プレイヤー固有のカテゴリ変数は個別にエンコードしなければいけないね…\n",
    "# rank\n",
    "# category1\n",
    "# category2\n",
    "# subweapon\n",
    "# special\n",
    "# mainweapon\n",
    "# reskin\n",
    "# mode x reskin\n",
    "from sklearn.preprocessing import LabelEncoder\n",
    "for col in [\"category1\", \"category2\", \"subweapon\", \"special\", \"mainweapon\", \"reskin\", \"rank-mark\"]:#\"mode x reskin\"]:\n",
    "    lbl = LabelEncoder()\n",
    "    lbl.fit(train_df[col+\"-A4\"])\n",
    "    train_df[col+\"-A1\"] = lbl.transform(train_df[col+\"-A1\"])\n",
    "    train_df[col+\"-A2\"] = lbl.transform(train_df[col+\"-A2\"])\n",
    "    train_df[col+\"-A3\"] = lbl.transform(train_df[col+\"-A3\"])\n",
    "    train_df[col+\"-A4\"] = lbl.transform(train_df[col+\"-A4\"])\n",
    "    train_df[col+\"-B1\"] = lbl.transform(train_df[col+\"-B1\"])\n",
    "    train_df[col+\"-B2\"] = lbl.transform(train_df[col+\"-B2\"])\n",
    "    train_df[col+\"-B3\"] = lbl.transform(train_df[col+\"-B3\"])\n",
    "    train_df[col+\"-B4\"] = lbl.transform(train_df[col+\"-B4\"])\n",
    "    \n",
    "    test_df[col+\"-A1\"] = lbl.transform(test_df[col+\"-A1\"])\n",
    "    test_df[col+\"-A2\"] = lbl.transform(test_df[col+\"-A2\"])\n",
    "    test_df[col+\"-A3\"] = lbl.transform(test_df[col+\"-A3\"])\n",
    "    test_df[col+\"-A4\"] = lbl.transform(test_df[col+\"-A4\"])\n",
    "    test_df[col+\"-B1\"] = lbl.transform(test_df[col+\"-B1\"])\n",
    "    test_df[col+\"-B2\"] = lbl.transform(test_df[col+\"-B2\"])\n",
    "    test_df[col+\"-B3\"] = lbl.transform(test_df[col+\"-B3\"])\n",
    "    test_df[col+\"-B4\"] = lbl.transform(test_df[col+\"-B4\"])\n",
    "    \n",
    "\n",
    "    \n"
   ]
  },
  {
   "cell_type": "code",
   "execution_count": 14,
   "metadata": {
    "scrolled": true
   },
   "outputs": [
    {
     "name": "stdout",
     "output_type": "stream",
     "text": [
      "complete\n"
     ]
    }
   ],
   "source": [
    "# make input\n",
    "drop_cols = [\n",
    "    \"id\", \"lobby\", \"lobby-mode\",  \"period\", \"game-ver\", \"A1-weapon\", \"A2-weapon\", \"A3-weapon\", \"A4-weapon\", \n",
    "    \"B1-weapon\", \"B2-weapon\", \"B3-weapon\", \"B4-weapon\", \"A-a-rank-mark-onehot\", \"A-o-rank-mark-onehot\", \n",
    "    \"B-a-rank-mark-onehot\", \"B-o-rank-mark-onehot\",\n",
    "    #\"A1-reskin\", \"A2-reskin\", \"A3-reskin\", \"A4-reskin\", \n",
    "    #\"B1-reskin\", \"B2-reskin\", \"B3-reskin\", \"B4-reskin\",\n",
    "]\n",
    "\n",
    "\n",
    "\n",
    "\n",
    "categorical_feature = [col for col in train_df.dtypes[train_df.dtypes == \"object\"].index.to_list() if col not in drop_cols]\n",
    "\n",
    "X, test_X = prepro.make_input(train_df, test_df, drop_cols, categorical_encode=True, scaler=False, verbose=False)"
   ]
  },
  {
   "cell_type": "code",
   "execution_count": 15,
   "metadata": {},
   "outputs": [
    {
     "name": "stdout",
     "output_type": "stream",
     "text": [
      "(66125, 764)\n",
      "(28340, 764)\n"
     ]
    }
   ],
   "source": [
    "print(X.shape)\n",
    "print(test_X.shape)"
   ]
  },
  {
   "cell_type": "markdown",
   "metadata": {},
   "source": [
    "# モデル学習"
   ]
  },
  {
   "cell_type": "code",
   "execution_count": 16,
   "metadata": {},
   "outputs": [
    {
     "name": "stdout",
     "output_type": "stream",
     "text": [
      "5\n",
      "fold  1  size is  13225\n",
      "fold  2  size is  13225\n",
      "fold  3  size is  13225\n",
      "fold  4  size is  13225\n",
      "fold  5  size is  13225\n",
      "successfully split\n"
     ]
    }
   ],
   "source": [
    "# 全データを5つに分割\n",
    "random.seed(random.randint(0, 10000))\n",
    "SIZE = X.shape[0]\n",
    "K = 5\n",
    "cat_tgtenc_cols = [\n",
    "    \"team-category1-A\", \"team-category1-B\", \"team-category2-A\", \"team-category2-B\",\n",
    "    \"team-subweapon-A\", \"team-subweapon-B\", \"team-special-A\", \"team-special-B\"\n",
    "]\n",
    "cat_tgtenc_cols = []\n",
    "\n",
    "#folds = prepro.make_stratified_kfolds(X, y, K, shuffle=True)\n",
    "folds = prepro.make_stratified_kfolds(X, X[\"mode\"].astype(str) + y.astype(str), K, shuffle=True, random_state=random.randint(0, 10000))\n",
    "\n",
    "\n",
    "print(len(folds))\n",
    "for i, fold in enumerate(folds):\n",
    "    print(\"fold \", i+1, \" size is \", len(fold))\n",
    "    \n",
    "    \n",
    "if SIZE != len(set(sum(folds, []))):\n",
    "    print(\"error is occuring in spliting\")\n",
    "else :\n",
    "    print(\"successfully split\")\n",
    "    \n",
    "if FEATURE_SELECTION:\n",
    "    X = X[use_cols]\n",
    "    test_X = test_X[use_cols]"
   ]
  },
  {
   "cell_type": "code",
   "execution_count": 17,
   "metadata": {
    "scrolled": true
   },
   "outputs": [
    {
     "name": "stdout",
     "output_type": "stream",
     "text": [
      "======================== fold 1 ========================\n",
      "Training until validation scores don't improve for 100 rounds\n",
      "[100]\tvalid_0's binary_logloss: 0.687287\n",
      "[200]\tvalid_0's binary_logloss: 0.684877\n",
      "[300]\tvalid_0's binary_logloss: 0.683868\n",
      "[400]\tvalid_0's binary_logloss: 0.6831\n",
      "[500]\tvalid_0's binary_logloss: 0.682855\n",
      "[600]\tvalid_0's binary_logloss: 0.682759\n",
      "[700]\tvalid_0's binary_logloss: 0.682698\n",
      "[800]\tvalid_0's binary_logloss: 0.682519\n",
      "[900]\tvalid_0's binary_logloss: 0.682335\n",
      "[1000]\tvalid_0's binary_logloss: 0.682191\n",
      "[1100]\tvalid_0's binary_logloss: 0.68214\n",
      "[1200]\tvalid_0's binary_logloss: 0.682067\n",
      "[1300]\tvalid_0's binary_logloss: 0.681993\n",
      "[1400]\tvalid_0's binary_logloss: 0.68201\n",
      "Early stopping, best iteration is:\n",
      "[1310]\tvalid_0's binary_logloss: 0.681976\n",
      "======================== fold 2 ========================\n",
      "Training until validation scores don't improve for 100 rounds\n",
      "[100]\tvalid_0's binary_logloss: 0.686406\n",
      "[200]\tvalid_0's binary_logloss: 0.684035\n",
      "[300]\tvalid_0's binary_logloss: 0.682752\n",
      "[400]\tvalid_0's binary_logloss: 0.682256\n",
      "[500]\tvalid_0's binary_logloss: 0.682074\n",
      "[600]\tvalid_0's binary_logloss: 0.681877\n",
      "[700]\tvalid_0's binary_logloss: 0.681757\n",
      "[800]\tvalid_0's binary_logloss: 0.681686\n",
      "Early stopping, best iteration is:\n",
      "[751]\tvalid_0's binary_logloss: 0.68163\n",
      "======================== fold 3 ========================\n",
      "Training until validation scores don't improve for 100 rounds\n",
      "[100]\tvalid_0's binary_logloss: 0.686662\n",
      "[200]\tvalid_0's binary_logloss: 0.684393\n",
      "[300]\tvalid_0's binary_logloss: 0.68355\n",
      "[400]\tvalid_0's binary_logloss: 0.683102\n",
      "[500]\tvalid_0's binary_logloss: 0.683002\n",
      "[600]\tvalid_0's binary_logloss: 0.682982\n",
      "[700]\tvalid_0's binary_logloss: 0.682983\n",
      "Early stopping, best iteration is:\n",
      "[635]\tvalid_0's binary_logloss: 0.682933\n",
      "======================== fold 4 ========================\n",
      "Training until validation scores don't improve for 100 rounds\n",
      "[100]\tvalid_0's binary_logloss: 0.68635\n",
      "[200]\tvalid_0's binary_logloss: 0.68417\n",
      "[300]\tvalid_0's binary_logloss: 0.683139\n",
      "[400]\tvalid_0's binary_logloss: 0.682775\n",
      "[500]\tvalid_0's binary_logloss: 0.682418\n",
      "[600]\tvalid_0's binary_logloss: 0.682243\n",
      "[700]\tvalid_0's binary_logloss: 0.682254\n",
      "[800]\tvalid_0's binary_logloss: 0.682215\n",
      "[900]\tvalid_0's binary_logloss: 0.68217\n",
      "[1000]\tvalid_0's binary_logloss: 0.682082\n",
      "Early stopping, best iteration is:\n",
      "[953]\tvalid_0's binary_logloss: 0.682047\n",
      "======================== fold 5 ========================\n",
      "Training until validation scores don't improve for 100 rounds\n",
      "[100]\tvalid_0's binary_logloss: 0.68681\n",
      "[200]\tvalid_0's binary_logloss: 0.684659\n",
      "[300]\tvalid_0's binary_logloss: 0.683575\n",
      "[400]\tvalid_0's binary_logloss: 0.68304\n",
      "[500]\tvalid_0's binary_logloss: 0.682694\n",
      "[600]\tvalid_0's binary_logloss: 0.682512\n",
      "[700]\tvalid_0's binary_logloss: 0.682354\n",
      "[800]\tvalid_0's binary_logloss: 0.682233\n",
      "[900]\tvalid_0's binary_logloss: 0.682283\n",
      "Early stopping, best iteration is:\n",
      "[845]\tvalid_0's binary_logloss: 0.682212\n",
      "cv score :  0.5518790170132325\n",
      "cv ratio :  0.6652249527410208\n"
     ]
    }
   ],
   "source": [
    "param = {\n",
    "    \"num_leaves\" : 28,\n",
    "    \"learning_rate\" : 0.01,\n",
    "    #\"learning_rate\" : 0.1,\n",
    "    \"num_iterations\" : 20000,\n",
    "    \"objective\" : \"binary\",\n",
    "    \"metric\" : [\"binary_logloss\"],\n",
    "    \"random_state\" : random.randint(0, 10000),\n",
    "    #\"random_state\" : 0,\n",
    "    #\"max_depth\" : 100\n",
    "}\n",
    "\n",
    "THRESHOLD = 0.50\n",
    "models = []\n",
    "cv_scores = []\n",
    "temp = 0\n",
    "train_pred = []\n",
    "train_Xs = []\n",
    "valid_Xs = []\n",
    "\n",
    "\n",
    "all_indices = sum(folds, [])\n",
    "for i in range(K):\n",
    "    print(\"======================== fold {} ========================\".format(i+1))\n",
    "    valid_indices = folds[i]\n",
    "    train_indices = list(set(all_indices) - set(valid_indices))\n",
    "    # print(\"train \", len(train_indices), \" , valid \", len(valid_indices))\n",
    "    train_X = X.iloc[train_indices]\n",
    "    try:\n",
    "        train_y = y.iloc[train_indices]\n",
    "    except:\n",
    "        train_y = y[train_indices]\n",
    "    valid_X = X.iloc[valid_indices]\n",
    "    try:\n",
    "        valid_y = y.iloc[valid_indices]\n",
    "    except:\n",
    "        valid_y = y[valid_indices]\n",
    "    \n",
    "    \n",
    "    if tgt_encode:\n",
    "        for col in cat_tgtenc_cols:\n",
    "            print(col)\n",
    "            train_X, valid_X = prepro.target_encoder(train_X, valid_X, col, train_y)\n",
    "        #train_X, valid_X = prepro.reskin_tgt_encoding(train_X, valid_X, train_y)\n",
    "        train_X, valid_X = prepro.reskin_tgt_encoding(train_X, valid_X, train_y)\n",
    "        train_X = prepro.add_numeric_info(train_X, [\"mode * reskin\"])\n",
    "        valid_X = prepro.add_numeric_info(valid_X, [\"mode * reskin\"])\n",
    "        \n",
    "\n",
    "        \n",
    "    \n",
    "    train_data = lgb.Dataset(train_X, label=train_y)\n",
    "    valid_data = lgb.Dataset(valid_X, label=valid_y)\n",
    "    train_Xs.append(train_X)\n",
    "    valid_Xs.append(valid_X)\n",
    "    \n",
    "    model = lgb.train(\n",
    "        param, \n",
    "        train_data, \n",
    "        valid_sets=valid_data, \n",
    "        #categorical_feature=categorical_feature,\n",
    "        early_stopping_rounds=100, \n",
    "        verbose_eval=100,\n",
    "        \n",
    "    )\n",
    "    pred = model.predict(valid_X)\n",
    "    train_pred.append(pred)\n",
    "    pred = np.where(pred < THRESHOLD, 0, 1)\n",
    "\n",
    "    temp += np.sum(pred)\n",
    "    \n",
    "    score = accuracy_score(pred, valid_y)\n",
    "    \n",
    "    models.append(model)\n",
    "    cv_scores.append(score)\n",
    "    \n",
    "    \n",
    "print(\"cv score : \", np.mean(cv_scores))    \n",
    "print(\"cv ratio : \", temp / SIZE)"
   ]
  },
  {
   "cell_type": "code",
   "execution_count": 18,
   "metadata": {
    "scrolled": true
   },
   "outputs": [
    {
     "name": "stdout",
     "output_type": "stream",
     "text": [
      "0.524514190782735\n",
      "0.5239206284311897\n",
      "0.5243533427366941\n",
      "0.5238633119730791\n",
      "0.5243640369959098\n",
      "0.5242031021839215\n"
     ]
    },
    {
     "data": {
      "text/plain": [
       "array([[<AxesSubplot:title={'center':'pred'}>]], dtype=object)"
      ]
     },
     "execution_count": 18,
     "metadata": {},
     "output_type": "execute_result"
    },
    {
     "data": {
      "image/png": "[encoded data removed]",
      "text/plain": [
       "<Figure size 432x288 with 1 Axes>"
      ]
     },
     "metadata": {
      "needs_background": "light"
     },
     "output_type": "display_data"
    }
   ],
   "source": [
    "preds = []\n",
    "if tgt_encode:\n",
    "    for col in cat_tgtenc_cols:\n",
    "        print(col)\n",
    "        X, test_X = prepro.target_encoder(X, test_X, col, y)\n",
    "\n",
    "    X, test_X = prepro.reskin_tgt_encoding(X, test_X, y)\n",
    "    X = prepro.add_numeric_info(X, [\"mode * reskin\"])\n",
    "    test_X = prepro.add_numeric_info(test_X, [\"mode * reskin\"])    \n",
    "\n",
    "\n",
    "        \n",
    "for i in range(K):\n",
    "    model = models[i]\n",
    "    pred = model.predict(test_X)\n",
    "    preds.append(pred)\n",
    "    print(np.sum(pred) / pred.shape[0])\n",
    "    \n",
    "preds = np.array(preds)\n",
    "preds = np.mean(preds, axis=0)\n",
    "print(np.sum(preds) / preds.shape[0])\n",
    "\n",
    "\n",
    "temp = pd.DataFrame({\"pred\":pred})\n",
    "temp.hist(bins=80)"
   ]
  },
  {
   "cell_type": "code",
   "execution_count": 19,
   "metadata": {},
   "outputs": [
    {
     "name": "stdout",
     "output_type": "stream",
     "text": [
      "0.6755116443189838\n"
     ]
    }
   ],
   "source": [
    "preds_ = np.where(preds < THRESHOLD, 0, 1)\n",
    "print(np.sum(preds_) / preds_.shape[0])\n",
    "\n",
    "submit_df = pd.DataFrame({'y': preds_})\n",
    "submit_df.index.name = 'id'\n",
    "#submit_df.to_csv('../Submissions/submission13_2_{}.csv'.format(K))"
   ]
  },
  {
   "cell_type": "markdown",
   "metadata": {},
   "source": [
    "# モデル解釈"
   ]
  },
  {
   "cell_type": "code",
   "execution_count": null,
   "metadata": {},
   "outputs": [],
   "source": [
    "preds"
   ]
  },
  {
   "cell_type": "code",
   "execution_count": null,
   "metadata": {
    "scrolled": true
   },
   "outputs": [],
   "source": [
    "importance = pd.DataFrame(models[0].feature_importance(), index=train_Xs[0].columns, columns=['importance']).sort_values('importance', ascending=False)\n",
    "display(importance.iloc[:100])"
   ]
  },
  {
   "cell_type": "code",
   "execution_count": null,
   "metadata": {},
   "outputs": [],
   "source": [
    "indices = [index for index in importance.index if \"A1\" in index]\n",
    "importance.loc[indices]"
   ]
  },
  {
   "cell_type": "code",
   "execution_count": null,
   "metadata": {},
   "outputs": [],
   "source": [
    "indices = [index for index in importance.index if \"range-sub\" in index]\n",
    "importance.loc[indices]"
   ]
  },
  {
   "cell_type": "code",
   "execution_count": null,
   "metadata": {},
   "outputs": [],
   "source": [
    "importance[\"importance\"].sum()"
   ]
  },
  {
   "cell_type": "code",
   "execution_count": null,
   "metadata": {},
   "outputs": [],
   "source": [
    "train_df[\"pred\"] = 0\n",
    "train_df[\"y\"] = y\n",
    "for i in range(K):\n",
    "    train_df[\"pred\"].iloc[folds[i]] = train_pred[i]\n",
    "for mode in train_df[\"mode\"].unique():\n",
    "    rate = train_df[train_df[\"mode\"] == mode][train_df[\"pred\"] == train_df[\"y\"]].shape[0] / train_df[train_df[\"mode\"] == mode].shape[0]\n",
    "    print(\"{} : {}\".format(mode, rate))\n",
    "print(train_df[train_df[\"pred\"] == train_df[\"y\"]].shape[0] / train_df.shape[0])"
   ]
  },
  {
   "cell_type": "code",
   "execution_count": null,
   "metadata": {},
   "outputs": [],
   "source": [
    "result_df = train_df[train_df[\"y\"] != train_df[\"pred\"]]"
   ]
  },
  {
   "cell_type": "code",
   "execution_count": null,
   "metadata": {},
   "outputs": [],
   "source": [
    "result_df.to_csv(\"../../data/result.csv\", index=False)"
   ]
  },
  {
   "cell_type": "code",
   "execution_count": null,
   "metadata": {},
   "outputs": [],
   "source": [
    "print(train_df[train_df[\"mode\"] == \"nawabari\"].shape[0]/train_df.shape[0])\n",
    "print(train_df[train_df[\"mode\"] == \"hoko\"].shape[0]/train_df.shape[0])\n",
    "print(train_df[train_df[\"mode\"] == \"asari\"].shape[0]/train_df.shape[0])\n",
    "print(train_df[train_df[\"mode\"] == \"area\"].shape[0]/train_df.shape[0])\n",
    "print(train_df[train_df[\"mode\"] == \"yagura\"].shape[0]/train_df.shape[0])"
   ]
  },
  {
   "cell_type": "code",
   "execution_count": null,
   "metadata": {},
   "outputs": [],
   "source": [
    "print(result_df[result_df[\"mode\"] == \"nawabari\"].shape[0]/result_df.shape[0])\n",
    "print(result_df[result_df[\"mode\"] == \"hoko\"].shape[0]/result_df.shape[0])\n",
    "print(result_df[result_df[\"mode\"] == \"asari\"].shape[0]/result_df.shape[0])\n",
    "print(result_df[result_df[\"mode\"] == \"area\"].shape[0]/result_df.shape[0])\n",
    "print(result_df[result_df[\"mode\"] == \"yagura\"].shape[0]/result_df.shape[0])"
   ]
  },
  {
   "cell_type": "code",
   "execution_count": null,
   "metadata": {},
   "outputs": [],
   "source": [
    "result_df.loc[:100]"
   ]
  },
  {
   "cell_type": "code",
   "execution_count": null,
   "metadata": {},
   "outputs": [],
   "source": [
    "num_cols_ = [\n",
    "    \"range-main\", \"range-bullet-main\", \"range-draw-main\", \"direct_range-sub\", \"distant-range_sub\", \n",
    "    \"rapid\", \"atack\", \"ink-sub\", \"fav-main\", \"good-special\", \"DPS\", \"kill_time_human-main\", \"kill_time_ika-main\",\n",
    "    \"front_gap_human-main\", \"front_gap_ika-main\", \"rensya_frame-main\", \"saidai_damege-main\", \"damage_min-sub\", \n",
    "    \"damage_max-sub\", \"install_num-sub\", \"good-sub\", \"direct_range-sub\", \"damage_max-special\", \n",
    "    \"damage_min-special\", \"duration-special\", \"good-special\", \"direct_rad-special\", \"close_rad-special\", \"distant_rad-special\"\n",
    "]\n"
   ]
  },
  {
   "cell_type": "code",
   "execution_count": null,
   "metadata": {},
   "outputs": [],
   "source": [
    "feature_cols = []\n",
    "for name in num_cols_:\n",
    "    for col in X.columns:\n",
    "        if name in col:\n",
    "            feature_cols.append(col)\n",
    "                \n",
    "importance.loc[feature_cols]#.sort_values('importance', ascending=False)"
   ]
  },
  {
   "cell_type": "code",
   "execution_count": null,
   "metadata": {},
   "outputs": [],
   "source": [
    "sss = []\n",
    "\n",
    "\"\"\"\n",
    "A-direct_range-sub-mean 30\n",
    "A-distant_range_sub-max\n",
    "B-rapid-std\t52\n",
    "ink-sub\n",
    "A-kill_time_human-main-median\t36\n",
    "A-kill_time_ika-main-median\t58\n",
    "A-front_gap_human-main-std\t25\n",
    "A-front_gap_ika-main-std\t48\n",
    "A-saidai_damege-main-mean\t40\n",
    "damage_max-sub 37\n",
    "install_num-sub 10\n",
    "direct_range-sub 30\n",
    "damage_max-special 47\n",
    "duration-special 46\n",
    "close_rad-special 30\n",
    "distant_rad-special 21\n",
    "\"\"\"\n",
    "\n",
    "\n",
    "\n",
    "\n",
    "for col in X.columns:\n",
    "    if \"distant_rad-special\" in col:\n",
    "        sss.append(col)\n",
    "                \n",
    "importance.loc[sss].sort_values('importance', ascending=False)"
   ]
  },
  {
   "cell_type": "code",
   "execution_count": null,
   "metadata": {},
   "outputs": [],
   "source": []
  },
  {
   "cell_type": "code",
   "execution_count": null,
   "metadata": {},
   "outputs": [],
   "source": [
    "train_df[\"y\"] = y"
   ]
  },
  {
   "cell_type": "code",
   "execution_count": null,
   "metadata": {
    "scrolled": false
   },
   "outputs": [],
   "source": [
    "reskin_g = pd.concat([\n",
    "    #train_df[[\"reskin-A1\", \"y\"]].rename(columns={\"reskin-A1\" : \"reskin\"}), \n",
    "    train_df[[\"reskin-A2\", \"y\"]].rename(columns={\"reskin-A2\" : \"reskin\"}), \n",
    "    train_df[[\"reskin-A3\", \"y\"]].rename(columns={\"reskin-A3\" : \"reskin\"}), \n",
    "    train_df[[\"reskin-A4\", \"y\"]].rename(columns={\"reskin-A4\" : \"reskin\"}),\n",
    "    pd.concat([train_df[\"reskin-B1\"], train_df[\"y\"].apply(lambda x : 1-x)], axis=1).rename(columns={\"reskin-B1\" : \"reskin\"}),\n",
    "    pd.concat([train_df[\"reskin-B2\"], train_df[\"y\"].apply(lambda x : 1-x)], axis=1).rename(columns={\"reskin-B2\" : \"reskin\"}),\n",
    "    pd.concat([train_df[\"reskin-B3\"], train_df[\"y\"].apply(lambda x : 1-x)], axis=1).rename(columns={\"reskin-B3\" : \"reskin\"}),\n",
    "    pd.concat([train_df[\"reskin-B4\"], train_df[\"y\"].apply(lambda x : 1-x)], axis=1).rename(columns={\"reskin-B4\" : \"reskin\"}),\n",
    "],axis=0, ignore_index=True).groupby(\"reskin\")"
   ]
  },
  {
   "cell_type": "code",
   "execution_count": null,
   "metadata": {},
   "outputs": [],
   "source": [
    "win_rate = reskin_g.sum() / reskin_g.count()"
   ]
  },
  {
   "cell_type": "code",
   "execution_count": null,
   "metadata": {},
   "outputs": [],
   "source": [
    "win_rate"
   ]
  },
  {
   "cell_type": "code",
   "execution_count": null,
   "metadata": {},
   "outputs": [],
   "source": [
    "weapon = pd.concat([\n",
    "    #train_df[[\"weapon-A1\", \"y\"]].rename(columns={\"weapon-A1\" : \"weapon\"}), \n",
    "    train_df[[\"A2-weapon\", \"y\"]].rename(columns={\"A2-weapon\" : \"weapon\"}), \n",
    "    train_df[[\"A3-weapon\", \"y\"]].rename(columns={\"A3-weapon\" : \"weapon\"}), \n",
    "    train_df[[\"A4-weapon\", \"y\"]].rename(columns={\"A4-weapon\" : \"weapon\"}),\n",
    "    pd.concat([train_df[\"B1-weapon\"], train_df[\"y\"].apply(lambda x : 1-x)], axis=1).rename(columns={\"B1-weapon\" : \"weapon\"}),\n",
    "    pd.concat([train_df[\"B2-weapon\"], train_df[\"y\"].apply(lambda x : 1-x)], axis=1).rename(columns={\"B2-weapon\" : \"weapon\"}),\n",
    "    pd.concat([train_df[\"B3-weapon\"], train_df[\"y\"].apply(lambda x : 1-x)], axis=1).rename(columns={\"B3-weapon\" : \"weapon\"}),\n",
    "    pd.concat([train_df[\"B4-weapon\"], train_df[\"y\"].apply(lambda x : 1-x)], axis=1).rename(columns={\"B4-weapon\" : \"weapon\"}),\n",
    "],axis=0, ignore_index=True)"
   ]
  },
  {
   "cell_type": "code",
   "execution_count": null,
   "metadata": {},
   "outputs": [],
   "source": [
    "win_rate = (weapon.groupby(\"weapon\").sum() / weapon.groupby(\"weapon\").count()).sort_values(\"y\", ascending=False)\n",
    "win_rate.loc[\"bold_7\"]"
   ]
  },
  {
   "cell_type": "code",
   "execution_count": null,
   "metadata": {},
   "outputs": [],
   "source": []
  },
  {
   "cell_type": "code",
   "execution_count": null,
   "metadata": {},
   "outputs": [],
   "source": []
  },
  {
   "cell_type": "code",
   "execution_count": null,
   "metadata": {},
   "outputs": [],
   "source": [
    "def mizumashi_perm(df, y):\n",
    "    df[\"y\"] = y\n",
    "    li = [\"B1\", \"B2\", \"B3\", \"B4\"]\n",
    "    cols = df.columns\n",
    "    for p1, p2, p3, p4 in itertools.permutations(li):\n",
    "        B1_cols = [col for col in cols if \"B1\" in col]\n",
    "        B2_cols = [col for col in cols if \"B1\" in col]\n",
    "        B3_cols = [col for col in cols if \"B1\" in col]\n",
    "        B4_cols = [col for col in cols if \"B1\" in col]\n",
    "    \n",
    "    \n",
    "    \n",
    "    y = df[\"y\"].values\n",
    "    df.drop(columns=[\"y\"], inplace=True)\n",
    "    return df, y"
   ]
  },
  {
   "cell_type": "code",
   "execution_count": null,
   "metadata": {},
   "outputs": [],
   "source": []
  },
  {
   "cell_type": "code",
   "execution_count": null,
   "metadata": {},
   "outputs": [],
   "source": []
  },
  {
   "cell_type": "code",
   "execution_count": null,
   "metadata": {},
   "outputs": [],
   "source": []
  },
  {
   "cell_type": "code",
   "execution_count": null,
   "metadata": {},
   "outputs": [],
   "source": []
  },
  {
   "cell_type": "code",
   "execution_count": null,
   "metadata": {},
   "outputs": [],
   "source": []
  },
  {
   "cell_type": "code",
   "execution_count": null,
   "metadata": {},
   "outputs": [],
   "source": []
  }
 ],
 "metadata": {
  "kernelspec": {
   "display_name": "Python 3",
   "language": "python",
   "name": "python3"
  },
  "language_info": {
   "codemirror_mode": {
    "name": "ipython",
    "version": 3
   },
   "file_extension": ".py",
   "mimetype": "text/x-python",
   "name": "python",
   "nbconvert_exporter": "python",
   "pygments_lexer": "ipython3",
   "version": "3.6.12"
  }
 },
 "nbformat": 4,
 "nbformat_minor": 4
}
