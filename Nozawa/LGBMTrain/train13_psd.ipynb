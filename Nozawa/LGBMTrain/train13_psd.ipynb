{
 "cells": [
  {
   "cell_type": "markdown",
   "metadata": {},
   "source": [
    "# Light GBM Model\n",
    "\n"
   ]
  },
  {
   "cell_type": "code",
   "execution_count": 1,
   "metadata": {},
   "outputs": [],
   "source": [
    "import sys\n",
    "sys.path.append('../')\n",
    "import pandas as pd\n",
    "import numpy as np\n",
    "import sklearn\n",
    "from Functions import prepro\n",
    "import warnings\n",
    "warnings.filterwarnings('ignore')\n",
    "\n",
    "import random\n",
    "\n",
    "from sklearn.model_selection import train_test_split\n",
    "from sklearn.metrics import accuracy_score\n",
    "warnings.filterwarnings('ignore')\n",
    "import lightgbm as lgb\n",
    "from lightgbm import LGBMClassifier\n",
    "\n",
    "\n",
    "FEATURE_SELECTION = False\n",
    "tgt_encode = False\n",
    "\n",
    "random.seed(0)\n",
    "\n",
    "pd.set_option(\"display.max_columns\", 1000)\n",
    "pd.set_option(\"display.max_rows\", 1000)\n"
   ]
  },
  {
   "cell_type": "code",
   "execution_count": 2,
   "metadata": {},
   "outputs": [
    {
     "name": "stdout",
     "output_type": "stream",
     "text": [
      "(66125, 304)\n",
      "(28340, 303)\n"
     ]
    }
   ],
   "source": [
    "train_df = pd.read_csv(\"../../data/Processed/train2.csv\")\n",
    "test_df = pd.read_csv(\"../../data/Processed/test2.csv\")\n",
    "print(train_df.shape)\n",
    "print(test_df.shape)"
   ]
  },
  {
   "cell_type": "code",
   "execution_count": 3,
   "metadata": {},
   "outputs": [],
   "source": [
    "y = train_df[\"y\"].values\n",
    "train_df = train_df.drop(\"y\", axis=1)"
   ]
  },
  {
   "cell_type": "code",
   "execution_count": 4,
   "metadata": {},
   "outputs": [],
   "source": [
    "# add disconnection info\n",
    "\n",
    "train_df = prepro.add_disconnection(train_df)\n",
    "test_df = prepro.add_disconnection(test_df)"
   ]
  },
  {
   "cell_type": "markdown",
   "metadata": {},
   "source": [
    "train_df[\"good-special-A1\"].corr(train_df[\"good-sub-A1\"])"
   ]
  },
  {
   "cell_type": "code",
   "execution_count": 5,
   "metadata": {},
   "outputs": [],
   "source": [
    "# add info about numeric column\n",
    "# 武器データの中のnum_colsを持つ特徴について、チーム内の統計量を計算、levelは結構効いてる\n",
    "\n",
    "num_cols = [\n",
    "    \"level\", \"range-main\", \"range-bullet-main\", \"distant-range_sub\", \n",
    "    \"rapid\", \"atack\", \"ink-sub\", \"fav-main\", \"good-special\", \"DPS\", \"kill_time_ika-main\",\n",
    "    \"front_gap_human-main\", \"front_gap_ika-main\", \"rensya_frame-main\", \"saidai_damege-main\", \"damage_min-sub\", \n",
    "    \"damage_max-sub\", \"install_num-sub\", \"good-sub\", \"damage_max-special\", \n",
    "    \"duration-special\", \"good-special\", \"direct_rad-special\", \"distant_rad-special\"\n",
    "]\n",
    "\n",
    "cols = [col for col in train_df.columns if \"A1\" in col or \"A2\" in col or \"A3\" in col or \"A4\" in col or \n",
    "        \"B1\" in col or \"B2\" in col or \"B3\" in col or \"B4\" in col]\n",
    "drop_cols = []\n",
    "for col1 in cols:\n",
    "    f = True\n",
    "    for col2 in num_cols:\n",
    "        if col2 in col1:\n",
    "            f = False\n",
    "    if f and train_df[col1].dtype in [int, float]:\n",
    "        drop_cols.append(col1)\n",
    "        \n",
    "train_df = train_df.drop(columns=drop_cols)\n",
    "test_df = test_df.drop(columns=drop_cols)\n",
    "        \n",
    "    \n",
    "\n",
    "train_df = prepro.add_numeric_info(train_df, num_cols)\n",
    "test_df = prepro.add_numeric_info(test_df, num_cols)"
   ]
  },
  {
   "cell_type": "markdown",
   "metadata": {},
   "source": [
    "# 欠損値埋め先にやろう\n",
    "欠損値がある列\n",
    "\n",
    "rank, weapon, level ⇨　回線切れ or ナワバリ\n",
    "\n",
    "weaponの欠損に並んでそれに関係ある列、A3, A4, B3, B4 ⇨ 回線切れ\n",
    "\n",
    "level, weaponが消えていたら回線切れ"
   ]
  },
  {
   "cell_type": "code",
   "execution_count": 6,
   "metadata": {},
   "outputs": [],
   "source": [
    "# rankの欠損値を埋める\n",
    "train_df, test_df = prepro.fillna_rank(train_df, test_df)\n",
    "\n",
    "#そのほかの欠損値を埋める\n",
    "train_df, test_df = prepro.fillna(train_df, test_df)"
   ]
  },
  {
   "cell_type": "code",
   "execution_count": 7,
   "metadata": {},
   "outputs": [
    {
     "name": "stdout",
     "output_type": "stream",
     "text": [
      "0\n",
      "0\n"
     ]
    }
   ],
   "source": [
    "print(train_df.isnull().sum().sum())\n",
    "print(test_df.isnull().sum().sum())"
   ]
  },
  {
   "cell_type": "markdown",
   "metadata": {},
   "source": [
    "# 特徴量エンジニアリング\n"
   ]
  },
  {
   "cell_type": "code",
   "execution_count": 8,
   "metadata": {
    "scrolled": true
   },
   "outputs": [
    {
     "name": "stdout",
     "output_type": "stream",
     "text": [
      "reskin\n",
      "mainweapon\n",
      "subweapon\n",
      "special\n",
      "mizumashi\n"
     ]
    }
   ],
   "source": [
    "# count reskin, by mode\n",
    "print(\"reskin\")\n",
    "train_df, test_df = prepro.count_reskin(train_df, test_df)\n",
    "train_df, test_df = prepro.count_reskin_by_mode(train_df, test_df)\n",
    "\n",
    "# count mainweapon, by mode\n",
    "print(\"mainweapon\")\n",
    "train_df, test_df = prepro.count_mainweapon(train_df, test_df)\n",
    "train_df, test_df = prepro.count_mainweapon_by_mode(train_df, test_df)\n",
    "\n",
    "# count subweapon, by mode\n",
    "print(\"subweapon\")\n",
    "train_df, test_df = prepro.count_subweapon(train_df, test_df)\n",
    "train_df, test_df = prepro.count_subweapon_by_mode(train_df, test_df)\n",
    "\n",
    "# count special, by mode\n",
    "print(\"special\")\n",
    "train_df, test_df = prepro.count_special(train_df, test_df)\n",
    "train_df, test_df = prepro.count_special_by_mode(train_df, test_df)\n",
    "\n",
    "\n",
    "#identify A1\n",
    "train_df, test_df = prepro.identify_A1(train_df, test_df)\n",
    "\n",
    "\n",
    "# 水増し, A1も統計量に含めた特徴を作る場合は水ましより先にやる\n",
    "print(\"mizumashi\")\n",
    "train_df, y = prepro.mizumashi(train_df, y)\n",
    "\n",
    "# is_nawabari\n",
    "train_df, test_df = prepro.is_nawabari(train_df, test_df)\n",
    "\n",
    "# match rank、単体で意味なし\n",
    "train_df, test_df = prepro.match_rank(train_df, test_df)\n",
    "\n",
    "# rankを二列に分ける\n",
    "train_df, test_df = prepro.ranker(train_df, test_df)\n",
    "\n",
    "\n"
   ]
  },
  {
   "cell_type": "code",
   "execution_count": 9,
   "metadata": {},
   "outputs": [
    {
     "name": "stdout",
     "output_type": "stream",
     "text": [
      "(160590, 608)\n",
      "special-A\n",
      "special-B\n",
      "subweapon-A\n",
      "subweapon-B\n",
      "category1-A\n",
      "category1-B\n",
      "category2-A\n",
      "category2-B\n",
      "(160590, 704)\n",
      "complete\n"
     ]
    }
   ],
   "source": [
    "# add team info、メインはなくてもいい\n",
    "\n",
    "#train_df,  test_df = prepro.addTeamInfo(train_df, test_df, cols=[\"special\", \"subweapon\", \"category1\", \"category2\", \"mainweapon\"])\n",
    "train_df,  test_df = prepro.addTeamInfo(train_df, test_df, cols=[\"special\", \"subweapon\", \"category1\", \"category2\"])"
   ]
  },
  {
   "cell_type": "code",
   "execution_count": 10,
   "metadata": {},
   "outputs": [
    {
     "name": "stdout",
     "output_type": "stream",
     "text": [
      "category1\n",
      "category2\n",
      "subweapon\n",
      "special\n"
     ]
    }
   ],
   "source": [
    "# categorize team , 良い\n",
    "\n",
    "#categorize_col = [\"category1\", \"category2\", \"subweapon\", \"special\", \"mainweapon\"]\n",
    "categorize_col = [\"category1\", \"category2\", \"subweapon\", \"special\"]\n",
    "for col in categorize_col:\n",
    "    print(col)\n",
    "    train_df, test_df = prepro.categorize_team(train_df, test_df, col)"
   ]
  },
  {
   "cell_type": "markdown",
   "metadata": {},
   "source": [
    "# Make Input"
   ]
  },
  {
   "cell_type": "code",
   "execution_count": 11,
   "metadata": {},
   "outputs": [],
   "source": [
    "# プレイヤー固有のカテゴリ変数は個別にエンコードしなければいけないね…\n",
    "# rank\n",
    "# category1\n",
    "# category2\n",
    "# subweapon\n",
    "# special\n",
    "# mainweapon\n",
    "# reskin\n",
    "# mode x reskin\n",
    "from sklearn.preprocessing import LabelEncoder\n",
    "for col in [\"category1\", \"category2\", \"subweapon\", \"special\", \"mainweapon\", \"reskin\", ]:#\"mode x reskin\"]:\n",
    "    lbl = LabelEncoder()\n",
    "    lbl.fit(train_df[col+\"-A4\"])\n",
    "    train_df[col+\"-A1\"] = lbl.transform(train_df[col+\"-A1\"])\n",
    "    train_df[col+\"-A2\"] = lbl.transform(train_df[col+\"-A2\"])\n",
    "    train_df[col+\"-A3\"] = lbl.transform(train_df[col+\"-A3\"])\n",
    "    train_df[col+\"-A4\"] = lbl.transform(train_df[col+\"-A4\"])\n",
    "    train_df[col+\"-B1\"] = lbl.transform(train_df[col+\"-B1\"])\n",
    "    train_df[col+\"-B2\"] = lbl.transform(train_df[col+\"-B2\"])\n",
    "    train_df[col+\"-B3\"] = lbl.transform(train_df[col+\"-B3\"])\n",
    "    train_df[col+\"-B4\"] = lbl.transform(train_df[col+\"-B4\"])\n",
    "    \n",
    "    test_df[col+\"-A1\"] = lbl.transform(test_df[col+\"-A1\"])\n",
    "    test_df[col+\"-A2\"] = lbl.transform(test_df[col+\"-A2\"])\n",
    "    test_df[col+\"-A3\"] = lbl.transform(test_df[col+\"-A3\"])\n",
    "    test_df[col+\"-A4\"] = lbl.transform(test_df[col+\"-A4\"])\n",
    "    test_df[col+\"-B1\"] = lbl.transform(test_df[col+\"-B1\"])\n",
    "    test_df[col+\"-B2\"] = lbl.transform(test_df[col+\"-B2\"])\n",
    "    test_df[col+\"-B3\"] = lbl.transform(test_df[col+\"-B3\"])\n",
    "    test_df[col+\"-B4\"] = lbl.transform(test_df[col+\"-B4\"])\n",
    "    \n",
    "for col in [\"rank-mark\", \"rank\"]:\n",
    "    lbl = LabelEncoder()\n",
    "    lbl.fit(train_df[\"A4-\" + col])\n",
    "    train_df[\"A1-\"+col] = lbl.transform(train_df[\"A1-\"+col])\n",
    "    train_df[\"A2-\"+col] = lbl.transform(train_df[\"A2-\"+col])\n",
    "    train_df[\"A3-\"+col] = lbl.transform(train_df[\"A3-\"+col])\n",
    "    train_df[\"A4-\"+col] = lbl.transform(train_df[\"A4-\"+col])\n",
    "    train_df[\"B1-\"+col] = lbl.transform(train_df[\"B1-\"+col])\n",
    "    train_df[\"B2-\"+col] = lbl.transform(train_df[\"B2-\"+col])\n",
    "    train_df[\"B3-\"+col] = lbl.transform(train_df[\"B3-\"+col])\n",
    "    train_df[\"B4-\"+col] = lbl.transform(train_df[\"B4-\"+col])\n",
    "\n",
    "    test_df[\"A1-\"+col] = lbl.transform(test_df[\"A1-\"+col])\n",
    "    test_df[\"A2-\"+col] = lbl.transform(test_df[\"A2-\"+col])\n",
    "    test_df[\"A3-\"+col] = lbl.transform(test_df[\"A3-\"+col])\n",
    "    test_df[\"A4-\"+col] = lbl.transform(test_df[\"A4-\"+col])\n",
    "    test_df[\"B1-\"+col] = lbl.transform(test_df[\"B1-\"+col])\n",
    "    test_df[\"B2-\"+col] = lbl.transform(test_df[\"B2-\"+col])\n",
    "    test_df[\"B3-\"+col] = lbl.transform(test_df[\"B3-\"+col])\n",
    "    test_df[\"B4-\"+col] = lbl.transform(test_df[\"B4-\"+col])\n",
    "\n",
    "    \n"
   ]
  },
  {
   "cell_type": "code",
   "execution_count": 12,
   "metadata": {
    "scrolled": true
   },
   "outputs": [
    {
     "name": "stdout",
     "output_type": "stream",
     "text": [
      "complete\n"
     ]
    }
   ],
   "source": [
    "# make input\n",
    "drop_cols = [\"id\", \"lobby\", \"lobby-mode\",  \"period\", \"game-ver\", \"A1-weapon\", \"A2-weapon\", \"A3-weapon\", \"A4-weapon\", \\\n",
    "              \"B1-weapon\", \"B2-weapon\", \"B3-weapon\", \"B4-weapon\"]\n",
    "\n",
    "\n",
    "\n",
    "\n",
    "categorical_feature = [col for col in train_df.dtypes[train_df.dtypes == \"object\"].index.to_list() if col not in drop_cols]\n",
    "\n",
    "X, test_X = prepro.make_input(train_df, test_df, drop_cols, categorical_encode=True, scaler=False, verbose=False)"
   ]
  },
  {
   "cell_type": "code",
   "execution_count": 13,
   "metadata": {},
   "outputs": [
    {
     "name": "stdout",
     "output_type": "stream",
     "text": [
      "(132250, 699)\n",
      "(28340, 699)\n"
     ]
    }
   ],
   "source": [
    "print(X.shape)\n",
    "print(test_X.shape)"
   ]
  },
  {
   "cell_type": "markdown",
   "metadata": {},
   "source": [
    "# モデル学習"
   ]
  },
  {
   "cell_type": "code",
   "execution_count": 14,
   "metadata": {},
   "outputs": [
    {
     "name": "stdout",
     "output_type": "stream",
     "text": [
      "5\n",
      "fold  1  size is  26450\n",
      "fold  2  size is  26450\n",
      "fold  3  size is  26450\n",
      "fold  4  size is  26450\n",
      "fold  5  size is  26450\n",
      "successfully split\n"
     ]
    }
   ],
   "source": [
    "# 全データを5つに分割\n",
    "random.seed(random.randint(0, 10000))\n",
    "SIZE = X.shape[0]\n",
    "K = 5\n",
    "\n",
    "\n",
    "#folds = prepro.make_stratified_kfolds(X, y, K, shuffle=True)\n",
    "folds = prepro.make_stratified_kfolds(X, X[\"mode\"].astype(str) + y.astype(str), K, shuffle=True, random_state=random.randint(0, 10000))\n",
    "\n",
    "\n",
    "print(len(folds))\n",
    "for i, fold in enumerate(folds):\n",
    "    print(\"fold \", i+1, \" size is \", len(fold))\n",
    "    \n",
    "    \n",
    "if SIZE != len(set(sum(folds, []))):\n",
    "    print(\"error is occuring in spliting\")\n",
    "else :\n",
    "    print(\"successfully split\")"
   ]
  },
  {
   "cell_type": "code",
   "execution_count": 15,
   "metadata": {
    "scrolled": true
   },
   "outputs": [
    {
     "name": "stdout",
     "output_type": "stream",
     "text": [
      "======================== fold 1 ========================\n",
      "Training until validation scores don't improve for 100 rounds\n",
      "[100]\tvalid_0's binary_logloss: 0.68819\n",
      "[200]\tvalid_0's binary_logloss: 0.685445\n",
      "[300]\tvalid_0's binary_logloss: 0.683946\n",
      "[400]\tvalid_0's binary_logloss: 0.68301\n",
      "[500]\tvalid_0's binary_logloss: 0.682462\n",
      "[600]\tvalid_0's binary_logloss: 0.682177\n",
      "[700]\tvalid_0's binary_logloss: 0.682057\n",
      "[800]\tvalid_0's binary_logloss: 0.681897\n",
      "[900]\tvalid_0's binary_logloss: 0.681772\n",
      "[1000]\tvalid_0's binary_logloss: 0.681742\n",
      "[1100]\tvalid_0's binary_logloss: 0.681648\n",
      "[1200]\tvalid_0's binary_logloss: 0.681619\n",
      "[1300]\tvalid_0's binary_logloss: 0.68158\n",
      "[1400]\tvalid_0's binary_logloss: 0.681552\n",
      "[1500]\tvalid_0's binary_logloss: 0.681477\n",
      "[1600]\tvalid_0's binary_logloss: 0.681488\n",
      "Early stopping, best iteration is:\n",
      "[1514]\tvalid_0's binary_logloss: 0.68147\n",
      "======================== fold 2 ========================\n",
      "Training until validation scores don't improve for 100 rounds\n",
      "[100]\tvalid_0's binary_logloss: 0.687745\n",
      "[200]\tvalid_0's binary_logloss: 0.684995\n",
      "[300]\tvalid_0's binary_logloss: 0.6836\n",
      "[400]\tvalid_0's binary_logloss: 0.682724\n",
      "[500]\tvalid_0's binary_logloss: 0.68223\n",
      "[600]\tvalid_0's binary_logloss: 0.681968\n",
      "[700]\tvalid_0's binary_logloss: 0.681848\n",
      "[800]\tvalid_0's binary_logloss: 0.681739\n",
      "[900]\tvalid_0's binary_logloss: 0.681672\n",
      "[1000]\tvalid_0's binary_logloss: 0.681607\n",
      "[1100]\tvalid_0's binary_logloss: 0.681566\n",
      "[1200]\tvalid_0's binary_logloss: 0.681501\n",
      "[1300]\tvalid_0's binary_logloss: 0.681486\n",
      "[1400]\tvalid_0's binary_logloss: 0.681394\n",
      "[1500]\tvalid_0's binary_logloss: 0.681357\n",
      "[1600]\tvalid_0's binary_logloss: 0.681318\n",
      "[1700]\tvalid_0's binary_logloss: 0.68124\n",
      "[1800]\tvalid_0's binary_logloss: 0.681149\n",
      "[1900]\tvalid_0's binary_logloss: 0.68112\n",
      "[2000]\tvalid_0's binary_logloss: 0.681053\n",
      "Early stopping, best iteration is:\n",
      "[1990]\tvalid_0's binary_logloss: 0.681042\n",
      "======================== fold 3 ========================\n",
      "Training until validation scores don't improve for 100 rounds\n",
      "[100]\tvalid_0's binary_logloss: 0.688289\n",
      "[200]\tvalid_0's binary_logloss: 0.685898\n",
      "[300]\tvalid_0's binary_logloss: 0.684409\n",
      "[400]\tvalid_0's binary_logloss: 0.683643\n",
      "[500]\tvalid_0's binary_logloss: 0.683105\n",
      "[600]\tvalid_0's binary_logloss: 0.682917\n",
      "[700]\tvalid_0's binary_logloss: 0.682773\n",
      "[800]\tvalid_0's binary_logloss: 0.68271\n",
      "[900]\tvalid_0's binary_logloss: 0.682625\n",
      "[1000]\tvalid_0's binary_logloss: 0.682595\n",
      "[1100]\tvalid_0's binary_logloss: 0.682509\n",
      "[1200]\tvalid_0's binary_logloss: 0.68245\n",
      "[1300]\tvalid_0's binary_logloss: 0.682418\n",
      "[1400]\tvalid_0's binary_logloss: 0.682399\n",
      "[1500]\tvalid_0's binary_logloss: 0.682316\n",
      "[1600]\tvalid_0's binary_logloss: 0.682313\n",
      "[1700]\tvalid_0's binary_logloss: 0.682337\n",
      "Early stopping, best iteration is:\n",
      "[1615]\tvalid_0's binary_logloss: 0.682286\n",
      "======================== fold 4 ========================\n",
      "Training until validation scores don't improve for 100 rounds\n",
      "[100]\tvalid_0's binary_logloss: 0.687827\n",
      "[200]\tvalid_0's binary_logloss: 0.684961\n",
      "[300]\tvalid_0's binary_logloss: 0.683438\n",
      "[400]\tvalid_0's binary_logloss: 0.682664\n",
      "[500]\tvalid_0's binary_logloss: 0.682097\n",
      "[600]\tvalid_0's binary_logloss: 0.681827\n",
      "[700]\tvalid_0's binary_logloss: 0.681629\n",
      "[800]\tvalid_0's binary_logloss: 0.681419\n",
      "[900]\tvalid_0's binary_logloss: 0.681237\n",
      "[1000]\tvalid_0's binary_logloss: 0.681176\n",
      "[1100]\tvalid_0's binary_logloss: 0.681092\n",
      "[1200]\tvalid_0's binary_logloss: 0.681017\n",
      "[1300]\tvalid_0's binary_logloss: 0.680997\n",
      "[1400]\tvalid_0's binary_logloss: 0.680946\n",
      "[1500]\tvalid_0's binary_logloss: 0.68093\n",
      "[1600]\tvalid_0's binary_logloss: 0.680905\n",
      "[1700]\tvalid_0's binary_logloss: 0.680912\n",
      "Early stopping, best iteration is:\n",
      "[1643]\tvalid_0's binary_logloss: 0.680891\n",
      "======================== fold 5 ========================\n",
      "Training until validation scores don't improve for 100 rounds\n",
      "[100]\tvalid_0's binary_logloss: 0.688077\n",
      "[200]\tvalid_0's binary_logloss: 0.68569\n",
      "[300]\tvalid_0's binary_logloss: 0.684363\n",
      "[400]\tvalid_0's binary_logloss: 0.683549\n",
      "[500]\tvalid_0's binary_logloss: 0.683131\n",
      "[600]\tvalid_0's binary_logloss: 0.682862\n",
      "[700]\tvalid_0's binary_logloss: 0.682708\n",
      "[800]\tvalid_0's binary_logloss: 0.682615\n",
      "[900]\tvalid_0's binary_logloss: 0.682406\n",
      "[1000]\tvalid_0's binary_logloss: 0.682283\n",
      "[1100]\tvalid_0's binary_logloss: 0.682203\n",
      "[1200]\tvalid_0's binary_logloss: 0.682102\n",
      "[1300]\tvalid_0's binary_logloss: 0.682085\n",
      "[1400]\tvalid_0's binary_logloss: 0.68208\n",
      "Early stopping, best iteration is:\n",
      "[1363]\tvalid_0's binary_logloss: 0.682051\n",
      "cv score :  0.5525746691871455\n",
      "cv ratio :  0.500937618147448\n"
     ]
    }
   ],
   "source": [
    "param = {\n",
    "    \"num_leaves\" : 28,\n",
    "    \"learning_rate\" : 0.01,\n",
    "    #\"learning_rate\" : 0.1,\n",
    "    \"num_iterations\" : 20000,\n",
    "    \"objective\" : \"binary\",\n",
    "    \"metric\" : [\"binary_logloss\"],\n",
    "    \"random_state\" : random.randint(0, 10000),\n",
    "    #\"random_state\" : 0,\n",
    "    #\"max_depth\" : 100\n",
    "}\n",
    "\n",
    "THRESHOLD = 0.50\n",
    "models = []\n",
    "cv_scores = []\n",
    "temp = 0\n",
    "train_pred = []\n",
    "train_Xs = []\n",
    "valid_Xs = []\n",
    "\n",
    "\n",
    "all_indices = sum(folds, [])\n",
    "for i in range(K):\n",
    "    print(\"======================== fold {} ========================\".format(i+1))\n",
    "    valid_indices = folds[i]\n",
    "    train_indices = list(set(all_indices) - set(valid_indices))\n",
    "    # print(\"train \", len(train_indices), \" , valid \", len(valid_indices))\n",
    "    train_X = X.iloc[train_indices]\n",
    "    try:\n",
    "        train_y = y.iloc[train_indices]\n",
    "    except:\n",
    "        train_y = y[train_indices]\n",
    "    valid_X = X.iloc[valid_indices]\n",
    "    try:\n",
    "        valid_y = y.iloc[valid_indices]\n",
    "    except:\n",
    "        valid_y = y[valid_indices]\n",
    "    \n",
    "\n",
    "\n",
    "        \n",
    "    \n",
    "    train_data = lgb.Dataset(train_X, label=train_y)\n",
    "    valid_data = lgb.Dataset(valid_X, label=valid_y)\n",
    "\n",
    "    model = lgb.train(\n",
    "        param, \n",
    "        train_data, \n",
    "        valid_sets=valid_data, \n",
    "        #categorical_feature=categorical_feature,\n",
    "        early_stopping_rounds=100, \n",
    "        verbose_eval=100,\n",
    "        \n",
    "    )\n",
    "    pred = model.predict(valid_X)\n",
    "    pred = np.where(pred < THRESHOLD, 0, 1)\n",
    "    train_pred.append(pred)\n",
    "    temp += np.sum(pred)\n",
    "    \n",
    "    score = accuracy_score(pred, valid_y)\n",
    "    \n",
    "    models.append(model)\n",
    "    cv_scores.append(score)\n",
    "    \n",
    "    \n",
    "print(\"cv score : \", np.mean(cv_scores))    \n",
    "print(\"cv ratio : \", temp / SIZE)"
   ]
  },
  {
   "cell_type": "code",
   "execution_count": 16,
   "metadata": {
    "scrolled": true
   },
   "outputs": [
    {
     "name": "stdout",
     "output_type": "stream",
     "text": [
      "0.5107949598420383\n",
      "0.5110060988184605\n",
      "0.5120378702699909\n",
      "0.5107261461584807\n",
      "0.5112437695856259\n",
      "0.5111617689349193\n"
     ]
    },
    {
     "data": {
      "text/plain": [
       "array([[<AxesSubplot:title={'center':'pred'}>]], dtype=object)"
      ]
     },
     "execution_count": 16,
     "metadata": {},
     "output_type": "execute_result"
    },
    {
     "data": {
      "image/png": "[encoded data removed]",
      "text/plain": [
       "<Figure size 432x288 with 1 Axes>"
      ]
     },
     "metadata": {
      "needs_background": "light"
     },
     "output_type": "display_data"
    }
   ],
   "source": [
    "preds = []\n",
    "        \n",
    "for i in range(K):\n",
    "    model = models[i]\n",
    "    pred = model.predict(test_X)\n",
    "    preds.append(pred)\n",
    "    print(np.sum(pred) / pred.shape[0])\n",
    "    \n",
    "preds = np.array(preds)\n",
    "preds = np.mean(preds, axis=0)\n",
    "print(np.sum(preds) / preds.shape[0])\n",
    "\n",
    "\n",
    "temp = pd.DataFrame({\"pred\":pred})\n",
    "temp.hist(bins=80)"
   ]
  },
  {
   "cell_type": "code",
   "execution_count": 17,
   "metadata": {},
   "outputs": [
    {
     "name": "stdout",
     "output_type": "stream",
     "text": [
      "0.5742413549752999\n"
     ]
    }
   ],
   "source": [
    "preds_ = np.where(preds < THRESHOLD, 0, 1)\n",
    "print(np.sum(preds_) / preds_.shape[0])\n",
    "\n",
    "submit_df = pd.DataFrame({'y': preds_})\n",
    "submit_df.index.name = 'id'\n",
    "submit_df.to_csv('../Submissions/submission13_psd1_{}.csv'.format(K))"
   ]
  },
  {
   "cell_type": "markdown",
   "metadata": {},
   "source": [
    "# Pseudo Labeling"
   ]
  },
  {
   "cell_type": "code",
   "execution_count": 18,
   "metadata": {
    "scrolled": true
   },
   "outputs": [],
   "source": [
    "test_X[\"pred\"] = preds\n",
    "test_X[\"y\"] = preds_\n",
    "ps_X = pd.concat([X, test_X[np.abs(0.5-test_X[\"pred\"]) > 0.25]])\n",
    "ps_y = np.append(y, test_X[\"y\"][np.abs(0.5-test_X[\"pred\"]) > 0.25].values)\n",
    "\n",
    "\n",
    "\n",
    "test_X.drop(columns=[\"pred\"], inplace=True)\n",
    "test_X.drop(columns=[\"y\"], inplace=True)\n",
    "ps_X.drop(columns=[\"pred\"], inplace=True)\n",
    "ps_X.drop(columns=[\"y\"], inplace=True)"
   ]
  },
  {
   "cell_type": "code",
   "execution_count": 19,
   "metadata": {},
   "outputs": [
    {
     "name": "stdout",
     "output_type": "stream",
     "text": [
      "5\n",
      "fold  1  size is  26479\n",
      "fold  2  size is  26479\n",
      "fold  3  size is  26479\n",
      "fold  4  size is  26478\n",
      "fold  5  size is  26478\n",
      "successfully split\n"
     ]
    }
   ],
   "source": [
    "# 全データを5つに分割\n",
    "SIZE = ps_X.shape[0]\n",
    "K = 5\n",
    "\n",
    "\n",
    "#folds = prepro.make_stratified_kfolds(X, y, K, shuffle=True)\n",
    "folds = prepro.make_stratified_kfolds(ps_X, ps_X[\"mode\"].astype(str) + ps_y.astype(str), K, shuffle=True, random_state=random.randint(0, 10000))\n",
    "\n",
    "\n",
    "print(len(folds))\n",
    "for i, fold in enumerate(folds):\n",
    "    print(\"fold \", i+1, \" size is \", len(fold))\n",
    "    \n",
    "    \n",
    "if SIZE != len(set(sum(folds, []))):\n",
    "    print(\"error is occuring in spliting\")\n",
    "else :\n",
    "    print(\"successfully split\")\n"
   ]
  },
  {
   "cell_type": "code",
   "execution_count": 20,
   "metadata": {},
   "outputs": [
    {
     "name": "stdout",
     "output_type": "stream",
     "text": [
      "======================== fold 1 ========================\n",
      "Training until validation scores don't improve for 100 rounds\n",
      "[100]\tvalid_0's binary_logloss: 0.687808\n",
      "[200]\tvalid_0's binary_logloss: 0.685106\n",
      "[300]\tvalid_0's binary_logloss: 0.683742\n",
      "[400]\tvalid_0's binary_logloss: 0.68287\n",
      "[500]\tvalid_0's binary_logloss: 0.682463\n",
      "[600]\tvalid_0's binary_logloss: 0.682355\n",
      "[700]\tvalid_0's binary_logloss: 0.682201\n",
      "[800]\tvalid_0's binary_logloss: 0.682076\n",
      "[900]\tvalid_0's binary_logloss: 0.68205\n",
      "[1000]\tvalid_0's binary_logloss: 0.681977\n",
      "[1100]\tvalid_0's binary_logloss: 0.681901\n",
      "[1200]\tvalid_0's binary_logloss: 0.681826\n",
      "[1300]\tvalid_0's binary_logloss: 0.681825\n",
      "[1400]\tvalid_0's binary_logloss: 0.681782\n",
      "[1500]\tvalid_0's binary_logloss: 0.681783\n",
      "[1600]\tvalid_0's binary_logloss: 0.68171\n",
      "[1700]\tvalid_0's binary_logloss: 0.681667\n",
      "[1800]\tvalid_0's binary_logloss: 0.681614\n",
      "[1900]\tvalid_0's binary_logloss: 0.681563\n",
      "[2000]\tvalid_0's binary_logloss: 0.681592\n",
      "Early stopping, best iteration is:\n",
      "[1935]\tvalid_0's binary_logloss: 0.681545\n",
      "======================== fold 2 ========================\n",
      "Training until validation scores don't improve for 100 rounds\n",
      "[100]\tvalid_0's binary_logloss: 0.68771\n",
      "[200]\tvalid_0's binary_logloss: 0.684906\n",
      "[300]\tvalid_0's binary_logloss: 0.683348\n",
      "[400]\tvalid_0's binary_logloss: 0.682424\n",
      "[500]\tvalid_0's binary_logloss: 0.681811\n",
      "[600]\tvalid_0's binary_logloss: 0.681557\n",
      "[700]\tvalid_0's binary_logloss: 0.681339\n",
      "[800]\tvalid_0's binary_logloss: 0.68123\n",
      "[900]\tvalid_0's binary_logloss: 0.681101\n",
      "[1000]\tvalid_0's binary_logloss: 0.680963\n",
      "[1100]\tvalid_0's binary_logloss: 0.680939\n",
      "[1200]\tvalid_0's binary_logloss: 0.680858\n",
      "[1300]\tvalid_0's binary_logloss: 0.680736\n",
      "[1400]\tvalid_0's binary_logloss: 0.680649\n",
      "[1500]\tvalid_0's binary_logloss: 0.680624\n",
      "[1600]\tvalid_0's binary_logloss: 0.68058\n",
      "[1700]\tvalid_0's binary_logloss: 0.68058\n",
      "Early stopping, best iteration is:\n",
      "[1618]\tvalid_0's binary_logloss: 0.680544\n",
      "======================== fold 3 ========================\n",
      "Training until validation scores don't improve for 100 rounds\n",
      "[100]\tvalid_0's binary_logloss: 0.687574\n",
      "[200]\tvalid_0's binary_logloss: 0.684946\n",
      "[300]\tvalid_0's binary_logloss: 0.683487\n",
      "[400]\tvalid_0's binary_logloss: 0.682619\n",
      "[500]\tvalid_0's binary_logloss: 0.682144\n",
      "[600]\tvalid_0's binary_logloss: 0.681957\n",
      "[700]\tvalid_0's binary_logloss: 0.681814\n",
      "[800]\tvalid_0's binary_logloss: 0.681736\n",
      "[900]\tvalid_0's binary_logloss: 0.68168\n",
      "[1000]\tvalid_0's binary_logloss: 0.681625\n",
      "[1100]\tvalid_0's binary_logloss: 0.681523\n",
      "[1200]\tvalid_0's binary_logloss: 0.681508\n",
      "[1300]\tvalid_0's binary_logloss: 0.681485\n",
      "[1400]\tvalid_0's binary_logloss: 0.681535\n",
      "Early stopping, best iteration is:\n",
      "[1301]\tvalid_0's binary_logloss: 0.681477\n",
      "======================== fold 4 ========================\n",
      "Training until validation scores don't improve for 100 rounds\n",
      "[100]\tvalid_0's binary_logloss: 0.687612\n",
      "[200]\tvalid_0's binary_logloss: 0.684603\n",
      "[300]\tvalid_0's binary_logloss: 0.683045\n",
      "[400]\tvalid_0's binary_logloss: 0.682276\n",
      "[500]\tvalid_0's binary_logloss: 0.681744\n",
      "[600]\tvalid_0's binary_logloss: 0.681467\n",
      "[700]\tvalid_0's binary_logloss: 0.681206\n",
      "[800]\tvalid_0's binary_logloss: 0.681026\n",
      "[900]\tvalid_0's binary_logloss: 0.680882\n",
      "[1000]\tvalid_0's binary_logloss: 0.680749\n",
      "[1100]\tvalid_0's binary_logloss: 0.680745\n",
      "[1200]\tvalid_0's binary_logloss: 0.680684\n",
      "[1300]\tvalid_0's binary_logloss: 0.680654\n",
      "[1400]\tvalid_0's binary_logloss: 0.680589\n",
      "[1500]\tvalid_0's binary_logloss: 0.680578\n",
      "Early stopping, best iteration is:\n",
      "[1468]\tvalid_0's binary_logloss: 0.680567\n",
      "======================== fold 5 ========================\n",
      "Training until validation scores don't improve for 100 rounds\n",
      "[100]\tvalid_0's binary_logloss: 0.687785\n",
      "[200]\tvalid_0's binary_logloss: 0.684894\n",
      "[300]\tvalid_0's binary_logloss: 0.683427\n",
      "[400]\tvalid_0's binary_logloss: 0.682475\n",
      "[500]\tvalid_0's binary_logloss: 0.682047\n",
      "[600]\tvalid_0's binary_logloss: 0.681752\n",
      "[700]\tvalid_0's binary_logloss: 0.681613\n",
      "[800]\tvalid_0's binary_logloss: 0.681572\n",
      "[900]\tvalid_0's binary_logloss: 0.681458\n",
      "[1000]\tvalid_0's binary_logloss: 0.681401\n",
      "[1100]\tvalid_0's binary_logloss: 0.68132\n",
      "[1200]\tvalid_0's binary_logloss: 0.681273\n",
      "[1300]\tvalid_0's binary_logloss: 0.681185\n",
      "[1400]\tvalid_0's binary_logloss: 0.681145\n",
      "[1500]\tvalid_0's binary_logloss: 0.681109\n",
      "[1600]\tvalid_0's binary_logloss: 0.681084\n",
      "[1700]\tvalid_0's binary_logloss: 0.681084\n",
      "Early stopping, best iteration is:\n",
      "[1659]\tvalid_0's binary_logloss: 0.681056\n",
      "cv score :  0.5543797516604796\n",
      "cv ratio :  0.5003167902034317\n"
     ]
    }
   ],
   "source": [
    "param = {\n",
    "    \"num_leaves\" : 28,\n",
    "    \"learning_rate\" : 0.01,\n",
    "    #\"learning_rate\" : 0.1,\n",
    "    \"num_iterations\" : 20000,\n",
    "    \"objective\" : \"binary\",\n",
    "    \"metric\" : [\"binary_logloss\"],\n",
    "    \"random_state\" : random.randint(0, 10000),\n",
    "    #\"random_state\" : 0,\n",
    "    #\"max_depth\" : 100\n",
    "}\n",
    "\n",
    "THRESHOLD = 0.50\n",
    "models = []\n",
    "cv_scores = []\n",
    "temp = 0\n",
    "train_pred = []\n",
    "train_Xs = []\n",
    "valid_Xs = []\n",
    "\n",
    "\n",
    "all_indices = sum(folds, [])\n",
    "for i in range(K):\n",
    "    print(\"======================== fold {} ========================\".format(i+1))\n",
    "    valid_indices = folds[i]\n",
    "    train_indices = list(set(all_indices) - set(valid_indices))\n",
    "    train_X = ps_X.iloc[train_indices]\n",
    "    try:\n",
    "        train_y = ps_y.iloc[train_indices]\n",
    "    except:\n",
    "        train_y = ps_y[train_indices]\n",
    "    valid_X = ps_X.iloc[valid_indices]\n",
    "    try:\n",
    "        valid_y = ps_y.iloc[valid_indices]\n",
    "    except:\n",
    "        valid_y = ps_y[valid_indices]\n",
    "    \n",
    "        \n",
    "    train_data = lgb.Dataset(train_X, label=train_y)\n",
    "    valid_data = lgb.Dataset(valid_X, label=valid_y)\n",
    "    \n",
    "    model = lgb.train(\n",
    "        param, \n",
    "        train_data, \n",
    "        valid_sets=valid_data, \n",
    "        #categorical_feature=categorical_feature,\n",
    "        early_stopping_rounds=100, \n",
    "        verbose_eval=100,\n",
    "        \n",
    "    )\n",
    "    pred = model.predict(valid_X)\n",
    "    \n",
    "    train_pred.append(pred)\n",
    "    temp += np.sum(pred)\n",
    "    pred = np.where(pred < THRESHOLD, 0, 1)\n",
    "    score = accuracy_score(pred, valid_y)\n",
    "    \n",
    "    models.append(model)\n",
    "    cv_scores.append(score)\n",
    "    \n",
    "    \n",
    "print(\"cv score : \", np.mean(cv_scores))    \n",
    "print(\"cv ratio : \", temp / SIZE)"
   ]
  },
  {
   "cell_type": "code",
   "execution_count": 21,
   "metadata": {},
   "outputs": [
    {
     "name": "stdout",
     "output_type": "stream",
     "text": [
      "0.5117321534647411\n",
      "0.5111221545132362\n",
      "0.5115910754167764\n",
      "0.5106045977112518\n",
      "0.5118396121433655\n",
      "0.5113779186498741\n"
     ]
    },
    {
     "data": {
      "text/plain": [
       "array([[<AxesSubplot:title={'center':'pred'}>]], dtype=object)"
      ]
     },
     "execution_count": 21,
     "metadata": {},
     "output_type": "execute_result"
    },
    {
     "data": {
      "image/png": "[encoded data removed]",
      "text/plain": [
       "<Figure size 432x288 with 1 Axes>"
      ]
     },
     "metadata": {
      "needs_background": "light"
     },
     "output_type": "display_data"
    }
   ],
   "source": [
    "preds = []\n",
    "for i in range(K):\n",
    "    model = models[i]\n",
    "    pred = model.predict(test_X)\n",
    "    preds.append(pred)\n",
    "    print(np.sum(pred) / pred.shape[0])\n",
    "    \n",
    "preds = np.array(preds)\n",
    "preds = np.mean(preds, axis=0)\n",
    "print(np.sum(preds) / preds.shape[0])\n",
    "\n",
    "\n",
    "temp = pd.DataFrame({\"pred\":pred})\n",
    "temp.hist(bins=80)"
   ]
  },
  {
   "cell_type": "code",
   "execution_count": 22,
   "metadata": {},
   "outputs": [
    {
     "name": "stdout",
     "output_type": "stream",
     "text": [
      "0.571347918136909\n"
     ]
    }
   ],
   "source": [
    "preds_ = np.where(preds < THRESHOLD, 0, 1)\n",
    "print(np.sum(preds_) / preds_.shape[0])\n",
    "\n",
    "submit_df = pd.DataFrame({'y': preds_})\n",
    "submit_df.index.name = 'id'\n",
    "submit_df.to_csv('../Submissions/submission13_psd3_{}.csv'.format(K))"
   ]
  },
  {
   "cell_type": "code",
   "execution_count": null,
   "metadata": {},
   "outputs": [],
   "source": []
  },
  {
   "cell_type": "code",
   "execution_count": null,
   "metadata": {},
   "outputs": [],
   "source": []
  },
  {
   "cell_type": "code",
   "execution_count": null,
   "metadata": {},
   "outputs": [],
   "source": []
  },
  {
   "cell_type": "markdown",
   "metadata": {},
   "source": [
    "# モデル解釈"
   ]
  },
  {
   "cell_type": "code",
   "execution_count": null,
   "metadata": {
    "scrolled": true
   },
   "outputs": [],
   "source": [
    "importance = pd.DataFrame(models[0].feature_importance(), index=train_Xs[0].columns, columns=['importance']).sort_values('importance', ascending=False)\n",
    "display(importance.iloc[:100])"
   ]
  },
  {
   "cell_type": "code",
   "execution_count": null,
   "metadata": {},
   "outputs": [],
   "source": [
    "indices = [index for index in importance.index if \"A1\" in index]\n",
    "importance.loc[indices]"
   ]
  },
  {
   "cell_type": "code",
   "execution_count": null,
   "metadata": {},
   "outputs": [],
   "source": [
    "indices = [index for index in importance.index if \"range-sub\" in index]\n",
    "importance.loc[indices]"
   ]
  },
  {
   "cell_type": "code",
   "execution_count": null,
   "metadata": {},
   "outputs": [],
   "source": [
    "importance[\"importance\"].sum()"
   ]
  },
  {
   "cell_type": "code",
   "execution_count": null,
   "metadata": {},
   "outputs": [],
   "source": [
    "train_df[\"pred\"] = 0\n",
    "train_df[\"y\"] = y\n",
    "for i in range(K):\n",
    "    train_df[\"pred\"].iloc[folds[i]] = train_pred[i]\n",
    "for mode in train_df[\"mode\"].unique():\n",
    "    rate = train_df[train_df[\"mode\"] == mode][train_df[\"pred\"] == train_df[\"y\"]].shape[0] / train_df[train_df[\"mode\"] == mode].shape[0]\n",
    "    print(\"{} : {}\".format(mode, rate))\n",
    "print(train_df[train_df[\"pred\"] == train_df[\"y\"]].shape[0] / train_df.shape[0])"
   ]
  },
  {
   "cell_type": "code",
   "execution_count": null,
   "metadata": {},
   "outputs": [],
   "source": [
    "result_df = train_df[train_df[\"y\"] != train_df[\"pred\"]]"
   ]
  },
  {
   "cell_type": "code",
   "execution_count": null,
   "metadata": {},
   "outputs": [],
   "source": [
    "result_df.to_csv(\"../../data/result.csv\", index=False)"
   ]
  },
  {
   "cell_type": "code",
   "execution_count": null,
   "metadata": {},
   "outputs": [],
   "source": [
    "print(train_df[train_df[\"mode\"] == \"nawabari\"].shape[0]/train_df.shape[0])\n",
    "print(train_df[train_df[\"mode\"] == \"hoko\"].shape[0]/train_df.shape[0])\n",
    "print(train_df[train_df[\"mode\"] == \"asari\"].shape[0]/train_df.shape[0])\n",
    "print(train_df[train_df[\"mode\"] == \"area\"].shape[0]/train_df.shape[0])\n",
    "print(train_df[train_df[\"mode\"] == \"yagura\"].shape[0]/train_df.shape[0])"
   ]
  },
  {
   "cell_type": "code",
   "execution_count": null,
   "metadata": {},
   "outputs": [],
   "source": [
    "print(result_df[result_df[\"mode\"] == \"nawabari\"].shape[0]/result_df.shape[0])\n",
    "print(result_df[result_df[\"mode\"] == \"hoko\"].shape[0]/result_df.shape[0])\n",
    "print(result_df[result_df[\"mode\"] == \"asari\"].shape[0]/result_df.shape[0])\n",
    "print(result_df[result_df[\"mode\"] == \"area\"].shape[0]/result_df.shape[0])\n",
    "print(result_df[result_df[\"mode\"] == \"yagura\"].shape[0]/result_df.shape[0])"
   ]
  },
  {
   "cell_type": "code",
   "execution_count": null,
   "metadata": {},
   "outputs": [],
   "source": [
    "result_df.loc[:100]"
   ]
  },
  {
   "cell_type": "code",
   "execution_count": null,
   "metadata": {},
   "outputs": [],
   "source": [
    "num_cols_ = [\n",
    "    \"range-main\", \"range-bullet-main\", \"range-draw-main\", \"direct_range-sub\", \"distant-range_sub\", \n",
    "    \"rapid\", \"atack\", \"ink-sub\", \"fav-main\", \"good-special\", \"DPS\", \"kill_time_human-main\", \"kill_time_ika-main\",\n",
    "    \"front_gap_human-main\", \"front_gap_ika-main\", \"rensya_frame-main\", \"saidai_damege-main\", \"damage_min-sub\", \n",
    "    \"damage_max-sub\", \"install_num-sub\", \"good-sub\", \"direct_range-sub\", \"damage_max-special\", \n",
    "    \"damage_min-special\", \"duration-special\", \"good-special\", \"direct_rad-special\", \"close_rad-special\", \"distant_rad-special\"\n",
    "]\n"
   ]
  },
  {
   "cell_type": "code",
   "execution_count": null,
   "metadata": {},
   "outputs": [],
   "source": [
    "feature_cols = []\n",
    "for name in num_cols_:\n",
    "    for col in X.columns:\n",
    "        if name in col:\n",
    "            feature_cols.append(col)\n",
    "                \n",
    "importance.loc[feature_cols]#.sort_values('importance', ascending=False)"
   ]
  },
  {
   "cell_type": "code",
   "execution_count": null,
   "metadata": {},
   "outputs": [],
   "source": [
    "sss = []\n",
    "\n",
    "\"\"\"\n",
    "A-direct_range-sub-mean 30\n",
    "A-distant_range_sub-max\n",
    "B-rapid-std\t52\n",
    "ink-sub\n",
    "A-kill_time_human-main-median\t36\n",
    "A-kill_time_ika-main-median\t58\n",
    "A-front_gap_human-main-std\t25\n",
    "A-front_gap_ika-main-std\t48\n",
    "A-saidai_damege-main-mean\t40\n",
    "damage_max-sub 37\n",
    "install_num-sub 10\n",
    "direct_range-sub 30\n",
    "damage_max-special 47\n",
    "duration-special 46\n",
    "close_rad-special 30\n",
    "distant_rad-special 21\n",
    "\"\"\"\n",
    "\n",
    "\n",
    "\n",
    "\n",
    "for col in X.columns:\n",
    "    if \"distant_rad-special\" in col:\n",
    "        sss.append(col)\n",
    "                \n",
    "importance.loc[sss].sort_values('importance', ascending=False)"
   ]
  },
  {
   "cell_type": "code",
   "execution_count": null,
   "metadata": {},
   "outputs": [],
   "source": []
  },
  {
   "cell_type": "code",
   "execution_count": null,
   "metadata": {},
   "outputs": [],
   "source": [
    "train_df[\"y\"] = y"
   ]
  },
  {
   "cell_type": "code",
   "execution_count": null,
   "metadata": {
    "scrolled": false
   },
   "outputs": [],
   "source": [
    "reskin_g = pd.concat([\n",
    "    #train_df[[\"reskin-A1\", \"y\"]].rename(columns={\"reskin-A1\" : \"reskin\"}), \n",
    "    train_df[[\"reskin-A2\", \"y\"]].rename(columns={\"reskin-A2\" : \"reskin\"}), \n",
    "    train_df[[\"reskin-A3\", \"y\"]].rename(columns={\"reskin-A3\" : \"reskin\"}), \n",
    "    train_df[[\"reskin-A4\", \"y\"]].rename(columns={\"reskin-A4\" : \"reskin\"}),\n",
    "    pd.concat([train_df[\"reskin-B1\"], train_df[\"y\"].apply(lambda x : 1-x)], axis=1).rename(columns={\"reskin-B1\" : \"reskin\"}),\n",
    "    pd.concat([train_df[\"reskin-B2\"], train_df[\"y\"].apply(lambda x : 1-x)], axis=1).rename(columns={\"reskin-B2\" : \"reskin\"}),\n",
    "    pd.concat([train_df[\"reskin-B3\"], train_df[\"y\"].apply(lambda x : 1-x)], axis=1).rename(columns={\"reskin-B3\" : \"reskin\"}),\n",
    "    pd.concat([train_df[\"reskin-B4\"], train_df[\"y\"].apply(lambda x : 1-x)], axis=1).rename(columns={\"reskin-B4\" : \"reskin\"}),\n",
    "],axis=0, ignore_index=True).groupby(\"reskin\")"
   ]
  },
  {
   "cell_type": "code",
   "execution_count": null,
   "metadata": {},
   "outputs": [],
   "source": [
    "win_rate = reskin_g.sum() / reskin_g.count()"
   ]
  },
  {
   "cell_type": "code",
   "execution_count": null,
   "metadata": {},
   "outputs": [],
   "source": [
    "win_rate"
   ]
  },
  {
   "cell_type": "code",
   "execution_count": null,
   "metadata": {},
   "outputs": [],
   "source": [
    "weapon = pd.concat([\n",
    "    #train_df[[\"weapon-A1\", \"y\"]].rename(columns={\"weapon-A1\" : \"weapon\"}), \n",
    "    train_df[[\"A2-weapon\", \"y\"]].rename(columns={\"A2-weapon\" : \"weapon\"}), \n",
    "    train_df[[\"A3-weapon\", \"y\"]].rename(columns={\"A3-weapon\" : \"weapon\"}), \n",
    "    train_df[[\"A4-weapon\", \"y\"]].rename(columns={\"A4-weapon\" : \"weapon\"}),\n",
    "    pd.concat([train_df[\"B1-weapon\"], train_df[\"y\"].apply(lambda x : 1-x)], axis=1).rename(columns={\"B1-weapon\" : \"weapon\"}),\n",
    "    pd.concat([train_df[\"B2-weapon\"], train_df[\"y\"].apply(lambda x : 1-x)], axis=1).rename(columns={\"B2-weapon\" : \"weapon\"}),\n",
    "    pd.concat([train_df[\"B3-weapon\"], train_df[\"y\"].apply(lambda x : 1-x)], axis=1).rename(columns={\"B3-weapon\" : \"weapon\"}),\n",
    "    pd.concat([train_df[\"B4-weapon\"], train_df[\"y\"].apply(lambda x : 1-x)], axis=1).rename(columns={\"B4-weapon\" : \"weapon\"}),\n",
    "],axis=0, ignore_index=True)"
   ]
  },
  {
   "cell_type": "code",
   "execution_count": null,
   "metadata": {},
   "outputs": [],
   "source": [
    "win_rate = (weapon.groupby(\"weapon\").sum() / weapon.groupby(\"weapon\").count()).sort_values(\"y\", ascending=False)\n",
    "win_rate.loc[\"bold_7\"]"
   ]
  },
  {
   "cell_type": "code",
   "execution_count": null,
   "metadata": {},
   "outputs": [],
   "source": []
  },
  {
   "cell_type": "code",
   "execution_count": null,
   "metadata": {},
   "outputs": [],
   "source": []
  }
 ],
 "metadata": {
  "kernelspec": {
   "display_name": "Python 3",
   "language": "python",
   "name": "python3"
  },
  "language_info": {
   "codemirror_mode": {
    "name": "ipython",
    "version": 3
   },
   "file_extension": ".py",
   "mimetype": "text/x-python",
   "name": "python",
   "nbconvert_exporter": "python",
   "pygments_lexer": "ipython3",
   "version": "3.6.12"
  }
 },
 "nbformat": 4,
 "nbformat_minor": 4
}
