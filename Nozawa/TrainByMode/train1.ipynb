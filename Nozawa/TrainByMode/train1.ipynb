{
 "cells": [
  {
   "cell_type": "markdown",
   "metadata": {},
   "source": [
    "# Categorical Boost\n",
    "#### cv score :  0.5639017013232513 (5 folds, LB 0.5609)\n",
    "#### cv score :  0.5639017013232513 (5 folds, find rare, LB 0.5575)\n",
    "#### cv score :  0.571281663516068 ... (LB 0.555) onehotなし、"
   ]
  },
  {
   "cell_type": "code",
   "execution_count": 1,
   "metadata": {},
   "outputs": [],
   "source": [
    "import sys\n",
    "sys.path.append('../')\n",
    "import pandas as pd\n",
    "import numpy as np\n",
    "import sklearn\n",
    "from Functions import prepro\n",
    "import warnings\n",
    "warnings.filterwarnings('ignore')\n",
    "\n",
    "import random\n",
    "\n",
    "from sklearn.model_selection import train_test_split\n",
    "from sklearn.metrics import accuracy_score\n",
    "warnings.filterwarnings('ignore')\n",
    "from catboost import Pool, CatBoostClassifier, CatBoost\n",
    "import matplotlib.pyplot as plt\n",
    "import seaborn as sns\n",
    "\n",
    "\n",
    "FEATURE_SELECTION = False\n",
    "tgt_encode = False\n",
    "\n",
    "random.seed(0)\n",
    "\n",
    "pd.set_option(\"display.max_columns\", 1000)\n",
    "pd.set_option(\"display.max_rows\", 1000)\n",
    "\n",
    "%matplotlib inline"
   ]
  },
  {
   "cell_type": "code",
   "execution_count": 2,
   "metadata": {},
   "outputs": [
    {
     "name": "stdout",
     "output_type": "stream",
     "text": [
      "(66125, 304)\n",
      "(28340, 303)\n"
     ]
    }
   ],
   "source": [
    "train_df = pd.read_csv(\"../../data/Processed/train2.csv\")\n",
    "test_df = pd.read_csv(\"../../data/Processed/test2.csv\")\n",
    "print(train_df.shape)\n",
    "print(test_df.shape)\n",
    "train_df.index = train_df.index -1\n",
    "test_df.index = test_df.index -1"
   ]
  },
  {
   "cell_type": "code",
   "execution_count": 3,
   "metadata": {},
   "outputs": [],
   "source": [
    "y = train_df[\"y\"].values\n",
    "train_df = train_df.drop(\"y\", axis=1)\n",
    "\n",
    "train_df[\"A1-level\"] = train_df[\"A1-level\"].astype(float)\n",
    "test_df[\"A1-level\"] = test_df[\"A1-level\"].astype(float)\n",
    "train_df[\"B1-level\"] = train_df[\"B1-level\"].astype(float)\n",
    "test_df[\"B1-level\"] = test_df[\"B1-level\"].astype(float)"
   ]
  },
  {
   "cell_type": "code",
   "execution_count": 4,
   "metadata": {},
   "outputs": [],
   "source": [
    "# add disconnection info\n",
    "\n",
    "train_df = prepro.add_disconnection(train_df)\n",
    "test_df = prepro.add_disconnection(test_df)"
   ]
  },
  {
   "cell_type": "code",
   "execution_count": 5,
   "metadata": {},
   "outputs": [],
   "source": [
    "# add info about numeric column\n",
    "# 武器データの中のnum_colsを持つ特徴について、チーム内の統計量を計算、levelは結構効いてる\n",
    "\n",
    "# num_cols = [\"level\", \"range\", \"rapid\", \"atack\", \"ink-sub\", \"fav-main\", \"good-special\"]\n",
    "\n",
    "num_cols = [\n",
    "    \"level\", \"range-main\", \"range-bullet-main\", \"distant-range_sub\", \n",
    "    \"rapid\", \"atack\", \"ink-sub\", \"fav-main\", \"good-special\", \"DPS\", \"kill_time_ika-main\",\n",
    "    \"front_gap_human-main\", \"rensya_frame-main\", \"saidai_damege-main\", \"damage_min-sub\", \n",
    "    \"damage_max-sub\", \"install_num-sub\", \"good-sub\", \"damage_max-special\", \n",
    "    \"duration-special\", \"good-special\", \"direct_rad-special\", \"distant_rad-special\"\n",
    "]\n",
    "\n",
    "cols = [col for col in train_df.columns if \"A1\" in col or \"A2\" in col or \"A3\" in col or \"A4\" in col or \n",
    "        \"B1\" in col or \"B2\" in col or \"B3\" in col or \"B4\" in col]\n",
    "drop_cols = []\n",
    "for col1 in cols:\n",
    "    f = True\n",
    "    for col2 in num_cols:\n",
    "        if col2 in col1:\n",
    "            f = False\n",
    "    if f and train_df[col1].dtype in [int, float]:\n",
    "        drop_cols.append(col1)\n",
    "        \n",
    "train_df = train_df.drop(columns=drop_cols)\n",
    "test_df = test_df.drop(columns=drop_cols)\n",
    "        \n",
    "    \n",
    "\n",
    "train_df = prepro.add_numeric_info(train_df, num_cols)\n",
    "test_df = prepro.add_numeric_info(test_df, num_cols)\n",
    "\n"
   ]
  },
  {
   "cell_type": "markdown",
   "metadata": {},
   "source": [
    "# 欠損値埋め先にやろう\n",
    "欠損値がある列\n",
    "\n",
    "rank, weapon, level ⇨　回線切れ or ナワバリ\n",
    "\n",
    "weaponの欠損に並んでそれに関係ある列、A3, A4, B3, B4 ⇨ 回線切れ\n",
    "\n",
    "level, weaponが消えていたら回線切れ"
   ]
  },
  {
   "cell_type": "code",
   "execution_count": 6,
   "metadata": {},
   "outputs": [],
   "source": [
    "# rankの欠損値を埋める\n",
    "train_df, test_df = prepro.fillna_rank(train_df, test_df)\n",
    "\n",
    "#そのほかの欠損値を埋める\n",
    "train_df, test_df = prepro.fillna(train_df, test_df)"
   ]
  },
  {
   "cell_type": "code",
   "execution_count": 7,
   "metadata": {},
   "outputs": [
    {
     "name": "stdout",
     "output_type": "stream",
     "text": [
      "0\n",
      "0\n"
     ]
    }
   ],
   "source": [
    "print(train_df.isnull().sum().sum())\n",
    "print(test_df.isnull().sum().sum())"
   ]
  },
  {
   "cell_type": "markdown",
   "metadata": {},
   "source": [
    "# 特徴量エンジニアリング"
   ]
  },
  {
   "cell_type": "code",
   "execution_count": 8,
   "metadata": {},
   "outputs": [
    {
     "name": "stdout",
     "output_type": "stream",
     "text": [
      "reskin\n",
      "mainweapon\n",
      "subweapon\n",
      "special\n",
      "mizumashi\n"
     ]
    }
   ],
   "source": [
    "# count reskin, by mode\n",
    "print(\"reskin\")\n",
    "train_df, test_df = prepro.count_reskin(train_df, test_df)\n",
    "#train_df, test_df = prepro.count_reskin_by_mode(train_df, test_df)\n",
    "\n",
    "# count mainweapon, by mode\n",
    "print(\"mainweapon\")\n",
    "train_df, test_df = prepro.count_mainweapon(train_df, test_df)\n",
    "#train_df, test_df = prepro.count_mainweapon_by_mode(train_df, test_df)\n",
    "\n",
    "# count subweapon, by mode\n",
    "print(\"subweapon\")\n",
    "train_df, test_df = prepro.count_subweapon(train_df, test_df)\n",
    "#train_df, test_df = prepro.count_subweapon_by_mode(train_df, test_df)\n",
    "\n",
    "# count special, by mode\n",
    "print(\"special\")\n",
    "train_df, test_df = prepro.count_special(train_df, test_df)\n",
    "#train_df, test_df = prepro.count_special_by_mode(train_df, test_df)\n",
    "\n",
    "\n",
    "#identify A1\n",
    "train_df, test_df = prepro.identify_A1(train_df, test_df)\n",
    "\n",
    "\n",
    "# 水増し, A1も統計量に含めた特徴を作る場合は水ましより先にやる\n",
    "print(\"mizumashi\")\n",
    "train_df, y = prepro.mizumashi(train_df, y)\n",
    "\n",
    "# is_nawabari\n",
    "train_df, test_df = prepro.is_nawabari(train_df, test_df)\n",
    "\n",
    "# match rank、単体で意味なし\n",
    "train_df, test_df = prepro.match_rank(train_df, test_df)\n",
    "\n",
    "# rankを二列に分ける\n",
    "train_df, test_df = prepro.ranker(train_df, test_df)\n",
    "\n",
    "\n"
   ]
  },
  {
   "cell_type": "code",
   "execution_count": 9,
   "metadata": {},
   "outputs": [
    {
     "name": "stdout",
     "output_type": "stream",
     "text": [
      "(160590, 548)\n",
      "special-A\n",
      "special-B\n",
      "subweapon-A\n",
      "subweapon-B\n",
      "category1-A\n",
      "category1-B\n",
      "category2-A\n",
      "category2-B\n",
      "mainweapon-A\n",
      "mainweapon-B\n",
      "rank-mark-A\n",
      "rank-mark-B\n",
      "(160590, 752)\n",
      "complete\n"
     ]
    }
   ],
   "source": [
    "# add team info、メインはなくてもいい\n",
    "\n",
    "train_df,  test_df = prepro.addTeamInfo(train_df, test_df, cols=[\"special\", \"subweapon\", \"category1\", \"category2\", \"mainweapon\", \"rank-mark\"])\n",
    "#train_df,  test_df = prepro.addTeamInfo(train_df, test_df, cols=[\"special\", \"subweapon\", \"category1\", \"category2\"])"
   ]
  },
  {
   "cell_type": "code",
   "execution_count": 10,
   "metadata": {},
   "outputs": [
    {
     "name": "stdout",
     "output_type": "stream",
     "text": [
      "category1\n",
      "category2\n",
      "subweapon\n",
      "special\n",
      "mainweapon\n"
     ]
    }
   ],
   "source": [
    "# categorize team , 良い, メインはカテゴリ数が多すぎてやめた方がいい\n",
    "\n",
    "categorize_col = [\"category1\", \"category2\", \"subweapon\", \"special\", \"mainweapon\"]\n",
    "#categorize_col = [\"category1\", \"category2\", \"subweapon\", \"special\"]\n",
    "for col in categorize_col:\n",
    "    print(col)\n",
    "    train_df, test_df = prepro.categorize_team(train_df, test_df, col)"
   ]
  },
  {
   "cell_type": "code",
   "execution_count": 11,
   "metadata": {},
   "outputs": [],
   "source": [
    "# レアなカテゴリをまとめる、しない方が上がった…\n",
    "\n",
    "#train_df, test_df = prepro.find_rare(train_df, test_df, \"team-category1\")\n",
    "#train_df, test_df = prepro.find_rare(train_df, test_df, \"team-category2\")\n",
    "#train_df, test_df = prepro.find_rare(train_df, test_df, \"team-subweapon\")\n",
    "#train_df, test_df = prepro.find_rare(train_df, test_df, \"team-special\")"
   ]
  },
  {
   "cell_type": "code",
   "execution_count": 12,
   "metadata": {},
   "outputs": [
    {
     "data": {
      "text/plain": [
       "'\\ntrain_df, test_df = prepro.prod(train_df, test_df, \"mode\", \"reskin-A1\")\\ntrain_df, test_df = prepro.prod(train_df, test_df, \"mode\", \"reskin-A2\")\\ntrain_df, test_df = prepro.prod(train_df, test_df, \"mode\", \"reskin-A3\")\\ntrain_df, test_df = prepro.prod(train_df, test_df, \"mode\", \"reskin-A4\")\\ntrain_df, test_df = prepro.prod(train_df, test_df, \"mode\", \"reskin-B1\")\\ntrain_df, test_df = prepro.prod(train_df, test_df, \"mode\", \"reskin-B2\")\\ntrain_df, test_df = prepro.prod(train_df, test_df, \"mode\", \"reskin-B3\")\\ntrain_df, test_df = prepro.prod(train_df, test_df, \"mode\", \"reskin-B4\")'"
      ]
     },
     "execution_count": 12,
     "metadata": {},
     "output_type": "execute_result"
    }
   ],
   "source": [
    "# product categorical feature\n",
    "\"\"\"train_df, test_df = prepro.prod(train_df, test_df, \"mode\", \"stage\")\n",
    "train_df, test_df = prepro.prod(train_df, test_df, \"mode\", \"team-category1-A\")\n",
    "train_df, test_df = prepro.prod(train_df, test_df, \"mode\", \"team-category1-B\")\n",
    "train_df, test_df = prepro.prod(train_df, test_df, \"mode\", \"team-category2-A\")\n",
    "train_df, test_df = prepro.prod(train_df, test_df, \"mode\", \"team-category2-B\")\n",
    "train_df, test_df = prepro.prod(train_df, test_df, \"mode\", \"team-mainweapon-A\")\n",
    "train_df, test_df = prepro.prod(train_df, test_df, \"mode\", \"team-mainweapon-B\")\n",
    "train_df, test_df = prepro.prod(train_df, test_df, \"mode\", \"team-subweapon-A\")\n",
    "train_df, test_df = prepro.prod(train_df, test_df, \"mode\", \"team-subweapon-B\")\n",
    "train_df, test_df = prepro.prod(train_df, test_df, \"mode\", \"team-special-A\")\n",
    "train_df, test_df = prepro.prod(train_df, test_df, \"mode\", \"team-special-B\")\n",
    "train_df, test_df = prepro.prod(train_df, test_df, \"mode\", \"match_rank\")\"\"\"\n",
    "\n",
    "train_df, test_df = prepro.prod(train_df, test_df, \"stage\", \"team-category1-A\")\n",
    "train_df, test_df = prepro.prod(train_df, test_df, \"stage\", \"team-category1-B\")\n",
    "train_df, test_df = prepro.prod(train_df, test_df, \"stage\", \"team-category2-A\")\n",
    "train_df, test_df = prepro.prod(train_df, test_df, \"stage\", \"team-category2-B\")\n",
    "train_df, test_df = prepro.prod(train_df, test_df, \"stage\", \"team-mainweapon-A\")\n",
    "train_df, test_df = prepro.prod(train_df, test_df, \"stage\", \"team-mainweapon-B\")\n",
    "train_df, test_df = prepro.prod(train_df, test_df, \"stage\", \"team-subweapon-A\")\n",
    "train_df, test_df = prepro.prod(train_df, test_df, \"stage\", \"team-subweapon-B\")\n",
    "train_df, test_df = prepro.prod(train_df, test_df, \"stage\", \"team-special-A\")\n",
    "train_df, test_df = prepro.prod(train_df, test_df, \"stage\", \"team-special-B\")\n",
    "train_df, test_df = prepro.prod(train_df, test_df, \"stage\", \"match_rank\")\n",
    "\n",
    "\"\"\"\n",
    "train_df, test_df = prepro.prod(train_df, test_df, \"mode\", \"reskin-A1\")\n",
    "train_df, test_df = prepro.prod(train_df, test_df, \"mode\", \"reskin-A2\")\n",
    "train_df, test_df = prepro.prod(train_df, test_df, \"mode\", \"reskin-A3\")\n",
    "train_df, test_df = prepro.prod(train_df, test_df, \"mode\", \"reskin-A4\")\n",
    "train_df, test_df = prepro.prod(train_df, test_df, \"mode\", \"reskin-B1\")\n",
    "train_df, test_df = prepro.prod(train_df, test_df, \"mode\", \"reskin-B2\")\n",
    "train_df, test_df = prepro.prod(train_df, test_df, \"mode\", \"reskin-B3\")\n",
    "train_df, test_df = prepro.prod(train_df, test_df, \"mode\", \"reskin-B4\")\"\"\""
   ]
  },
  {
   "cell_type": "code",
   "execution_count": 13,
   "metadata": {
    "scrolled": true
   },
   "outputs": [
    {
     "name": "stdout",
     "output_type": "stream",
     "text": [
      "complete\n"
     ]
    }
   ],
   "source": [
    "# make input\n",
    "\n",
    "drop_cols = [\n",
    "    \"id\", \"lobby\", \"lobby-mode\",  \"period\", \"game-ver\", \"A1-weapon\", \"A2-weapon\", \"A3-weapon\", \"A4-weapon\",\n",
    "    \"B1-weapon\", \"B2-weapon\", \"B3-weapon\", \"B4-weapon\", \"A-a-rank-mark-onehot\", \"A-o-rank-mark-onehot\",\n",
    "    \"B-a-rank-mark-onehot\", \"B-o-rank-mark-onehot\",\n",
    "]\n",
    "\n",
    "X, test_X = prepro.make_input(train_df, test_df, drop_cols, categorical_encode=False, scaler=False, verbose=False)\n",
    "\n",
    "categorical_features_indices = np.where(X.dtypes == \"object\")[0]"
   ]
  },
  {
   "cell_type": "markdown",
   "metadata": {},
   "source": [
    "# 学習"
   ]
  },
  {
   "cell_type": "code",
   "execution_count": null,
   "metadata": {
    "scrolled": true
   },
   "outputs": [
    {
     "name": "stdout",
     "output_type": "stream",
     "text": [
      "======================== fold 1 ========================\n",
      "0:\tlearn: 0.6929175\ttest: 0.6928460\tbest: 0.6928460 (0)\ttotal: 238ms\tremaining: 7m 55s\n",
      "100:\tlearn: 0.6785735\ttest: 0.6832323\tbest: 0.6832323 (100)\ttotal: 10.2s\tremaining: 3m 12s\n",
      "200:\tlearn: 0.6697885\ttest: 0.6799858\tbest: 0.6799858 (200)\ttotal: 20.1s\tremaining: 2m 59s\n",
      "300:\tlearn: 0.6586291\ttest: 0.6786007\tbest: 0.6784483 (296)\ttotal: 29.9s\tremaining: 2m 48s\n",
      "400:\tlearn: 0.6483435\ttest: 0.6774245\tbest: 0.6774120 (398)\ttotal: 39.8s\tremaining: 2m 38s\n",
      "500:\tlearn: 0.6383979\ttest: 0.6760825\tbest: 0.6760189 (498)\ttotal: 49.8s\tremaining: 2m 28s\n",
      "600:\tlearn: 0.6290004\ttest: 0.6752856\tbest: 0.6751006 (571)\ttotal: 59.8s\tremaining: 2m 19s\n",
      "700:\tlearn: 0.6207870\ttest: 0.6747016\tbest: 0.6747016 (700)\ttotal: 1m 9s\tremaining: 2m 9s\n",
      "bestTest = 0.674701589\n",
      "bestIteration = 700\n",
      "Shrink model to first 701 iterations.\n",
      "======================== fold 2 ========================\n",
      "0:\tlearn: 0.6928100\ttest: 0.6930204\tbest: 0.6930204 (0)\ttotal: 148ms\tremaining: 4m 54s\n",
      "100:\tlearn: 0.6780903\ttest: 0.6861774\tbest: 0.6861774 (100)\ttotal: 9.89s\tremaining: 3m 6s\n",
      "200:\tlearn: 0.6692931\ttest: 0.6827656\tbest: 0.6827656 (200)\ttotal: 19.6s\tremaining: 2m 55s\n",
      "300:\tlearn: 0.6573809\ttest: 0.6800232\tbest: 0.6800137 (298)\ttotal: 29.5s\tremaining: 2m 46s\n",
      "400:\tlearn: 0.6470156\ttest: 0.6784591\tbest: 0.6783784 (391)\ttotal: 39.4s\tremaining: 2m 37s\n",
      "500:\tlearn: 0.6374764\ttest: 0.6776756\tbest: 0.6775137 (471)\ttotal: 49.3s\tremaining: 2m 27s\n",
      "bestTest = 0.6771047981\n",
      "bestIteration = 537\n",
      "Shrink model to first 538 iterations.\n",
      "======================== fold 3 ========================\n",
      "0:\tlearn: 0.6928037\ttest: 0.6929734\tbest: 0.6929734 (0)\ttotal: 156ms\tremaining: 5m 11s\n",
      "100:\tlearn: 0.6780822\ttest: 0.6846334\tbest: 0.6846334 (100)\ttotal: 10s\tremaining: 3m 8s\n",
      "200:\tlearn: 0.6688410\ttest: 0.6816651\tbest: 0.6815914 (199)\ttotal: 19.7s\tremaining: 2m 55s\n",
      "300:\tlearn: 0.6567445\ttest: 0.6800401\tbest: 0.6799205 (295)\ttotal: 29.6s\tremaining: 2m 47s\n",
      "400:\tlearn: 0.6461568\ttest: 0.6773756\tbest: 0.6773387 (394)\ttotal: 39.5s\tremaining: 2m 37s\n",
      "bestTest = 0.6770098123\n",
      "bestIteration = 439\n",
      "Shrink model to first 440 iterations.\n",
      "======================== fold 4 ========================\n",
      "0:\tlearn: 0.6926526\ttest: 0.6928727\tbest: 0.6928727 (0)\ttotal: 153ms\tremaining: 5m 6s\n",
      "100:\tlearn: 0.6788395\ttest: 0.6855337\tbest: 0.6855179 (99)\ttotal: 10s\tremaining: 3m 8s\n",
      "200:\tlearn: 0.6703500\ttest: 0.6830451\tbest: 0.6830083 (199)\ttotal: 19.7s\tremaining: 2m 56s\n",
      "300:\tlearn: 0.6574018\ttest: 0.6804959\tbest: 0.6804959 (300)\ttotal: 29.7s\tremaining: 2m 47s\n",
      "400:\tlearn: 0.6454054\ttest: 0.6792672\tbest: 0.6792365 (397)\ttotal: 39.6s\tremaining: 2m 38s\n",
      "500:\tlearn: 0.6358814\ttest: 0.6778128\tbest: 0.6777637 (497)\ttotal: 49.6s\tremaining: 2m 28s\n",
      "600:\tlearn: 0.6273306\ttest: 0.6780684\tbest: 0.6777064 (560)\ttotal: 59.6s\tremaining: 2m 18s\n",
      "bestTest = 0.6777063984\n",
      "bestIteration = 560\n",
      "Shrink model to first 561 iterations.\n",
      "======================== fold 5 ========================\n",
      "0:\tlearn: 0.6928857\ttest: 0.6929210\tbest: 0.6929210 (0)\ttotal: 148ms\tremaining: 4m 56s\n",
      "100:\tlearn: 0.6782744\ttest: 0.6835630\tbest: 0.6835630 (100)\ttotal: 10.1s\tremaining: 3m 9s\n",
      "200:\tlearn: 0.6695972\ttest: 0.6796668\tbest: 0.6796668 (200)\ttotal: 20s\tremaining: 2m 58s\n",
      "300:\tlearn: 0.6575296\ttest: 0.6775418\tbest: 0.6775396 (299)\ttotal: 30s\tremaining: 2m 49s\n",
      "400:\tlearn: 0.6475094\ttest: 0.6766043\tbest: 0.6764924 (392)\ttotal: 40s\tremaining: 2m 39s\n",
      "500:\tlearn: 0.6375773\ttest: 0.6755407\tbest: 0.6754960 (495)\ttotal: 50s\tremaining: 2m 29s\n",
      "600:\tlearn: 0.6291576\ttest: 0.6744550\tbest: 0.6744322 (588)\ttotal: 59.9s\tremaining: 2m 19s\n",
      "700:\tlearn: 0.6218262\ttest: 0.6728319\tbest: 0.6727758 (690)\ttotal: 1m 9s\tremaining: 2m 9s\n",
      "800:\tlearn: 0.6132132\ttest: 0.6726946\tbest: 0.6726823 (754)\ttotal: 1m 19s\tremaining: 1m 59s\n",
      "900:\tlearn: 0.6050694\ttest: 0.6721080\tbest: 0.6721080 (900)\ttotal: 1m 29s\tremaining: 1m 49s\n",
      "1000:\tlearn: 0.5976502\ttest: 0.6712532\tbest: 0.6709742 (983)\ttotal: 1m 39s\tremaining: 1m 39s\n",
      "bestTest = 0.6709741688\n",
      "bestIteration = 983\n",
      "Shrink model to first 984 iterations.\n",
      "cv score :  0.576640642914248\n",
      "cv ratio :  0.10599621928166351\n",
      "0.5076021534429969\n",
      "0.5075941432774169\n",
      "0.5056812558805314\n",
      "0.5104942774459873\n",
      "0.5106888140897021\n",
      "0.5084121288273269\n",
      "0.5084121288273269\n",
      "======================== fold 1 ========================\n",
      "0:\tlearn: 0.6928810\ttest: 0.6930918\tbest: 0.6930918 (0)\ttotal: 150ms\tremaining: 5m\n",
      "100:\tlearn: 0.6789358\ttest: 0.6850228\tbest: 0.6850228 (100)\ttotal: 10.3s\tremaining: 3m 12s\n",
      "200:\tlearn: 0.6699138\ttest: 0.6813128\tbest: 0.6813128 (200)\ttotal: 20s\tremaining: 2m 58s\n",
      "300:\tlearn: 0.6578763\ttest: 0.6788034\tbest: 0.6787503 (299)\ttotal: 30s\tremaining: 2m 49s\n",
      "400:\tlearn: 0.6463240\ttest: 0.6769901\tbest: 0.6769582 (399)\ttotal: 40s\tremaining: 2m 39s\n",
      "500:\tlearn: 0.6362414\ttest: 0.6762788\tbest: 0.6761374 (490)\ttotal: 50s\tremaining: 2m 29s\n",
      "600:\tlearn: 0.6266456\ttest: 0.6747040\tbest: 0.6746921 (597)\ttotal: 60s\tremaining: 2m 19s\n",
      "bestTest = 0.6746543573\n",
      "bestIteration = 611\n",
      "Shrink model to first 612 iterations.\n",
      "======================== fold 2 ========================\n",
      "0:\tlearn: 0.6929201\ttest: 0.6930101\tbest: 0.6930101 (0)\ttotal: 136ms\tremaining: 4m 32s\n",
      "100:\tlearn: 0.6788547\ttest: 0.6840557\tbest: 0.6840557 (100)\ttotal: 10.3s\tremaining: 3m 12s\n",
      "200:\tlearn: 0.6696978\ttest: 0.6794109\tbest: 0.6794109 (200)\ttotal: 20.1s\tremaining: 2m 59s\n",
      "300:\tlearn: 0.6570841\ttest: 0.6770619\tbest: 0.6769907 (298)\ttotal: 30.3s\tremaining: 2m 51s\n",
      "400:\tlearn: 0.6470607\ttest: 0.6759287\tbest: 0.6758408 (358)\ttotal: 40.3s\tremaining: 2m 40s\n",
      "bestTest = 0.6758407801\n",
      "bestIteration = 358\n",
      "Shrink model to first 359 iterations.\n",
      "======================== fold 3 ========================\n",
      "0:\tlearn: 0.6927621\ttest: 0.6929437\tbest: 0.6929437 (0)\ttotal: 134ms\tremaining: 4m 27s\n",
      "100:\tlearn: 0.6776443\ttest: 0.6840041\tbest: 0.6840041 (100)\ttotal: 10.2s\tremaining: 3m 11s\n",
      "200:\tlearn: 0.6701621\ttest: 0.6820800\tbest: 0.6820775 (199)\ttotal: 19.8s\tremaining: 2m 57s\n",
      "300:\tlearn: 0.6581485\ttest: 0.6800095\tbest: 0.6800095 (300)\ttotal: 29.7s\tremaining: 2m 47s\n",
      "400:\tlearn: 0.6481492\ttest: 0.6782913\tbest: 0.6782402 (385)\ttotal: 39.8s\tremaining: 2m 38s\n",
      "500:\tlearn: 0.6388032\ttest: 0.6764381\tbest: 0.6764381 (500)\ttotal: 49.8s\tremaining: 2m 28s\n",
      "bestTest = 0.6764380575\n",
      "bestIteration = 500\n",
      "Shrink model to first 501 iterations.\n",
      "======================== fold 4 ========================\n",
      "0:\tlearn: 0.6928703\ttest: 0.6929738\tbest: 0.6929738 (0)\ttotal: 132ms\tremaining: 4m 24s\n",
      "100:\tlearn: 0.6781728\ttest: 0.6842706\tbest: 0.6842706 (100)\ttotal: 10.1s\tremaining: 3m 9s\n",
      "200:\tlearn: 0.6682588\ttest: 0.6813171\tbest: 0.6813171 (200)\ttotal: 20s\tremaining: 2m 59s\n",
      "300:\tlearn: 0.6563766\ttest: 0.6781765\tbest: 0.6781336 (292)\ttotal: 30.3s\tremaining: 2m 50s\n",
      "bestTest = 0.6780476154\n",
      "bestIteration = 342\n",
      "Shrink model to first 343 iterations.\n",
      "======================== fold 5 ========================\n",
      "0:\tlearn: 0.6929050\ttest: 0.6930196\tbest: 0.6930196 (0)\ttotal: 142ms\tremaining: 4m 44s\n",
      "100:\tlearn: 0.6772062\ttest: 0.6859472\tbest: 0.6859472 (100)\ttotal: 10.1s\tremaining: 3m 10s\n",
      "200:\tlearn: 0.6700971\ttest: 0.6839661\tbest: 0.6839202 (197)\ttotal: 19.5s\tremaining: 2m 54s\n",
      "300:\tlearn: 0.6600184\ttest: 0.6828461\tbest: 0.6827958 (288)\ttotal: 29.3s\tremaining: 2m 45s\n",
      "bestTest = 0.6820067461\n",
      "bestIteration = 346\n",
      "Shrink model to first 347 iterations.\n",
      "cv score :  0.5762973868237026\n",
      "cv ratio :  0.09862381852551985\n",
      "0.510883978151785\n",
      "0.5052305393098051\n",
      "0.5063179568977505\n",
      "0.5106272603599454\n",
      "0.505472071660972\n",
      "0.5077063612760516\n",
      "0.5077063612760516\n",
      "======================== fold 1 ========================\n",
      "0:\tlearn: 0.6928433\ttest: 0.6929535\tbest: 0.6929535 (0)\ttotal: 149ms\tremaining: 4m 57s\n",
      "100:\tlearn: 0.6789480\ttest: 0.6852734\tbest: 0.6852734 (100)\ttotal: 10.1s\tremaining: 3m 9s\n",
      "200:\tlearn: 0.6705139\ttest: 0.6833237\tbest: 0.6832258 (197)\ttotal: 19.8s\tremaining: 2m 57s\n",
      "300:\tlearn: 0.6571711\ttest: 0.6810202\tbest: 0.6809746 (296)\ttotal: 29.7s\tremaining: 2m 47s\n",
      "bestTest = 0.6807557563\n",
      "bestIteration = 330\n",
      "Shrink model to first 331 iterations.\n",
      "======================== fold 2 ========================\n",
      "0:\tlearn: 0.6927702\ttest: 0.6929586\tbest: 0.6929586 (0)\ttotal: 149ms\tremaining: 4m 57s\n",
      "100:\tlearn: 0.6782595\ttest: 0.6853931\tbest: 0.6853931 (100)\ttotal: 10.1s\tremaining: 3m 10s\n",
      "200:\tlearn: 0.6687450\ttest: 0.6812715\tbest: 0.6812242 (197)\ttotal: 19.9s\tremaining: 2m 58s\n"
     ]
    },
    {
     "name": "stdout",
     "output_type": "stream",
     "text": [
      "300:\tlearn: 0.6557705\ttest: 0.6792211\tbest: 0.6791902 (298)\ttotal: 29.9s\tremaining: 2m 48s\n",
      "400:\tlearn: 0.6444682\ttest: 0.6779666\tbest: 0.6778705 (390)\ttotal: 39.8s\tremaining: 2m 38s\n",
      "500:\tlearn: 0.6340335\ttest: 0.6769609\tbest: 0.6767894 (491)\ttotal: 49.8s\tremaining: 2m 29s\n",
      "bestTest = 0.6767894116\n",
      "bestIteration = 491\n",
      "Shrink model to first 492 iterations.\n",
      "======================== fold 3 ========================\n",
      "0:\tlearn: 0.6928190\ttest: 0.6928839\tbest: 0.6928839 (0)\ttotal: 139ms\tremaining: 4m 37s\n",
      "100:\tlearn: 0.6790477\ttest: 0.6835027\tbest: 0.6835027 (100)\ttotal: 10s\tremaining: 3m 8s\n",
      "200:\tlearn: 0.6707981\ttest: 0.6808710\tbest: 0.6807835 (187)\ttotal: 19.9s\tremaining: 2m 58s\n",
      "300:\tlearn: 0.6587187\ttest: 0.6793454\tbest: 0.6790395 (271)\ttotal: 29.9s\tremaining: 2m 48s\n",
      "400:\tlearn: 0.6465954\ttest: 0.6767896\tbest: 0.6767896 (400)\ttotal: 39.9s\tremaining: 2m 39s\n",
      "500:\tlearn: 0.6371590\ttest: 0.6752160\tbest: 0.6751119 (484)\ttotal: 50s\tremaining: 2m 29s\n",
      "600:\tlearn: 0.6277272\ttest: 0.6723168\tbest: 0.6722943 (599)\ttotal: 1m\tremaining: 2m 20s\n",
      "700:\tlearn: 0.6203750\ttest: 0.6711705\tbest: 0.6711705 (700)\ttotal: 1m 10s\tremaining: 2m 9s\n",
      "bestTest = 0.6708300668\n",
      "bestIteration = 748\n",
      "Shrink model to first 749 iterations.\n",
      "======================== fold 4 ========================\n",
      "0:\tlearn: 0.6927601\ttest: 0.6928084\tbest: 0.6928084 (0)\ttotal: 156ms\tremaining: 5m 12s\n",
      "100:\tlearn: 0.6794493\ttest: 0.6856313\tbest: 0.6856313 (100)\ttotal: 10.1s\tremaining: 3m 9s\n",
      "200:\tlearn: 0.6705952\ttest: 0.6824235\tbest: 0.6823871 (199)\ttotal: 19.8s\tremaining: 2m 57s\n",
      "300:\tlearn: 0.6580872\ttest: 0.6802690\tbest: 0.6802690 (300)\ttotal: 29.9s\tremaining: 2m 48s\n",
      "400:\tlearn: 0.6463556\ttest: 0.6787346\tbest: 0.6787119 (396)\ttotal: 40s\tremaining: 2m 39s\n",
      "500:\tlearn: 0.6365415\ttest: 0.6775732\tbest: 0.6775416 (496)\ttotal: 49.9s\tremaining: 2m 29s\n",
      "bestTest = 0.6774943253\n",
      "bestIteration = 502\n",
      "Shrink model to first 503 iterations.\n",
      "======================== fold 5 ========================\n",
      "0:\tlearn: 0.6927614\ttest: 0.6928362\tbest: 0.6928362 (0)\ttotal: 149ms\tremaining: 4m 58s\n",
      "100:\tlearn: 0.6794847\ttest: 0.6848225\tbest: 0.6848068 (98)\ttotal: 10.2s\tremaining: 3m 11s\n",
      "200:\tlearn: 0.6705777\ttest: 0.6813233\tbest: 0.6813233 (200)\ttotal: 19.9s\tremaining: 2m 57s\n",
      "300:\tlearn: 0.6585029\ttest: 0.6786031\tbest: 0.6785678 (294)\ttotal: 29.7s\tremaining: 2m 47s\n",
      "400:\tlearn: 0.6488815\ttest: 0.6780737\tbest: 0.6779432 (353)\ttotal: 39.7s\tremaining: 2m 38s\n",
      "bestTest = 0.6779432488\n",
      "bestIteration = 353\n",
      "Shrink model to first 354 iterations.\n",
      "cv score :  0.5808936825885977\n",
      "cv ratio :  0.09860113421550094\n",
      "0.5136094657636409\n",
      "0.5045601375834676\n",
      "0.5136682460335977\n",
      "0.5063044134778644\n",
      "0.5022212496700806\n",
      "0.5080727025057302\n",
      "0.5080727025057302\n",
      "======================== fold 1 ========================\n",
      "0:\tlearn: 0.6926644\ttest: 0.6929555\tbest: 0.6929555 (0)\ttotal: 152ms\tremaining: 5m 3s\n",
      "100:\tlearn: 0.6782987\ttest: 0.6861970\tbest: 0.6861970 (100)\ttotal: 10.4s\tremaining: 3m 14s\n",
      "200:\tlearn: 0.6692985\ttest: 0.6824141\tbest: 0.6824141 (200)\ttotal: 20.1s\tremaining: 3m\n",
      "300:\tlearn: 0.6581606\ttest: 0.6811266\tbest: 0.6811235 (289)\ttotal: 30.1s\tremaining: 2m 49s\n",
      "bestTest = 0.6809060935\n",
      "bestIteration = 336\n",
      "Shrink model to first 337 iterations.\n",
      "======================== fold 2 ========================\n",
      "0:\tlearn: 0.6927280\ttest: 0.6927656\tbest: 0.6927656 (0)\ttotal: 158ms\tremaining: 5m 15s\n",
      "100:\tlearn: 0.6786936\ttest: 0.6841987\tbest: 0.6841727 (97)\ttotal: 10.1s\tremaining: 3m 9s\n",
      "200:\tlearn: 0.6714526\ttest: 0.6809995\tbest: 0.6809877 (199)\ttotal: 19.7s\tremaining: 2m 56s\n",
      "300:\tlearn: 0.6614085\ttest: 0.6789399\tbest: 0.6789399 (300)\ttotal: 29.6s\tremaining: 2m 47s\n",
      "400:\tlearn: 0.6519176\ttest: 0.6769365\tbest: 0.6769322 (397)\ttotal: 39.5s\tremaining: 2m 37s\n",
      "500:\tlearn: 0.6428720\ttest: 0.6751102\tbest: 0.6750180 (492)\ttotal: 49.5s\tremaining: 2m 27s\n",
      "bestTest = 0.6743119794\n",
      "bestIteration = 523\n",
      "Shrink model to first 524 iterations.\n",
      "======================== fold 3 ========================\n",
      "0:\tlearn: 0.6927161\ttest: 0.6927664\tbest: 0.6927664 (0)\ttotal: 150ms\tremaining: 5m\n",
      "100:\tlearn: 0.6793483\ttest: 0.6843861\tbest: 0.6843798 (99)\ttotal: 10.1s\tremaining: 3m 10s\n",
      "200:\tlearn: 0.6715689\ttest: 0.6810473\tbest: 0.6810473 (200)\ttotal: 19.9s\tremaining: 2m 57s\n",
      "300:\tlearn: 0.6613570\ttest: 0.6794262\tbest: 0.6794262 (300)\ttotal: 29.8s\tremaining: 2m 48s\n",
      "400:\tlearn: 0.6513551\ttest: 0.6775649\tbest: 0.6775096 (398)\ttotal: 39.9s\tremaining: 2m 38s\n",
      "500:\tlearn: 0.6417611\ttest: 0.6751144\tbest: 0.6749640 (496)\ttotal: 49.8s\tremaining: 2m 28s\n",
      "600:\tlearn: 0.6338372\ttest: 0.6746118\tbest: 0.6746118 (600)\ttotal: 59.7s\tremaining: 2m 18s\n",
      "700:\tlearn: 0.6252265\ttest: 0.6740280\tbest: 0.6739750 (692)\ttotal: 1m 9s\tremaining: 2m 9s\n",
      "bestTest = 0.6736129039\n",
      "bestIteration = 735\n",
      "Shrink model to first 736 iterations.\n",
      "======================== fold 4 ========================\n",
      "0:\tlearn: 0.6927220\ttest: 0.6928771\tbest: 0.6928771 (0)\ttotal: 144ms\tremaining: 4m 47s\n",
      "100:\tlearn: 0.6784220\ttest: 0.6837966\tbest: 0.6837870 (95)\ttotal: 10.1s\tremaining: 3m 10s\n",
      "200:\tlearn: 0.6707175\ttest: 0.6812298\tbest: 0.6812298 (200)\ttotal: 19.9s\tremaining: 2m 58s\n",
      "300:\tlearn: 0.6600921\ttest: 0.6791863\tbest: 0.6791516 (299)\ttotal: 30s\tremaining: 2m 49s\n",
      "400:\tlearn: 0.6485938\ttest: 0.6779632\tbest: 0.6779559 (399)\ttotal: 40.2s\tremaining: 2m 40s\n",
      "bestTest = 0.6777826156\n",
      "bestIteration = 407\n",
      "Shrink model to first 408 iterations.\n",
      "======================== fold 5 ========================\n",
      "0:\tlearn: 0.6925183\ttest: 0.6925951\tbest: 0.6925951 (0)\ttotal: 144ms\tremaining: 4m 47s\n",
      "100:\tlearn: 0.6783107\ttest: 0.6828852\tbest: 0.6828852 (100)\ttotal: 10.5s\tremaining: 3m 16s\n",
      "200:\tlearn: 0.6701644\ttest: 0.6799743\tbest: 0.6799696 (199)\ttotal: 20.3s\tremaining: 3m 1s\n",
      "300:\tlearn: 0.6598221\ttest: 0.6775301\tbest: 0.6775301 (300)\ttotal: 30.3s\tremaining: 2m 51s\n",
      "400:\tlearn: 0.6488234\ttest: 0.6759468\tbest: 0.6759468 (400)\ttotal: 40.4s\tremaining: 2m 41s\n",
      "500:\tlearn: 0.6384309\ttest: 0.6744531\tbest: 0.6744531 (500)\ttotal: 50.6s\tremaining: 2m 31s\n",
      "600:\tlearn: 0.6293641\ttest: 0.6741934\tbest: 0.6740007 (555)\ttotal: 1m\tremaining: 2m 21s\n",
      "bestTest = 0.6740007321\n",
      "bestIteration = 555\n",
      "Shrink model to first 556 iterations.\n"
     ]
    }
   ],
   "source": [
    "train_df[\"pred\"] = 0\n",
    "test_df[\"pred\"] = 0\n",
    "for mode in X[\"mode\"].unique():\n",
    "    print(mode)\n",
    "    mode_index = X[X[\"mode\"] == mode].index\n",
    "    mode_X = X.iloc[mode_index].reset_index(drop=True)\n",
    "    mode_y = y[mode_index]\n",
    "    \n",
    "    \n",
    "    \n",
    "    # 全データを5つに分割\n",
    "    random.seed(random.randint(0, 10000))\n",
    "    SIZE = X.shape[0]\n",
    "    K = 5\n",
    "\n",
    "    #folds = prepro.make_stratified_kfolds(X, y, K, shuffle=True)\n",
    "    folds = prepro.make_stratified_kfolds(mode_X, mode_y, K, shuffle=True, random_state=random.randint(0, 10000))\n",
    "\n",
    "\n",
    "    params = {\n",
    "        \"loss_function\" : \"Logloss\",\n",
    "        \"eval_metric\" : \"Logloss\",\n",
    "        \"iterations\":2000,\n",
    "        \"learning_rate\" : 0.05,\n",
    "        \"use_best_model\": True,\n",
    "        \"random_seed\":random.randint(0, 100000),\n",
    "        'task_type': 'GPU',\n",
    "\n",
    "\n",
    "\n",
    "    }\n",
    "\n",
    "    THRESHOLD = 0.50\n",
    "    models = []\n",
    "    cv_scores = []\n",
    "    temp = 0\n",
    "    train_pred = []\n",
    "    valid_ys = []\n",
    "\n",
    "    all_indices = sum(folds, [])\n",
    "    for i in range(K):\n",
    "        print(\"======================== fold {} ========================\".format(i+1))\n",
    "        valid_indices = folds[i]\n",
    "        train_indices = list(set(all_indices) - set(valid_indices))\n",
    "        # print(\"train \", len(train_indices), \" , valid \", len(valid_indices))\n",
    "\n",
    "\n",
    "        train_X = mode_X.iloc[train_indices]\n",
    "        train_y = mode_y[train_indices]\n",
    "        valid_X = mode_X.iloc[valid_indices]\n",
    "        valid_y = mode_y[valid_indices]\n",
    "\n",
    "\n",
    "\n",
    "\n",
    "        train_data = Pool(train_X, train_y, cat_features=categorical_features_indices)\n",
    "        valid_data = Pool(valid_X, valid_y, cat_features=categorical_features_indices)\n",
    "\n",
    "        model = CatBoostClassifier(**params)\n",
    "\n",
    "\n",
    "        model.fit(\n",
    "            train_data,\n",
    "            eval_set=valid_data,\n",
    "            early_stopping_rounds=50,\n",
    "            verbose=100,\n",
    "            use_best_model=True,\n",
    "        )\n",
    "\n",
    "        pred = model.predict(valid_X, prediction_type='Probability')[:,1]\n",
    "        train_pred.append(pred)\n",
    "        pred = np.where(pred < THRESHOLD, 0, 1)\n",
    "\n",
    "        temp += np.sum(pred) \n",
    "\n",
    "        score = accuracy_score(pred, valid_y)\n",
    "\n",
    "        models.append(model)\n",
    "        cv_scores.append(score)\n",
    "\n",
    "\n",
    "    print(\"cv score : \", np.mean(cv_scores))    \n",
    "    print(\"cv ratio : \", temp / SIZE)\n",
    "    \n",
    "    preds = []\n",
    "    for i in range(K):\n",
    "        model = models[i]\n",
    "        pred = model.predict(test_X[test_X[\"mode\"] == mode], prediction_type='Probability')[:,1]\n",
    "        preds.append(pred)\n",
    "        print(np.sum(pred) / pred.shape[0])\n",
    "\n",
    "    preds = np.array(preds)\n",
    "    preds = np.mean(preds, axis=0)\n",
    "    print(np.sum(preds) / preds.shape[0])\n",
    "\n",
    "\n",
    "    temp = pd.DataFrame({\"pred\":pred})\n",
    "\n",
    "    #preds = np.where(preds < THRESHOLD, 0, 1)\n",
    "    print(np.sum(preds) / preds.shape[0])\n",
    "\n",
    "\n",
    "    mode_X[\"pred\"] = 0\n",
    "    for i in range(K):\n",
    "        mode_X[\"pred\"].iloc[folds[i]] = train_pred[i]\n",
    "        \n",
    "    train_df[\"pred\"].iloc[mode_index] = mode_X[\"pred\"].values\n",
    "    test_df[\"pred\"][test_X[\"mode\"] == mode] = pred\n",
    "\n",
    "\n"
   ]
  },
  {
   "cell_type": "code",
   "execution_count": null,
   "metadata": {},
   "outputs": [],
   "source": [
    "train_df[\"pred\"] = 0\n",
    "test_df[\"pred\"] = 0\n",
    "for mode in X[\"mode\"].unique():\n",
    "    mode_index = X[X[\"mode\"] == mode].index\n",
    "    mode_X = X.iloc[mode_index].reset_index(drop=True)\n",
    "    mode_y = y[mode_index]\n",
    "    \n",
    "    mode_X[\"pred\"] = 0\n",
    "    for i in range(K):\n",
    "        mode_X[\"pred\"].iloc[folds[i]] = train_pred[i]\n",
    "        \n",
    "    train_df[\"pred\"].iloc[mode_index] = mode_X[\"pred\"].values\n",
    "    test_df[\"pred\"][test_X[\"mode\"] == mode] = pred"
   ]
  },
  {
   "cell_type": "code",
   "execution_count": null,
   "metadata": {},
   "outputs": [],
   "source": []
  },
  {
   "cell_type": "code",
   "execution_count": null,
   "metadata": {},
   "outputs": [],
   "source": [
    "preds = np.where(preds < THRESHOLD, 0, 1)\n",
    "print(np.sum(preds) / preds.shape[0])\n",
    "\n",
    "submit_df = pd.DataFrame({'y': preds})\n",
    "submit_df.index.name = 'id'\n",
    "submit_df.to_csv('../Submissions/submission_cat_6_{}.csv'.format(K))"
   ]
  },
  {
   "cell_type": "markdown",
   "metadata": {},
   "source": [
    "# モデル解釈"
   ]
  },
  {
   "cell_type": "code",
   "execution_count": null,
   "metadata": {},
   "outputs": [],
   "source": [
    "importance = pd.DataFrame(\n",
    "    (models[0].get_feature_importance() + \n",
    "    models[1].get_feature_importance() + \n",
    "    models[2].get_feature_importance() + \n",
    "    models[3].get_feature_importance() + \n",
    "    models[4].get_feature_importance())/5\n",
    "    , index=X.columns, columns=['importance']).sort_values('importance', ascending=False)\n",
    "display(importance[:120])"
   ]
  },
  {
   "cell_type": "code",
   "execution_count": null,
   "metadata": {},
   "outputs": [],
   "source": [
    "indices = [index for index in importance.index if \"team\" in index]\n",
    "importance.loc[indices]"
   ]
  },
  {
   "cell_type": "code",
   "execution_count": null,
   "metadata": {},
   "outputs": [],
   "source": [
    "train_pred"
   ]
  },
  {
   "cell_type": "code",
   "execution_count": null,
   "metadata": {},
   "outputs": [],
   "source": [
    "train_df[train_df[\"disconnection-A\"] != 0][[\"disconnection-A\", \"disconnection-B\", \"y\", \"pred\"]]"
   ]
  },
  {
   "cell_type": "code",
   "execution_count": null,
   "metadata": {},
   "outputs": [],
   "source": [
    "train_df[\"pred\"] = 0\n",
    "train_df[\"y\"] = y\n",
    "for i in range(K):\n",
    "    train_df[\"pred\"].iloc[folds[i]] = np.where(train_pred[i] < THRESHOLD, 0, 1)\n",
    "    #train_df[\"pred\"].iloc[folds[i]] = train_pred[i]\n",
    "for mode in train_df[\"mode\"].unique():\n",
    "    rate = train_df[train_df[\"mode\"] == mode][train_df[\"pred\"] == train_df[\"y\"]].shape[0] / train_df[train_df[\"mode\"] == mode].shape[0]\n",
    "    print(\"{} : {}\".format(mode, rate))\n",
    "print(train_df[train_df[\"pred\"] == train_df[\"y\"]].shape[0] / train_df.shape[0])"
   ]
  },
  {
   "cell_type": "code",
   "execution_count": null,
   "metadata": {},
   "outputs": [],
   "source": [
    "result_df = train_df[train_df[\"y\"] != train_df[\"pred\"]]"
   ]
  },
  {
   "cell_type": "code",
   "execution_count": null,
   "metadata": {},
   "outputs": [],
   "source": [
    "print(result_df[result_df[\"mode\"] == \"nawabari\"].shape[0]/result_df.shape[0])\n",
    "print(result_df[result_df[\"mode\"] == \"hoko\"].shape[0]/result_df.shape[0])\n",
    "print(result_df[result_df[\"mode\"] == \"asari\"].shape[0]/result_df.shape[0])\n",
    "print(result_df[result_df[\"mode\"] == \"area\"].shape[0]/result_df.shape[0])\n",
    "print(result_df[result_df[\"mode\"] == \"yagura\"].shape[0]/result_df.shape[0])"
   ]
  },
  {
   "cell_type": "code",
   "execution_count": null,
   "metadata": {},
   "outputs": [],
   "source": [
    "result_df[result_df[\"mode\"] == \"nawabari\"]"
   ]
  },
  {
   "cell_type": "code",
   "execution_count": null,
   "metadata": {},
   "outputs": [],
   "source": []
  },
  {
   "cell_type": "code",
   "execution_count": null,
   "metadata": {},
   "outputs": [],
   "source": [
    "preds"
   ]
  },
  {
   "cell_type": "code",
   "execution_count": null,
   "metadata": {},
   "outputs": [],
   "source": [
    "def plot_feature_importance(importance,names,model_type, MAXSIZE=120):\n",
    "\n",
    "    #Create arrays from feature importance and feature names\n",
    "    feature_importance = np.array(importance)[:MAXSIZE]\n",
    "    feature_names = np.array(names)[:MAXSIZE]\n",
    "\n",
    "    #Create a DataFrame using a Dictionary\n",
    "    data={'feature_names':feature_names,'feature_importance':feature_importance}\n",
    "    fi_df = pd.DataFrame(data)\n",
    "\n",
    "    #Sort the DataFrame in order decreasing feature importance\n",
    "    fi_df.sort_values(by=['feature_importance'], ascending=False,inplace=True)\n",
    "\n",
    "    #Define size of bar plot\n",
    "    plt.figure(figsize=(20,16))\n",
    "    #Plot Searborn bar chart\n",
    "    sns.barplot(x=fi_df['feature_importance'], y=fi_df['feature_names'])\n",
    "    #Add chart labels\n",
    "    plt.title(model_type + 'FEATURE IMPORTANCE')\n",
    "    plt.xlabel('FEATURE IMPORTANCE')\n",
    "    plt.ylabel('FEATURE NAMES')"
   ]
  },
  {
   "cell_type": "code",
   "execution_count": null,
   "metadata": {},
   "outputs": [],
   "source": [
    "plot_feature_importance(importance.values.reshape(-1,), importance.index, \"Cat Boost \", MAXSIZE=40)"
   ]
  },
  {
   "cell_type": "code",
   "execution_count": null,
   "metadata": {},
   "outputs": [],
   "source": []
  },
  {
   "cell_type": "code",
   "execution_count": null,
   "metadata": {},
   "outputs": [],
   "source": []
  },
  {
   "cell_type": "code",
   "execution_count": null,
   "metadata": {},
   "outputs": [],
   "source": [
    "train_df.index = train_df.index -1"
   ]
  },
  {
   "cell_type": "code",
   "execution_count": null,
   "metadata": {},
   "outputs": [],
   "source": [
    "X.iloc[X[X[\"mode\"] == \"nawabari\"].index]"
   ]
  },
  {
   "cell_type": "code",
   "execution_count": null,
   "metadata": {},
   "outputs": [],
   "source": [
    "train_df.reset_index"
   ]
  },
  {
   "cell_type": "code",
   "execution_count": null,
   "metadata": {},
   "outputs": [],
   "source": []
  }
 ],
 "metadata": {
  "kernelspec": {
   "display_name": "Python 3",
   "language": "python",
   "name": "python3"
  },
  "language_info": {
   "codemirror_mode": {
    "name": "ipython",
    "version": 3
   },
   "file_extension": ".py",
   "mimetype": "text/x-python",
   "name": "python",
   "nbconvert_exporter": "python",
   "pygments_lexer": "ipython3",
   "version": "3.6.10"
  }
 },
 "nbformat": 4,
 "nbformat_minor": 4
}
