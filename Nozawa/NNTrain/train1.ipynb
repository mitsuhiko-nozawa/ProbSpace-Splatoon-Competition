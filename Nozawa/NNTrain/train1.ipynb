{
 "cells": [
  {
   "cell_type": "markdown",
   "metadata": {},
   "source": [
    "# 回線切れの数\n",
    "# 武器の詳細追加\n",
    "#### cv score :  0.5490586011342156 (5 folds)\n",
    "#### cv score :  0.551296786389414 (10 folds)"
   ]
  },
  {
   "cell_type": "code",
   "execution_count": 1,
   "metadata": {},
   "outputs": [
    {
     "name": "stderr",
     "output_type": "stream",
     "text": [
      "/opt/anaconda3/envs/spla/lib/python3.6/site-packages/lightgbm/__init__.py:48: UserWarning: Starting from version 2.2.1, the library file in distribution wheels for macOS is built by the Apple Clang (Xcode_8.3.3) compiler.\n",
      "This means that in case of installing LightGBM from PyPI via the ``pip install lightgbm`` command, you don't need to install the gcc compiler anymore.\n",
      "Instead of that, you need to install the OpenMP library, which is required for running LightGBM on the system with the Apple Clang compiler.\n",
      "You can install the OpenMP library by the following command: ``brew install libomp``.\n",
      "  \"You can install the OpenMP library by the following command: ``brew install libomp``.\", UserWarning)\n"
     ]
    }
   ],
   "source": [
    "import sys\n",
    "sys.path.append('../')\n",
    "import pandas as pd\n",
    "import numpy as np\n",
    "import sklearn\n",
    "from Functions import prepro, NNModel\n",
    "import warnings\n",
    "\n",
    "import random\n",
    "\n",
    "from sklearn.model_selection import train_test_split\n",
    "from sklearn.metrics import accuracy_score\n",
    "import lightgbm as lgb\n",
    "from tensorflow.keras.callbacks import EarlyStopping\n",
    "\n",
    "\n",
    "random.seed(0)\n",
    "\n",
    "pd.set_option(\"display.max_columns\", 500)\n",
    "pd.set_option(\"display.max_rows\", 500)\n",
    "warnings.filterwarnings('ignore')"
   ]
  },
  {
   "cell_type": "code",
   "execution_count": 2,
   "metadata": {},
   "outputs": [
    {
     "name": "stdout",
     "output_type": "stream",
     "text": [
      "(132250, 193)\n",
      "(28340, 192)\n"
     ]
    }
   ],
   "source": [
    "train_df = pd.read_csv(\"../../data/Processed/train2.csv\")\n",
    "test_df = pd.read_csv(\"../../data/Processed/test2.csv\")\n",
    "print(train_df.shape)\n",
    "print(test_df.shape)"
   ]
  },
  {
   "cell_type": "markdown",
   "metadata": {},
   "source": [
    "### 武器の情報を個人ごとからチームごとに変える\n",
    "category1, 2を落とす、\n",
    "\n",
    "他のカテゴリをチームごとにする\n",
    "\n",
    "reskinそのまま"
   ]
  },
  {
   "cell_type": "code",
   "execution_count": null,
   "metadata": {},
   "outputs": [],
   "source": [
    "# 落とさないほうが精度上がってしまった。。。\n",
    "\n",
    "\"\"\"suffixes = [\"-A1\", \"-A2\", \"-A3\", \"-A4\", \"-B1\", \"-B2\", \"-B3\", \"-B4\"]\n",
    "drop_cols = [\"category1\", \"category2\"]\n",
    "\n",
    "for c in drop_cols:\n",
    "    for s in suffixes:\n",
    "        col = c+s\n",
    "        train_df.drop(col, axis=1, inplace=True)\n",
    "        test_df.drop(col, axis=1, inplace=True)\n",
    "\"\"\""
   ]
  },
  {
   "cell_type": "code",
   "execution_count": 3,
   "metadata": {},
   "outputs": [],
   "source": [
    "y = train_df[\"y\"]\n",
    "train_df = train_df.drop(\"y\", axis=1)"
   ]
  },
  {
   "cell_type": "code",
   "execution_count": null,
   "metadata": {},
   "outputs": [],
   "source": [
    "# add info about numeric column\n",
    "\n",
    "num_cols = [\"level\", \"range\", \"rapid-\", \"atack\"]\n",
    "\n",
    "#train_df = prepro.flat(train_df, num_cols)\n",
    "#test_df = prepro.flat(test_df, num_cols)\n",
    "\n",
    "train_df = prepro.add_numeric_info(train_df, num_cols)\n",
    "test_df = prepro.add_numeric_info(test_df, num_cols)"
   ]
  },
  {
   "cell_type": "code",
   "execution_count": null,
   "metadata": {},
   "outputs": [],
   "source": [
    "# add team info\n",
    "\n",
    "train_df,  test_df = prepro.addTeamInfo(train_df, test_df, cols=[\"special\", \"subweapon\", \"category1\", \"category2\", \"mainweapon\"])"
   ]
  },
  {
   "cell_type": "code",
   "execution_count": null,
   "metadata": {},
   "outputs": [],
   "source": [
    "# add disconnection info\n",
    "\n",
    "train_df = prepro.add_disconnection(train_df)\n",
    "test_df = prepro.add_disconnection(test_df)"
   ]
  },
  {
   "cell_type": "code",
   "execution_count": null,
   "metadata": {},
   "outputs": [],
   "source": [
    "# categorize team\n",
    "\n",
    "categorize_col = [\"category1\", \"category2\", \"subweapon\", \"special\", \"mainweapon\"]\n",
    "for col in categorize_col:\n",
    "    print(col)\n",
    "    train_df_, test_df_ = prepro.categorize_team(train_df, test_df, col)"
   ]
  },
  {
   "cell_type": "code",
   "execution_count": null,
   "metadata": {
    "scrolled": true
   },
   "outputs": [],
   "source": [
    "#target encoding\n",
    "\n",
    "#cat_tgtenc_cols = [\"mode\", \"stage\", \"team-category1-A\", \"team-category1-B\", \n",
    "#                  \"team-category2-A\", \"team-category2-B\", \"team-subweapon-A\", \"team-subweapon-B\", \"team-special-A\", \"team-special-B\"]\n",
    "\n",
    "cat_tgtenc_cols = [\"mode\", \"stage\", \"team-category1-A\", \"team-category1-B\"]\n",
    "for col in cat_tgtenc_cols:\n",
    "    print(col)\n",
    "    train_df, test_df = prepro.target_encoding(train_df, test_df, y, col, \"y\")\n",
    "    "
   ]
  },
  {
   "cell_type": "code",
   "execution_count": 4,
   "metadata": {
    "scrolled": true
   },
   "outputs": [],
   "source": [
    "# make input\n",
    "\n",
    "# categorical_feature = train_df.dtypes[train_df.dtypes == \"object\"].index.to_list()\n",
    "\n",
    "drop_cols = [\"id\", \"lobby\", \"lobby-mode\",  \"period\", \"game-ver\", \"A1-weapon\", \"A2-weapon\", \"A3-weapon\", \"A4-weapon\", \\\n",
    "              \"B1-weapon\", \"B2-weapon\", \"B3-weapon\", \"B4-weapon\"]\n",
    "\n",
    "categorical_feature = [col for col in train_df.dtypes[train_df.dtypes == \"object\"].index.to_list() if col not in drop_cols]\n",
    "X, test_X = prepro.make_input(train_df, test_df, drop_cols, categorical_encode=True, verbose=False)\n",
    "\n",
    "X[categorical_feature] = X[categorical_feature].astype(\"category\")"
   ]
  },
  {
   "cell_type": "code",
   "execution_count": 5,
   "metadata": {},
   "outputs": [
    {
     "name": "stdout",
     "output_type": "stream",
     "text": [
      "5\n",
      "fold  1  size is  26450\n",
      "fold  2  size is  26450\n",
      "fold  3  size is  26450\n",
      "fold  4  size is  26450\n",
      "fold  5  size is  26450\n",
      "successfully split\n"
     ]
    }
   ],
   "source": [
    "# 全データを5つに分割\n",
    "SIZE = X.shape[0]\n",
    "K = 5\n",
    "\n",
    "folds = prepro.make_kfolds(SIZE, K)\n",
    "print(len(folds))\n",
    "for i, fold in enumerate(folds):\n",
    "    print(\"fold \", i+1, \" size is \", len(fold))\n",
    "    \n",
    "\n",
    "    \n",
    "if SIZE != len(set(sum(folds, []))):\n",
    "    print(\"error is occuring in spliting\")\n",
    "else :\n",
    "    print(\"successfully split\")\n"
   ]
  },
  {
   "cell_type": "code",
   "execution_count": 7,
   "metadata": {},
   "outputs": [
    {
     "name": "stdout",
     "output_type": "stream",
     "text": [
      "======================== fold 0 ========================\n",
      "121\n",
      "Train on 105800 samples, validate on 26450 samples\n",
      "Epoch 1/2\n",
      "105800/105800 [==============================] - 34s 317us/sample - loss: 13.6913 - val_loss: 0.6932\n",
      "Epoch 2/2\n",
      "105800/105800 [==============================] - 24s 231us/sample - loss: 0.6937 - val_loss: 0.6933\n",
      "======================== fold 1 ========================\n",
      "121\n",
      "Train on 105800 samples, validate on 26450 samples\n",
      "Epoch 1/2\n",
      "105800/105800 [==============================] - 34s 319us/sample - loss: 14.0046 - val_loss: 0.6932\n",
      "Epoch 2/2\n",
      "105800/105800 [==============================] - 25s 233us/sample - loss: 0.6935 - val_loss: 0.6933\n",
      "======================== fold 2 ========================\n",
      "121\n",
      "Train on 105800 samples, validate on 26450 samples\n",
      "Epoch 1/2\n",
      "105800/105800 [==============================] - 35s 328us/sample - loss: 16.3756 - val_loss: 0.6932\n",
      "Epoch 2/2\n",
      "105800/105800 [==============================] - 26s 244us/sample - loss: 0.6941 - val_loss: 0.6933\n",
      "======================== fold 3 ========================\n",
      "121\n",
      "Train on 105800 samples, validate on 26450 samples\n",
      "Epoch 1/2\n",
      "105800/105800 [==============================] - 38s 357us/sample - loss: 15.1976 - val_loss: 0.6934\n",
      "Epoch 2/2\n",
      "105800/105800 [==============================] - 29s 272us/sample - loss: 0.6934 - val_loss: 0.6940\n",
      "======================== fold 4 ========================\n",
      "121\n",
      "Train on 105800 samples, validate on 26450 samples\n",
      "Epoch 1/2\n",
      "105800/105800 [==============================] - 36s 342us/sample - loss: 9.9274 - val_loss: 0.6931\n",
      "Epoch 2/2\n",
      "105800/105800 [==============================] - 28s 266us/sample - loss: 0.6939 - val_loss: 0.6938\n",
      "cv score :  0.4991228733459357\n",
      "cv ratio :  0.6\n"
     ]
    }
   ],
   "source": [
    "THRESHOLD = 0.50\n",
    "models = []\n",
    "cv_scores = []\n",
    "temp = 0\n",
    "train_pred = []\n",
    "\n",
    "all_indices = sum(folds, [])\n",
    "for i in range(K):\n",
    "    print(\"======================== fold {} ========================\".format(i))\n",
    "    valid_indices = folds[i]\n",
    "    train_indices = list(set(all_indices) - set(valid_indices))\n",
    "    # print(\"train \", len(train_indices), \" , valid \", len(valid_indices))\n",
    "    train_X = X.iloc[train_indices]\n",
    "    train_y = y.iloc[train_indices]\n",
    "    valid_X = X.iloc[valid_indices]\n",
    "    valid_y = y.iloc[valid_indices]\n",
    "    \n",
    "    \n",
    "\n",
    "    train_X = NNModel.prepro_nn(train_X, categorical_feature)\n",
    "    train_y = train_y.values.reshape(-1, 1)\n",
    "    valid_X = NNModel.prepro_nn(valid_X, categorical_feature)\n",
    "    valid_y = valid_y.values.reshape(-1, 1)\n",
    "    \n",
    "    \n",
    "    model = NNModel.make_model(X, categorical_feature)\n",
    "    cb = EarlyStopping(monitor='val_loss', patience=2)\n",
    "\n",
    "    model.fit(\n",
    "        train_X, \n",
    "        train_y,\n",
    "        batch_size=128,\n",
    "        epochs=2,\n",
    "        verbose=1,\n",
    "        callbacks=[cb],\n",
    "        validation_data=(valid_X, valid_y),\n",
    "    )\n",
    "    \n",
    "    pred = model.predict(valid_X)\n",
    "    pred = np.where(pred < THRESHOLD, 0, 1)\n",
    "    train_pred.append(pred)\n",
    "    temp += np.sum(pred)\n",
    "    \n",
    "    score = accuracy_score(pred, valid_y)\n",
    "    \n",
    "    models.append(model)\n",
    "    cv_scores.append(score)\n",
    "    \n",
    "    \n",
    "print(\"cv score : \", np.mean(cv_scores))    \n",
    "print(\"cv ratio : \", temp / SIZE)"
   ]
  },
  {
   "cell_type": "code",
   "execution_count": 30,
   "metadata": {},
   "outputs": [
    {
     "name": "stdout",
     "output_type": "stream",
     "text": [
      "0.49070887272847563\n",
      "0.5092683500022054\n",
      "0.5064181245037932\n",
      "0.48219444689484825\n",
      "0.5168542833671489\n",
      "0.5010887259064044\n"
     ]
    },
    {
     "data": {
      "text/plain": [
       "array([[<AxesSubplot:title={'center':'pred'}>]], dtype=object)"
      ]
     },
     "execution_count": 30,
     "metadata": {},
     "output_type": "execute_result"
    },
    {
     "data": {
      "image/png": "[encoded data removed]",
      "text/plain": [
       "<Figure size 432x288 with 1 Axes>"
      ]
     },
     "metadata": {
      "needs_background": "light"
     },
     "output_type": "display_data"
    }
   ],
   "source": [
    "preds = []\n",
    "#test_X = NNModel.prepro_nn(test_X, categorical_feature)\n",
    "\n",
    "for i in range(K):\n",
    "    model = models[i]\n",
    "    pred = model.predict(test_X, batch_size=128).reshape(-1, )\n",
    "    preds.append(pred)\n",
    "    print(np.sum(pred) / pred.shape[0])\n",
    "    \n",
    "preds = np.array(preds)\n",
    "preds = np.mean(preds, axis=0)\n",
    "print(np.sum(preds) / preds.shape[0])\n",
    "\n",
    "\n",
    "temp = pd.DataFrame({\"pred\":preds})\n",
    "temp.hist(bins=20)"
   ]
  },
  {
   "cell_type": "code",
   "execution_count": 31,
   "metadata": {},
   "outputs": [
    {
     "name": "stdout",
     "output_type": "stream",
     "text": [
      "1.0\n"
     ]
    }
   ],
   "source": [
    "preds = np.where(preds < THRESHOLD, 0, 1)\n",
    "print(np.sum(preds) / preds.shape[0])\n",
    "\n",
    "submit_df = pd.DataFrame({'y': preds})\n",
    "submit_df.index.name = 'id'\n",
    "submit_df.to_csv('../Submissions/submission1_{}.csv'.format(K))"
   ]
  },
  {
   "cell_type": "markdown",
   "metadata": {},
   "source": [
    "# モデル解釈"
   ]
  },
  {
   "cell_type": "code",
   "execution_count": null,
   "metadata": {},
   "outputs": [],
   "source": [
    "importance = pd.DataFrame(models[1].feature_importance(), index=X.columns, columns=['importance']).sort_values('importance', ascending=False)\n",
    "display(importance[:50])"
   ]
  },
  {
   "cell_type": "code",
   "execution_count": null,
   "metadata": {},
   "outputs": [],
   "source": [
    "importance[\"importance\"].sum()"
   ]
  },
  {
   "cell_type": "code",
   "execution_count": null,
   "metadata": {},
   "outputs": [],
   "source": [
    "train_df[\"pred\"] = 0\n",
    "train_df[\"y\"] = y.values\n",
    "for i in range(K):\n",
    "    train_df[\"pred\"].iloc[folds[i]] = train_pred[i]"
   ]
  },
  {
   "cell_type": "code",
   "execution_count": null,
   "metadata": {},
   "outputs": [],
   "source": [
    "result_df = train_df[train_df[\"y\"] != train_df[\"pred\"]]"
   ]
  },
  {
   "cell_type": "code",
   "execution_count": null,
   "metadata": {},
   "outputs": [],
   "source": [
    "print(result_df[result_df[\"mode\"] == \"nawabari\"].shape[0]/result_df.shape[0])\n",
    "print(result_df[result_df[\"mode\"] == \"hoko\"].shape[0]/result_df.shape[0])\n",
    "print(result_df[result_df[\"mode\"] == \"asari\"].shape[0]/result_df.shape[0])\n",
    "print(result_df[result_df[\"mode\"] == \"area\"].shape[0]/result_df.shape[0])\n",
    "print(result_df[result_df[\"mode\"] == \"yagura\"].shape[0]/result_df.shape[0])"
   ]
  },
  {
   "cell_type": "code",
   "execution_count": null,
   "metadata": {},
   "outputs": [],
   "source": [
    "train_df"
   ]
  },
  {
   "cell_type": "code",
   "execution_count": null,
   "metadata": {},
   "outputs": [],
   "source": []
  },
  {
   "cell_type": "code",
   "execution_count": null,
   "metadata": {},
   "outputs": [],
   "source": []
  },
  {
   "cell_type": "code",
   "execution_count": null,
   "metadata": {},
   "outputs": [],
   "source": []
  },
  {
   "cell_type": "code",
   "execution_count": null,
   "metadata": {},
   "outputs": [],
   "source": []
  },
  {
   "cell_type": "code",
   "execution_count": null,
   "metadata": {},
   "outputs": [],
   "source": []
  },
  {
   "cell_type": "code",
   "execution_count": null,
   "metadata": {},
   "outputs": [],
   "source": []
  },
  {
   "cell_type": "code",
   "execution_count": null,
   "metadata": {},
   "outputs": [],
   "source": [
    "model = NNModel.make_model(X, categorical_feature)\n",
    "\n",
    "train_data = NNModel.prepro_nn(X, categorical_feature)\n",
    "model.fit(train_data, y.values.reshape(-1, 1), epochs=2)"
   ]
  },
  {
   "cell_type": "code",
   "execution_count": null,
   "metadata": {},
   "outputs": [],
   "source": []
  }
 ],
 "metadata": {
  "kernelspec": {
   "display_name": "Python 3",
   "language": "python",
   "name": "python3"
  },
  "language_info": {
   "codemirror_mode": {
    "name": "ipython",
    "version": 3
   },
   "file_extension": ".py",
   "mimetype": "text/x-python",
   "name": "python",
   "nbconvert_exporter": "python",
   "pygments_lexer": "ipython3",
   "version": "3.6.12"
  }
 },
 "nbformat": 4,
 "nbformat_minor": 4
}
