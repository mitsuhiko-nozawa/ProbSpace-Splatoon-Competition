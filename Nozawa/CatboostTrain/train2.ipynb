{
 "cells": [
  {
   "cell_type": "markdown",
   "metadata": {},
   "source": [
    "# Categorical Boost"
   ]
  },
  {
   "cell_type": "code",
   "execution_count": 1,
   "metadata": {},
   "outputs": [],
   "source": [
    "import sys\n",
    "sys.path.append('../')\n",
    "import pandas as pd\n",
    "import numpy as np\n",
    "import sklearn\n",
    "from Functions import prepro\n",
    "pd.set_option(\"display.max_columns\", 400)\n",
    "pd.set_option(\"display.max_rows\", 400)"
   ]
  },
  {
   "cell_type": "code",
   "execution_count": 2,
   "metadata": {},
   "outputs": [
    {
     "name": "stdout",
     "output_type": "stream",
     "text": [
      "(132250, 191)\n",
      "(28340, 190)\n"
     ]
    }
   ],
   "source": [
    "train_df = pd.read_csv(\"../../data/Processed/train2.csv\", index_col='id')\n",
    "test_df = pd.read_csv(\"../../data/Processed/test2.csv\", index_col=\"id\")\n",
    "print(train_df.shape)\n",
    "print(test_df.shape)"
   ]
  },
  {
   "cell_type": "code",
   "execution_count": 3,
   "metadata": {},
   "outputs": [],
   "source": [
    "#train_df.head()"
   ]
  },
  {
   "cell_type": "code",
   "execution_count": 4,
   "metadata": {
    "scrolled": true
   },
   "outputs": [],
   "source": [
    "#train_df.info()"
   ]
  },
  {
   "cell_type": "code",
   "execution_count": 5,
   "metadata": {},
   "outputs": [],
   "source": [
    "#test_df.head()"
   ]
  },
  {
   "cell_type": "markdown",
   "metadata": {},
   "source": [
    "### 武器の情報を個人ごとからチームごとに変える\n",
    "category1, 2を落とす、\n",
    "\n",
    "他のカテゴリをチームごとにする\n",
    "\n",
    "reskinそのまま"
   ]
  },
  {
   "cell_type": "code",
   "execution_count": 6,
   "metadata": {},
   "outputs": [
    {
     "data": {
      "text/plain": [
       "'suffixes = [\"-A1\", \"-A2\", \"-A3\", \"-A4\", \"-B1\", \"-B2\", \"-B3\", \"-B4\"]\\ndrop_cols = [\"category1\", \"category2\"]\\n\\nfor c in drop_cols:\\n    for s in suffixes:\\n        col = c+s\\n        train_df.drop(col, axis=1, inplace=True)\\n        test_df.drop(col, axis=1, inplace=True)\\n'"
      ]
     },
     "execution_count": 6,
     "metadata": {},
     "output_type": "execute_result"
    }
   ],
   "source": [
    "# 落とさないほうが精度上がってしまった。。。\n",
    "\n",
    "\"\"\"suffixes = [\"-A1\", \"-A2\", \"-A3\", \"-A4\", \"-B1\", \"-B2\", \"-B3\", \"-B4\"]\n",
    "drop_cols = [\"category1\", \"category2\"]\n",
    "\n",
    "for c in drop_cols:\n",
    "    for s in suffixes:\n",
    "        col = c+s\n",
    "        train_df.drop(col, axis=1, inplace=True)\n",
    "        test_df.drop(col, axis=1, inplace=True)\n",
    "\"\"\""
   ]
  },
  {
   "cell_type": "code",
   "execution_count": 7,
   "metadata": {},
   "outputs": [],
   "source": [
    "#train_df.columns"
   ]
  },
  {
   "cell_type": "code",
   "execution_count": 8,
   "metadata": {},
   "outputs": [],
   "source": [
    "y = train_df[\"y\"]\n",
    "train_df = train_df.drop(\"y\", axis=1)"
   ]
  },
  {
   "cell_type": "code",
   "execution_count": 9,
   "metadata": {},
   "outputs": [
    {
     "name": "stdout",
     "output_type": "stream",
     "text": [
      "(160590, 190)\n",
      "special-A\n",
      "special-B\n",
      "subweapon-A\n",
      "subweapon-B\n",
      "category1-A\n",
      "category1-B\n",
      "category2-A\n",
      "category2-B\n",
      "(160590, 278)\n",
      "complete\n"
     ]
    }
   ],
   "source": [
    "# add team info\n",
    "train_df,  test_df = prepro.addTeamInfo(train_df, test_df, cols=[\"special\", \"subweapon\", \"category1\", \"category2\"])"
   ]
  },
  {
   "cell_type": "code",
   "execution_count": 10,
   "metadata": {},
   "outputs": [],
   "source": [
    "# add disconnection info\n",
    "\n",
    "train_df = prepro.add_disconnection(train_df)\n",
    "test_df = prepro.add_disconnection(test_df)"
   ]
  },
  {
   "cell_type": "code",
   "execution_count": 11,
   "metadata": {},
   "outputs": [],
   "source": [
    "# add info about numeric column\n",
    "from Functions import prepro\n",
    "\n",
    "num_cols = [\"level\", \"range\", \"rapid\", \"atack\"]\n",
    "\n",
    "train_df = prepro.flat(train_df, num_cols)\n",
    "test_df = prepro.flat(test_df, num_cols)\n",
    "\n",
    "train_df = prepro.add_numeric_info(train_df, num_cols)\n",
    "test_df = prepro.add_numeric_info(test_df, num_cols)"
   ]
  },
  {
   "cell_type": "code",
   "execution_count": 12,
   "metadata": {
    "scrolled": true
   },
   "outputs": [],
   "source": [
    "# make input\n",
    "\n",
    "drop_cols = [\"id\", \"lobby\", \"lobby-mode\",  \"period\", \"game-ver\", \"A1-weapon\", \"A2-weapon\", \"A3-weapon\", \"A4-weapon\", \\\n",
    "              \"B1-weapon\", \"B2-weapon\", \"B3-weapon\", \"B4-weapon\"]\n",
    "X, test_X = prepro.make_input(train_df, test_df, drop_cols, categorical_encode = False, verbose=False)"
   ]
  },
  {
   "cell_type": "code",
   "execution_count": 13,
   "metadata": {
    "scrolled": true
   },
   "outputs": [
    {
     "data": {
      "text/plain": [
       "'print(train_df.shape)\\nprint(test_df.shape)\\nfor col in X.columns:\\n    print(col)'"
      ]
     },
     "execution_count": 13,
     "metadata": {},
     "output_type": "execute_result"
    }
   ],
   "source": [
    "\"\"\"print(train_df.shape)\n",
    "print(test_df.shape)\n",
    "for col in X.columns:\n",
    "    print(col)\"\"\""
   ]
  },
  {
   "cell_type": "code",
   "execution_count": 14,
   "metadata": {},
   "outputs": [],
   "source": [
    "import random\n",
    "\n",
    "from sklearn.model_selection import train_test_split\n",
    "from sklearn.metrics import accuracy_score\n",
    "from catboost import Pool, CatBoostClassifier\n",
    "\n",
    "categorical_features_indices = np.where(X.dtypes != np.float)[0]\n",
    "\n",
    "random.seed(0)"
   ]
  },
  {
   "cell_type": "code",
   "execution_count": 15,
   "metadata": {},
   "outputs": [
    {
     "name": "stdout",
     "output_type": "stream",
     "text": [
      "5\n",
      "fold  1  size is  26450\n",
      "fold  2  size is  26450\n",
      "fold  3  size is  26450\n",
      "fold  4  size is  26450\n",
      "fold  5  size is  26450\n",
      "successfully split\n"
     ]
    }
   ],
   "source": [
    "# 全データを5つに分割\n",
    "SIZE = X.shape[0]\n",
    "K = 5\n",
    "\n",
    "def make_kfolds(SIZE, K):\n",
    "    # return list object, each element is indices of its fold\n",
    "    FOLD_SIZE = int(SIZE/K)\n",
    "    res = []\n",
    "    indices = [i for i in range(SIZE)]\n",
    "    for i in range(K-1):\n",
    "        fold = random.sample(indices, FOLD_SIZE)\n",
    "        indices = list(set(indices) - set(fold))\n",
    "        res.append(fold)\n",
    "    res.append(indices)\n",
    "    return res\n",
    "\n",
    "folds = make_kfolds(SIZE, K)\n",
    "print(len(folds))\n",
    "for i, fold in enumerate(folds):\n",
    "    print(\"fold \", i+1, \" size is \", len(fold))\n",
    "    \n",
    "\n",
    "    \n",
    "if SIZE != len(set(sum(folds, []))):\n",
    "    print(\"error is occuring in spliting\")\n",
    "else :\n",
    "    print(\"successfully split\")\n"
   ]
  },
  {
   "cell_type": "code",
   "execution_count": 16,
   "metadata": {},
   "outputs": [
    {
     "name": "stdout",
     "output_type": "stream",
     "text": [
      "0:\tlearn: 0.6924081\ttest: 0.6923785\tbest: 0.6923785 (0)\ttotal: 841ms\tremaining: 14m\n",
      "10:\tlearn: 0.6882179\ttest: 0.6886489\tbest: 0.6886489 (10)\ttotal: 7.57s\tremaining: 11m 20s\n",
      "20:\tlearn: 0.6857641\ttest: 0.6866889\tbest: 0.6866889 (20)\ttotal: 14.2s\tremaining: 11m 3s\n",
      "30:\tlearn: 0.6842917\ttest: 0.6858829\tbest: 0.6858829 (30)\ttotal: 21s\tremaining: 10m 56s\n",
      "40:\tlearn: 0.6829694\ttest: 0.6851030\tbest: 0.6851030 (40)\ttotal: 27.8s\tremaining: 10m 50s\n",
      "50:\tlearn: 0.6816852\ttest: 0.6843217\tbest: 0.6843217 (50)\ttotal: 34.6s\tremaining: 10m 43s\n",
      "60:\tlearn: 0.6806835\ttest: 0.6838233\tbest: 0.6838233 (60)\ttotal: 41.7s\tremaining: 10m 41s\n",
      "70:\tlearn: 0.6798990\ttest: 0.6834917\tbest: 0.6834917 (70)\ttotal: 48.5s\tremaining: 10m 35s\n",
      "80:\tlearn: 0.6789599\ttest: 0.6831008\tbest: 0.6831008 (80)\ttotal: 55.9s\tremaining: 10m 34s\n",
      "90:\tlearn: 0.6781040\ttest: 0.6826937\tbest: 0.6826937 (90)\ttotal: 1m 2s\tremaining: 10m 27s\n",
      "100:\tlearn: 0.6774139\ttest: 0.6824044\tbest: 0.6824044 (100)\ttotal: 1m 10s\tremaining: 10m 26s\n",
      "110:\tlearn: 0.6768136\ttest: 0.6821978\tbest: 0.6821978 (110)\ttotal: 1m 17s\tremaining: 10m 23s\n",
      "120:\tlearn: 0.6758056\ttest: 0.6819937\tbest: 0.6819937 (120)\ttotal: 1m 24s\tremaining: 10m 16s\n",
      "130:\tlearn: 0.6745935\ttest: 0.6815022\tbest: 0.6815022 (130)\ttotal: 1m 32s\tremaining: 10m 10s\n",
      "140:\tlearn: 0.6734941\ttest: 0.6812897\tbest: 0.6812897 (140)\ttotal: 1m 39s\tremaining: 10m 4s\n",
      "150:\tlearn: 0.6722071\ttest: 0.6810456\tbest: 0.6810456 (150)\ttotal: 1m 46s\tremaining: 9m 58s\n",
      "160:\tlearn: 0.6712184\ttest: 0.6810392\tbest: 0.6810196 (151)\ttotal: 1m 54s\tremaining: 9m 55s\n",
      "Stopped by overfitting detector  (10 iterations wait)\n",
      "\n",
      "bestTest = 0.6810195565\n",
      "bestIteration = 151\n",
      "\n",
      "Shrink model to first 152 iterations.\n",
      "0:\tlearn: 0.6923981\ttest: 0.6925307\tbest: 0.6925307 (0)\ttotal: 799ms\tremaining: 13m 18s\n",
      "10:\tlearn: 0.6882076\ttest: 0.6895629\tbest: 0.6895629 (10)\ttotal: 8.29s\tremaining: 12m 25s\n",
      "20:\tlearn: 0.6856131\ttest: 0.6881315\tbest: 0.6881315 (20)\ttotal: 16s\tremaining: 12m 27s\n",
      "30:\tlearn: 0.6839446\ttest: 0.6872527\tbest: 0.6872527 (30)\ttotal: 23.8s\tremaining: 12m 23s\n",
      "40:\tlearn: 0.6825016\ttest: 0.6865205\tbest: 0.6865205 (40)\ttotal: 31.7s\tremaining: 12m 22s\n",
      "50:\tlearn: 0.6814498\ttest: 0.6860923\tbest: 0.6860923 (50)\ttotal: 39.3s\tremaining: 12m 10s\n",
      "60:\tlearn: 0.6804411\ttest: 0.6857014\tbest: 0.6857014 (60)\ttotal: 47.2s\tremaining: 12m 6s\n",
      "70:\tlearn: 0.6794274\ttest: 0.6854042\tbest: 0.6854042 (70)\ttotal: 54.9s\tremaining: 11m 58s\n",
      "80:\tlearn: 0.6785850\ttest: 0.6851231\tbest: 0.6851214 (79)\ttotal: 1m 2s\tremaining: 11m 53s\n",
      "90:\tlearn: 0.6778663\ttest: 0.6849905\tbest: 0.6849905 (90)\ttotal: 1m 10s\tremaining: 11m 48s\n",
      "100:\tlearn: 0.6768822\ttest: 0.6847060\tbest: 0.6846702 (98)\ttotal: 1m 18s\tremaining: 11m 39s\n",
      "110:\tlearn: 0.6761843\ttest: 0.6846596\tbest: 0.6846215 (107)\ttotal: 1m 26s\tremaining: 11m 31s\n",
      "120:\tlearn: 0.6751627\ttest: 0.6844642\tbest: 0.6844638 (119)\ttotal: 1m 35s\tremaining: 11m 37s\n",
      "130:\tlearn: 0.6741318\ttest: 0.6843417\tbest: 0.6843414 (127)\ttotal: 1m 44s\tremaining: 11m 36s\n",
      "140:\tlearn: 0.6731020\ttest: 0.6841553\tbest: 0.6841486 (139)\ttotal: 1m 53s\tremaining: 11m 31s\n",
      "150:\tlearn: 0.6719897\ttest: 0.6840578\tbest: 0.6840578 (150)\ttotal: 2m 2s\tremaining: 11m 27s\n",
      "160:\tlearn: 0.6708189\ttest: 0.6838007\tbest: 0.6838007 (160)\ttotal: 2m 12s\tremaining: 11m 29s\n",
      "170:\tlearn: 0.6697888\ttest: 0.6836295\tbest: 0.6836295 (170)\ttotal: 2m 21s\tremaining: 11m 25s\n",
      "180:\tlearn: 0.6686689\ttest: 0.6835165\tbest: 0.6835165 (180)\ttotal: 2m 30s\tremaining: 11m 22s\n",
      "190:\tlearn: 0.6679132\ttest: 0.6834867\tbest: 0.6834780 (188)\ttotal: 2m 40s\tremaining: 11m 18s\n",
      "200:\tlearn: 0.6669560\ttest: 0.6832934\tbest: 0.6832879 (198)\ttotal: 2m 48s\tremaining: 11m 8s\n",
      "210:\tlearn: 0.6662077\ttest: 0.6833412\tbest: 0.6832693 (203)\ttotal: 2m 56s\tremaining: 11m\n",
      "Stopped by overfitting detector  (10 iterations wait)\n",
      "\n",
      "bestTest = 0.6832692766\n",
      "bestIteration = 203\n",
      "\n",
      "Shrink model to first 204 iterations.\n",
      "0:\tlearn: 0.6923878\ttest: 0.6924172\tbest: 0.6924172 (0)\ttotal: 1.02s\tremaining: 16m 55s\n",
      "10:\tlearn: 0.6884602\ttest: 0.6889959\tbest: 0.6889959 (10)\ttotal: 9.65s\tremaining: 14m 27s\n",
      "20:\tlearn: 0.6860876\ttest: 0.6872551\tbest: 0.6872551 (20)\ttotal: 19.3s\tremaining: 14m 59s\n",
      "30:\tlearn: 0.6845828\ttest: 0.6862527\tbest: 0.6862527 (30)\ttotal: 28s\tremaining: 14m 36s\n",
      "40:\tlearn: 0.6833168\ttest: 0.6856212\tbest: 0.6856212 (40)\ttotal: 36.8s\tremaining: 14m 20s\n",
      "50:\tlearn: 0.6822611\ttest: 0.6850548\tbest: 0.6850548 (50)\ttotal: 45.3s\tremaining: 14m 3s\n",
      "60:\tlearn: 0.6813329\ttest: 0.6845835\tbest: 0.6845835 (60)\ttotal: 54.3s\tremaining: 13m 55s\n",
      "70:\tlearn: 0.6805685\ttest: 0.6844690\tbest: 0.6844643 (69)\ttotal: 1m 2s\tremaining: 13m 41s\n",
      "80:\tlearn: 0.6795711\ttest: 0.6840383\tbest: 0.6840383 (80)\ttotal: 1m 10s\tremaining: 13m 24s\n",
      "90:\tlearn: 0.6788527\ttest: 0.6836317\tbest: 0.6836317 (90)\ttotal: 1m 18s\tremaining: 12m 59s\n",
      "100:\tlearn: 0.6781347\ttest: 0.6834045\tbest: 0.6834045 (100)\ttotal: 1m 26s\tremaining: 12m 47s\n",
      "110:\tlearn: 0.6772389\ttest: 0.6831732\tbest: 0.6831732 (110)\ttotal: 1m 34s\tremaining: 12m 36s\n",
      "120:\tlearn: 0.6764084\ttest: 0.6829347\tbest: 0.6829347 (120)\ttotal: 1m 42s\tremaining: 12m 24s\n",
      "130:\tlearn: 0.6753903\ttest: 0.6826313\tbest: 0.6826313 (130)\ttotal: 1m 52s\tremaining: 12m 24s\n",
      "140:\tlearn: 0.6742574\ttest: 0.6824814\tbest: 0.6824510 (134)\ttotal: 2m 1s\tremaining: 12m 21s\n",
      "Stopped by overfitting detector  (10 iterations wait)\n",
      "\n",
      "bestTest = 0.6824509842\n",
      "bestIteration = 134\n",
      "\n",
      "Shrink model to first 135 iterations.\n",
      "0:\tlearn: 0.6924259\ttest: 0.6924001\tbest: 0.6924001 (0)\ttotal: 1.01s\tremaining: 16m 47s\n",
      "10:\tlearn: 0.6882159\ttest: 0.6884617\tbest: 0.6884617 (10)\ttotal: 9.37s\tremaining: 14m 2s\n",
      "20:\tlearn: 0.6859519\ttest: 0.6868371\tbest: 0.6868371 (20)\ttotal: 17.3s\tremaining: 13m 28s\n",
      "30:\tlearn: 0.6842377\ttest: 0.6857128\tbest: 0.6857128 (30)\ttotal: 25.7s\tremaining: 13m 23s\n",
      "40:\tlearn: 0.6832354\ttest: 0.6851728\tbest: 0.6851728 (40)\ttotal: 33.4s\tremaining: 13m\n",
      "50:\tlearn: 0.6820817\ttest: 0.6845512\tbest: 0.6845512 (50)\ttotal: 41.8s\tremaining: 12m 57s\n",
      "60:\tlearn: 0.6810531\ttest: 0.6840928\tbest: 0.6840928 (60)\ttotal: 51s\tremaining: 13m 5s\n",
      "70:\tlearn: 0.6801523\ttest: 0.6837833\tbest: 0.6837833 (70)\ttotal: 59.9s\tremaining: 13m 3s\n",
      "80:\tlearn: 0.6793961\ttest: 0.6836023\tbest: 0.6836023 (80)\ttotal: 1m 8s\tremaining: 12m 57s\n",
      "90:\tlearn: 0.6786382\ttest: 0.6833206\tbest: 0.6833206 (90)\ttotal: 1m 17s\tremaining: 12m 50s\n",
      "100:\tlearn: 0.6777456\ttest: 0.6831013\tbest: 0.6831013 (100)\ttotal: 1m 25s\tremaining: 12m 45s\n",
      "110:\tlearn: 0.6768207\ttest: 0.6826848\tbest: 0.6826756 (109)\ttotal: 1m 35s\tremaining: 12m 42s\n",
      "120:\tlearn: 0.6758551\ttest: 0.6824964\tbest: 0.6824800 (118)\ttotal: 1m 43s\tremaining: 12m 34s\n",
      "130:\tlearn: 0.6748996\ttest: 0.6822409\tbest: 0.6822371 (129)\ttotal: 1m 52s\tremaining: 12m 24s\n",
      "140:\tlearn: 0.6737443\ttest: 0.6819588\tbest: 0.6819588 (140)\ttotal: 2m\tremaining: 12m 14s\n",
      "150:\tlearn: 0.6726312\ttest: 0.6817999\tbest: 0.6817999 (150)\ttotal: 2m 9s\tremaining: 12m 5s\n",
      "160:\tlearn: 0.6714424\ttest: 0.6816384\tbest: 0.6816384 (160)\ttotal: 2m 17s\tremaining: 11m 57s\n",
      "170:\tlearn: 0.6704735\ttest: 0.6816397\tbest: 0.6816198 (162)\ttotal: 2m 27s\tremaining: 11m 53s\n",
      "180:\tlearn: 0.6695275\ttest: 0.6815464\tbest: 0.6815375 (178)\ttotal: 2m 36s\tremaining: 11m 47s\n",
      "190:\tlearn: 0.6686829\ttest: 0.6815215\tbest: 0.6814990 (187)\ttotal: 2m 45s\tremaining: 11m 41s\n",
      "200:\tlearn: 0.6678223\ttest: 0.6813524\tbest: 0.6813524 (200)\ttotal: 2m 55s\tremaining: 11m 36s\n",
      "210:\tlearn: 0.6670942\ttest: 0.6813079\tbest: 0.6812928 (208)\ttotal: 3m 4s\tremaining: 11m 28s\n",
      "220:\tlearn: 0.6662509\ttest: 0.6812711\tbest: 0.6812704 (218)\ttotal: 3m 12s\tremaining: 11m 19s\n",
      "230:\tlearn: 0.6655049\ttest: 0.6811240\tbest: 0.6811125 (229)\ttotal: 3m 21s\tremaining: 11m 11s\n",
      "240:\tlearn: 0.6649219\ttest: 0.6810738\tbest: 0.6810738 (240)\ttotal: 3m 30s\tremaining: 11m 2s\n",
      "250:\tlearn: 0.6643699\ttest: 0.6810254\tbest: 0.6810194 (248)\ttotal: 3m 39s\tremaining: 10m 54s\n",
      "260:\tlearn: 0.6637798\ttest: 0.6810144\tbest: 0.6809939 (258)\ttotal: 3m 47s\tremaining: 10m 45s\n",
      "270:\tlearn: 0.6630944\ttest: 0.6808707\tbest: 0.6808604 (269)\ttotal: 3m 56s\tremaining: 10m 36s\n",
      "Stopped by overfitting detector  (10 iterations wait)\n",
      "\n",
      "bestTest = 0.6808604162\n",
      "bestIteration = 269\n",
      "\n",
      "Shrink model to first 270 iterations.\n",
      "0:\tlearn: 0.6924068\ttest: 0.6924585\tbest: 0.6924585 (0)\ttotal: 834ms\tremaining: 13m 52s\n",
      "10:\tlearn: 0.6883225\ttest: 0.6889456\tbest: 0.6889456 (10)\ttotal: 9.13s\tremaining: 13m 41s\n",
      "20:\tlearn: 0.6862778\ttest: 0.6873459\tbest: 0.6873459 (20)\ttotal: 17s\tremaining: 13m 13s\n"
     ]
    },
    {
     "name": "stdout",
     "output_type": "stream",
     "text": [
      "30:\tlearn: 0.6846017\ttest: 0.6862283\tbest: 0.6862283 (30)\ttotal: 25.6s\tremaining: 13m 21s\n",
      "40:\tlearn: 0.6833089\ttest: 0.6855428\tbest: 0.6855428 (40)\ttotal: 34.3s\tremaining: 13m 22s\n",
      "50:\tlearn: 0.6821480\ttest: 0.6849536\tbest: 0.6849536 (50)\ttotal: 43.2s\tremaining: 13m 24s\n",
      "60:\tlearn: 0.6810895\ttest: 0.6843677\tbest: 0.6843677 (60)\ttotal: 52.6s\tremaining: 13m 30s\n",
      "70:\tlearn: 0.6802770\ttest: 0.6840565\tbest: 0.6840565 (70)\ttotal: 1m 1s\tremaining: 13m 24s\n",
      "80:\tlearn: 0.6793577\ttest: 0.6836893\tbest: 0.6836893 (80)\ttotal: 1m 10s\tremaining: 13m 24s\n",
      "90:\tlearn: 0.6786041\ttest: 0.6835593\tbest: 0.6835593 (90)\ttotal: 1m 19s\tremaining: 13m 18s\n",
      "100:\tlearn: 0.6776443\ttest: 0.6831122\tbest: 0.6831122 (100)\ttotal: 1m 28s\tremaining: 13m 6s\n",
      "110:\tlearn: 0.6767453\ttest: 0.6828394\tbest: 0.6828390 (109)\ttotal: 1m 37s\tremaining: 12m 58s\n",
      "120:\tlearn: 0.6758739\ttest: 0.6826278\tbest: 0.6826278 (120)\ttotal: 1m 46s\tremaining: 12m 50s\n",
      "130:\tlearn: 0.6748665\ttest: 0.6824981\tbest: 0.6824927 (128)\ttotal: 1m 55s\tremaining: 12m 43s\n",
      "140:\tlearn: 0.6737478\ttest: 0.6823400\tbest: 0.6823018 (138)\ttotal: 2m 3s\tremaining: 12m 33s\n",
      "150:\tlearn: 0.6725127\ttest: 0.6820692\tbest: 0.6820692 (150)\ttotal: 2m 12s\tremaining: 12m 24s\n",
      "160:\tlearn: 0.6713691\ttest: 0.6819726\tbest: 0.6819726 (160)\ttotal: 2m 21s\tremaining: 12m 15s\n",
      "170:\tlearn: 0.6704817\ttest: 0.6818268\tbest: 0.6818268 (170)\ttotal: 2m 30s\tremaining: 12m 7s\n",
      "180:\tlearn: 0.6696765\ttest: 0.6817566\tbest: 0.6817566 (180)\ttotal: 2m 39s\tremaining: 12m 1s\n",
      "190:\tlearn: 0.6686821\ttest: 0.6817358\tbest: 0.6817127 (185)\ttotal: 2m 49s\tremaining: 11m 56s\n",
      "200:\tlearn: 0.6678555\ttest: 0.6816175\tbest: 0.6816175 (200)\ttotal: 2m 57s\tremaining: 11m 47s\n",
      "210:\tlearn: 0.6671284\ttest: 0.6816198\tbest: 0.6815858 (203)\ttotal: 3m 6s\tremaining: 11m 37s\n",
      "220:\tlearn: 0.6661438\ttest: 0.6815837\tbest: 0.6815408 (214)\ttotal: 3m 15s\tremaining: 11m 29s\n",
      "230:\tlearn: 0.6652598\ttest: 0.6814983\tbest: 0.6814876 (229)\ttotal: 3m 24s\tremaining: 11m 20s\n",
      "240:\tlearn: 0.6644940\ttest: 0.6815100\tbest: 0.6814552 (237)\ttotal: 3m 32s\tremaining: 11m 10s\n",
      "250:\tlearn: 0.6638214\ttest: 0.6814613\tbest: 0.6814323 (248)\ttotal: 3m 42s\tremaining: 11m 2s\n",
      "260:\tlearn: 0.6629969\ttest: 0.6814395\tbest: 0.6813710 (256)\ttotal: 3m 50s\tremaining: 10m 53s\n",
      "Stopped by overfitting detector  (10 iterations wait)\n",
      "\n",
      "bestTest = 0.6813710108\n",
      "bestIteration = 256\n",
      "\n",
      "Shrink model to first 257 iterations.\n",
      "cv score :  0.5531039697542534\n",
      "cv ratio :  0.4971266540642722\n"
     ]
    }
   ],
   "source": [
    "params = {\n",
    "    \"loss_function\" : \"Logloss\",\n",
    "    \"eval_metric\" : \"Logloss\",\n",
    "    \"iterations\":1000,\n",
    "    \"learning_rate\" : 0.1,\n",
    "    \"use_best_model\": True,\n",
    "\n",
    "    \n",
    "\n",
    "}\n",
    "\n",
    "THRESHOLD = 0.50\n",
    "models = []\n",
    "cv_scores = []\n",
    "temp = 0\n",
    "train_pred = []\n",
    "\n",
    "all_indices = sum(folds, [])\n",
    "for i in range(K):\n",
    "    valid_indices = folds[i]\n",
    "    train_indices = list(set(all_indices) - set(valid_indices))\n",
    "    # print(\"train \", len(train_indices), \" , valid \", len(valid_indices))\n",
    "    \n",
    "    train_X = X.iloc[train_indices]\n",
    "    train_y = y.iloc[train_indices]\n",
    "    valid_X = X.iloc[valid_indices]\n",
    "    valid_y = y.iloc[valid_indices]\n",
    "    \n",
    "    train_data = Pool(train_X, train_y, cat_features=categorical_features_indices)\n",
    "    valid_data = Pool(valid_X, valid_y, cat_features=categorical_features_indices)\n",
    "    \n",
    "    model = CatBoostClassifier(**params)\n",
    "\n",
    "    \n",
    "    model.fit(\n",
    "        train_data,\n",
    "        eval_set=valid_data,\n",
    "        early_stopping_rounds=10,\n",
    "        verbose=10,\n",
    "        use_best_model=True,\n",
    "    )\n",
    "    \n",
    "    pred = model.predict(valid_X)\n",
    "    # pred = np.where(pred < THRESHOLD, 0, 1)\n",
    "    train_pred.append(pred)\n",
    "    temp += np.sum(pred)\n",
    "    \n",
    "    score = accuracy_score(pred, valid_y)\n",
    "    \n",
    "    models.append(model)\n",
    "    cv_scores.append(score)\n",
    "    \n",
    "    \n",
    "print(\"cv score : \", np.mean(cv_scores))    \n",
    "print(\"cv ratio : \", temp / SIZE)"
   ]
  },
  {
   "cell_type": "code",
   "execution_count": 17,
   "metadata": {},
   "outputs": [
    {
     "name": "stdout",
     "output_type": "stream",
     "text": [
      "0.5755822159491885\n",
      "0.5708892025405787\n",
      "0.5848270995059985\n",
      "0.5855328158080452\n",
      "0.5782286520818631\n",
      "0.5790119971771348\n"
     ]
    }
   ],
   "source": [
    "preds = []\n",
    "for i in range(K):\n",
    "    model = models[i]\n",
    "    pred = model.predict(test_X)\n",
    "    preds.append(pred)\n",
    "    print(np.sum(pred) / pred.shape[0])\n",
    "    \n",
    "preds = np.array(preds)\n",
    "preds = np.mean(preds, axis=0)\n",
    "print(np.sum(preds) / preds.shape[0])\n",
    "\n",
    "\n",
    "temp = pd.DataFrame({\"pred\":pred})\n",
    "# temp.hist(bins=20)"
   ]
  },
  {
   "cell_type": "code",
   "execution_count": 18,
   "metadata": {},
   "outputs": [
    {
     "name": "stdout",
     "output_type": "stream",
     "text": [
      "0.5824629498941426\n"
     ]
    }
   ],
   "source": [
    "preds = np.where(preds < THRESHOLD, 0, 1)\n",
    "print(np.sum(preds) / preds.shape[0])\n",
    "\n",
    "submit_df = pd.DataFrame({'y': preds})\n",
    "submit_df.index.name = 'id'\n",
    "submit_df.to_csv('../Submissions/submission_cat_2.csv')"
   ]
  },
  {
   "cell_type": "code",
   "execution_count": 19,
   "metadata": {},
   "outputs": [
    {
     "ename": "AttributeError",
     "evalue": "'CatBoostClassifier' object has no attribute 'feature_importance'",
     "output_type": "error",
     "traceback": [
      "\u001b[0;31m---------------------------------------------------------------------------\u001b[0m",
      "\u001b[0;31mAttributeError\u001b[0m                            Traceback (most recent call last)",
      "\u001b[0;32m<ipython-input-19-66185475fa65>\u001b[0m in \u001b[0;36m<module>\u001b[0;34m\u001b[0m\n\u001b[0;32m----> 1\u001b[0;31m \u001b[0mimportance\u001b[0m \u001b[0;34m=\u001b[0m \u001b[0mpd\u001b[0m\u001b[0;34m.\u001b[0m\u001b[0mDataFrame\u001b[0m\u001b[0;34m(\u001b[0m\u001b[0mmodels\u001b[0m\u001b[0;34m[\u001b[0m\u001b[0;36m1\u001b[0m\u001b[0;34m]\u001b[0m\u001b[0;34m.\u001b[0m\u001b[0mfeature_importance\u001b[0m\u001b[0;34m(\u001b[0m\u001b[0;34m)\u001b[0m\u001b[0;34m,\u001b[0m \u001b[0mindex\u001b[0m\u001b[0;34m=\u001b[0m\u001b[0mX\u001b[0m\u001b[0;34m.\u001b[0m\u001b[0mcolumns\u001b[0m\u001b[0;34m,\u001b[0m \u001b[0mcolumns\u001b[0m\u001b[0;34m=\u001b[0m\u001b[0;34m[\u001b[0m\u001b[0;34m'importance'\u001b[0m\u001b[0;34m]\u001b[0m\u001b[0;34m)\u001b[0m\u001b[0;34m.\u001b[0m\u001b[0msort_values\u001b[0m\u001b[0;34m(\u001b[0m\u001b[0;34m'importance'\u001b[0m\u001b[0;34m)\u001b[0m\u001b[0;34m\u001b[0m\u001b[0;34m\u001b[0m\u001b[0m\n\u001b[0m\u001b[1;32m      2\u001b[0m \u001b[0mdisplay\u001b[0m\u001b[0;34m(\u001b[0m\u001b[0mimportance\u001b[0m\u001b[0;34m)\u001b[0m\u001b[0;34m\u001b[0m\u001b[0;34m\u001b[0m\u001b[0m\n",
      "\u001b[0;31mAttributeError\u001b[0m: 'CatBoostClassifier' object has no attribute 'feature_importance'"
     ]
    }
   ],
   "source": [
    "importance = pd.DataFrame(models[1].feature_importance(), index=X.columns, columns=['importance']).sort_values('importance')\n",
    "display(importance)"
   ]
  },
  {
   "cell_type": "code",
   "execution_count": null,
   "metadata": {
    "scrolled": true
   },
   "outputs": [],
   "source": [
    "submit_df"
   ]
  },
  {
   "cell_type": "code",
   "execution_count": null,
   "metadata": {},
   "outputs": [],
   "source": []
  },
  {
   "cell_type": "code",
   "execution_count": null,
   "metadata": {},
   "outputs": [],
   "source": []
  }
 ],
 "metadata": {
  "kernelspec": {
   "display_name": "Python 3",
   "language": "python",
   "name": "python3"
  },
  "language_info": {
   "codemirror_mode": {
    "name": "ipython",
    "version": 3
   },
   "file_extension": ".py",
   "mimetype": "text/x-python",
   "name": "python",
   "nbconvert_exporter": "python",
   "pygments_lexer": "ipython3",
   "version": "3.6.12"
  }
 },
 "nbformat": 4,
 "nbformat_minor": 4
}
