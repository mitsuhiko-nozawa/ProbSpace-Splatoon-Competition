{
 "cells": [
  {
   "cell_type": "markdown",
   "metadata": {},
   "source": [
    "# Categorical Boost\n",
    "#### cv score :  0.5542533081285443 (5 folds)"
   ]
  },
  {
   "cell_type": "code",
   "execution_count": 1,
   "metadata": {},
   "outputs": [],
   "source": [
    "import sys\n",
    "sys.path.append('../')\n",
    "import pandas as pd\n",
    "import numpy as np\n",
    "import sklearn\n",
    "from Functions import prepro\n",
    "import warnings\n",
    "\n",
    "import random\n",
    "\n",
    "from sklearn.model_selection import train_test_split\n",
    "from sklearn.metrics import accuracy_score\n",
    "warnings.filterwarnings('ignore')\n",
    "from catboost import Pool, CatBoostClassifier, CatBoost\n",
    "\n",
    "\n",
    "random.seed(0)\n",
    "\n",
    "pd.set_option(\"display.max_columns\", 500)\n",
    "pd.set_option(\"display.max_rows\", 500)"
   ]
  },
  {
   "cell_type": "code",
   "execution_count": 2,
   "metadata": {},
   "outputs": [
    {
     "name": "stdout",
     "output_type": "stream",
     "text": [
      "(66125, 192)\n",
      "(28340, 191)\n"
     ]
    }
   ],
   "source": [
    "train_df = pd.read_csv(\"../../data/Processed/train2.csv\")\n",
    "test_df = pd.read_csv(\"../../data/Processed/test2.csv\")\n",
    "print(train_df.shape)\n",
    "print(test_df.shape)"
   ]
  },
  {
   "cell_type": "code",
   "execution_count": 3,
   "metadata": {},
   "outputs": [],
   "source": [
    "y = train_df[\"y\"].values\n",
    "train_df = train_df.drop(\"y\", axis=1)"
   ]
  },
  {
   "cell_type": "code",
   "execution_count": 4,
   "metadata": {},
   "outputs": [],
   "source": [
    "# add disconnection info\n",
    "\n",
    "train_df = prepro.add_disconnection(train_df)\n",
    "test_df = prepro.add_disconnection(test_df)"
   ]
  },
  {
   "cell_type": "code",
   "execution_count": 5,
   "metadata": {},
   "outputs": [],
   "source": [
    "# add info about numeric column\n",
    "# 武器データの中のnum_colsを持つ特徴について、チーム内の統計量を計算、levelは結構効いてる\n",
    "\n",
    "num_cols = [\"level\", \"range\", \"rapid-\", \"atack\", \"ink-sub\", \"fav-main\", \"good-special\"]\n",
    "\n",
    "#train_df = prepro.flat(train_df, num_cols)\n",
    "#test_df = prepro.flat(test_df, num_cols)\n",
    "\n",
    "train_df = prepro.add_numeric_info(train_df, num_cols)\n",
    "test_df = prepro.add_numeric_info(test_df, num_cols)"
   ]
  },
  {
   "cell_type": "markdown",
   "metadata": {},
   "source": [
    "# 欠損値埋め先にやろう\n",
    "欠損値がある列\n",
    "\n",
    "rank, weapon, level ⇨　回線切れ or ナワバリ\n",
    "\n",
    "weaponの欠損に並んでそれに関係ある列、A3, A4, B3, B4 ⇨ 回線切れ\n",
    "\n",
    "level, weaponが消えていたら回線切れ"
   ]
  },
  {
   "cell_type": "code",
   "execution_count": 6,
   "metadata": {},
   "outputs": [],
   "source": [
    "# rankの欠損値を埋める\n",
    "train_df, test_df = prepro.fillna_rank(train_df, test_df)\n",
    "\n",
    "#そのほかの欠損値を埋める\n",
    "train_df, test_df = prepro.fillna(train_df, test_df)"
   ]
  },
  {
   "cell_type": "code",
   "execution_count": 7,
   "metadata": {},
   "outputs": [
    {
     "name": "stdout",
     "output_type": "stream",
     "text": [
      "0\n",
      "0\n"
     ]
    }
   ],
   "source": [
    "print(train_df.isnull().sum().sum())\n",
    "print(test_df.isnull().sum().sum())"
   ]
  },
  {
   "cell_type": "markdown",
   "metadata": {},
   "source": [
    "# 特徴量エンジニアリング"
   ]
  },
  {
   "cell_type": "code",
   "execution_count": 8,
   "metadata": {},
   "outputs": [],
   "source": [
    "# count weapon\n",
    "train_df, test_df = prepro.count_weapon(train_df, test_df)\n",
    "\n",
    "# count weapon by mode\n",
    "train_df, test_df = prepro.count_weapon_by_mode(train_df, test_df)\n",
    "\n",
    "\n",
    "# 水増し, A1も統計量に含めた特徴を作る場合は水ましより先にやる\n",
    "train_df, y = prepro.mizumashi(train_df, y)\n",
    "\n",
    "# is_nawabari\n",
    "train_df, test_df = prepro.is_nawabari(train_df, test_df)\n",
    "\n",
    "# match rank\n",
    "train_df, test_df = prepro.match_rank(train_df, test_df)"
   ]
  },
  {
   "cell_type": "code",
   "execution_count": 9,
   "metadata": {},
   "outputs": [
    {
     "name": "stdout",
     "output_type": "stream",
     "text": [
      "(160590, 295)\n",
      "special-A\n",
      "special-B\n",
      "subweapon-A\n",
      "subweapon-B\n",
      "category1-A\n",
      "category1-B\n",
      "category2-A\n",
      "category2-B\n",
      "mainweapon-A\n",
      "mainweapon-B\n",
      "(160590, 489)\n",
      "complete\n"
     ]
    }
   ],
   "source": [
    "# add team info\n",
    "\n",
    "train_df,  test_df = prepro.addTeamInfo(train_df, test_df, cols=[\"special\", \"subweapon\", \"category1\", \"category2\", \"mainweapon\"])"
   ]
  },
  {
   "cell_type": "code",
   "execution_count": 10,
   "metadata": {},
   "outputs": [
    {
     "name": "stdout",
     "output_type": "stream",
     "text": [
      "category1\n",
      "category2\n",
      "subweapon\n",
      "special\n",
      "mainweapon\n"
     ]
    }
   ],
   "source": [
    "# categorize team\n",
    "\n",
    "categorize_col = [\"category1\", \"category2\", \"subweapon\", \"special\", \"mainweapon\"]\n",
    "for col in categorize_col:\n",
    "    print(col)\n",
    "    train_df_, test_df_ = prepro.categorize_team(train_df, test_df, col)"
   ]
  },
  {
   "cell_type": "code",
   "execution_count": 11,
   "metadata": {
    "scrolled": true
   },
   "outputs": [
    {
     "name": "stdout",
     "output_type": "stream",
     "text": [
      "complete\n"
     ]
    }
   ],
   "source": [
    "# make input\n",
    "\n",
    "drop_cols = [\"id\", \"lobby\", \"lobby-mode\",  \"period\", \"game-ver\", \"A1-weapon\", \"A2-weapon\", \"A3-weapon\", \"A4-weapon\", \\\n",
    "              \"B1-weapon\", \"B2-weapon\", \"B3-weapon\", \"B4-weapon\"]\n",
    "\n",
    "X, test_X = prepro.make_input(train_df, test_df, drop_cols, categorical_encode=False, scaler=False, verbose=False)\n",
    "\n",
    "categorical_features_indices = np.where(X.dtypes == \"object\")[0]"
   ]
  },
  {
   "cell_type": "markdown",
   "metadata": {},
   "source": [
    "# 学習"
   ]
  },
  {
   "cell_type": "code",
   "execution_count": 13,
   "metadata": {},
   "outputs": [
    {
     "name": "stdout",
     "output_type": "stream",
     "text": [
      "5\n",
      "fold  1  size is  26450\n",
      "fold  2  size is  26450\n",
      "fold  3  size is  26450\n",
      "fold  4  size is  26450\n",
      "fold  5  size is  26450\n",
      "successfully split\n",
      "0:\tlearn: 0.6927700\ttest: 0.6928371\tbest: 0.6928371 (0)\ttotal: 458ms\tremaining: 15m 15s\n",
      "10:\tlearn: 0.6901541\ttest: 0.6907902\tbest: 0.6907902 (10)\ttotal: 4.19s\tremaining: 12m 38s\n",
      "20:\tlearn: 0.6881926\ttest: 0.6892783\tbest: 0.6892783 (20)\ttotal: 7.91s\tremaining: 12m 25s\n",
      "30:\tlearn: 0.6869520\ttest: 0.6884270\tbest: 0.6884270 (30)\ttotal: 11.6s\tremaining: 12m 15s\n",
      "40:\tlearn: 0.6860099\ttest: 0.6877634\tbest: 0.6877634 (40)\ttotal: 15.5s\tremaining: 12m 20s\n",
      "50:\tlearn: 0.6850199\ttest: 0.6870361\tbest: 0.6870361 (50)\ttotal: 19.4s\tremaining: 12m 21s\n",
      "60:\tlearn: 0.6841980\ttest: 0.6866032\tbest: 0.6866032 (60)\ttotal: 23.4s\tremaining: 12m 24s\n",
      "70:\tlearn: 0.6833917\ttest: 0.6861501\tbest: 0.6861501 (70)\ttotal: 27.2s\tremaining: 12m 19s\n",
      "80:\tlearn: 0.6827682\ttest: 0.6858206\tbest: 0.6858206 (80)\ttotal: 31.4s\tremaining: 12m 23s\n",
      "90:\tlearn: 0.6820403\ttest: 0.6854540\tbest: 0.6854540 (90)\ttotal: 35.6s\tremaining: 12m 26s\n",
      "100:\tlearn: 0.6814821\ttest: 0.6852476\tbest: 0.6852476 (100)\ttotal: 39.4s\tremaining: 12m 19s\n",
      "110:\tlearn: 0.6808231\ttest: 0.6848953\tbest: 0.6848953 (110)\ttotal: 43.5s\tremaining: 12m 20s\n",
      "120:\tlearn: 0.6803460\ttest: 0.6846896\tbest: 0.6846896 (120)\ttotal: 47.9s\tremaining: 12m 24s\n",
      "130:\tlearn: 0.6798212\ttest: 0.6844920\tbest: 0.6844920 (130)\ttotal: 51.7s\tremaining: 12m 17s\n",
      "140:\tlearn: 0.6792813\ttest: 0.6843281\tbest: 0.6843281 (140)\ttotal: 55.6s\tremaining: 12m 13s\n",
      "150:\tlearn: 0.6787463\ttest: 0.6841769\tbest: 0.6841769 (150)\ttotal: 59.6s\tremaining: 12m 9s\n",
      "160:\tlearn: 0.6782587\ttest: 0.6840094\tbest: 0.6839976 (159)\ttotal: 1m 3s\tremaining: 12m 7s\n",
      "170:\tlearn: 0.6777664\ttest: 0.6838549\tbest: 0.6838549 (170)\ttotal: 1m 7s\tremaining: 12m 5s\n",
      "180:\tlearn: 0.6772607\ttest: 0.6837171\tbest: 0.6837171 (180)\ttotal: 1m 11s\tremaining: 12m 1s\n",
      "190:\tlearn: 0.6767227\ttest: 0.6835373\tbest: 0.6835373 (190)\ttotal: 1m 15s\tremaining: 11m 59s\n",
      "200:\tlearn: 0.6762831\ttest: 0.6834237\tbest: 0.6834237 (200)\ttotal: 1m 20s\tremaining: 11m 57s\n",
      "210:\tlearn: 0.6758000\ttest: 0.6832952\tbest: 0.6832952 (210)\ttotal: 1m 24s\tremaining: 11m 57s\n",
      "220:\tlearn: 0.6753014\ttest: 0.6831685\tbest: 0.6831685 (220)\ttotal: 1m 28s\tremaining: 11m 51s\n",
      "230:\tlearn: 0.6747534\ttest: 0.6829927\tbest: 0.6829927 (230)\ttotal: 1m 32s\tremaining: 11m 46s\n",
      "240:\tlearn: 0.6742422\ttest: 0.6827876\tbest: 0.6827876 (240)\ttotal: 1m 36s\tremaining: 11m 41s\n",
      "250:\tlearn: 0.6736553\ttest: 0.6827065\tbest: 0.6827065 (250)\ttotal: 1m 39s\tremaining: 11m 35s\n",
      "260:\tlearn: 0.6730066\ttest: 0.6825750\tbest: 0.6825750 (260)\ttotal: 1m 43s\tremaining: 11m 29s\n",
      "270:\tlearn: 0.6724484\ttest: 0.6824666\tbest: 0.6824666 (270)\ttotal: 1m 46s\tremaining: 11m 22s\n",
      "280:\tlearn: 0.6718181\ttest: 0.6822826\tbest: 0.6822826 (280)\ttotal: 1m 50s\tremaining: 11m 18s\n",
      "290:\tlearn: 0.6712762\ttest: 0.6821827\tbest: 0.6821827 (290)\ttotal: 1m 55s\tremaining: 11m 15s\n",
      "300:\tlearn: 0.6707043\ttest: 0.6821025\tbest: 0.6821025 (300)\ttotal: 1m 59s\tremaining: 11m 12s\n",
      "310:\tlearn: 0.6701324\ttest: 0.6819776\tbest: 0.6819776 (310)\ttotal: 2m 2s\tremaining: 11m 7s\n",
      "320:\tlearn: 0.6696072\ttest: 0.6819514\tbest: 0.6819514 (320)\ttotal: 2m 6s\tremaining: 11m 2s\n",
      "330:\tlearn: 0.6690341\ttest: 0.6818748\tbest: 0.6818718 (329)\ttotal: 2m 10s\tremaining: 10m 57s\n",
      "340:\tlearn: 0.6684784\ttest: 0.6817449\tbest: 0.6817427 (338)\ttotal: 2m 14s\tremaining: 10m 53s\n",
      "350:\tlearn: 0.6680254\ttest: 0.6817194\tbest: 0.6817123 (349)\ttotal: 2m 18s\tremaining: 10m 50s\n",
      "360:\tlearn: 0.6675033\ttest: 0.6816530\tbest: 0.6816490 (359)\ttotal: 2m 22s\tremaining: 10m 46s\n",
      "370:\tlearn: 0.6670233\ttest: 0.6816556\tbest: 0.6816399 (368)\ttotal: 2m 26s\tremaining: 10m 42s\n",
      "380:\tlearn: 0.6664749\ttest: 0.6815751\tbest: 0.6815751 (380)\ttotal: 2m 30s\tremaining: 10m 38s\n",
      "390:\tlearn: 0.6659751\ttest: 0.6815333\tbest: 0.6815146 (388)\ttotal: 2m 34s\tremaining: 10m 34s\n",
      "Stopped by overfitting detector  (10 iterations wait)\n",
      "\n",
      "bestTest = 0.6815146332\n",
      "bestIteration = 388\n",
      "\n",
      "Shrink model to first 389 iterations.\n",
      "0:\tlearn: 0.6927883\ttest: 0.6928305\tbest: 0.6928305 (0)\ttotal: 395ms\tremaining: 13m 9s\n",
      "10:\tlearn: 0.6899426\ttest: 0.6905451\tbest: 0.6905451 (10)\ttotal: 4.12s\tremaining: 12m 25s\n",
      "20:\tlearn: 0.6882984\ttest: 0.6893360\tbest: 0.6893360 (20)\ttotal: 7.99s\tremaining: 12m 32s\n",
      "30:\tlearn: 0.6868197\ttest: 0.6882912\tbest: 0.6882912 (30)\ttotal: 11.7s\tremaining: 12m 24s\n",
      "40:\tlearn: 0.6856069\ttest: 0.6876239\tbest: 0.6876239 (40)\ttotal: 16s\tremaining: 12m 44s\n",
      "50:\tlearn: 0.6846757\ttest: 0.6870954\tbest: 0.6870954 (50)\ttotal: 20.1s\tremaining: 12m 48s\n",
      "60:\tlearn: 0.6838176\ttest: 0.6865969\tbest: 0.6865969 (60)\ttotal: 24.1s\tremaining: 12m 46s\n",
      "70:\tlearn: 0.6830548\ttest: 0.6862417\tbest: 0.6862417 (70)\ttotal: 28s\tremaining: 12m 40s\n",
      "80:\tlearn: 0.6823907\ttest: 0.6858838\tbest: 0.6858838 (80)\ttotal: 31.7s\tremaining: 12m 32s\n",
      "90:\tlearn: 0.6818562\ttest: 0.6857122\tbest: 0.6857122 (90)\ttotal: 35.6s\tremaining: 12m 27s\n",
      "100:\tlearn: 0.6813185\ttest: 0.6854908\tbest: 0.6854908 (100)\ttotal: 39.7s\tremaining: 12m 27s\n",
      "110:\tlearn: 0.6806663\ttest: 0.6851353\tbest: 0.6851353 (110)\ttotal: 43.7s\tremaining: 12m 23s\n",
      "120:\tlearn: 0.6800833\ttest: 0.6849141\tbest: 0.6849141 (120)\ttotal: 48s\tremaining: 12m 25s\n",
      "130:\tlearn: 0.6796263\ttest: 0.6847740\tbest: 0.6847740 (130)\ttotal: 51.6s\tremaining: 12m 16s\n",
      "140:\tlearn: 0.6790887\ttest: 0.6846133\tbest: 0.6846133 (140)\ttotal: 55.6s\tremaining: 12m 12s\n",
      "150:\tlearn: 0.6786274\ttest: 0.6844891\tbest: 0.6844891 (150)\ttotal: 59.5s\tremaining: 12m 8s\n",
      "160:\tlearn: 0.6781794\ttest: 0.6843594\tbest: 0.6843594 (160)\ttotal: 1m 3s\tremaining: 12m 5s\n",
      "170:\tlearn: 0.6777968\ttest: 0.6842655\tbest: 0.6842655 (170)\ttotal: 1m 7s\tremaining: 12m 2s\n",
      "180:\tlearn: 0.6772877\ttest: 0.6841527\tbest: 0.6841527 (180)\ttotal: 1m 11s\tremaining: 11m 55s\n",
      "190:\tlearn: 0.6768090\ttest: 0.6840481\tbest: 0.6840456 (189)\ttotal: 1m 15s\tremaining: 11m 52s\n",
      "200:\tlearn: 0.6763563\ttest: 0.6839533\tbest: 0.6839533 (200)\ttotal: 1m 19s\tremaining: 11m 49s\n",
      "210:\tlearn: 0.6758387\ttest: 0.6837743\tbest: 0.6837743 (210)\ttotal: 1m 23s\tremaining: 11m 46s\n",
      "220:\tlearn: 0.6753498\ttest: 0.6836566\tbest: 0.6836566 (220)\ttotal: 1m 27s\tremaining: 11m 44s\n",
      "230:\tlearn: 0.6748051\ttest: 0.6834252\tbest: 0.6834252 (230)\ttotal: 1m 31s\tremaining: 11m 40s\n",
      "240:\tlearn: 0.6743398\ttest: 0.6833503\tbest: 0.6833503 (240)\ttotal: 1m 35s\tremaining: 11m 36s\n",
      "250:\tlearn: 0.6737836\ttest: 0.6832732\tbest: 0.6832732 (250)\ttotal: 1m 39s\tremaining: 11m 31s\n",
      "260:\tlearn: 0.6731998\ttest: 0.6830337\tbest: 0.6830337 (260)\ttotal: 1m 42s\tremaining: 11m 25s\n",
      "270:\tlearn: 0.6725950\ttest: 0.6829082\tbest: 0.6829082 (270)\ttotal: 1m 46s\tremaining: 11m 20s\n",
      "280:\tlearn: 0.6719155\ttest: 0.6827313\tbest: 0.6827296 (279)\ttotal: 1m 50s\tremaining: 11m 16s\n",
      "290:\tlearn: 0.6711750\ttest: 0.6826075\tbest: 0.6826075 (290)\ttotal: 1m 54s\tremaining: 11m 12s\n",
      "300:\tlearn: 0.6706246\ttest: 0.6825600\tbest: 0.6825546 (298)\ttotal: 1m 58s\tremaining: 11m 7s\n",
      "310:\tlearn: 0.6701420\ttest: 0.6825221\tbest: 0.6825221 (310)\ttotal: 2m 2s\tremaining: 11m 4s\n",
      "320:\tlearn: 0.6694778\ttest: 0.6823851\tbest: 0.6823813 (317)\ttotal: 2m 6s\tremaining: 11m 1s\n",
      "330:\tlearn: 0.6690043\ttest: 0.6823312\tbest: 0.6823312 (330)\ttotal: 2m 10s\tremaining: 10m 59s\n",
      "340:\tlearn: 0.6684864\ttest: 0.6822608\tbest: 0.6822608 (340)\ttotal: 2m 14s\tremaining: 10m 56s\n",
      "350:\tlearn: 0.6679499\ttest: 0.6821651\tbest: 0.6821651 (350)\ttotal: 2m 18s\tremaining: 10m 52s\n",
      "360:\tlearn: 0.6674867\ttest: 0.6820871\tbest: 0.6820871 (360)\ttotal: 2m 22s\tremaining: 10m 48s\n",
      "370:\tlearn: 0.6669763\ttest: 0.6821045\tbest: 0.6820871 (360)\ttotal: 2m 26s\tremaining: 10m 44s\n",
      "Stopped by overfitting detector  (10 iterations wait)\n",
      "\n",
      "bestTest = 0.6820870795\n",
      "bestIteration = 360\n",
      "\n",
      "Shrink model to first 361 iterations.\n",
      "0:\tlearn: 0.6927277\ttest: 0.6927398\tbest: 0.6927398 (0)\ttotal: 392ms\tremaining: 13m 2s\n",
      "10:\tlearn: 0.6901005\ttest: 0.6902947\tbest: 0.6902947 (10)\ttotal: 4.27s\tremaining: 12m 52s\n",
      "20:\tlearn: 0.6883004\ttest: 0.6888302\tbest: 0.6888302 (20)\ttotal: 8.07s\tremaining: 12m 40s\n",
      "30:\tlearn: 0.6868478\ttest: 0.6876563\tbest: 0.6876563 (30)\ttotal: 12.1s\tremaining: 12m 45s\n",
      "40:\tlearn: 0.6858519\ttest: 0.6868478\tbest: 0.6868478 (40)\ttotal: 16.1s\tremaining: 12m 50s\n",
      "50:\tlearn: 0.6850023\ttest: 0.6862492\tbest: 0.6862492 (50)\ttotal: 20.6s\tremaining: 13m 7s\n",
      "60:\tlearn: 0.6841097\ttest: 0.6856002\tbest: 0.6856002 (60)\ttotal: 24.5s\tremaining: 12m 58s\n"
     ]
    },
    {
     "name": "stdout",
     "output_type": "stream",
     "text": [
      "70:\tlearn: 0.6833656\ttest: 0.6852318\tbest: 0.6852318 (70)\ttotal: 28.9s\tremaining: 13m 4s\n",
      "80:\tlearn: 0.6827081\ttest: 0.6849625\tbest: 0.6849616 (79)\ttotal: 33s\tremaining: 13m 2s\n",
      "90:\tlearn: 0.6820904\ttest: 0.6845986\tbest: 0.6845986 (90)\ttotal: 37.3s\tremaining: 13m 3s\n",
      "100:\tlearn: 0.6815853\ttest: 0.6843791\tbest: 0.6843791 (100)\ttotal: 41.6s\tremaining: 13m 2s\n",
      "110:\tlearn: 0.6810443\ttest: 0.6841788\tbest: 0.6841788 (110)\ttotal: 46s\tremaining: 13m 2s\n",
      "120:\tlearn: 0.6804525\ttest: 0.6838673\tbest: 0.6838673 (120)\ttotal: 50.5s\tremaining: 13m 3s\n",
      "130:\tlearn: 0.6799926\ttest: 0.6836386\tbest: 0.6836386 (130)\ttotal: 54.4s\tremaining: 12m 56s\n",
      "140:\tlearn: 0.6795653\ttest: 0.6834621\tbest: 0.6834621 (140)\ttotal: 58.5s\tremaining: 12m 50s\n",
      "150:\tlearn: 0.6789550\ttest: 0.6831909\tbest: 0.6831909 (150)\ttotal: 1m 2s\tremaining: 12m 50s\n",
      "160:\tlearn: 0.6784971\ttest: 0.6829651\tbest: 0.6829651 (160)\ttotal: 1m 7s\tremaining: 12m 47s\n",
      "170:\tlearn: 0.6780482\ttest: 0.6828175\tbest: 0.6828175 (170)\ttotal: 1m 11s\tremaining: 12m 41s\n",
      "180:\tlearn: 0.6776027\ttest: 0.6826625\tbest: 0.6826625 (180)\ttotal: 1m 15s\tremaining: 12m 35s\n",
      "190:\tlearn: 0.6771174\ttest: 0.6825086\tbest: 0.6825086 (190)\ttotal: 1m 19s\tremaining: 12m 32s\n",
      "200:\tlearn: 0.6766349\ttest: 0.6823604\tbest: 0.6823604 (200)\ttotal: 1m 23s\tremaining: 12m 30s\n",
      "210:\tlearn: 0.6761449\ttest: 0.6822400\tbest: 0.6822380 (209)\ttotal: 1m 28s\tremaining: 12m 28s\n",
      "220:\tlearn: 0.6757107\ttest: 0.6820977\tbest: 0.6820977 (220)\ttotal: 1m 32s\tremaining: 12m 27s\n",
      "230:\tlearn: 0.6752243\ttest: 0.6819274\tbest: 0.6819274 (230)\ttotal: 1m 37s\tremaining: 12m 23s\n",
      "240:\tlearn: 0.6747836\ttest: 0.6817827\tbest: 0.6817827 (240)\ttotal: 1m 41s\tremaining: 12m 21s\n",
      "250:\tlearn: 0.6743345\ttest: 0.6817287\tbest: 0.6817263 (248)\ttotal: 1m 45s\tremaining: 12m 17s\n",
      "260:\tlearn: 0.6737825\ttest: 0.6814935\tbest: 0.6814935 (260)\ttotal: 1m 50s\tremaining: 12m 14s\n",
      "270:\tlearn: 0.6732394\ttest: 0.6813816\tbest: 0.6813816 (270)\ttotal: 1m 54s\tremaining: 12m 8s\n",
      "280:\tlearn: 0.6726190\ttest: 0.6812266\tbest: 0.6812266 (280)\ttotal: 1m 58s\tremaining: 12m 7s\n",
      "290:\tlearn: 0.6720101\ttest: 0.6811491\tbest: 0.6811491 (290)\ttotal: 2m 3s\tremaining: 12m 2s\n",
      "300:\tlearn: 0.6714903\ttest: 0.6811312\tbest: 0.6811312 (300)\ttotal: 2m 7s\tremaining: 11m 57s\n",
      "310:\tlearn: 0.6708010\ttest: 0.6809453\tbest: 0.6809453 (310)\ttotal: 2m 11s\tremaining: 11m 52s\n",
      "320:\tlearn: 0.6703066\ttest: 0.6808170\tbest: 0.6808170 (320)\ttotal: 2m 15s\tremaining: 11m 48s\n",
      "330:\tlearn: 0.6697115\ttest: 0.6806666\tbest: 0.6806666 (330)\ttotal: 2m 20s\tremaining: 11m 47s\n",
      "340:\tlearn: 0.6691799\ttest: 0.6806238\tbest: 0.6806130 (339)\ttotal: 2m 24s\tremaining: 11m 44s\n",
      "350:\tlearn: 0.6686503\ttest: 0.6805373\tbest: 0.6805373 (350)\ttotal: 2m 29s\tremaining: 11m 40s\n",
      "360:\tlearn: 0.6680542\ttest: 0.6803503\tbest: 0.6803503 (360)\ttotal: 2m 33s\tremaining: 11m 36s\n",
      "370:\tlearn: 0.6675419\ttest: 0.6802033\tbest: 0.6802033 (370)\ttotal: 2m 38s\tremaining: 11m 34s\n",
      "380:\tlearn: 0.6669226\ttest: 0.6796979\tbest: 0.6796938 (378)\ttotal: 2m 44s\tremaining: 11m 36s\n",
      "390:\tlearn: 0.6664563\ttest: 0.6797037\tbest: 0.6796661 (383)\ttotal: 2m 47s\tremaining: 11m 31s\n",
      "Stopped by overfitting detector  (10 iterations wait)\n",
      "\n",
      "bestTest = 0.6796660547\n",
      "bestIteration = 383\n",
      "\n",
      "Shrink model to first 384 iterations.\n",
      "0:\tlearn: 0.6928020\ttest: 0.6928158\tbest: 0.6928158 (0)\ttotal: 407ms\tremaining: 13m 33s\n",
      "10:\tlearn: 0.6899774\ttest: 0.6902910\tbest: 0.6902910 (10)\ttotal: 4.3s\tremaining: 12m 57s\n",
      "20:\tlearn: 0.6882218\ttest: 0.6888815\tbest: 0.6888815 (20)\ttotal: 8.11s\tremaining: 12m 43s\n",
      "30:\tlearn: 0.6868804\ttest: 0.6879099\tbest: 0.6879099 (30)\ttotal: 12.2s\tremaining: 12m 55s\n",
      "40:\tlearn: 0.6857951\ttest: 0.6872428\tbest: 0.6872428 (40)\ttotal: 16.6s\tremaining: 13m 11s\n",
      "50:\tlearn: 0.6848554\ttest: 0.6866852\tbest: 0.6866852 (50)\ttotal: 21.1s\tremaining: 13m 27s\n",
      "60:\tlearn: 0.6838934\ttest: 0.6861736\tbest: 0.6861736 (60)\ttotal: 25.4s\tremaining: 13m 26s\n",
      "70:\tlearn: 0.6831694\ttest: 0.6857794\tbest: 0.6857794 (70)\ttotal: 29.8s\tremaining: 13m 28s\n",
      "80:\tlearn: 0.6824877\ttest: 0.6854671\tbest: 0.6854671 (80)\ttotal: 34.3s\tremaining: 13m 33s\n",
      "90:\tlearn: 0.6818446\ttest: 0.6851617\tbest: 0.6851617 (90)\ttotal: 39.3s\tremaining: 13m 43s\n",
      "100:\tlearn: 0.6811774\ttest: 0.6848379\tbest: 0.6848379 (100)\ttotal: 43.7s\tremaining: 13m 41s\n",
      "110:\tlearn: 0.6805586\ttest: 0.6845905\tbest: 0.6845905 (110)\ttotal: 48.1s\tremaining: 13m 38s\n",
      "120:\tlearn: 0.6799311\ttest: 0.6843246\tbest: 0.6843246 (120)\ttotal: 52.5s\tremaining: 13m 35s\n",
      "130:\tlearn: 0.6793609\ttest: 0.6840473\tbest: 0.6840473 (130)\ttotal: 56.6s\tremaining: 13m 28s\n",
      "140:\tlearn: 0.6789083\ttest: 0.6839005\tbest: 0.6839005 (140)\ttotal: 1m 1s\tremaining: 13m 25s\n",
      "150:\tlearn: 0.6783738\ttest: 0.6837219\tbest: 0.6837219 (150)\ttotal: 1m 5s\tremaining: 13m 23s\n",
      "160:\tlearn: 0.6779181\ttest: 0.6836033\tbest: 0.6835954 (159)\ttotal: 1m 10s\tremaining: 13m 26s\n",
      "170:\tlearn: 0.6774906\ttest: 0.6834737\tbest: 0.6834737 (170)\ttotal: 1m 15s\tremaining: 13m 25s\n",
      "180:\tlearn: 0.6770198\ttest: 0.6833110\tbest: 0.6833110 (180)\ttotal: 1m 19s\tremaining: 13m 23s\n",
      "190:\tlearn: 0.6765829\ttest: 0.6831549\tbest: 0.6831549 (190)\ttotal: 1m 24s\tremaining: 13m 16s\n",
      "200:\tlearn: 0.6761218\ttest: 0.6830788\tbest: 0.6830755 (199)\ttotal: 1m 28s\tremaining: 13m 11s\n",
      "210:\tlearn: 0.6756853\ttest: 0.6830263\tbest: 0.6830216 (209)\ttotal: 1m 33s\tremaining: 13m 9s\n",
      "220:\tlearn: 0.6751057\ttest: 0.6828685\tbest: 0.6828685 (220)\ttotal: 1m 37s\tremaining: 13m 2s\n",
      "230:\tlearn: 0.6746027\ttest: 0.6827361\tbest: 0.6827361 (230)\ttotal: 1m 41s\tremaining: 12m 59s\n",
      "240:\tlearn: 0.6740960\ttest: 0.6826143\tbest: 0.6826130 (239)\ttotal: 1m 46s\tremaining: 12m 56s\n",
      "250:\tlearn: 0.6734200\ttest: 0.6824555\tbest: 0.6824543 (249)\ttotal: 1m 50s\tremaining: 12m 50s\n",
      "260:\tlearn: 0.6728931\ttest: 0.6823261\tbest: 0.6823261 (260)\ttotal: 1m 54s\tremaining: 12m 44s\n",
      "270:\tlearn: 0.6723353\ttest: 0.6821954\tbest: 0.6821954 (270)\ttotal: 1m 59s\tremaining: 12m 41s\n",
      "280:\tlearn: 0.6717664\ttest: 0.6820412\tbest: 0.6820412 (280)\ttotal: 2m 3s\tremaining: 12m 36s\n",
      "290:\tlearn: 0.6712421\ttest: 0.6819952\tbest: 0.6819760 (288)\ttotal: 2m 7s\tremaining: 12m 30s\n",
      "300:\tlearn: 0.6707304\ttest: 0.6819043\tbest: 0.6819043 (300)\ttotal: 2m 12s\tremaining: 12m 25s\n",
      "310:\tlearn: 0.6701234\ttest: 0.6817785\tbest: 0.6817785 (310)\ttotal: 2m 16s\tremaining: 12m 20s\n",
      "320:\tlearn: 0.6696044\ttest: 0.6816855\tbest: 0.6816786 (319)\ttotal: 2m 20s\tremaining: 12m 15s\n",
      "330:\tlearn: 0.6689767\ttest: 0.6814307\tbest: 0.6814307 (330)\ttotal: 2m 25s\tremaining: 12m 13s\n",
      "340:\tlearn: 0.6682978\ttest: 0.6814283\tbest: 0.6814202 (333)\ttotal: 2m 31s\tremaining: 12m 15s\n",
      "350:\tlearn: 0.6678753\ttest: 0.6814037\tbest: 0.6813927 (349)\ttotal: 2m 35s\tremaining: 12m 9s\n",
      "Stopped by overfitting detector  (10 iterations wait)\n",
      "\n",
      "bestTest = 0.6813927048\n",
      "bestIteration = 349\n",
      "\n",
      "Shrink model to first 350 iterations.\n",
      "0:\tlearn: 0.6927303\ttest: 0.6927114\tbest: 0.6927114 (0)\ttotal: 432ms\tremaining: 14m 22s\n",
      "10:\tlearn: 0.6903208\ttest: 0.6904532\tbest: 0.6904532 (10)\ttotal: 4.28s\tremaining: 12m 53s\n",
      "20:\tlearn: 0.6887056\ttest: 0.6891568\tbest: 0.6891568 (20)\ttotal: 8.38s\tremaining: 13m 9s\n",
      "30:\tlearn: 0.6874166\ttest: 0.6881961\tbest: 0.6881961 (30)\ttotal: 12.4s\tremaining: 13m 8s\n",
      "40:\tlearn: 0.6862212\ttest: 0.6872972\tbest: 0.6872972 (40)\ttotal: 16.9s\tremaining: 13m 28s\n",
      "50:\tlearn: 0.6853012\ttest: 0.6868492\tbest: 0.6868492 (50)\ttotal: 21.8s\tremaining: 13m 53s\n",
      "60:\tlearn: 0.6843525\ttest: 0.6862840\tbest: 0.6862840 (60)\ttotal: 26.5s\tremaining: 14m 3s\n",
      "70:\tlearn: 0.6836107\ttest: 0.6859305\tbest: 0.6859305 (70)\ttotal: 30.9s\tremaining: 13m 59s\n",
      "80:\tlearn: 0.6828775\ttest: 0.6855094\tbest: 0.6855094 (80)\ttotal: 35.1s\tremaining: 13m 52s\n",
      "90:\tlearn: 0.6821469\ttest: 0.6850816\tbest: 0.6850816 (90)\ttotal: 39.7s\tremaining: 13m 52s\n",
      "100:\tlearn: 0.6816161\ttest: 0.6848922\tbest: 0.6848922 (100)\ttotal: 44.1s\tremaining: 13m 49s\n",
      "110:\tlearn: 0.6809812\ttest: 0.6845983\tbest: 0.6845983 (110)\ttotal: 48.9s\tremaining: 13m 51s\n",
      "120:\tlearn: 0.6803350\ttest: 0.6843133\tbest: 0.6843133 (120)\ttotal: 53.4s\tremaining: 13m 49s\n",
      "130:\tlearn: 0.6797742\ttest: 0.6840883\tbest: 0.6840883 (130)\ttotal: 57.6s\tremaining: 13m 41s\n",
      "140:\tlearn: 0.6792470\ttest: 0.6838681\tbest: 0.6838681 (140)\ttotal: 1m 1s\tremaining: 13m 36s\n",
      "150:\tlearn: 0.6787754\ttest: 0.6837092\tbest: 0.6837092 (150)\ttotal: 1m 6s\tremaining: 13m 34s\n",
      "160:\tlearn: 0.6782529\ttest: 0.6834946\tbest: 0.6834946 (160)\ttotal: 1m 11s\tremaining: 13m 33s\n",
      "170:\tlearn: 0.6778055\ttest: 0.6833759\tbest: 0.6833759 (170)\ttotal: 1m 15s\tremaining: 13m 29s\n"
     ]
    },
    {
     "name": "stdout",
     "output_type": "stream",
     "text": [
      "180:\tlearn: 0.6773021\ttest: 0.6832118\tbest: 0.6832089 (179)\ttotal: 1m 20s\tremaining: 13m 30s\n",
      "190:\tlearn: 0.6768973\ttest: 0.6830942\tbest: 0.6830942 (190)\ttotal: 1m 25s\tremaining: 13m 28s\n",
      "200:\tlearn: 0.6764122\ttest: 0.6829711\tbest: 0.6829711 (200)\ttotal: 1m 29s\tremaining: 13m 23s\n",
      "210:\tlearn: 0.6759279\ttest: 0.6828183\tbest: 0.6828183 (210)\ttotal: 1m 34s\tremaining: 13m 19s\n",
      "220:\tlearn: 0.6754345\ttest: 0.6826794\tbest: 0.6826794 (220)\ttotal: 1m 38s\tremaining: 13m 13s\n",
      "230:\tlearn: 0.6749938\ttest: 0.6825749\tbest: 0.6825749 (230)\ttotal: 1m 43s\tremaining: 13m 10s\n",
      "240:\tlearn: 0.6745001\ttest: 0.6825014\tbest: 0.6825014 (240)\ttotal: 1m 47s\tremaining: 13m 7s\n",
      "250:\tlearn: 0.6738758\ttest: 0.6823561\tbest: 0.6823561 (250)\ttotal: 1m 52s\tremaining: 13m 4s\n",
      "260:\tlearn: 0.6732260\ttest: 0.6822069\tbest: 0.6822069 (260)\ttotal: 1m 56s\tremaining: 12m 57s\n",
      "270:\tlearn: 0.6726787\ttest: 0.6821932\tbest: 0.6821918 (266)\ttotal: 2m 1s\tremaining: 12m 53s\n",
      "280:\tlearn: 0.6720800\ttest: 0.6820868\tbest: 0.6820868 (280)\ttotal: 2m 5s\tremaining: 12m 49s\n",
      "290:\tlearn: 0.6714840\ttest: 0.6819928\tbest: 0.6819928 (290)\ttotal: 2m 9s\tremaining: 12m 42s\n",
      "300:\tlearn: 0.6708695\ttest: 0.6819462\tbest: 0.6819220 (296)\ttotal: 2m 14s\tremaining: 12m 37s\n",
      "310:\tlearn: 0.6703217\ttest: 0.6818417\tbest: 0.6818417 (310)\ttotal: 2m 18s\tremaining: 12m 32s\n",
      "320:\tlearn: 0.6698218\ttest: 0.6818146\tbest: 0.6818146 (320)\ttotal: 2m 22s\tremaining: 12m 26s\n",
      "330:\tlearn: 0.6691087\ttest: 0.6817810\tbest: 0.6817810 (330)\ttotal: 2m 28s\tremaining: 12m 27s\n",
      "340:\tlearn: 0.6684917\ttest: 0.6817016\tbest: 0.6816925 (339)\ttotal: 2m 33s\tremaining: 12m 25s\n",
      "350:\tlearn: 0.6679157\ttest: 0.6816794\tbest: 0.6816794 (350)\ttotal: 2m 37s\tremaining: 12m 19s\n",
      "360:\tlearn: 0.6673502\ttest: 0.6815197\tbest: 0.6815197 (360)\ttotal: 2m 41s\tremaining: 12m 14s\n",
      "370:\tlearn: 0.6667655\ttest: 0.6815188\tbest: 0.6814990 (365)\ttotal: 2m 47s\tremaining: 12m 14s\n",
      "380:\tlearn: 0.6663083\ttest: 0.6814840\tbest: 0.6814622 (375)\ttotal: 2m 51s\tremaining: 12m 8s\n",
      "Stopped by overfitting detector  (10 iterations wait)\n",
      "\n",
      "bestTest = 0.681462178\n",
      "bestIteration = 375\n",
      "\n",
      "Shrink model to first 376 iterations.\n",
      "cv score :  0.5542306238185255\n",
      "cv ratio :  0.49822306238185254\n"
     ]
    }
   ],
   "source": [
    "# 全データを5つに分割\n",
    "random.seed(random.randint(0, 10000))\n",
    "SIZE = X.shape[0]\n",
    "K = 5\n",
    "cat_tgtenc_cols = [\"mode\", \"stage\", \"team-category1-A\", \"team-category1-B\"]\n",
    "#cat_tgtenc_cols = [\"mode\", \"stage\"]\n",
    "\n",
    "#folds = prepro.make_kfolds(SIZE, K)\n",
    "folds = prepro.make_stratified_kfolds(X, y, K)\n",
    "\n",
    "print(len(folds))\n",
    "for i, fold in enumerate(folds):\n",
    "    print(\"fold \", i+1, \" size is \", len(fold))\n",
    "    \n",
    "    \n",
    "if SIZE != len(set(sum(folds, []))):\n",
    "    print(\"error is occuring in spliting\")\n",
    "else :\n",
    "    print(\"successfully split\")\n",
    "    \n",
    "params = {\n",
    "    \"loss_function\" : \"Logloss\",\n",
    "    \"eval_metric\" : \"Logloss\",\n",
    "    \"iterations\":2000,\n",
    "    \"learning_rate\" : 0.05,\n",
    "    \"use_best_model\": True,\n",
    "    \"random_seed\":1,\n",
    "\n",
    "    \n",
    "\n",
    "}\n",
    "\n",
    "THRESHOLD = 0.50\n",
    "models = []\n",
    "cv_scores = []\n",
    "temp = 0\n",
    "train_pred = []\n",
    "valid_ys = []\n",
    "\n",
    "all_indices = sum(folds, [])\n",
    "for i in range(K):\n",
    "    valid_indices = folds[i]\n",
    "    train_indices = list(set(all_indices) - set(valid_indices))\n",
    "    # print(\"train \", len(train_indices), \" , valid \", len(valid_indices))\n",
    "    \n",
    "\n",
    "    train_X = X.iloc[train_indices]\n",
    "    try:\n",
    "        train_y = y.iloc[train_indices]\n",
    "    except:\n",
    "        train_y = y[train_indices]\n",
    "    valid_X = X.iloc[valid_indices]\n",
    "    try:\n",
    "        valid_y = y.iloc[valid_indices]\n",
    "    except:\n",
    "        valid_y = y[valid_indices]\n",
    "    \n",
    "    \n",
    "    \n",
    "    \n",
    "    train_data = Pool(train_X, train_y, cat_features=categorical_features_indices)\n",
    "    valid_data = Pool(valid_X, valid_y, cat_features=categorical_features_indices)\n",
    "    \n",
    "    model = CatBoostClassifier(**params)\n",
    "\n",
    "    \n",
    "    model.fit(\n",
    "        train_data,\n",
    "        eval_set=valid_data,\n",
    "        early_stopping_rounds=10,\n",
    "        verbose=10,\n",
    "        use_best_model=True,\n",
    "    )\n",
    "    \n",
    "    pred = model.predict(valid_X)\n",
    "    # pred = np.where(pred < THRESHOLD, 0, 1)\n",
    "    train_pred.append(pred)\n",
    "    temp += np.sum(pred) \n",
    "    \n",
    "    score = accuracy_score(pred, valid_y)\n",
    "    \n",
    "    models.append(model)\n",
    "    cv_scores.append(score)\n",
    "    \n",
    "    \n",
    "print(\"cv score : \", np.mean(cv_scores))    \n",
    "print(\"cv ratio : \", temp / SIZE)"
   ]
  },
  {
   "cell_type": "code",
   "execution_count": null,
   "metadata": {},
   "outputs": [],
   "source": [
    "preds = []\n",
    "for i in range(K):\n",
    "    model = models[i]\n",
    "    pred = model.predict(test_X, prediction_type='Probability')[:,1]\n",
    "    preds.append(pred)\n",
    "    print(np.sum(pred) / pred.shape[0])\n",
    "    \n",
    "preds = np.array(preds)\n",
    "preds = np.mean(preds, axis=0)\n",
    "print(np.sum(preds) / preds.shape[0])\n",
    "\n",
    "\n",
    "temp = pd.DataFrame({\"pred\":pred})\n",
    "temp.hist(bins=20)"
   ]
  },
  {
   "cell_type": "code",
   "execution_count": null,
   "metadata": {},
   "outputs": [],
   "source": [
    "preds = np.where(preds < THRESHOLD, 0, 1)\n",
    "print(np.sum(preds) / preds.shape[0])\n",
    "\n",
    "submit_df = pd.DataFrame({'y': preds})\n",
    "submit_df.index.name = 'id'\n",
    "#submit_df.to_csv('../Submissions/submission_cat_3_{}.csv'.format(K))"
   ]
  },
  {
   "cell_type": "markdown",
   "metadata": {},
   "source": [
    "# モデル解釈"
   ]
  },
  {
   "cell_type": "code",
   "execution_count": null,
   "metadata": {},
   "outputs": [],
   "source": [
    "importance = pd.DataFrame(models[0].get_feature_importance(), index=X.columns, columns=['importance']).sort_values('importance', ascending=False)\n",
    "display(importance)"
   ]
  },
  {
   "cell_type": "code",
   "execution_count": null,
   "metadata": {},
   "outputs": [],
   "source": [
    "train_df[\"pred\"] = 0\n",
    "train_df[\"y\"] = y.values\n",
    "for i in range(K):\n",
    "    train_df[\"pred\"].iloc[folds[i]] = train_pred[i]"
   ]
  },
  {
   "cell_type": "code",
   "execution_count": null,
   "metadata": {},
   "outputs": [],
   "source": [
    "result_df = train_df[train_df[\"y\"] != train_df[\"pred\"]]"
   ]
  },
  {
   "cell_type": "code",
   "execution_count": null,
   "metadata": {},
   "outputs": [],
   "source": [
    "print(result_df[result_df[\"mode\"] == \"nawabari\"].shape[0]/result_df.shape[0])\n",
    "print(result_df[result_df[\"mode\"] == \"hoko\"].shape[0]/result_df.shape[0])\n",
    "print(result_df[result_df[\"mode\"] == \"asari\"].shape[0]/result_df.shape[0])\n",
    "print(result_df[result_df[\"mode\"] == \"area\"].shape[0]/result_df.shape[0])\n",
    "print(result_df[result_df[\"mode\"] == \"yagura\"].shape[0]/result_df.shape[0])"
   ]
  },
  {
   "cell_type": "code",
   "execution_count": null,
   "metadata": {},
   "outputs": [],
   "source": [
    "result_df[result_df[\"mode\"] == \"nawabari\"]"
   ]
  },
  {
   "cell_type": "code",
   "execution_count": null,
   "metadata": {},
   "outputs": [],
   "source": []
  },
  {
   "cell_type": "code",
   "execution_count": null,
   "metadata": {},
   "outputs": [],
   "source": []
  }
 ],
 "metadata": {
  "kernelspec": {
   "display_name": "Python 3",
   "language": "python",
   "name": "python3"
  },
  "language_info": {
   "codemirror_mode": {
    "name": "ipython",
    "version": 3
   },
   "file_extension": ".py",
   "mimetype": "text/x-python",
   "name": "python",
   "nbconvert_exporter": "python",
   "pygments_lexer": "ipython3",
   "version": "3.6.12"
  }
 },
 "nbformat": 4,
 "nbformat_minor": 4
}
