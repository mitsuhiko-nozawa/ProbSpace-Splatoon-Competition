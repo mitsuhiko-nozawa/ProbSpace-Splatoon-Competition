{
 "cells": [
  {
   "cell_type": "markdown",
   "metadata": {},
   "source": [
    "# Categorical Boost\n",
    "#### cv score :  0.5639017013232513 (5 folds, LB 0.5609)\n",
    "#### cv score :  0.5639017013232513 (5 folds, find rare, LB )\n",
    "#### cv score :  0.571281663516068 ... (LB 0.555) onehotなし、"
   ]
  },
  {
   "cell_type": "code",
   "execution_count": 1,
   "metadata": {},
   "outputs": [],
   "source": [
    "import sys\n",
    "sys.path.append('../')\n",
    "import pandas as pd\n",
    "import numpy as np\n",
    "import sklearn\n",
    "from Functions import prepro\n",
    "import warnings\n",
    "warnings.filterwarnings('ignore')\n",
    "\n",
    "import random\n",
    "\n",
    "from sklearn.model_selection import train_test_split\n",
    "from sklearn.metrics import accuracy_score\n",
    "warnings.filterwarnings('ignore')\n",
    "from catboost import Pool, CatBoostClassifier, CatBoost\n",
    "import matplotlib.pyplot as plt\n",
    "import seaborn as sns\n",
    "\n",
    "\n",
    "FEATURE_SELECTION = False\n",
    "tgt_encode = False\n",
    "\n",
    "random.seed(0)\n",
    "\n",
    "pd.set_option(\"display.max_columns\", 1000)\n",
    "pd.set_option(\"display.max_rows\", 1000)\n",
    "\n",
    "%matplotlib inline"
   ]
  },
  {
   "cell_type": "code",
   "execution_count": 2,
   "metadata": {},
   "outputs": [
    {
     "name": "stdout",
     "output_type": "stream",
     "text": [
      "(66125, 304)\n",
      "(28340, 303)\n"
     ]
    }
   ],
   "source": [
    "train_df = pd.read_csv(\"../../data/Processed/train2.csv\")\n",
    "test_df = pd.read_csv(\"../../data/Processed/test2.csv\")\n",
    "print(train_df.shape)\n",
    "print(test_df.shape)"
   ]
  },
  {
   "cell_type": "code",
   "execution_count": 3,
   "metadata": {},
   "outputs": [],
   "source": [
    "y = train_df[\"y\"].values\n",
    "train_df = train_df.drop(\"y\", axis=1)"
   ]
  },
  {
   "cell_type": "code",
   "execution_count": 4,
   "metadata": {},
   "outputs": [],
   "source": [
    "# add disconnection info\n",
    "\n",
    "train_df = prepro.add_disconnection(train_df)\n",
    "test_df = prepro.add_disconnection(test_df)"
   ]
  },
  {
   "cell_type": "code",
   "execution_count": 5,
   "metadata": {},
   "outputs": [],
   "source": [
    "# add info about numeric column\n",
    "# 武器データの中のnum_colsを持つ特徴について、チーム内の統計量を計算、levelは結構効いてる\n",
    "\n",
    "# num_cols = [\"level\", \"range\", \"rapid\", \"atack\", \"ink-sub\", \"fav-main\", \"good-special\"]\n",
    "\n",
    "num_cols = [\n",
    "    \"level\", \"range-main\", \"range-bullet-main\", \"distant-range_sub\", \n",
    "    \"rapid\", \"atack\", \"ink-sub\", \"fav-main\", \"good-special\", \"DPS\", \"kill_time_ika-main\",\n",
    "    \"front_gap_human-main\", \"rensya_frame-main\", \"saidai_damege-main\", \"damage_min-sub\", \n",
    "    \"damage_max-sub\", \"install_num-sub\", \"good-sub\", \"damage_max-special\", \n",
    "    \"duration-special\", \"good-special\", \"direct_rad-special\", \"distant_rad-special\"\n",
    "]\n",
    "\n",
    "cols = [col for col in train_df.columns if \"A1\" in col or \"A2\" in col or \"A3\" in col or \"A4\" in col or \n",
    "        \"B1\" in col or \"B2\" in col or \"B3\" in col or \"B4\" in col]\n",
    "drop_cols = []\n",
    "for col1 in cols:\n",
    "    f = True\n",
    "    for col2 in num_cols:\n",
    "        if col2 in col1:\n",
    "            f = False\n",
    "    if f and train_df[col1].dtype in [int, float]:\n",
    "        drop_cols.append(col1)\n",
    "        \n",
    "train_df = train_df.drop(columns=drop_cols)\n",
    "test_df = test_df.drop(columns=drop_cols)\n",
    "        \n",
    "    \n",
    "\n",
    "train_df = prepro.add_numeric_info(train_df, num_cols)\n",
    "test_df = prepro.add_numeric_info(test_df, num_cols)\n",
    "\n"
   ]
  },
  {
   "cell_type": "code",
   "execution_count": 6,
   "metadata": {},
   "outputs": [],
   "source": [
    "#train_df"
   ]
  },
  {
   "cell_type": "markdown",
   "metadata": {},
   "source": [
    "# 欠損値埋め先にやろう\n",
    "欠損値がある列\n",
    "\n",
    "rank, weapon, level ⇨　回線切れ or ナワバリ\n",
    "\n",
    "weaponの欠損に並んでそれに関係ある列、A3, A4, B3, B4 ⇨ 回線切れ\n",
    "\n",
    "level, weaponが消えていたら回線切れ"
   ]
  },
  {
   "cell_type": "code",
   "execution_count": 7,
   "metadata": {},
   "outputs": [],
   "source": [
    "# rankの欠損値を埋める\n",
    "train_df, test_df = prepro.fillna_rank(train_df, test_df)\n",
    "\n",
    "#そのほかの欠損値を埋める\n",
    "train_df, test_df = prepro.fillna(train_df, test_df)"
   ]
  },
  {
   "cell_type": "code",
   "execution_count": 8,
   "metadata": {},
   "outputs": [
    {
     "name": "stdout",
     "output_type": "stream",
     "text": [
      "0\n",
      "0\n"
     ]
    }
   ],
   "source": [
    "print(train_df.isnull().sum().sum())\n",
    "print(test_df.isnull().sum().sum())"
   ]
  },
  {
   "cell_type": "markdown",
   "metadata": {},
   "source": [
    "# 特徴量エンジニアリング"
   ]
  },
  {
   "cell_type": "code",
   "execution_count": 9,
   "metadata": {},
   "outputs": [
    {
     "name": "stdout",
     "output_type": "stream",
     "text": [
      "reskin\n",
      "mainweapon\n",
      "subweapon\n",
      "special\n",
      "mizumashi\n"
     ]
    }
   ],
   "source": [
    "# count reskin, by mode\n",
    "print(\"reskin\")\n",
    "train_df, test_df = prepro.count_reskin(train_df, test_df)\n",
    "train_df, test_df = prepro.count_reskin_by_mode(train_df, test_df)\n",
    "\n",
    "# count mainweapon, by mode\n",
    "print(\"mainweapon\")\n",
    "train_df, test_df = prepro.count_mainweapon(train_df, test_df)\n",
    "train_df, test_df = prepro.count_mainweapon_by_mode(train_df, test_df)\n",
    "\n",
    "# count subweapon, by mode\n",
    "print(\"subweapon\")\n",
    "train_df, test_df = prepro.count_subweapon(train_df, test_df)\n",
    "train_df, test_df = prepro.count_subweapon_by_mode(train_df, test_df)\n",
    "\n",
    "# count special, by mode\n",
    "print(\"special\")\n",
    "train_df, test_df = prepro.count_special(train_df, test_df)\n",
    "train_df, test_df = prepro.count_special_by_mode(train_df, test_df)\n",
    "\n",
    "\n",
    "#identify A1\n",
    "train_df, test_df = prepro.identify_A1(train_df, test_df)\n",
    "\n",
    "\n",
    "# 水増し, A1も統計量に含めた特徴を作る場合は水ましより先にやる\n",
    "print(\"mizumashi\")\n",
    "train_df, y = prepro.mizumashi(train_df, y)\n",
    "\n",
    "# is_nawabari\n",
    "train_df, test_df = prepro.is_nawabari(train_df, test_df)\n",
    "\n",
    "# match rank、単体で意味なし\n",
    "train_df, test_df = prepro.match_rank(train_df, test_df)\n",
    "\n",
    "# rankを二列に分ける\n",
    "train_df, test_df = prepro.ranker(train_df, test_df)\n",
    "\n",
    "\n"
   ]
  },
  {
   "cell_type": "code",
   "execution_count": 10,
   "metadata": {},
   "outputs": [
    {
     "name": "stdout",
     "output_type": "stream",
     "text": [
      "(160590, 588)\n",
      "special-A\n",
      "special-B\n",
      "subweapon-A\n",
      "subweapon-B\n",
      "category1-A\n",
      "category1-B\n",
      "category2-A\n",
      "category2-B\n",
      "mainweapon-A\n",
      "mainweapon-B\n",
      "(160590, 782)\n",
      "complete\n"
     ]
    }
   ],
   "source": [
    "# add team info、メインはなくてもいい\n",
    "\n",
    "train_df,  test_df = prepro.addTeamInfo(train_df, test_df, cols=[\"special\", \"subweapon\", \"category1\", \"category2\", \"mainweapon\"])\n",
    "#train_df,  test_df = prepro.addTeamInfo(train_df, test_df, cols=[\"special\", \"subweapon\", \"category1\", \"category2\"])"
   ]
  },
  {
   "cell_type": "code",
   "execution_count": 11,
   "metadata": {},
   "outputs": [
    {
     "name": "stdout",
     "output_type": "stream",
     "text": [
      "category1\n",
      "category2\n",
      "subweapon\n",
      "special\n",
      "mainweapon\n"
     ]
    }
   ],
   "source": [
    "# categorize team , 良い, メインはカテゴリ数が多すぎてやめた方がいい\n",
    "\n",
    "categorize_col = [\"category1\", \"category2\", \"subweapon\", \"special\", \"mainweapon\"]\n",
    "#categorize_col = [\"category1\", \"category2\", \"subweapon\", \"special\"]\n",
    "for col in categorize_col:\n",
    "    print(col)\n",
    "    train_df, test_df = prepro.categorize_team(train_df, test_df, col)"
   ]
  },
  {
   "cell_type": "code",
   "execution_count": 12,
   "metadata": {},
   "outputs": [],
   "source": [
    "# レアなカテゴリをまとめる、しない方が上がった…\n",
    "\n",
    "#train_df, test_df = prepro.find_rare(train_df, test_df, \"team-category1\")\n",
    "#train_df, test_df = prepro.find_rare(train_df, test_df, \"team-category2\")\n",
    "#train_df, test_df = prepro.find_rare(train_df, test_df, \"team-subweapon\")\n",
    "#train_df, test_df = prepro.find_rare(train_df, test_df, \"team-special\")"
   ]
  },
  {
   "cell_type": "code",
   "execution_count": 13,
   "metadata": {},
   "outputs": [],
   "source": [
    "# product categorical feature\n",
    "train_df, test_df = prepro.prod(train_df, test_df, \"mode\", \"stage\")\n",
    "train_df, test_df = prepro.prod(train_df, test_df, \"mode\", \"team-category1-A\")\n",
    "train_df, test_df = prepro.prod(train_df, test_df, \"mode\", \"team-category1-B\")\n",
    "train_df, test_df = prepro.prod(train_df, test_df, \"mode\", \"team-category2-A\")\n",
    "train_df, test_df = prepro.prod(train_df, test_df, \"mode\", \"team-category2-B\")\n",
    "train_df, test_df = prepro.prod(train_df, test_df, \"mode\", \"team-mainweapon-A\")\n",
    "train_df, test_df = prepro.prod(train_df, test_df, \"mode\", \"team-mainweapon-B\")\n",
    "train_df, test_df = prepro.prod(train_df, test_df, \"mode\", \"team-subweapon-A\")\n",
    "train_df, test_df = prepro.prod(train_df, test_df, \"mode\", \"team-subweapon-B\")\n",
    "train_df, test_df = prepro.prod(train_df, test_df, \"mode\", \"team-special-A\")\n",
    "train_df, test_df = prepro.prod(train_df, test_df, \"mode\", \"team-special-B\")\n",
    "train_df, test_df = prepro.prod(train_df, test_df, \"mode\", \"match_rank\")\n",
    "\n",
    "train_df, test_df = prepro.prod(train_df, test_df, \"stage\", \"team-category1-A\")\n",
    "train_df, test_df = prepro.prod(train_df, test_df, \"stage\", \"team-category1-B\")\n",
    "train_df, test_df = prepro.prod(train_df, test_df, \"stage\", \"team-category2-A\")\n",
    "train_df, test_df = prepro.prod(train_df, test_df, \"stage\", \"team-category2-B\")\n",
    "train_df, test_df = prepro.prod(train_df, test_df, \"stage\", \"team-mainweapon-A\")\n",
    "train_df, test_df = prepro.prod(train_df, test_df, \"stage\", \"team-mainweapon-B\")\n",
    "train_df, test_df = prepro.prod(train_df, test_df, \"stage\", \"team-subweapon-A\")\n",
    "train_df, test_df = prepro.prod(train_df, test_df, \"stage\", \"team-subweapon-B\")\n",
    "train_df, test_df = prepro.prod(train_df, test_df, \"stage\", \"team-special-A\")\n",
    "train_df, test_df = prepro.prod(train_df, test_df, \"stage\", \"team-special-B\")\n",
    "train_df, test_df = prepro.prod(train_df, test_df, \"stage\", \"match_rank\")\n",
    "\n",
    "\n",
    "train_df, test_df = prepro.prod(train_df, test_df, \"mode\", \"reskin-A1\")\n",
    "train_df, test_df = prepro.prod(train_df, test_df, \"mode\", \"reskin-A2\")\n",
    "train_df, test_df = prepro.prod(train_df, test_df, \"mode\", \"reskin-A3\")\n",
    "train_df, test_df = prepro.prod(train_df, test_df, \"mode\", \"reskin-A4\")\n",
    "train_df, test_df = prepro.prod(train_df, test_df, \"mode\", \"reskin-B1\")\n",
    "train_df, test_df = prepro.prod(train_df, test_df, \"mode\", \"reskin-B2\")\n",
    "train_df, test_df = prepro.prod(train_df, test_df, \"mode\", \"reskin-B3\")\n",
    "train_df, test_df = prepro.prod(train_df, test_df, \"mode\", \"reskin-B4\")"
   ]
  },
  {
   "cell_type": "code",
   "execution_count": 14,
   "metadata": {},
   "outputs": [
    {
     "data": {
      "text/plain": [
       "'#one hot 落とす\\ndrop_cols = [col for col in train_df.columns if \"onehot\" in col]\\ntrain_df.drop(columns=drop_cols, inplace=True)\\ntest_df.drop(columns=drop_cols, inplace=True)'"
      ]
     },
     "execution_count": 14,
     "metadata": {},
     "output_type": "execute_result"
    }
   ],
   "source": [
    "\"\"\"#one hot 落とす\n",
    "drop_cols = [col for col in train_df.columns if \"onehot\" in col]\n",
    "train_df.drop(columns=drop_cols, inplace=True)\n",
    "test_df.drop(columns=drop_cols, inplace=True)\"\"\""
   ]
  },
  {
   "cell_type": "code",
   "execution_count": 15,
   "metadata": {
    "scrolled": true
   },
   "outputs": [
    {
     "name": "stdout",
     "output_type": "stream",
     "text": [
      "complete\n"
     ]
    }
   ],
   "source": [
    "# make input\n",
    "\n",
    "drop_cols = [\"id\", \"lobby\", \"lobby-mode\",  \"period\", \"game-ver\", \"A1-weapon\", \"A2-weapon\", \"A3-weapon\", \"A4-weapon\", \\\n",
    "              \"B1-weapon\", \"B2-weapon\", \"B3-weapon\", \"B4-weapon\"]\n",
    "\n",
    "X, test_X = prepro.make_input(train_df, test_df, drop_cols, categorical_encode=False, scaler=False, verbose=False)\n",
    "\n",
    "categorical_features_indices = np.where(X.dtypes == \"object\")[0]"
   ]
  },
  {
   "cell_type": "markdown",
   "metadata": {},
   "source": [
    "# 学習"
   ]
  },
  {
   "cell_type": "code",
   "execution_count": 16,
   "metadata": {},
   "outputs": [
    {
     "name": "stdout",
     "output_type": "stream",
     "text": [
      "10\n",
      "fold  1  size is  13225\n",
      "fold  2  size is  13225\n",
      "fold  3  size is  13225\n",
      "fold  4  size is  13225\n",
      "fold  5  size is  13225\n",
      "fold  6  size is  13225\n",
      "fold  7  size is  13225\n",
      "fold  8  size is  13225\n",
      "fold  9  size is  13225\n",
      "fold  10  size is  13225\n",
      "successfully split\n"
     ]
    }
   ],
   "source": [
    "# 全データを5つに分割\n",
    "random.seed(random.randint(0, 10000))\n",
    "SIZE = X.shape[0]\n",
    "K = 10\n",
    "\n",
    "\n",
    "#folds = prepro.make_stratified_kfolds(X, y, K, shuffle=True)\n",
    "folds = prepro.make_stratified_kfolds(X, X[\"mode\"].astype(str) + y.astype(str), K, shuffle=True, random_state=random.randint(0, 10000))\n",
    "\n",
    "\n",
    "print(len(folds))\n",
    "for i, fold in enumerate(folds):\n",
    "    print(\"fold \", i+1, \" size is \", len(fold))\n",
    "    \n",
    "    \n",
    "if SIZE != len(set(sum(folds, []))):\n",
    "    print(\"error is occuring in spliting\")\n",
    "else :\n",
    "    print(\"successfully split\")"
   ]
  },
  {
   "cell_type": "code",
   "execution_count": 17,
   "metadata": {
    "scrolled": true
   },
   "outputs": [
    {
     "name": "stdout",
     "output_type": "stream",
     "text": [
      "======================== fold 1 ========================\n",
      "0:\tlearn: 0.6928062\ttest: 0.6928122\tbest: 0.6928122 (0)\ttotal: 1.37s\tremaining: 45m 45s\n",
      "100:\tlearn: 0.6810058\ttest: 0.6833903\tbest: 0.6833903 (100)\ttotal: 1m 37s\tremaining: 30m 27s\n",
      "200:\tlearn: 0.6756580\ttest: 0.6803569\tbest: 0.6803569 (200)\ttotal: 3m 42s\tremaining: 33m 7s\n",
      "300:\tlearn: 0.6698080\ttest: 0.6775878\tbest: 0.6775683 (298)\ttotal: 5m 25s\tremaining: 30m 40s\n",
      "400:\tlearn: 0.6640545\ttest: 0.6742498\tbest: 0.6742498 (400)\ttotal: 7m 20s\tremaining: 29m 16s\n",
      "500:\tlearn: 0.6591495\ttest: 0.6716655\tbest: 0.6716655 (500)\ttotal: 9m 14s\tremaining: 27m 37s\n",
      "600:\tlearn: 0.6547966\ttest: 0.6701039\tbest: 0.6701005 (596)\ttotal: 11m 6s\tremaining: 25m 51s\n",
      "700:\tlearn: 0.6505614\ttest: 0.6695363\tbest: 0.6695363 (700)\ttotal: 12m 51s\tremaining: 23m 49s\n",
      "800:\tlearn: 0.6466082\ttest: 0.6685794\tbest: 0.6685448 (790)\ttotal: 14m 45s\tremaining: 22m 4s\n",
      "900:\tlearn: 0.6425306\ttest: 0.6676309\tbest: 0.6676309 (900)\ttotal: 16m 35s\tremaining: 20m 14s\n",
      "1000:\tlearn: 0.6386983\ttest: 0.6671570\tbest: 0.6671468 (995)\ttotal: 18m 25s\tremaining: 18m 23s\n",
      "1100:\tlearn: 0.6353019\ttest: 0.6664414\tbest: 0.6663990 (1089)\ttotal: 20m 18s\tremaining: 16m 34s\n",
      "Stopped by overfitting detector  (50 iterations wait)\n",
      "\n",
      "bestTest = 0.6663710577\n",
      "bestIteration = 1135\n",
      "\n",
      "Shrink model to first 1136 iterations.\n",
      "======================== fold 2 ========================\n",
      "0:\tlearn: 0.6927080\ttest: 0.6927749\tbest: 0.6927749 (0)\ttotal: 974ms\tremaining: 32m 26s\n",
      "100:\tlearn: 0.6808757\ttest: 0.6845296\tbest: 0.6845296 (100)\ttotal: 1m 39s\tremaining: 31m 17s\n",
      "200:\tlearn: 0.6752062\ttest: 0.6809130\tbest: 0.6809092 (199)\ttotal: 3m 26s\tremaining: 30m 52s\n",
      "300:\tlearn: 0.6695622\ttest: 0.6786967\tbest: 0.6786844 (294)\ttotal: 5m 10s\tremaining: 29m 10s\n",
      "400:\tlearn: 0.6642242\ttest: 0.6773406\tbest: 0.6773406 (400)\ttotal: 6m 54s\tremaining: 27m 33s\n",
      "500:\tlearn: 0.6588165\ttest: 0.6751060\tbest: 0.6751060 (500)\ttotal: 8m 46s\tremaining: 26m 15s\n",
      "600:\tlearn: 0.6539898\ttest: 0.6730730\tbest: 0.6730337 (583)\ttotal: 10m 35s\tremaining: 24m 38s\n",
      "700:\tlearn: 0.6495441\ttest: 0.6716295\tbest: 0.6716295 (700)\ttotal: 12m 27s\tremaining: 23m 5s\n",
      "800:\tlearn: 0.6458648\ttest: 0.6713558\tbest: 0.6713558 (800)\ttotal: 14m 20s\tremaining: 21m 27s\n",
      "900:\tlearn: 0.6417802\ttest: 0.6702495\tbest: 0.6702423 (899)\ttotal: 16m 9s\tremaining: 19m 42s\n",
      "1000:\tlearn: 0.6379842\ttest: 0.6694308\tbest: 0.6693545 (986)\ttotal: 17m 59s\tremaining: 17m 57s\n",
      "Stopped by overfitting detector  (50 iterations wait)\n",
      "\n",
      "bestTest = 0.6693544834\n",
      "bestIteration = 986\n",
      "\n",
      "Shrink model to first 987 iterations.\n",
      "======================== fold 3 ========================\n",
      "0:\tlearn: 0.6926972\ttest: 0.6927307\tbest: 0.6927307 (0)\ttotal: 929ms\tremaining: 30m 56s\n",
      "100:\tlearn: 0.6810980\ttest: 0.6839629\tbest: 0.6839629 (100)\ttotal: 1m 44s\tremaining: 32m 46s\n",
      "200:\tlearn: 0.6754205\ttest: 0.6805724\tbest: 0.6805724 (200)\ttotal: 3m 36s\tremaining: 32m 14s\n",
      "300:\tlearn: 0.6694523\ttest: 0.6782246\tbest: 0.6782046 (299)\ttotal: 5m 28s\tremaining: 30m 53s\n",
      "400:\tlearn: 0.6636638\ttest: 0.6758989\tbest: 0.6758989 (400)\ttotal: 7m 19s\tremaining: 29m 12s\n",
      "500:\tlearn: 0.6590538\ttest: 0.6744696\tbest: 0.6744643 (499)\ttotal: 9m 16s\tremaining: 27m 44s\n",
      "600:\tlearn: 0.6544934\ttest: 0.6729039\tbest: 0.6729039 (600)\ttotal: 11m 14s\tremaining: 26m 9s\n",
      "700:\tlearn: 0.6503305\ttest: 0.6717101\tbest: 0.6717101 (700)\ttotal: 13m 11s\tremaining: 24m 27s\n",
      "800:\tlearn: 0.6463161\ttest: 0.6713580\tbest: 0.6713449 (763)\ttotal: 15m 7s\tremaining: 22m 38s\n",
      "Stopped by overfitting detector  (50 iterations wait)\n",
      "\n",
      "bestTest = 0.6713448822\n",
      "bestIteration = 763\n",
      "\n",
      "Shrink model to first 764 iterations.\n",
      "======================== fold 4 ========================\n",
      "0:\tlearn: 0.6927621\ttest: 0.6927405\tbest: 0.6927405 (0)\ttotal: 917ms\tremaining: 30m 32s\n",
      "100:\tlearn: 0.6807364\ttest: 0.6828898\tbest: 0.6828898 (100)\ttotal: 1m 54s\tremaining: 35m 57s\n",
      "200:\tlearn: 0.6755134\ttest: 0.6802669\tbest: 0.6802669 (200)\ttotal: 3m 48s\tremaining: 34m 2s\n",
      "300:\tlearn: 0.6695095\ttest: 0.6776873\tbest: 0.6776873 (300)\ttotal: 5m 37s\tremaining: 31m 47s\n",
      "400:\tlearn: 0.6639799\ttest: 0.6756871\tbest: 0.6756871 (400)\ttotal: 7m 31s\tremaining: 30m\n",
      "500:\tlearn: 0.6590453\ttest: 0.6740757\tbest: 0.6740691 (499)\ttotal: 9m 24s\tremaining: 28m 9s\n",
      "600:\tlearn: 0.6542613\ttest: 0.6727725\tbest: 0.6727611 (596)\ttotal: 11m 19s\tremaining: 26m 20s\n",
      "700:\tlearn: 0.6499107\ttest: 0.6716920\tbest: 0.6716440 (689)\ttotal: 13m 16s\tremaining: 24m 36s\n",
      "800:\tlearn: 0.6460169\ttest: 0.6703560\tbest: 0.6703409 (798)\ttotal: 15m 12s\tremaining: 22m 45s\n",
      "900:\tlearn: 0.6420560\ttest: 0.6695971\tbest: 0.6695553 (889)\ttotal: 17m 14s\tremaining: 21m 1s\n",
      "1000:\tlearn: 0.6384345\ttest: 0.6690544\tbest: 0.6690377 (995)\ttotal: 19m 8s\tremaining: 19m 5s\n",
      "Stopped by overfitting detector  (50 iterations wait)\n",
      "\n",
      "bestTest = 0.6690377089\n",
      "bestIteration = 995\n",
      "\n",
      "Shrink model to first 996 iterations.\n",
      "======================== fold 5 ========================\n",
      "0:\tlearn: 0.6927883\ttest: 0.6928651\tbest: 0.6928651 (0)\ttotal: 970ms\tremaining: 32m 19s\n",
      "100:\tlearn: 0.6804799\ttest: 0.6844470\tbest: 0.6844470 (100)\ttotal: 1m 52s\tremaining: 35m 16s\n",
      "200:\tlearn: 0.6750274\ttest: 0.6818170\tbest: 0.6818170 (200)\ttotal: 3m 48s\tremaining: 34m 1s\n",
      "300:\tlearn: 0.6691559\ttest: 0.6788960\tbest: 0.6788865 (299)\ttotal: 5m 41s\tremaining: 32m 9s\n",
      "400:\tlearn: 0.6640004\ttest: 0.6777930\tbest: 0.6777618 (397)\ttotal: 7m 35s\tremaining: 30m 17s\n",
      "500:\tlearn: 0.6589998\ttest: 0.6760267\tbest: 0.6760267 (500)\ttotal: 9m 30s\tremaining: 28m 27s\n",
      "600:\tlearn: 0.6545912\ttest: 0.6753084\tbest: 0.6753040 (599)\ttotal: 11m 25s\tremaining: 26m 34s\n",
      "700:\tlearn: 0.6504512\ttest: 0.6745708\tbest: 0.6745137 (684)\ttotal: 13m 22s\tremaining: 24m 46s\n",
      "Stopped by overfitting detector  (50 iterations wait)\n",
      "\n",
      "bestTest = 0.674513674\n",
      "bestIteration = 684\n",
      "\n",
      "Shrink model to first 685 iterations.\n",
      "======================== fold 6 ========================\n",
      "0:\tlearn: 0.6927070\ttest: 0.6927578\tbest: 0.6927578 (0)\ttotal: 995ms\tremaining: 33m 9s\n",
      "100:\tlearn: 0.6806495\ttest: 0.6847931\tbest: 0.6847931 (100)\ttotal: 1m 56s\tremaining: 36m 22s\n",
      "200:\tlearn: 0.6748513\ttest: 0.6816502\tbest: 0.6816502 (200)\ttotal: 3m 58s\tremaining: 35m 34s\n",
      "300:\tlearn: 0.6694908\ttest: 0.6793877\tbest: 0.6793877 (300)\ttotal: 5m 55s\tremaining: 33m 28s\n",
      "400:\tlearn: 0.6638859\ttest: 0.6774012\tbest: 0.6774012 (400)\ttotal: 7m 51s\tremaining: 31m 22s\n",
      "500:\tlearn: 0.6591116\ttest: 0.6761888\tbest: 0.6761542 (491)\ttotal: 9m 52s\tremaining: 29m 31s\n",
      "600:\tlearn: 0.6546104\ttest: 0.6742279\tbest: 0.6742119 (599)\ttotal: 11m 53s\tremaining: 27m 41s\n",
      "700:\tlearn: 0.6505100\ttest: 0.6733165\tbest: 0.6733165 (700)\ttotal: 13m 55s\tremaining: 25m 47s\n",
      "800:\tlearn: 0.6463704\ttest: 0.6720200\tbest: 0.6719570 (790)\ttotal: 15m 59s\tremaining: 23m 56s\n",
      "Stopped by overfitting detector  (50 iterations wait)\n",
      "\n",
      "bestTest = 0.6717334871\n",
      "bestIteration = 839\n",
      "\n",
      "Shrink model to first 840 iterations.\n",
      "======================== fold 7 ========================\n",
      "0:\tlearn: 0.6927867\ttest: 0.6927719\tbest: 0.6927719 (0)\ttotal: 1.03s\tremaining: 34m 23s\n",
      "100:\tlearn: 0.6808712\ttest: 0.6835401\tbest: 0.6835401 (100)\ttotal: 2m 1s\tremaining: 37m 59s\n",
      "200:\tlearn: 0.6756044\ttest: 0.6802472\tbest: 0.6802472 (200)\ttotal: 4m 5s\tremaining: 36m 34s\n",
      "300:\tlearn: 0.6698930\ttest: 0.6775378\tbest: 0.6775378 (300)\ttotal: 6m 8s\tremaining: 34m 42s\n",
      "400:\tlearn: 0.6641273\ttest: 0.6752019\tbest: 0.6752019 (400)\ttotal: 8m 7s\tremaining: 32m 24s\n",
      "500:\tlearn: 0.6593739\ttest: 0.6738219\tbest: 0.6737946 (499)\ttotal: 10m 9s\tremaining: 30m 24s\n",
      "600:\tlearn: 0.6548126\ttest: 0.6718479\tbest: 0.6718448 (596)\ttotal: 12m 17s\tremaining: 28m 37s\n",
      "700:\tlearn: 0.6505858\ttest: 0.6711650\tbest: 0.6711401 (689)\ttotal: 14m 23s\tremaining: 26m 40s\n",
      "800:\tlearn: 0.6465782\ttest: 0.6705067\tbest: 0.6704883 (798)\ttotal: 16m 36s\tremaining: 24m 51s\n",
      "900:\tlearn: 0.6428133\ttest: 0.6700156\tbest: 0.6700156 (900)\ttotal: 18m 43s\tremaining: 22m 50s\n",
      "1000:\tlearn: 0.6387931\ttest: 0.6692824\tbest: 0.6692339 (982)\ttotal: 20m 56s\tremaining: 20m 54s\n",
      "1100:\tlearn: 0.6352299\ttest: 0.6689932\tbest: 0.6689932 (1100)\ttotal: 23m 5s\tremaining: 18m 51s\n",
      "1200:\tlearn: 0.6317527\ttest: 0.6689207\tbest: 0.6688564 (1166)\ttotal: 25m 14s\tremaining: 16m 47s\n",
      "Stopped by overfitting detector  (50 iterations wait)\n",
      "\n",
      "bestTest = 0.6687557516\n",
      "bestIteration = 1202\n",
      "\n",
      "Shrink model to first 1203 iterations.\n",
      "======================== fold 8 ========================\n"
     ]
    },
    {
     "name": "stdout",
     "output_type": "stream",
     "text": [
      "0:\tlearn: 0.6928116\ttest: 0.6928052\tbest: 0.6928052 (0)\ttotal: 1.27s\tremaining: 42m 15s\n",
      "100:\tlearn: 0.6807731\ttest: 0.6824863\tbest: 0.6824863 (100)\ttotal: 2m 5s\tremaining: 39m 19s\n",
      "200:\tlearn: 0.6754285\ttest: 0.6794856\tbest: 0.6794856 (200)\ttotal: 4m 13s\tremaining: 37m 45s\n",
      "300:\tlearn: 0.6698174\ttest: 0.6770527\tbest: 0.6770527 (300)\ttotal: 6m 16s\tremaining: 35m 27s\n",
      "400:\tlearn: 0.6639815\ttest: 0.6745089\tbest: 0.6745089 (400)\ttotal: 8m 25s\tremaining: 33m 35s\n",
      "500:\tlearn: 0.6594306\ttest: 0.6733365\tbest: 0.6732799 (495)\ttotal: 10m 36s\tremaining: 31m 44s\n",
      "600:\tlearn: 0.6549690\ttest: 0.6724902\tbest: 0.6724902 (600)\ttotal: 12m 45s\tremaining: 29m 42s\n",
      "700:\tlearn: 0.6504259\ttest: 0.6707638\tbest: 0.6707615 (699)\ttotal: 15m 5s\tremaining: 27m 57s\n",
      "800:\tlearn: 0.6462609\ttest: 0.6700143\tbest: 0.6700143 (800)\ttotal: 17m 14s\tremaining: 25m 48s\n",
      "900:\tlearn: 0.6425811\ttest: 0.6694461\tbest: 0.6694461 (900)\ttotal: 19m 26s\tremaining: 23m 42s\n",
      "1000:\tlearn: 0.6387989\ttest: 0.6685702\tbest: 0.6685702 (1000)\ttotal: 21m 41s\tremaining: 21m 38s\n",
      "1100:\tlearn: 0.6349221\ttest: 0.6675238\tbest: 0.6674744 (1094)\ttotal: 23m 54s\tremaining: 19m 31s\n",
      "1200:\tlearn: 0.6312888\ttest: 0.6664704\tbest: 0.6664567 (1198)\ttotal: 26m 7s\tremaining: 17m 23s\n",
      "1300:\tlearn: 0.6278200\ttest: 0.6662493\tbest: 0.6661329 (1269)\ttotal: 28m 24s\tremaining: 15m 15s\n",
      "1400:\tlearn: 0.6242801\ttest: 0.6656426\tbest: 0.6655990 (1382)\ttotal: 30m 38s\tremaining: 13m 5s\n",
      "Stopped by overfitting detector  (50 iterations wait)\n",
      "\n",
      "bestTest = 0.6655989914\n",
      "bestIteration = 1382\n",
      "\n",
      "Shrink model to first 1383 iterations.\n",
      "======================== fold 9 ========================\n",
      "0:\tlearn: 0.6927918\ttest: 0.6927968\tbest: 0.6927968 (0)\ttotal: 1.28s\tremaining: 42m 33s\n",
      "100:\tlearn: 0.6810164\ttest: 0.6836276\tbest: 0.6836276 (100)\ttotal: 2m 8s\tremaining: 40m 7s\n",
      "200:\tlearn: 0.6757467\ttest: 0.6806094\tbest: 0.6806094 (200)\ttotal: 4m 19s\tremaining: 38m 43s\n",
      "300:\tlearn: 0.6697277\ttest: 0.6769022\tbest: 0.6769022 (300)\ttotal: 6m 33s\tremaining: 36m 59s\n",
      "400:\tlearn: 0.6643551\ttest: 0.6745944\tbest: 0.6745819 (399)\ttotal: 8m 44s\tremaining: 34m 52s\n",
      "500:\tlearn: 0.6594560\ttest: 0.6725337\tbest: 0.6725337 (500)\ttotal: 11m\tremaining: 32m 57s\n",
      "600:\tlearn: 0.6550803\ttest: 0.6718488\tbest: 0.6718394 (599)\ttotal: 13m 16s\tremaining: 30m 54s\n",
      "700:\tlearn: 0.6509562\ttest: 0.6707936\tbest: 0.6707723 (697)\ttotal: 15m 35s\tremaining: 28m 52s\n",
      "800:\tlearn: 0.6470310\ttest: 0.6697239\tbest: 0.6697076 (798)\ttotal: 17m 50s\tremaining: 26m 43s\n",
      "900:\tlearn: 0.6433925\ttest: 0.6696024\tbest: 0.6696024 (900)\ttotal: 20m 9s\tremaining: 24m 35s\n",
      "1000:\tlearn: 0.6398021\ttest: 0.6689833\tbest: 0.6689833 (1000)\ttotal: 22m 30s\tremaining: 22m 27s\n",
      "1100:\tlearn: 0.6358776\ttest: 0.6682982\tbest: 0.6682794 (1093)\ttotal: 24m 47s\tremaining: 20m 14s\n",
      "1200:\tlearn: 0.6323895\ttest: 0.6679043\tbest: 0.6678387 (1186)\ttotal: 27m 5s\tremaining: 18m 1s\n",
      "Stopped by overfitting detector  (50 iterations wait)\n",
      "\n",
      "bestTest = 0.6678387343\n",
      "bestIteration = 1186\n",
      "\n",
      "Shrink model to first 1187 iterations.\n",
      "======================== fold 10 ========================\n",
      "0:\tlearn: 0.6927581\ttest: 0.6927701\tbest: 0.6927701 (0)\ttotal: 1.1s\tremaining: 36m 36s\n",
      "100:\tlearn: 0.6805425\ttest: 0.6841076\tbest: 0.6841076 (100)\ttotal: 2m 11s\tremaining: 41m 21s\n",
      "200:\tlearn: 0.6751771\ttest: 0.6815328\tbest: 0.6815328 (200)\ttotal: 4m 27s\tremaining: 39m 50s\n",
      "300:\tlearn: 0.6696702\ttest: 0.6795562\tbest: 0.6795522 (297)\ttotal: 6m 41s\tremaining: 37m 48s\n",
      "400:\tlearn: 0.6643416\ttest: 0.6782276\tbest: 0.6781944 (393)\ttotal: 8m 54s\tremaining: 35m 29s\n",
      "500:\tlearn: 0.6593331\ttest: 0.6762110\tbest: 0.6761926 (499)\ttotal: 11m 13s\tremaining: 33m 35s\n",
      "600:\tlearn: 0.6548545\ttest: 0.6752135\tbest: 0.6752100 (599)\ttotal: 13m 29s\tremaining: 31m 23s\n",
      "700:\tlearn: 0.6505433\ttest: 0.6739216\tbest: 0.6739077 (697)\ttotal: 15m 52s\tremaining: 29m 24s\n",
      "800:\tlearn: 0.6469086\ttest: 0.6730136\tbest: 0.6729775 (785)\ttotal: 18m 17s\tremaining: 27m 23s\n",
      "900:\tlearn: 0.6433204\ttest: 0.6727628\tbest: 0.6727323 (889)\ttotal: 20m 34s\tremaining: 25m 6s\n",
      "1000:\tlearn: 0.6395604\ttest: 0.6722318\tbest: 0.6721784 (978)\ttotal: 22m 56s\tremaining: 22m 54s\n",
      "1100:\tlearn: 0.6359105\ttest: 0.6714810\tbest: 0.6714801 (1087)\ttotal: 25m 17s\tremaining: 20m 39s\n",
      "Stopped by overfitting detector  (50 iterations wait)\n",
      "\n",
      "bestTest = 0.6714801211\n",
      "bestIteration = 1087\n",
      "\n",
      "Shrink model to first 1088 iterations.\n",
      "cv score :  0.5823818525519847\n",
      "cv ratio :  0.49960680529300566\n"
     ]
    }
   ],
   "source": [
    "params = {\n",
    "    \"loss_function\" : \"Logloss\",\n",
    "    \"eval_metric\" : \"Logloss\",\n",
    "    \"iterations\":2000,\n",
    "    \"learning_rate\" : 0.05,\n",
    "    \"use_best_model\": True,\n",
    "    \"random_seed\":random.randint(0, 100000),\n",
    "\n",
    "    \n",
    "\n",
    "}\n",
    "\n",
    "THRESHOLD = 0.50\n",
    "models = []\n",
    "cv_scores = []\n",
    "temp = 0\n",
    "train_pred = []\n",
    "valid_ys = []\n",
    "\n",
    "all_indices = sum(folds, [])\n",
    "for i in range(K):\n",
    "    print(\"======================== fold {} ========================\".format(i+1))\n",
    "    valid_indices = folds[i]\n",
    "    train_indices = list(set(all_indices) - set(valid_indices))\n",
    "    # print(\"train \", len(train_indices), \" , valid \", len(valid_indices))\n",
    "    \n",
    "\n",
    "    train_X = X.iloc[train_indices]\n",
    "    try:\n",
    "        train_y = y.iloc[train_indices]\n",
    "    except:\n",
    "        train_y = y[train_indices]\n",
    "    valid_X = X.iloc[valid_indices]\n",
    "    try:\n",
    "        valid_y = y.iloc[valid_indices]\n",
    "    except:\n",
    "        valid_y = y[valid_indices]\n",
    "    \n",
    "    \n",
    "    \n",
    "    \n",
    "    train_data = Pool(train_X, train_y, cat_features=categorical_features_indices)\n",
    "    valid_data = Pool(valid_X, valid_y, cat_features=categorical_features_indices)\n",
    "    \n",
    "    model = CatBoostClassifier(**params)\n",
    "\n",
    "    \n",
    "    model.fit(\n",
    "        train_data,\n",
    "        eval_set=valid_data,\n",
    "        early_stopping_rounds=50,\n",
    "        verbose=100,\n",
    "        use_best_model=True,\n",
    "    )\n",
    "    \n",
    "    pred = model.predict(valid_X, prediction_type='Probability')[:,1]\n",
    "    train_pred.append(pred)\n",
    "    pred = np.where(pred < THRESHOLD, 0, 1)\n",
    "\n",
    "    temp += np.sum(pred) \n",
    "    \n",
    "    score = accuracy_score(pred, valid_y)\n",
    "    \n",
    "    models.append(model)\n",
    "    cv_scores.append(score)\n",
    "    \n",
    "    \n",
    "print(\"cv score : \", np.mean(cv_scores))    \n",
    "print(\"cv ratio : \", temp / SIZE)"
   ]
  },
  {
   "cell_type": "code",
   "execution_count": 18,
   "metadata": {
    "scrolled": true
   },
   "outputs": [
    {
     "name": "stdout",
     "output_type": "stream",
     "text": [
      "0.5146089657008346\n",
      "0.5115373937926868\n",
      "0.5128929415891436\n",
      "0.5139392276555926\n",
      "0.5149398166611416\n",
      "0.5128846791352757\n",
      "0.5131065240011398\n",
      "0.5132906324373907\n",
      "0.5135008986094999\n",
      "0.513661803687248\n",
      "0.5134362883269953\n"
     ]
    },
    {
     "data": {
      "text/plain": [
       "array([[<AxesSubplot:title={'center':'pred'}>]], dtype=object)"
      ]
     },
     "execution_count": 18,
     "metadata": {},
     "output_type": "execute_result"
    },
    {
     "data": {
      "image/png": "[encoded data removed]",
      "text/plain": [
       "<Figure size 432x288 with 1 Axes>"
      ]
     },
     "metadata": {
      "needs_background": "light"
     },
     "output_type": "display_data"
    }
   ],
   "source": [
    "preds = []\n",
    "for i in range(K):\n",
    "    model = models[i]\n",
    "    pred = model.predict(test_X, prediction_type='Probability')[:,1]\n",
    "    preds.append(pred)\n",
    "    print(np.sum(pred) / pred.shape[0])\n",
    "    \n",
    "preds = np.array(preds)\n",
    "preds = np.mean(preds, axis=0)\n",
    "print(np.sum(preds) / preds.shape[0])\n",
    "\n",
    "\n",
    "temp = pd.DataFrame({\"pred\":pred})\n",
    "temp.hist(bins=80)"
   ]
  },
  {
   "cell_type": "code",
   "execution_count": 19,
   "metadata": {},
   "outputs": [
    {
     "name": "stdout",
     "output_type": "stream",
     "text": [
      "0.5763585038814396\n"
     ]
    }
   ],
   "source": [
    "preds_ = np.where(preds < THRESHOLD, 0, 1)\n",
    "print(np.sum(preds_) / preds_.shape[0])\n",
    "\n",
    "submit_df = pd.DataFrame({'y': preds_})\n",
    "submit_df.index.name = 'id'\n",
    "submit_df.to_csv('../Submissions/submission_cat_6_psd1_{}.csv'.format(K))"
   ]
  },
  {
   "cell_type": "markdown",
   "metadata": {},
   "source": [
    "# Pseudo Labeling"
   ]
  },
  {
   "cell_type": "code",
   "execution_count": 20,
   "metadata": {
    "scrolled": true
   },
   "outputs": [],
   "source": [
    "test_X[\"pred\"] = preds\n",
    "test_X[\"y\"] = preds_\n",
    "ps_X = pd.concat([X, test_X[np.abs(0.5-test_X[\"pred\"]) > 0.20]])\n",
    "ps_y = np.append(y, test_X[\"y\"][np.abs(0.5-test_X[\"pred\"]) > 0.20].values)\n",
    "\n",
    "\n",
    "\n",
    "test_X.drop(columns=[\"pred\"], inplace=True)\n",
    "test_X.drop(columns=[\"y\"], inplace=True)\n",
    "ps_X.drop(columns=[\"pred\"], inplace=True)\n",
    "ps_X.drop(columns=[\"y\"], inplace=True)"
   ]
  },
  {
   "cell_type": "code",
   "execution_count": 21,
   "metadata": {},
   "outputs": [
    {
     "name": "stdout",
     "output_type": "stream",
     "text": [
      "10\n",
      "fold  1  size is  13308\n",
      "fold  2  size is  13308\n",
      "fold  3  size is  13308\n",
      "fold  4  size is  13308\n",
      "fold  5  size is  13308\n",
      "fold  6  size is  13308\n",
      "fold  7  size is  13308\n",
      "fold  8  size is  13308\n",
      "fold  9  size is  13307\n",
      "fold  10  size is  13307\n",
      "successfully split\n"
     ]
    }
   ],
   "source": [
    "# 全データを5つに分割\n",
    "SIZE = ps_X.shape[0]\n",
    "K = 10\n",
    "\n",
    "\n",
    "#folds = prepro.make_stratified_kfolds(X, y, K, shuffle=True)\n",
    "folds = prepro.make_stratified_kfolds(ps_X, ps_X[\"mode\"].astype(str) + ps_y.astype(str), K, shuffle=True, random_state=random.randint(0, 10000))\n",
    "\n",
    "\n",
    "print(len(folds))\n",
    "for i, fold in enumerate(folds):\n",
    "    print(\"fold \", i+1, \" size is \", len(fold))\n",
    "    \n",
    "    \n",
    "if SIZE != len(set(sum(folds, []))):\n",
    "    print(\"error is occuring in spliting\")\n",
    "else :\n",
    "    print(\"successfully split\")\n"
   ]
  },
  {
   "cell_type": "code",
   "execution_count": 22,
   "metadata": {
    "scrolled": true
   },
   "outputs": [
    {
     "name": "stdout",
     "output_type": "stream",
     "text": [
      "======================== fold 1 ========================\n",
      "0:\tlearn: 0.6926274\ttest: 0.6926997\tbest: 0.6926997 (0)\ttotal: 893ms\tremaining: 29m 44s\n",
      "100:\tlearn: 0.6785761\ttest: 0.6818443\tbest: 0.6818432 (99)\ttotal: 1m 45s\tremaining: 32m 59s\n",
      "200:\tlearn: 0.6723914\ttest: 0.6779587\tbest: 0.6779587 (200)\ttotal: 3m 36s\tremaining: 32m 16s\n",
      "300:\tlearn: 0.6662260\ttest: 0.6750118\tbest: 0.6750118 (300)\ttotal: 5m 22s\tremaining: 30m 19s\n",
      "400:\tlearn: 0.6607980\ttest: 0.6731340\tbest: 0.6731093 (388)\ttotal: 7m 12s\tremaining: 28m 44s\n",
      "500:\tlearn: 0.6561680\ttest: 0.6720453\tbest: 0.6720453 (500)\ttotal: 9m 4s\tremaining: 27m 8s\n",
      "600:\tlearn: 0.6518741\ttest: 0.6709207\tbest: 0.6709115 (596)\ttotal: 11m\tremaining: 25m 37s\n",
      "700:\tlearn: 0.6478572\ttest: 0.6701363\tbest: 0.6701199 (691)\ttotal: 12m 53s\tremaining: 23m 53s\n",
      "800:\tlearn: 0.6440582\ttest: 0.6697215\tbest: 0.6696878 (787)\ttotal: 14m 44s\tremaining: 22m 4s\n",
      "900:\tlearn: 0.6397952\ttest: 0.6681354\tbest: 0.6681289 (890)\ttotal: 16m 42s\tremaining: 20m 23s\n",
      "1000:\tlearn: 0.6360049\ttest: 0.6674985\tbest: 0.6674323 (982)\ttotal: 18m 34s\tremaining: 18m 32s\n",
      "Stopped by overfitting detector  (50 iterations wait)\n",
      "\n",
      "bestTest = 0.6672191516\n",
      "bestIteration = 1019\n",
      "\n",
      "Shrink model to first 1020 iterations.\n",
      "======================== fold 2 ========================\n",
      "0:\tlearn: 0.6927630\ttest: 0.6927565\tbest: 0.6927565 (0)\ttotal: 828ms\tremaining: 27m 35s\n",
      "100:\tlearn: 0.6783806\ttest: 0.6806477\tbest: 0.6806477 (100)\ttotal: 1m 49s\tremaining: 34m 11s\n",
      "200:\tlearn: 0.6730330\ttest: 0.6777844\tbest: 0.6777841 (199)\ttotal: 3m 41s\tremaining: 32m 59s\n",
      "300:\tlearn: 0.6669197\ttest: 0.6746027\tbest: 0.6745727 (296)\ttotal: 5m 28s\tremaining: 30m 56s\n",
      "400:\tlearn: 0.6614081\ttest: 0.6727256\tbest: 0.6727027 (393)\ttotal: 7m 16s\tremaining: 29m 1s\n",
      "500:\tlearn: 0.6564942\ttest: 0.6704716\tbest: 0.6704649 (496)\ttotal: 9m 13s\tremaining: 27m 36s\n",
      "600:\tlearn: 0.6520501\ttest: 0.6695062\tbest: 0.6694969 (597)\ttotal: 11m 2s\tremaining: 25m 42s\n",
      "700:\tlearn: 0.6480393\ttest: 0.6688331\tbest: 0.6687916 (679)\ttotal: 12m 52s\tremaining: 23m 52s\n",
      "800:\tlearn: 0.6441228\ttest: 0.6685608\tbest: 0.6685091 (790)\ttotal: 14m 43s\tremaining: 22m 2s\n",
      "900:\tlearn: 0.6400664\ttest: 0.6671790\tbest: 0.6671790 (900)\ttotal: 16m 43s\tremaining: 20m 24s\n",
      "1000:\tlearn: 0.6363474\ttest: 0.6668038\tbest: 0.6667776 (997)\ttotal: 18m 38s\tremaining: 18m 36s\n",
      "Stopped by overfitting detector  (50 iterations wait)\n",
      "\n",
      "bestTest = 0.6667776192\n",
      "bestIteration = 997\n",
      "\n",
      "Shrink model to first 998 iterations.\n",
      "======================== fold 3 ========================\n",
      "0:\tlearn: 0.6927328\ttest: 0.6926924\tbest: 0.6926924 (0)\ttotal: 1.12s\tremaining: 37m 22s\n",
      "100:\tlearn: 0.6782291\ttest: 0.6798461\tbest: 0.6798461 (100)\ttotal: 1m 50s\tremaining: 34m 33s\n",
      "200:\tlearn: 0.6723781\ttest: 0.6762976\tbest: 0.6762976 (200)\ttotal: 3m 47s\tremaining: 33m 55s\n",
      "300:\tlearn: 0.6666953\ttest: 0.6741702\tbest: 0.6741612 (298)\ttotal: 5m 38s\tremaining: 31m 48s\n",
      "400:\tlearn: 0.6610711\ttest: 0.6720709\tbest: 0.6720393 (397)\ttotal: 7m 29s\tremaining: 29m 53s\n",
      "500:\tlearn: 0.6560445\ttest: 0.6706992\tbest: 0.6706922 (498)\ttotal: 9m 21s\tremaining: 28m 1s\n",
      "600:\tlearn: 0.6516115\ttest: 0.6694610\tbest: 0.6694447 (594)\ttotal: 11m 15s\tremaining: 26m 13s\n",
      "700:\tlearn: 0.6470862\ttest: 0.6679601\tbest: 0.6679420 (690)\ttotal: 13m 13s\tremaining: 24m 30s\n",
      "800:\tlearn: 0.6432363\ttest: 0.6673251\tbest: 0.6673191 (799)\ttotal: 15m 11s\tremaining: 22m 44s\n",
      "900:\tlearn: 0.6392774\ttest: 0.6664268\tbest: 0.6663130 (865)\ttotal: 17m 10s\tremaining: 20m 57s\n",
      "Stopped by overfitting detector  (50 iterations wait)\n",
      "\n",
      "bestTest = 0.6663129742\n",
      "bestIteration = 865\n",
      "\n",
      "Shrink model to first 866 iterations.\n",
      "======================== fold 4 ========================\n",
      "0:\tlearn: 0.6925725\ttest: 0.6925815\tbest: 0.6925815 (0)\ttotal: 948ms\tremaining: 31m 34s\n",
      "100:\tlearn: 0.6786746\ttest: 0.6797552\tbest: 0.6797552 (100)\ttotal: 1m 51s\tremaining: 34m 57s\n",
      "200:\tlearn: 0.6728869\ttest: 0.6761603\tbest: 0.6761603 (200)\ttotal: 3m 49s\tremaining: 34m 17s\n",
      "300:\tlearn: 0.6672666\ttest: 0.6732778\tbest: 0.6732778 (300)\ttotal: 5m 43s\tremaining: 32m 20s\n",
      "400:\tlearn: 0.6618183\ttest: 0.6711531\tbest: 0.6711531 (400)\ttotal: 7m 39s\tremaining: 30m 33s\n",
      "500:\tlearn: 0.6567907\ttest: 0.6696637\tbest: 0.6696637 (500)\ttotal: 9m 37s\tremaining: 28m 47s\n",
      "600:\tlearn: 0.6521858\ttest: 0.6675215\tbest: 0.6675215 (600)\ttotal: 11m 38s\tremaining: 27m 5s\n",
      "700:\tlearn: 0.6478835\ttest: 0.6665561\tbest: 0.6665071 (694)\ttotal: 13m 36s\tremaining: 25m 12s\n",
      "800:\tlearn: 0.6440593\ttest: 0.6656840\tbest: 0.6656840 (800)\ttotal: 15m 38s\tremaining: 23m 25s\n",
      "900:\tlearn: 0.6401948\ttest: 0.6647069\tbest: 0.6647034 (899)\ttotal: 17m 38s\tremaining: 21m 31s\n",
      "1000:\tlearn: 0.6365484\ttest: 0.6641759\tbest: 0.6641596 (995)\ttotal: 19m 41s\tremaining: 19m 38s\n",
      "1100:\tlearn: 0.6330943\ttest: 0.6640678\tbest: 0.6640330 (1099)\ttotal: 21m 37s\tremaining: 17m 39s\n",
      "1200:\tlearn: 0.6292870\ttest: 0.6637035\tbest: 0.6636240 (1185)\ttotal: 23m 40s\tremaining: 15m 44s\n",
      "Stopped by overfitting detector  (50 iterations wait)\n",
      "\n",
      "bestTest = 0.6636239647\n",
      "bestIteration = 1185\n",
      "\n",
      "Shrink model to first 1186 iterations.\n",
      "======================== fold 5 ========================\n",
      "0:\tlearn: 0.6927248\ttest: 0.6927901\tbest: 0.6927901 (0)\ttotal: 1.01s\tremaining: 33m 40s\n",
      "100:\tlearn: 0.6780594\ttest: 0.6801109\tbest: 0.6801109 (100)\ttotal: 1m 58s\tremaining: 37m 9s\n",
      "200:\tlearn: 0.6724563\ttest: 0.6771493\tbest: 0.6771493 (200)\ttotal: 3m 58s\tremaining: 35m 34s\n",
      "300:\tlearn: 0.6668684\ttest: 0.6742891\tbest: 0.6742833 (298)\ttotal: 5m 56s\tremaining: 33m 31s\n",
      "400:\tlearn: 0.6613298\ttest: 0.6728119\tbest: 0.6728119 (400)\ttotal: 7m 49s\tremaining: 31m 13s\n",
      "500:\tlearn: 0.6564847\ttest: 0.6710906\tbest: 0.6710906 (500)\ttotal: 9m 47s\tremaining: 29m 18s\n",
      "600:\tlearn: 0.6521051\ttest: 0.6694289\tbest: 0.6694289 (600)\ttotal: 11m 53s\tremaining: 27m 40s\n",
      "700:\tlearn: 0.6476085\ttest: 0.6673834\tbest: 0.6673784 (697)\ttotal: 13m 54s\tremaining: 25m 47s\n",
      "800:\tlearn: 0.6437212\ttest: 0.6666886\tbest: 0.6666737 (797)\ttotal: 15m 53s\tremaining: 23m 47s\n",
      "900:\tlearn: 0.6399081\ttest: 0.6661186\tbest: 0.6661138 (899)\ttotal: 17m 55s\tremaining: 21m 51s\n",
      "1000:\tlearn: 0.6363067\ttest: 0.6657796\tbest: 0.6657746 (996)\ttotal: 19m 57s\tremaining: 19m 55s\n",
      "Stopped by overfitting detector  (50 iterations wait)\n",
      "\n",
      "bestTest = 0.665774608\n",
      "bestIteration = 996\n",
      "\n",
      "Shrink model to first 997 iterations.\n",
      "======================== fold 6 ========================\n",
      "0:\tlearn: 0.6926866\ttest: 0.6927424\tbest: 0.6927424 (0)\ttotal: 1.11s\tremaining: 37m 7s\n",
      "100:\tlearn: 0.6786784\ttest: 0.6807222\tbest: 0.6807222 (100)\ttotal: 1m 58s\tremaining: 37m 16s\n",
      "200:\tlearn: 0.6723320\ttest: 0.6759825\tbest: 0.6759825 (200)\ttotal: 3m 59s\tremaining: 35m 46s\n",
      "300:\tlearn: 0.6663430\ttest: 0.6730848\tbest: 0.6730848 (300)\ttotal: 6m 2s\tremaining: 34m 4s\n",
      "400:\tlearn: 0.6606072\ttest: 0.6706506\tbest: 0.6706506 (400)\ttotal: 8m 3s\tremaining: 32m 7s\n",
      "500:\tlearn: 0.6559028\ttest: 0.6692579\tbest: 0.6692442 (496)\ttotal: 10m 6s\tremaining: 30m 16s\n",
      "600:\tlearn: 0.6510764\ttest: 0.6675216\tbest: 0.6675216 (600)\ttotal: 12m 9s\tremaining: 28m 19s\n",
      "700:\tlearn: 0.6470140\ttest: 0.6668996\tbest: 0.6668007 (676)\ttotal: 14m 15s\tremaining: 26m 25s\n",
      "Stopped by overfitting detector  (50 iterations wait)\n",
      "\n",
      "bestTest = 0.6668007361\n",
      "bestIteration = 676\n",
      "\n",
      "Shrink model to first 677 iterations.\n",
      "======================== fold 7 ========================\n",
      "0:\tlearn: 0.6926735\ttest: 0.6926800\tbest: 0.6926800 (0)\ttotal: 1.21s\tremaining: 40m 11s\n",
      "100:\tlearn: 0.6784299\ttest: 0.6804439\tbest: 0.6804439 (100)\ttotal: 2m\tremaining: 37m 40s\n",
      "200:\tlearn: 0.6724215\ttest: 0.6766005\tbest: 0.6766005 (200)\ttotal: 4m 8s\tremaining: 37m 4s\n",
      "300:\tlearn: 0.6670977\ttest: 0.6744130\tbest: 0.6744130 (300)\ttotal: 6m 8s\tremaining: 34m 41s\n",
      "400:\tlearn: 0.6615245\ttest: 0.6726808\tbest: 0.6726808 (400)\ttotal: 8m 11s\tremaining: 32m 40s\n",
      "500:\tlearn: 0.6570651\ttest: 0.6716509\tbest: 0.6716509 (500)\ttotal: 10m 16s\tremaining: 30m 45s\n",
      "600:\tlearn: 0.6523947\ttest: 0.6702632\tbest: 0.6702555 (596)\ttotal: 12m 21s\tremaining: 28m 46s\n",
      "700:\tlearn: 0.6483084\ttest: 0.6696013\tbest: 0.6696013 (700)\ttotal: 14m 25s\tremaining: 26m 44s\n",
      "800:\tlearn: 0.6441262\ttest: 0.6688485\tbest: 0.6688146 (791)\ttotal: 16m 28s\tremaining: 24m 40s\n",
      "900:\tlearn: 0.6402982\ttest: 0.6681383\tbest: 0.6681023 (887)\ttotal: 18m 35s\tremaining: 22m 40s\n",
      "1000:\tlearn: 0.6364075\ttest: 0.6678685\tbest: 0.6678286 (959)\ttotal: 20m 35s\tremaining: 20m 33s\n",
      "1100:\tlearn: 0.6328351\ttest: 0.6673959\tbest: 0.6673449 (1078)\ttotal: 22m 46s\tremaining: 18m 35s\n"
     ]
    },
    {
     "name": "stdout",
     "output_type": "stream",
     "text": [
      "Stopped by overfitting detector  (50 iterations wait)\n",
      "\n",
      "bestTest = 0.666718227\n",
      "bestIteration = 1142\n",
      "\n",
      "Shrink model to first 1143 iterations.\n",
      "======================== fold 8 ========================\n",
      "0:\tlearn: 0.6927070\ttest: 0.6927930\tbest: 0.6927930 (0)\ttotal: 1.26s\tremaining: 41m 54s\n",
      "100:\tlearn: 0.6784285\ttest: 0.6821195\tbest: 0.6821195 (100)\ttotal: 2m 7s\tremaining: 39m 48s\n",
      "200:\tlearn: 0.6720232\ttest: 0.6778839\tbest: 0.6778689 (199)\ttotal: 4m 18s\tremaining: 38m 37s\n",
      "300:\tlearn: 0.6657738\ttest: 0.6735224\tbest: 0.6735064 (299)\ttotal: 6m 32s\tremaining: 36m 54s\n",
      "400:\tlearn: 0.6603335\ttest: 0.6715455\tbest: 0.6715455 (400)\ttotal: 8m 42s\tremaining: 34m 44s\n",
      "500:\tlearn: 0.6555805\ttest: 0.6701605\tbest: 0.6701125 (497)\ttotal: 10m 53s\tremaining: 32m 36s\n",
      "600:\tlearn: 0.6513788\ttest: 0.6693347\tbest: 0.6693172 (590)\ttotal: 13m 4s\tremaining: 30m 26s\n",
      "700:\tlearn: 0.6472711\ttest: 0.6687756\tbest: 0.6687373 (694)\ttotal: 15m 19s\tremaining: 28m 22s\n",
      "800:\tlearn: 0.6429484\ttest: 0.6678033\tbest: 0.6677629 (794)\ttotal: 17m 37s\tremaining: 26m 22s\n",
      "900:\tlearn: 0.6392458\ttest: 0.6674090\tbest: 0.6672887 (867)\ttotal: 19m 50s\tremaining: 24m 12s\n",
      "Stopped by overfitting detector  (50 iterations wait)\n",
      "\n",
      "bestTest = 0.6671002104\n",
      "bestIteration = 936\n",
      "\n",
      "Shrink model to first 937 iterations.\n",
      "======================== fold 9 ========================\n",
      "0:\tlearn: 0.6926489\ttest: 0.6927365\tbest: 0.6927365 (0)\ttotal: 1.13s\tremaining: 37m 45s\n",
      "100:\tlearn: 0.6789340\ttest: 0.6819141\tbest: 0.6819128 (99)\ttotal: 2m 10s\tremaining: 40m 48s\n",
      "200:\tlearn: 0.6729418\ttest: 0.6774136\tbest: 0.6774136 (200)\ttotal: 4m 24s\tremaining: 39m 27s\n",
      "300:\tlearn: 0.6669789\ttest: 0.6736015\tbest: 0.6736015 (300)\ttotal: 6m 38s\tremaining: 37m 26s\n",
      "400:\tlearn: 0.6612508\ttest: 0.6700128\tbest: 0.6700128 (400)\ttotal: 9m 3s\tremaining: 36m 7s\n",
      "500:\tlearn: 0.6563963\ttest: 0.6686638\tbest: 0.6686302 (497)\ttotal: 11m 19s\tremaining: 33m 52s\n",
      "600:\tlearn: 0.6521557\ttest: 0.6675964\tbest: 0.6675935 (599)\ttotal: 13m 35s\tremaining: 31m 38s\n",
      "700:\tlearn: 0.6482970\ttest: 0.6669331\tbest: 0.6669105 (696)\ttotal: 15m 55s\tremaining: 29m 30s\n",
      "800:\tlearn: 0.6443939\ttest: 0.6665091\tbest: 0.6664767 (794)\ttotal: 18m 12s\tremaining: 27m 14s\n",
      "Stopped by overfitting detector  (50 iterations wait)\n",
      "\n",
      "bestTest = 0.6664766542\n",
      "bestIteration = 794\n",
      "\n",
      "Shrink model to first 795 iterations.\n",
      "======================== fold 10 ========================\n",
      "0:\tlearn: 0.6926924\ttest: 0.6926973\tbest: 0.6926973 (0)\ttotal: 1.14s\tremaining: 37m 48s\n",
      "100:\tlearn: 0.6788995\ttest: 0.6808723\tbest: 0.6808671 (99)\ttotal: 2m 14s\tremaining: 42m 17s\n",
      "200:\tlearn: 0.6730847\ttest: 0.6770982\tbest: 0.6770982 (200)\ttotal: 4m 31s\tremaining: 40m 32s\n",
      "300:\tlearn: 0.6669906\ttest: 0.6733255\tbest: 0.6733255 (300)\ttotal: 6m 46s\tremaining: 38m 15s\n",
      "400:\tlearn: 0.6615779\ttest: 0.6712536\tbest: 0.6712330 (398)\ttotal: 9m 11s\tremaining: 36m 38s\n",
      "500:\tlearn: 0.6566133\ttest: 0.6689989\tbest: 0.6689989 (500)\ttotal: 11m 38s\tremaining: 34m 48s\n",
      "600:\tlearn: 0.6518970\ttest: 0.6673747\tbest: 0.6673704 (591)\ttotal: 14m 2s\tremaining: 32m 41s\n",
      "700:\tlearn: 0.6476747\ttest: 0.6667134\tbest: 0.6666575 (690)\ttotal: 16m 22s\tremaining: 30m 20s\n",
      "800:\tlearn: 0.6435781\ttest: 0.6658954\tbest: 0.6658954 (800)\ttotal: 18m 48s\tremaining: 28m 8s\n",
      "900:\tlearn: 0.6397165\ttest: 0.6655706\tbest: 0.6655211 (892)\ttotal: 21m 12s\tremaining: 25m 52s\n",
      "1000:\tlearn: 0.6360831\ttest: 0.6652741\tbest: 0.6652721 (998)\ttotal: 23m 35s\tremaining: 23m 32s\n",
      "1100:\tlearn: 0.6324935\ttest: 0.6646857\tbest: 0.6646857 (1100)\ttotal: 26m 3s\tremaining: 21m 16s\n",
      "1200:\tlearn: 0.6289280\ttest: 0.6642321\tbest: 0.6642160 (1194)\ttotal: 28m 30s\tremaining: 18m 57s\n",
      "Stopped by overfitting detector  (50 iterations wait)\n",
      "\n",
      "bestTest = 0.6642160144\n",
      "bestIteration = 1194\n",
      "\n",
      "Shrink model to first 1195 iterations.\n",
      "cv score :  0.5858218589694809\n",
      "cv ratio :  0.5045837779347451\n"
     ]
    }
   ],
   "source": [
    "params = {\n",
    "    \"loss_function\" : \"Logloss\",\n",
    "    \"eval_metric\" : \"Logloss\",\n",
    "    \"iterations\":2000,\n",
    "    \"learning_rate\" : 0.05,\n",
    "    \"use_best_model\": True,\n",
    "    \"random_seed\":random.randint(0, 100000),\n",
    "\n",
    "    \n",
    "\n",
    "}\n",
    "\n",
    "THRESHOLD = 0.50\n",
    "models = []\n",
    "cv_scores = []\n",
    "temp = 0\n",
    "train_pred = []\n",
    "valid_ys = []\n",
    "\n",
    "all_indices = sum(folds, [])\n",
    "for i in range(K):\n",
    "    print(\"======================== fold {} ========================\".format(i+1))\n",
    "    valid_indices = folds[i]\n",
    "    train_indices = list(set(all_indices) - set(valid_indices))\n",
    "    # print(\"train \", len(train_indices), \" , valid \", len(valid_indices))\n",
    "    \n",
    "\n",
    "    train_X = ps_X.iloc[train_indices]\n",
    "    try:\n",
    "        train_y = ps_y.iloc[train_indices]\n",
    "    except:\n",
    "        train_y = ps_y[train_indices]\n",
    "    valid_X = ps_X.iloc[valid_indices]\n",
    "    try:\n",
    "        valid_y = ps_y.iloc[valid_indices]\n",
    "    except:\n",
    "        valid_y = ps_y[valid_indices]\n",
    "    \n",
    "    \n",
    "    \n",
    "    \n",
    "    train_data = Pool(train_X, train_y, cat_features=categorical_features_indices)\n",
    "    valid_data = Pool(valid_X, valid_y, cat_features=categorical_features_indices)\n",
    "    \n",
    "    model = CatBoostClassifier(**params)\n",
    "\n",
    "    \n",
    "    model.fit(\n",
    "        train_data,\n",
    "        eval_set=valid_data,\n",
    "        early_stopping_rounds=50,\n",
    "        verbose=100,\n",
    "        use_best_model=True,\n",
    "    )\n",
    "    \n",
    "    pred = model.predict(valid_X, prediction_type='Probability')[:,1]\n",
    "    train_pred.append(pred)\n",
    "    pred = np.where(pred < THRESHOLD, 0, 1)\n",
    "\n",
    "    temp += np.sum(pred) \n",
    "    \n",
    "    score = accuracy_score(pred, valid_y)\n",
    "    \n",
    "    models.append(model)\n",
    "    cv_scores.append(score)\n",
    "    \n",
    "    \n",
    "print(\"cv score : \", np.mean(cv_scores))    \n",
    "print(\"cv ratio : \", temp / SIZE)"
   ]
  },
  {
   "cell_type": "code",
   "execution_count": 23,
   "metadata": {},
   "outputs": [
    {
     "name": "stdout",
     "output_type": "stream",
     "text": [
      "0.5175793983514205\n",
      "0.5158227946318781\n",
      "0.5145723691772472\n",
      "0.5166224927183904\n",
      "0.5164842556082632\n",
      "0.5176016906983253\n",
      "0.5156272570266398\n",
      "0.5172387933880456\n",
      "0.5146761218974872\n",
      "0.5174854157676054\n",
      "0.5163710589265302\n"
     ]
    },
    {
     "data": {
      "text/plain": [
       "array([[<AxesSubplot:title={'center':'pred'}>]], dtype=object)"
      ]
     },
     "execution_count": 23,
     "metadata": {},
     "output_type": "execute_result"
    },
    {
     "data": {
      "image/png": "[encoded data removed]",
      "text/plain": [
       "<Figure size 432x288 with 1 Axes>"
      ]
     },
     "metadata": {
      "needs_background": "light"
     },
     "output_type": "display_data"
    }
   ],
   "source": [
    "preds = []\n",
    "for i in range(K):\n",
    "    model = models[i]\n",
    "    pred = model.predict(test_X, prediction_type='Probability')[:,1]\n",
    "    preds.append(pred)\n",
    "    print(np.sum(pred) / pred.shape[0])\n",
    "    \n",
    "preds = np.array(preds)\n",
    "preds = np.mean(preds, axis=0)\n",
    "print(np.sum(preds) / preds.shape[0])\n",
    "\n",
    "\n",
    "temp = pd.DataFrame({\"pred\":pred})\n",
    "temp.hist(bins=80)"
   ]
  },
  {
   "cell_type": "code",
   "execution_count": 24,
   "metadata": {},
   "outputs": [
    {
     "name": "stdout",
     "output_type": "stream",
     "text": [
      "0.5800282286520818\n"
     ]
    }
   ],
   "source": [
    "preds_ = np.where(preds < THRESHOLD, 0, 1)\n",
    "print(np.sum(preds_) / preds_.shape[0])\n",
    "\n",
    "submit_df = pd.DataFrame({'y': preds_})\n",
    "submit_df.index.name = 'id'\n",
    "submit_df.to_csv('../Submissions/submission_cat_6_psd2_{}.csv'.format(K))"
   ]
  },
  {
   "cell_type": "markdown",
   "metadata": {},
   "source": [
    "# Pseudo Labeling2"
   ]
  },
  {
   "cell_type": "code",
   "execution_count": 25,
   "metadata": {
    "scrolled": true
   },
   "outputs": [],
   "source": [
    "test_X[\"pred\"] = preds\n",
    "test_X[\"y\"] = preds_\n",
    "ps_X = pd.concat([X, test_X[np.abs(0.5-test_X[\"pred\"]) > 0.25]])\n",
    "ps_y = np.append(y, test_X[\"y\"][np.abs(0.5-test_X[\"pred\"]) > 0.25].values)\n",
    "\n",
    "\n",
    "\n",
    "test_X.drop(columns=[\"pred\"], inplace=True)\n",
    "test_X.drop(columns=[\"y\"], inplace=True)\n",
    "ps_X.drop(columns=[\"pred\"], inplace=True)\n",
    "ps_X.drop(columns=[\"y\"], inplace=True)"
   ]
  },
  {
   "cell_type": "code",
   "execution_count": 26,
   "metadata": {},
   "outputs": [
    {
     "name": "stdout",
     "output_type": "stream",
     "text": [
      "10\n",
      "fold  1  size is  13308\n",
      "fold  2  size is  13308\n",
      "fold  3  size is  13308\n",
      "fold  4  size is  13308\n",
      "fold  5  size is  13308\n",
      "fold  6  size is  13308\n",
      "fold  7  size is  13308\n",
      "fold  8  size is  13308\n",
      "fold  9  size is  13307\n",
      "fold  10  size is  13307\n",
      "successfully split\n"
     ]
    }
   ],
   "source": [
    "# 全データを5つに分割\n",
    "SIZE = ps_X.shape[0]\n",
    "K = 10\n",
    "\n",
    "\n",
    "#folds = prepro.make_stratified_kfolds(X, y, K, shuffle=True)\n",
    "folds = prepro.make_stratified_kfolds(ps_X, ps_X[\"mode\"].astype(str) + ps_y.astype(str), K, shuffle=True, random_state=random.randint(0, 10000))\n",
    "\n",
    "\n",
    "print(len(folds))\n",
    "for i, fold in enumerate(folds):\n",
    "    print(\"fold \", i+1, \" size is \", len(fold))\n",
    "    \n",
    "    \n",
    "if SIZE != len(set(sum(folds, []))):\n",
    "    print(\"error is occuring in spliting\")\n",
    "else :\n",
    "    print(\"successfully split\")\n"
   ]
  },
  {
   "cell_type": "code",
   "execution_count": null,
   "metadata": {
    "scrolled": true
   },
   "outputs": [
    {
     "name": "stdout",
     "output_type": "stream",
     "text": [
      "======================== fold 1 ========================\n",
      "0:\tlearn: 0.6926450\ttest: 0.6927380\tbest: 0.6927380 (0)\ttotal: 866ms\tremaining: 28m 51s\n",
      "100:\tlearn: 0.6783925\ttest: 0.6806959\tbest: 0.6806959 (100)\ttotal: 1m 48s\tremaining: 33m 56s\n",
      "200:\tlearn: 0.6724233\ttest: 0.6771231\tbest: 0.6771198 (199)\ttotal: 3m 42s\tremaining: 33m 11s\n",
      "300:\tlearn: 0.6664587\ttest: 0.6749420\tbest: 0.6749420 (300)\ttotal: 5m 29s\tremaining: 31m 2s\n",
      "400:\tlearn: 0.6609682\ttest: 0.6722059\tbest: 0.6722017 (394)\ttotal: 7m 25s\tremaining: 29m 38s\n",
      "500:\tlearn: 0.6561825\ttest: 0.6704370\tbest: 0.6703707 (481)\ttotal: 9m 24s\tremaining: 28m 8s\n",
      "Stopped by overfitting detector  (50 iterations wait)\n",
      "\n",
      "bestTest = 0.6703706705\n",
      "bestIteration = 481\n",
      "\n",
      "Shrink model to first 482 iterations.\n",
      "======================== fold 2 ========================\n",
      "0:\tlearn: 0.6926104\ttest: 0.6926342\tbest: 0.6926342 (0)\ttotal: 1.02s\tremaining: 34m\n",
      "100:\tlearn: 0.6784744\ttest: 0.6827743\tbest: 0.6827743 (100)\ttotal: 1m 47s\tremaining: 33m 41s\n",
      "200:\tlearn: 0.6719550\ttest: 0.6785164\tbest: 0.6785164 (200)\ttotal: 3m 48s\tremaining: 34m 2s\n",
      "300:\tlearn: 0.6662030\ttest: 0.6765813\tbest: 0.6765813 (300)\ttotal: 5m 40s\tremaining: 32m 3s\n",
      "400:\tlearn: 0.6606134\ttest: 0.6745834\tbest: 0.6745676 (391)\ttotal: 7m 34s\tremaining: 30m 10s\n",
      "500:\tlearn: 0.6559604\ttest: 0.6738018\tbest: 0.6737952 (497)\ttotal: 9m 28s\tremaining: 28m 21s\n",
      "600:\tlearn: 0.6515263\ttest: 0.6726295\tbest: 0.6725570 (565)\ttotal: 11m 26s\tremaining: 26m 38s\n",
      "700:\tlearn: 0.6472072\ttest: 0.6717041\tbest: 0.6716506 (693)\ttotal: 13m 24s\tremaining: 24m 50s\n",
      "800:\tlearn: 0.6432549\ttest: 0.6712866\tbest: 0.6712495 (778)\ttotal: 15m 25s\tremaining: 23m 4s\n",
      "900:\tlearn: 0.6394675\ttest: 0.6708387\tbest: 0.6708387 (900)\ttotal: 17m 19s\tremaining: 21m 7s\n",
      "1000:\tlearn: 0.6356197\ttest: 0.6705781\tbest: 0.6705677 (995)\ttotal: 19m 23s\tremaining: 19m 20s\n",
      "1100:\tlearn: 0.6320122\ttest: 0.6702787\tbest: 0.6702555 (1097)\ttotal: 21m 24s\tremaining: 17m 28s\n",
      "1200:\tlearn: 0.6284843\ttest: 0.6700437\tbest: 0.6700143 (1190)\ttotal: 23m 25s\tremaining: 15m 34s\n",
      "1300:\tlearn: 0.6248384\ttest: 0.6692023\tbest: 0.6691481 (1290)\ttotal: 25m 27s\tremaining: 13m 40s\n",
      "1400:\tlearn: 0.6215058\ttest: 0.6688614\tbest: 0.6688152 (1383)\ttotal: 27m 30s\tremaining: 11m 45s\n",
      "Stopped by overfitting detector  (50 iterations wait)\n",
      "\n",
      "bestTest = 0.6688152206\n",
      "bestIteration = 1383\n",
      "\n",
      "Shrink model to first 1384 iterations.\n",
      "======================== fold 3 ========================\n",
      "0:\tlearn: 0.6927238\ttest: 0.6927033\tbest: 0.6927033 (0)\ttotal: 995ms\tremaining: 33m 9s\n",
      "100:\tlearn: 0.6785333\ttest: 0.6799847\tbest: 0.6799847 (100)\ttotal: 2m 1s\tremaining: 37m 55s\n",
      "200:\tlearn: 0.6729346\ttest: 0.6764711\tbest: 0.6764711 (200)\ttotal: 4m 4s\tremaining: 36m 30s\n",
      "300:\tlearn: 0.6670093\ttest: 0.6736406\tbest: 0.6736406 (300)\ttotal: 6m 6s\tremaining: 34m 27s\n",
      "400:\tlearn: 0.6615649\ttest: 0.6721343\tbest: 0.6721331 (399)\ttotal: 8m 4s\tremaining: 32m 12s\n",
      "500:\tlearn: 0.6562180\ttest: 0.6699546\tbest: 0.6699437 (498)\ttotal: 10m 13s\tremaining: 30m 36s\n",
      "600:\tlearn: 0.6517102\ttest: 0.6685955\tbest: 0.6685391 (594)\ttotal: 12m 19s\tremaining: 28m 40s\n",
      "700:\tlearn: 0.6473103\ttest: 0.6675983\tbest: 0.6675840 (699)\ttotal: 14m 27s\tremaining: 26m 47s\n",
      "800:\tlearn: 0.6436778\ttest: 0.6671386\tbest: 0.6671016 (783)\ttotal: 16m 36s\tremaining: 24m 51s\n",
      "900:\tlearn: 0.6397752\ttest: 0.6667391\tbest: 0.6667347 (895)\ttotal: 18m 42s\tremaining: 22m 48s\n",
      "1000:\tlearn: 0.6357552\ttest: 0.6657153\tbest: 0.6656964 (997)\ttotal: 20m 51s\tremaining: 20m 49s\n",
      "1100:\tlearn: 0.6322847\ttest: 0.6655177\tbest: 0.6654866 (1093)\ttotal: 23m 3s\tremaining: 18m 49s\n",
      "1200:\tlearn: 0.6281204\ttest: 0.6637418\tbest: 0.6637311 (1198)\ttotal: 25m 15s\tremaining: 16m 48s\n",
      "1300:\tlearn: 0.6245380\ttest: 0.6632001\tbest: 0.6631948 (1299)\ttotal: 27m 26s\tremaining: 14m 44s\n",
      "1400:\tlearn: 0.6213423\ttest: 0.6627895\tbest: 0.6627143 (1377)\ttotal: 29m 46s\tremaining: 12m 43s\n",
      "1500:\tlearn: 0.6178403\ttest: 0.6622944\tbest: 0.6622643 (1497)\ttotal: 31m 57s\tremaining: 10m 37s\n",
      "1600:\tlearn: 0.6144753\ttest: 0.6616035\tbest: 0.6615249 (1593)\ttotal: 34m 13s\tremaining: 8m 31s\n",
      "Stopped by overfitting detector  (50 iterations wait)\n",
      "\n",
      "bestTest = 0.6615249216\n",
      "bestIteration = 1593\n",
      "\n",
      "Shrink model to first 1594 iterations.\n",
      "======================== fold 4 ========================\n",
      "0:\tlearn: 0.6926098\ttest: 0.6926602\tbest: 0.6926602 (0)\ttotal: 1.02s\tremaining: 34m 1s\n",
      "100:\tlearn: 0.6786744\ttest: 0.6821652\tbest: 0.6821652 (100)\ttotal: 2m 5s\tremaining: 39m 27s\n",
      "200:\tlearn: 0.6726866\ttest: 0.6782022\tbest: 0.6782022 (200)\ttotal: 4m 19s\tremaining: 38m 40s\n",
      "300:\tlearn: 0.6667587\ttest: 0.6762674\tbest: 0.6762614 (299)\ttotal: 6m 22s\tremaining: 35m 57s\n",
      "400:\tlearn: 0.6614112\ttest: 0.6741491\tbest: 0.6741248 (397)\ttotal: 8m 32s\tremaining: 34m 1s\n",
      "500:\tlearn: 0.6566296\ttest: 0.6728496\tbest: 0.6728307 (496)\ttotal: 10m 44s\tremaining: 32m 7s\n"
     ]
    }
   ],
   "source": [
    "params = {\n",
    "    \"loss_function\" : \"Logloss\",\n",
    "    \"eval_metric\" : \"Logloss\",\n",
    "    \"iterations\":2000,\n",
    "    \"learning_rate\" : 0.05,\n",
    "    \"use_best_model\": True,\n",
    "    \"random_seed\":random.randint(0, 100000),\n",
    "\n",
    "    \n",
    "\n",
    "}\n",
    "\n",
    "THRESHOLD = 0.50\n",
    "models = []\n",
    "cv_scores = []\n",
    "temp = 0\n",
    "train_pred = []\n",
    "valid_ys = []\n",
    "\n",
    "all_indices = sum(folds, [])\n",
    "for i in range(K):\n",
    "    print(\"======================== fold {} ========================\".format(i+1))\n",
    "    valid_indices = folds[i]\n",
    "    train_indices = list(set(all_indices) - set(valid_indices))\n",
    "    # print(\"train \", len(train_indices), \" , valid \", len(valid_indices))\n",
    "    \n",
    "\n",
    "    train_X = ps_X.iloc[train_indices]\n",
    "    try:\n",
    "        train_y = ps_y.iloc[train_indices]\n",
    "    except:\n",
    "        train_y = ps_y[train_indices]\n",
    "    valid_X = ps_X.iloc[valid_indices]\n",
    "    try:\n",
    "        valid_y = ps_y.iloc[valid_indices]\n",
    "    except:\n",
    "        valid_y = ps_y[valid_indices]\n",
    "    \n",
    "    \n",
    "    \n",
    "    \n",
    "    train_data = Pool(train_X, train_y, cat_features=categorical_features_indices)\n",
    "    valid_data = Pool(valid_X, valid_y, cat_features=categorical_features_indices)\n",
    "    \n",
    "    model = CatBoostClassifier(**params)\n",
    "\n",
    "    \n",
    "    model.fit(\n",
    "        train_data,\n",
    "        eval_set=valid_data,\n",
    "        early_stopping_rounds=50,\n",
    "        verbose=100,\n",
    "        use_best_model=True,\n",
    "    )\n",
    "    \n",
    "    pred = model.predict(valid_X, prediction_type='Probability')[:,1]\n",
    "    train_pred.append(pred)\n",
    "    pred = np.where(pred < THRESHOLD, 0, 1)\n",
    "\n",
    "    temp += np.sum(pred) \n",
    "    \n",
    "    score = accuracy_score(pred, valid_y)\n",
    "    \n",
    "    models.append(model)\n",
    "    cv_scores.append(score)\n",
    "    \n",
    "    \n",
    "print(\"cv score : \", np.mean(cv_scores))    \n",
    "print(\"cv ratio : \", temp / SIZE)"
   ]
  },
  {
   "cell_type": "code",
   "execution_count": null,
   "metadata": {},
   "outputs": [],
   "source": [
    "preds = []\n",
    "for i in range(K):\n",
    "    model = models[i]\n",
    "    pred = model.predict(test_X, prediction_type='Probability')[:,1]\n",
    "    preds.append(pred)\n",
    "    print(np.sum(pred) / pred.shape[0])\n",
    "    \n",
    "preds = np.array(preds)\n",
    "preds = np.mean(preds, axis=0)\n",
    "print(np.sum(preds) / preds.shape[0])\n",
    "\n",
    "\n",
    "temp = pd.DataFrame({\"pred\":pred})\n",
    "temp.hist(bins=80)"
   ]
  },
  {
   "cell_type": "code",
   "execution_count": null,
   "metadata": {},
   "outputs": [],
   "source": [
    "preds_ = np.where(preds < THRESHOLD, 0, 1)\n",
    "print(np.sum(preds_) / preds_.shape[0])\n",
    "\n",
    "submit_df = pd.DataFrame({'y': preds_})\n",
    "submit_df.index.name = 'id'\n",
    "submit_df.to_csv('../Submissions/submission_cat_6_psd3_{}.csv'.format(K))"
   ]
  },
  {
   "cell_type": "code",
   "execution_count": null,
   "metadata": {},
   "outputs": [],
   "source": []
  },
  {
   "cell_type": "code",
   "execution_count": null,
   "metadata": {},
   "outputs": [],
   "source": []
  },
  {
   "cell_type": "markdown",
   "metadata": {},
   "source": [
    "# モデル解釈"
   ]
  },
  {
   "cell_type": "code",
   "execution_count": null,
   "metadata": {},
   "outputs": [],
   "source": [
    "importance = pd.DataFrame(\n",
    "    (models[0].get_feature_importance() + \n",
    "    models[1].get_feature_importance() + \n",
    "    models[2].get_feature_importance() + \n",
    "    models[3].get_feature_importance() + \n",
    "    models[4].get_feature_importance())/5\n",
    "    , index=X.columns, columns=['importance']).sort_values('importance', ascending=False)\n",
    "display(importance[:120])"
   ]
  },
  {
   "cell_type": "code",
   "execution_count": null,
   "metadata": {},
   "outputs": [],
   "source": [
    "indices = [index for index in importance.index if \"team\" in index]\n",
    "importance.loc[indices]"
   ]
  },
  {
   "cell_type": "code",
   "execution_count": null,
   "metadata": {},
   "outputs": [],
   "source": [
    "train_pred"
   ]
  },
  {
   "cell_type": "code",
   "execution_count": null,
   "metadata": {},
   "outputs": [],
   "source": [
    "train_df[train_df[\"disconnection-A\"] != 0][[\"disconnection-A\", \"disconnection-B\", \"y\", \"pred\"]]"
   ]
  },
  {
   "cell_type": "code",
   "execution_count": null,
   "metadata": {},
   "outputs": [],
   "source": [
    "train_df[\"pred\"] = 0\n",
    "train_df[\"y\"] = y\n",
    "for i in range(K):\n",
    "    train_df[\"pred\"].iloc[folds[i]] = np.where(train_pred[i] < THRESHOLD, 0, 1)\n",
    "    #train_df[\"pred\"].iloc[folds[i]] = train_pred[i]\n",
    "for mode in train_df[\"mode\"].unique():\n",
    "    rate = train_df[train_df[\"mode\"] == mode][train_df[\"pred\"] == train_df[\"y\"]].shape[0] / train_df[train_df[\"mode\"] == mode].shape[0]\n",
    "    print(\"{} : {}\".format(mode, rate))\n",
    "print(train_df[train_df[\"pred\"] == train_df[\"y\"]].shape[0] / train_df.shape[0])"
   ]
  },
  {
   "cell_type": "code",
   "execution_count": null,
   "metadata": {},
   "outputs": [],
   "source": [
    "result_df = train_df[train_df[\"y\"] != train_df[\"pred\"]]"
   ]
  },
  {
   "cell_type": "code",
   "execution_count": null,
   "metadata": {},
   "outputs": [],
   "source": [
    "print(result_df[result_df[\"mode\"] == \"nawabari\"].shape[0]/result_df.shape[0])\n",
    "print(result_df[result_df[\"mode\"] == \"hoko\"].shape[0]/result_df.shape[0])\n",
    "print(result_df[result_df[\"mode\"] == \"asari\"].shape[0]/result_df.shape[0])\n",
    "print(result_df[result_df[\"mode\"] == \"area\"].shape[0]/result_df.shape[0])\n",
    "print(result_df[result_df[\"mode\"] == \"yagura\"].shape[0]/result_df.shape[0])"
   ]
  },
  {
   "cell_type": "code",
   "execution_count": null,
   "metadata": {},
   "outputs": [],
   "source": [
    "result_df[result_df[\"mode\"] == \"nawabari\"]"
   ]
  },
  {
   "cell_type": "code",
   "execution_count": null,
   "metadata": {},
   "outputs": [],
   "source": []
  },
  {
   "cell_type": "code",
   "execution_count": null,
   "metadata": {},
   "outputs": [],
   "source": [
    "preds"
   ]
  },
  {
   "cell_type": "code",
   "execution_count": null,
   "metadata": {},
   "outputs": [],
   "source": [
    "def plot_feature_importance(importance,names,model_type, MAXSIZE=120):\n",
    "\n",
    "    #Create arrays from feature importance and feature names\n",
    "    feature_importance = np.array(importance)[:MAXSIZE]\n",
    "    feature_names = np.array(names)[:MAXSIZE]\n",
    "\n",
    "    #Create a DataFrame using a Dictionary\n",
    "    data={'feature_names':feature_names,'feature_importance':feature_importance}\n",
    "    fi_df = pd.DataFrame(data)\n",
    "\n",
    "    #Sort the DataFrame in order decreasing feature importance\n",
    "    fi_df.sort_values(by=['feature_importance'], ascending=False,inplace=True)\n",
    "\n",
    "    #Define size of bar plot\n",
    "    plt.figure(figsize=(20,16))\n",
    "    #Plot Searborn bar chart\n",
    "    sns.barplot(x=fi_df['feature_importance'], y=fi_df['feature_names'])\n",
    "    #Add chart labels\n",
    "    plt.title(model_type + 'FEATURE IMPORTANCE')\n",
    "    plt.xlabel('FEATURE IMPORTANCE')\n",
    "    plt.ylabel('FEATURE NAMES')"
   ]
  },
  {
   "cell_type": "code",
   "execution_count": null,
   "metadata": {},
   "outputs": [],
   "source": [
    "plot_feature_importance(importance.values.reshape(-1,), importance.index, \"Cat Boost \", MAXSIZE=40)"
   ]
  },
  {
   "cell_type": "code",
   "execution_count": null,
   "metadata": {},
   "outputs": [],
   "source": []
  },
  {
   "cell_type": "code",
   "execution_count": null,
   "metadata": {},
   "outputs": [],
   "source": []
  },
  {
   "cell_type": "code",
   "execution_count": null,
   "metadata": {
    "scrolled": true
   },
   "outputs": [],
   "source": [
    "train_df"
   ]
  },
  {
   "cell_type": "code",
   "execution_count": null,
   "metadata": {},
   "outputs": [],
   "source": [
    "v = train_df[\"team-subweapon-A\"].value_counts().add(\n",
    "    train_df[\"team-subweapon-B\"].value_counts().add(\n",
    "        test_df[\"team-subweapon-A\"].value_counts().add(\n",
    "            test_df[\"team-subweapon-A\"].value_counts(), fill_value=0\n",
    "        ), fill_value=0\n",
    "    ), fill_value=0\n",
    ").sort_values(ascending=False)"
   ]
  },
  {
   "cell_type": "code",
   "execution_count": null,
   "metadata": {},
   "outputs": [],
   "source": [
    "x = np.arange(len(v))\n",
    "plt.bar(x, v)\n",
    "plt.show()"
   ]
  },
  {
   "cell_type": "code",
   "execution_count": null,
   "metadata": {},
   "outputs": [],
   "source": [
    "def find_rare(df1, df2, col, threshold=4):\n",
    "    v_tra = df1[col + \"-A\"].value_counts()\n",
    "    v_trb = df1[col + \"-B\"].value_counts()\n",
    "    v_tea = df2[col + \"-A\"].value_counts()\n",
    "    v_teb = df2[col + \"-B\"].value_counts()\n",
    "    \n",
    "    v_counts = v_tra.add(v_trb, fill_value=0)\n",
    "    v_counts = v_counts.add(v_tea, fill_value=0)\n",
    "    v_counts = v_counts.add(v_teb, fill_value=0)\n",
    "    \n",
    "    #threshold = v_counts.iloc[int(v_counts.shape[0]*0.8)]\n",
    "\n",
    "    tra = df1[col + \"-A\"].unique()\n",
    "    trb = df1[col + \"-B\"].unique()\n",
    "    tea = df2[col + \"-A\"].unique()\n",
    "    teb = df2[col + \"-B\"].unique()\n",
    "\n",
    "    not_appeared = []\n",
    "    print(\"fin count\")\n",
    "    for item in v_counts.index:\n",
    "        if item not in tra or item not in trb or item not in tea or item not in teb or v_tra.loc[item] < 5 or v_trb.loc[item] < 5:\n",
    "            not_appeared.append(item)\n",
    "\n",
    "    print(\"fin find rare\", len(not_appeared))\n",
    "    df1[col + \"-A\"] = df1[col + \"-A\"].map(lambda x: \"rare\" if x in not_appeared else x)\n",
    "    df1[col + \"-B\"] = df1[col + \"-B\"].map(lambda x: \"rare\" if x in not_appeared else x)\n",
    "    df2[col + \"-A\"] = df2[col + \"-A\"].map(lambda x: \"rare\" if x in not_appeared else x)\n",
    "    df2[col + \"-B\"] = df2[col + \"-B\"].map(lambda x: \"rare\" if x in not_appeared else x)\n",
    "\n",
    "    return df1, df2"
   ]
  },
  {
   "cell_type": "code",
   "execution_count": null,
   "metadata": {},
   "outputs": [],
   "source": [
    "train_df, test_df = find_rare(train_df, test_df, \"team-special\") #473 sub"
   ]
  },
  {
   "cell_type": "code",
   "execution_count": null,
   "metadata": {},
   "outputs": [],
   "source": [
    "test_df[\"team-special-A\"].value_counts().sort_values(ascending=False)"
   ]
  },
  {
   "cell_type": "code",
   "execution_count": null,
   "metadata": {},
   "outputs": [],
   "source": []
  }
 ],
 "metadata": {
  "kernelspec": {
   "display_name": "Python 3",
   "language": "python",
   "name": "python3"
  },
  "language_info": {
   "codemirror_mode": {
    "name": "ipython",
    "version": 3
   },
   "file_extension": ".py",
   "mimetype": "text/x-python",
   "name": "python",
   "nbconvert_exporter": "python",
   "pygments_lexer": "ipython3",
   "version": "3.6.12"
  }
 },
 "nbformat": 4,
 "nbformat_minor": 4
}
