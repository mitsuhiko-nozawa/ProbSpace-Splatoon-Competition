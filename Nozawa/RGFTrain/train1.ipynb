{
 "cells": [
  {
   "cell_type": "markdown",
   "metadata": {},
   "source": [
    "# RGF Model\n"
   ]
  },
  {
   "cell_type": "code",
   "execution_count": null,
   "metadata": {},
   "outputs": [],
   "source": [
    "import sys\n",
    "sys.path.append('../')\n",
    "import pandas as pd\n",
    "import numpy as np\n",
    "import sklearn\n",
    "from Functions import prepro\n",
    "import warnings\n",
    "warnings.filterwarnings('ignore')\n",
    "\n",
    "import random\n",
    "\n",
    "from sklearn.model_selection import train_test_split\n",
    "from sklearn.metrics import accuracy_score\n",
    "warnings.filterwarnings('ignore')\n",
    "from rgf.sklearn import RGFClassifier\n",
    "\n",
    "\n",
    "FEATURE_SELECTION = False\n",
    "tgt_encode = False\n",
    "\n",
    "random.seed(random.randint(0, 100000))\n",
    "\n",
    "pd.set_option(\"display.max_columns\", 1000)\n",
    "pd.set_option(\"display.max_rows\", 1000)\n"
   ]
  },
  {
   "cell_type": "code",
   "execution_count": null,
   "metadata": {},
   "outputs": [],
   "source": [
    "train_df = pd.read_csv(\"../../data/Processed/train2.csv\")\n",
    "test_df = pd.read_csv(\"../../data/Processed/test2.csv\")\n",
    "print(train_df.shape)\n",
    "print(test_df.shape)"
   ]
  },
  {
   "cell_type": "code",
   "execution_count": null,
   "metadata": {},
   "outputs": [],
   "source": [
    "y = train_df[\"y\"].values\n",
    "train_df = train_df.drop(\"y\", axis=1)"
   ]
  },
  {
   "cell_type": "code",
   "execution_count": null,
   "metadata": {},
   "outputs": [],
   "source": [
    "# add disconnection info\n",
    "\n",
    "train_df = prepro.add_disconnection(train_df)\n",
    "test_df = prepro.add_disconnection(test_df)\n",
    "\n",
    "train_df[\"A1-level\"] = train_df[\"A1-level\"].astype(float)\n",
    "test_df[\"A1-level\"] = test_df[\"A1-level\"].astype(float)\n",
    "train_df[\"B1-level\"] = train_df[\"B1-level\"].astype(float)\n",
    "test_df[\"B1-level\"] = test_df[\"B1-level\"].astype(float)"
   ]
  },
  {
   "cell_type": "markdown",
   "metadata": {},
   "source": [
    "train_df[\"good-special-A1\"].corr(train_df[\"good-sub-A1\"])"
   ]
  },
  {
   "cell_type": "code",
   "execution_count": null,
   "metadata": {},
   "outputs": [],
   "source": [
    "# add info about numeric column\n",
    "# 武器データの中のnum_colsを持つ特徴について、チーム内の統計量を計算、levelは結構効いてる\n",
    "\n",
    "# num_cols = [\"level\", \"range\", \"rapid\", \"atack\", \"ink-sub\", \"fav-main\", \"good-special\"]\n",
    "\n",
    "num_cols = [\n",
    "    \"level\", \"range-main\", \"range-bullet-main\", \"distant-range_sub\", \n",
    "    \"rapid\", \"atack\", \"ink-sub\", \"fav-main\", \"good-special\", \"DPS\", \"kill_time_ika-main\",\n",
    "    \"front_gap_human-main\", \"front_gap_ika-main\", \"rensya_frame-main\", \"saidai_damege-main\", \"damage_min-sub\", \n",
    "    \"damage_max-sub\", \"install_num-sub\", \"good-sub\", \"damage_max-special\", \n",
    "    \"duration-special\", \"good-special\", \"direct_rad-special\", \"distant_rad-special\"\n",
    "]\n",
    "\n",
    "cols = [col for col in train_df.columns if \"A1\" in col or \"A2\" in col or \"A3\" in col or \"A4\" in col or \n",
    "        \"B1\" in col or \"B2\" in col or \"B3\" in col or \"B4\" in col]\n",
    "drop_cols = []\n",
    "for col1 in cols:\n",
    "    f = True\n",
    "    for col2 in num_cols:\n",
    "        if col2 in col1:\n",
    "            f = False\n",
    "    if f and train_df[col1].dtype in [int, float]:\n",
    "        drop_cols.append(col1)\n",
    "        \n",
    "train_df = train_df.drop(columns=drop_cols)\n",
    "test_df = test_df.drop(columns=drop_cols)\n",
    "        \n",
    "    \n",
    "\n",
    "train_df = prepro.add_numeric_info(train_df, num_cols)\n",
    "test_df = prepro.add_numeric_info(test_df, num_cols)"
   ]
  },
  {
   "cell_type": "markdown",
   "metadata": {},
   "source": [
    "# 欠損値埋め先にやろう\n",
    "欠損値がある列\n",
    "\n",
    "rank, weapon, level ⇨　回線切れ or ナワバリ\n",
    "\n",
    "weaponの欠損に並んでそれに関係ある列、A3, A4, B3, B4 ⇨ 回線切れ\n",
    "\n",
    "level, weaponが消えていたら回線切れ"
   ]
  },
  {
   "cell_type": "code",
   "execution_count": null,
   "metadata": {},
   "outputs": [],
   "source": [
    "# rankの欠損値を埋める\n",
    "train_df, test_df = prepro.fillna_rank(train_df, test_df)\n",
    "\n",
    "#そのほかの欠損値を埋める\n",
    "train_df, test_df = prepro.fillna(train_df, test_df)"
   ]
  },
  {
   "cell_type": "code",
   "execution_count": null,
   "metadata": {},
   "outputs": [],
   "source": [
    "print(train_df.isnull().sum().sum())\n",
    "print(test_df.isnull().sum().sum())"
   ]
  },
  {
   "cell_type": "markdown",
   "metadata": {},
   "source": [
    "# 特徴量エンジニアリング\n"
   ]
  },
  {
   "cell_type": "code",
   "execution_count": null,
   "metadata": {
    "scrolled": true
   },
   "outputs": [],
   "source": [
    "# count reskin, by mode\n",
    "print(\"reskin\")\n",
    "train_df, test_df = prepro.count_reskin(train_df, test_df)\n",
    "train_df, test_df = prepro.count_reskin_by_mode(train_df, test_df)\n",
    "\n",
    "# count mainweapon, by mode\n",
    "print(\"mainweapon\")\n",
    "train_df, test_df = prepro.count_mainweapon(train_df, test_df)\n",
    "train_df, test_df = prepro.count_mainweapon_by_mode(train_df, test_df)\n",
    "\n",
    "# count subweapon, by mode\n",
    "print(\"subweapon\")\n",
    "train_df, test_df = prepro.count_subweapon(train_df, test_df)\n",
    "train_df, test_df = prepro.count_subweapon_by_mode(train_df, test_df)\n",
    "\n",
    "# count special, by mode\n",
    "print(\"special\")\n",
    "train_df, test_df = prepro.count_special(train_df, test_df)\n",
    "train_df, test_df = prepro.count_special_by_mode(train_df, test_df)\n",
    "\n",
    "\n",
    "#identify A1\n",
    "train_df, test_df = prepro.identify_A1(train_df, test_df)\n",
    "\n",
    "\n",
    "# 水増し, A1も統計量に含めた特徴を作る場合は水ましより先にやる\n",
    "print(\"mizumashi\")\n",
    "train_df, y = prepro.mizumashi(train_df, y)\n",
    "\n",
    "# is_nawabari\n",
    "train_df, test_df = prepro.is_nawabari(train_df, test_df)\n",
    "\n",
    "# match rank、単体で意味なし\n",
    "train_df, test_df = prepro.match_rank(train_df, test_df)\n",
    "\n",
    "# rankを二列に分ける\n",
    "train_df, test_df = prepro.ranker(train_df, test_df)\n",
    "\n",
    "\n"
   ]
  },
  {
   "cell_type": "code",
   "execution_count": null,
   "metadata": {},
   "outputs": [],
   "source": [
    "# add team info、メインはなくてもいい\n",
    "\n",
    "train_df,  test_df = prepro.addTeamInfo(train_df, test_df, cols=[\"special\", \"subweapon\", \"category1\", \"category2\", \"mainweapon\", \"rank-mark\"])\n",
    "#train_df,  test_df = prepro.addTeamInfo(train_df, test_df, cols=[\"special\", \"subweapon\", \"category1\", \"category2\", \"rank-mark\"])"
   ]
  },
  {
   "cell_type": "code",
   "execution_count": null,
   "metadata": {},
   "outputs": [],
   "source": [
    "# categorize team , 良い\n",
    "\n",
    "categorize_col = [\"category1\", \"category2\", \"subweapon\", \"special\", \"mainweapon\"]\n",
    "#categorize_col = [\"category1\", \"category2\", \"subweapon\", \"special\"]\n",
    "for col in categorize_col:\n",
    "    print(col)\n",
    "    train_df, test_df = prepro.categorize_team(train_df, test_df, col)"
   ]
  },
  {
   "cell_type": "code",
   "execution_count": null,
   "metadata": {},
   "outputs": [],
   "source": [
    "#出現率の低いものをまとめる\n",
    "\n",
    "#train_df, test_df = prepro.find_rare(train_df, test_df, \"team-category1\")\n",
    "#train_df, test_df = prepro.find_rare(train_df, test_df, \"team-category2\")\n",
    "#train_df, test_df = prepro.find_rare(train_df, test_df, \"team-subweapon\")\n",
    "#train_df, test_df = prepro.find_rare(train_df, test_df, \"team-special\")"
   ]
  },
  {
   "cell_type": "code",
   "execution_count": null,
   "metadata": {},
   "outputs": [],
   "source": [
    "# product categorical feature\n",
    "train_df, test_df = prepro.prod(train_df, test_df, \"mode\", \"stage\")\n",
    "train_df, test_df = prepro.prod(train_df, test_df, \"mode\", \"team-category1-A\")\n",
    "train_df, test_df = prepro.prod(train_df, test_df, \"mode\", \"team-category1-B\")\n",
    "train_df, test_df = prepro.prod(train_df, test_df, \"mode\", \"team-category2-A\")\n",
    "train_df, test_df = prepro.prod(train_df, test_df, \"mode\", \"team-category2-B\")\n",
    "train_df, test_df = prepro.prod(train_df, test_df, \"mode\", \"team-mainweapon-A\")\n",
    "train_df, test_df = prepro.prod(train_df, test_df, \"mode\", \"team-mainweapon-B\")\n",
    "train_df, test_df = prepro.prod(train_df, test_df, \"mode\", \"team-subweapon-A\")\n",
    "train_df, test_df = prepro.prod(train_df, test_df, \"mode\", \"team-subweapon-B\")\n",
    "train_df, test_df = prepro.prod(train_df, test_df, \"mode\", \"team-special-A\")\n",
    "train_df, test_df = prepro.prod(train_df, test_df, \"mode\", \"team-special-B\")\n",
    "train_df, test_df = prepro.prod(train_df, test_df, \"mode\", \"match_rank\")\n",
    "\n",
    "train_df, test_df = prepro.prod(train_df, test_df, \"stage\", \"team-category1-A\")\n",
    "train_df, test_df = prepro.prod(train_df, test_df, \"stage\", \"team-category1-B\")\n",
    "train_df, test_df = prepro.prod(train_df, test_df, \"stage\", \"team-category2-A\")\n",
    "train_df, test_df = prepro.prod(train_df, test_df, \"stage\", \"team-category2-B\")\n",
    "train_df, test_df = prepro.prod(train_df, test_df, \"stage\", \"team-mainweapon-A\")\n",
    "train_df, test_df = prepro.prod(train_df, test_df, \"stage\", \"team-mainweapon-B\")\n",
    "train_df, test_df = prepro.prod(train_df, test_df, \"stage\", \"team-subweapon-A\")\n",
    "train_df, test_df = prepro.prod(train_df, test_df, \"stage\", \"team-subweapon-B\")\n",
    "train_df, test_df = prepro.prod(train_df, test_df, \"stage\", \"team-special-A\")\n",
    "train_df, test_df = prepro.prod(train_df, test_df, \"stage\", \"team-special-B\")\n",
    "train_df, test_df = prepro.prod(train_df, test_df, \"stage\", \"match_rank\")\n",
    "\n",
    "\"\"\"train_df, test_df = prepro.prod(train_df, test_df, \"mode\", \"reskin-A1\")\n",
    "train_df, test_df = prepro.prod(train_df, test_df, \"mode\", \"reskin-A2\")\n",
    "train_df, test_df = prepro.prod(train_df, test_df, \"mode\", \"reskin-A3\")\n",
    "train_df, test_df = prepro.prod(train_df, test_df, \"mode\", \"reskin-A4\")\n",
    "train_df, test_df = prepro.prod(train_df, test_df, \"mode\", \"reskin-B1\")\n",
    "train_df, test_df = prepro.prod(train_df, test_df, \"mode\", \"reskin-B2\")\n",
    "train_df, test_df = prepro.prod(train_df, test_df, \"mode\", \"reskin-B3\")\n",
    "train_df, test_df = prepro.prod(train_df, test_df, \"mode\", \"reskin-B4\")\"\"\""
   ]
  },
  {
   "cell_type": "markdown",
   "metadata": {},
   "source": [
    "# Make Input"
   ]
  },
  {
   "cell_type": "code",
   "execution_count": null,
   "metadata": {
    "scrolled": true
   },
   "outputs": [],
   "source": [
    "drop_cols = [\n",
    "    \"id\", \"lobby\", \"lobby-mode\",  \"period\", \"game-ver\", \"A1-weapon\", \"A2-weapon\", \"A3-weapon\", \"A4-weapon\",\n",
    "    \"B1-weapon\", \"B2-weapon\", \"B3-weapon\", \"B4-weapon\", \"A-a-rank-mark-onehot\", \"A-o-rank-mark-onehot\",\n",
    "    \"B-a-rank-mark-onehot\", \"B-o-rank-mark-onehot\",\n",
    "    #\"reskin-A1\", \"reskin-A2\", \"reskin-A3\", \"reskin-A4\",\n",
    "    #\"reskin-B1\", \"reskin-B2\", \"reskin-B3\", \"reskin-B4\",\n",
    "]\n",
    "\n",
    "categorical_feature = [col for col in train_df.dtypes[train_df.dtypes == \"object\"].index.to_list() if col not in drop_cols]\n",
    "print(\"make input\")\n",
    "X, test_X = prepro.make_input(train_df, test_df, drop_cols, categorical_encode=True, scaler=False, verbose=False)"
   ]
  },
  {
   "cell_type": "code",
   "execution_count": null,
   "metadata": {},
   "outputs": [],
   "source": [
    "print(X.shape)\n",
    "print(test_X.shape)"
   ]
  },
  {
   "cell_type": "markdown",
   "metadata": {},
   "source": [
    "# モデル学習"
   ]
  },
  {
   "cell_type": "code",
   "execution_count": 1,
   "metadata": {},
   "outputs": [
    {
     "ename": "NameError",
     "evalue": "name 'random' is not defined",
     "output_type": "error",
     "traceback": [
      "\u001b[0;31m---------------------------------------------------------------------------\u001b[0m",
      "\u001b[0;31mNameError\u001b[0m                                 Traceback (most recent call last)",
      "\u001b[0;32m<ipython-input-1-f9a8b3779ca5>\u001b[0m in \u001b[0;36m<module>\u001b[0;34m\u001b[0m\n\u001b[1;32m      1\u001b[0m \u001b[0;31m# 全データを5つに分割\u001b[0m\u001b[0;34m\u001b[0m\u001b[0;34m\u001b[0m\u001b[0;34m\u001b[0m\u001b[0m\n\u001b[0;32m----> 2\u001b[0;31m \u001b[0mrandom\u001b[0m\u001b[0;34m.\u001b[0m\u001b[0mseed\u001b[0m\u001b[0;34m(\u001b[0m\u001b[0mrandom\u001b[0m\u001b[0;34m.\u001b[0m\u001b[0mrandint\u001b[0m\u001b[0;34m(\u001b[0m\u001b[0;36m0\u001b[0m\u001b[0;34m,\u001b[0m \u001b[0;36m10000\u001b[0m\u001b[0;34m)\u001b[0m\u001b[0;34m)\u001b[0m\u001b[0;34m\u001b[0m\u001b[0;34m\u001b[0m\u001b[0m\n\u001b[0m\u001b[1;32m      3\u001b[0m \u001b[0mSIZE\u001b[0m \u001b[0;34m=\u001b[0m \u001b[0mX\u001b[0m\u001b[0;34m.\u001b[0m\u001b[0mshape\u001b[0m\u001b[0;34m[\u001b[0m\u001b[0;36m0\u001b[0m\u001b[0;34m]\u001b[0m\u001b[0;34m\u001b[0m\u001b[0;34m\u001b[0m\u001b[0m\n\u001b[1;32m      4\u001b[0m \u001b[0mK\u001b[0m \u001b[0;34m=\u001b[0m \u001b[0;36m5\u001b[0m\u001b[0;34m\u001b[0m\u001b[0;34m\u001b[0m\u001b[0m\n\u001b[1;32m      5\u001b[0m \u001b[0;34m\u001b[0m\u001b[0m\n",
      "\u001b[0;31mNameError\u001b[0m: name 'random' is not defined"
     ]
    }
   ],
   "source": [
    "# 全データを5つに分割\n",
    "random.seed(random.randint(0, 10000))\n",
    "SIZE = X.shape[0]\n",
    "K = 5\n",
    "\n",
    "\n",
    "#folds = prepro.make_stratified_kfolds(X, y, K, shuffle=True)\n",
    "folds = prepro.make_stratified_kfolds(X, X[\"mode\"].astype(str) + y.astype(str), K, shuffle=True, random_state=random.randint(0, 10000))\n",
    "\n",
    "\n",
    "print(len(folds))\n",
    "for i, fold in enumerate(folds):\n",
    "    print(\"fold \", i+1, \" size is \", len(fold))\n",
    "    \n",
    "    \n",
    "if SIZE != len(set(sum(folds, []))):\n",
    "    print(\"error is occuring in spliting\")\n",
    "else :\n",
    "    print(\"successfully split\")\n",
    "    \n",
    "if FEATURE_SELECTION:\n",
    "    X = X[use_cols]\n",
    "    test_X = test_X[use_cols]"
   ]
  },
  {
   "cell_type": "code",
   "execution_count": null,
   "metadata": {
    "scrolled": true
   },
   "outputs": [],
   "source": [
    "from sklearn.ensemble import RandomForestClassifier\n",
    "\n",
    "\n",
    "THRESHOLD = 0.50\n",
    "models = []\n",
    "cv_scores = []\n",
    "temp = 0\n",
    "train_pred = []\n",
    "train_Xs = []\n",
    "valid_Xs = []\n",
    "\n",
    "\n",
    "all_indices = sum(folds, [])\n",
    "for i in range(K):\n",
    "    print(\"======================== fold {} ========================\".format(i+1))\n",
    "    valid_indices = folds[i]\n",
    "    train_indices = list(set(all_indices) - set(valid_indices))\n",
    "    # print(\"train \", len(train_indices), \" , valid \", len(valid_indices))\n",
    "    train_X = X.iloc[train_indices]\n",
    "    train_y = y[train_indices]\n",
    "    valid_X = X.iloc[valid_indices]\n",
    "    valid_y = y[valid_indices]\n",
    "            \n",
    "\n",
    "    model = RGFClassifier(\n",
    "        n_iter=10,\n",
    "        #criterion=\"entropy\",\n",
    "        #max_depth=8,\n",
    "        #n_estimators=10,\n",
    "        #min_samples_leaf=1,\n",
    "        #random_state=random.randint(0, 100000),\n",
    "    \n",
    "    )\n",
    "    model.fit(train_X, train_y)\n",
    "    \n",
    "    pred = model.predict_proba(valid_X)[:,1]\n",
    "    train_pred.append(pred)\n",
    "    pred = np.where(pred < THRESHOLD, 0, 1)\n",
    "    temp += np.sum(pred)\n",
    "    \n",
    "    score = accuracy_score(pred, valid_y)\n",
    "    \n",
    "    models.append(model)\n",
    "    cv_scores.append(score)\n",
    "    \n",
    "    \n",
    "print(\"cv score : \", np.mean(cv_scores))    \n",
    "print(\"cv ratio : \", temp / SIZE)"
   ]
  },
  {
   "cell_type": "code",
   "execution_count": null,
   "metadata": {
    "scrolled": true
   },
   "outputs": [],
   "source": [
    "preds = []\n",
    " \n",
    "\n",
    "\n",
    "        \n",
    "for i in range(K):\n",
    "    model = models[i]\n",
    "    pred = model.predict_proba(test_X)[:,1]\n",
    "    preds.append(pred)\n",
    "    print(np.sum(pred) / pred.shape[0])\n",
    "    \n",
    "preds = np.array(preds)\n",
    "preds = np.mean(preds, axis=0)\n",
    "print(np.sum(preds) / preds.shape[0])\n",
    "\n",
    "\n",
    "temp = pd.DataFrame({\"pred\":pred})\n",
    "temp.hist(bins=80)"
   ]
  },
  {
   "cell_type": "code",
   "execution_count": null,
   "metadata": {},
   "outputs": [],
   "source": [
    "preds_ = np.where(preds < THRESHOLD, 0, 1)\n",
    "print(np.sum(preds_) / preds_.shape[0])\n",
    "\n",
    "submit_df = pd.DataFrame({'y': preds_})\n",
    "submit_df.index.name = 'id'\n",
    "submit_df.to_csv('../Submissions/submission_rf_1_{}.csv'.format(K))"
   ]
  },
  {
   "cell_type": "markdown",
   "metadata": {},
   "source": [
    "# モデル解釈"
   ]
  },
  {
   "cell_type": "code",
   "execution_count": null,
   "metadata": {},
   "outputs": [],
   "source": [
    "preds"
   ]
  },
  {
   "cell_type": "code",
   "execution_count": null,
   "metadata": {
    "scrolled": true
   },
   "outputs": [],
   "source": [
    "importance = pd.DataFrame(models[0].feature_importance(), index=train_Xs[0].columns, columns=['importance']).sort_values('importance', ascending=False)\n",
    "display(importance.iloc[:100])"
   ]
  },
  {
   "cell_type": "code",
   "execution_count": null,
   "metadata": {},
   "outputs": [],
   "source": [
    "indices = [index for index in importance.index if \"A1\" in index]\n",
    "importance.loc[indices]"
   ]
  },
  {
   "cell_type": "code",
   "execution_count": null,
   "metadata": {},
   "outputs": [],
   "source": [
    "indices = [index for index in importance.index if \"range-sub\" in index]\n",
    "importance.loc[indices]"
   ]
  },
  {
   "cell_type": "code",
   "execution_count": null,
   "metadata": {},
   "outputs": [],
   "source": [
    "importance[\"importance\"].sum()"
   ]
  },
  {
   "cell_type": "code",
   "execution_count": null,
   "metadata": {},
   "outputs": [],
   "source": [
    "train_df[\"pred\"] = 0\n",
    "train_df[\"y\"] = y\n",
    "for i in range(K):\n",
    "    train_df[\"pred\"].iloc[folds[i]] = train_pred[i]\n",
    "for mode in train_df[\"mode\"].unique():\n",
    "    rate = train_df[train_df[\"mode\"] == mode][train_df[\"pred\"] == train_df[\"y\"]].shape[0] / train_df[train_df[\"mode\"] == mode].shape[0]\n",
    "    print(\"{} : {}\".format(mode, rate))\n",
    "print(train_df[train_df[\"pred\"] == train_df[\"y\"]].shape[0] / train_df.shape[0])"
   ]
  },
  {
   "cell_type": "code",
   "execution_count": null,
   "metadata": {},
   "outputs": [],
   "source": [
    "result_df = train_df[train_df[\"y\"] != train_df[\"pred\"]]"
   ]
  },
  {
   "cell_type": "code",
   "execution_count": null,
   "metadata": {},
   "outputs": [],
   "source": [
    "result_df.to_csv(\"../../data/result.csv\", index=False)"
   ]
  },
  {
   "cell_type": "code",
   "execution_count": null,
   "metadata": {},
   "outputs": [],
   "source": [
    "print(train_df[train_df[\"mode\"] == \"nawabari\"].shape[0]/train_df.shape[0])\n",
    "print(train_df[train_df[\"mode\"] == \"hoko\"].shape[0]/train_df.shape[0])\n",
    "print(train_df[train_df[\"mode\"] == \"asari\"].shape[0]/train_df.shape[0])\n",
    "print(train_df[train_df[\"mode\"] == \"area\"].shape[0]/train_df.shape[0])\n",
    "print(train_df[train_df[\"mode\"] == \"yagura\"].shape[0]/train_df.shape[0])"
   ]
  },
  {
   "cell_type": "code",
   "execution_count": null,
   "metadata": {},
   "outputs": [],
   "source": [
    "print(result_df[result_df[\"mode\"] == \"nawabari\"].shape[0]/result_df.shape[0])\n",
    "print(result_df[result_df[\"mode\"] == \"hoko\"].shape[0]/result_df.shape[0])\n",
    "print(result_df[result_df[\"mode\"] == \"asari\"].shape[0]/result_df.shape[0])\n",
    "print(result_df[result_df[\"mode\"] == \"area\"].shape[0]/result_df.shape[0])\n",
    "print(result_df[result_df[\"mode\"] == \"yagura\"].shape[0]/result_df.shape[0])"
   ]
  },
  {
   "cell_type": "code",
   "execution_count": null,
   "metadata": {},
   "outputs": [],
   "source": [
    "result_df.loc[:100]"
   ]
  },
  {
   "cell_type": "code",
   "execution_count": null,
   "metadata": {},
   "outputs": [],
   "source": [
    "num_cols_ = [\n",
    "    \"range-main\", \"range-bullet-main\", \"range-draw-main\", \"direct_range-sub\", \"distant-range_sub\", \n",
    "    \"rapid\", \"atack\", \"ink-sub\", \"fav-main\", \"good-special\", \"DPS\", \"kill_time_human-main\", \"kill_time_ika-main\",\n",
    "    \"front_gap_human-main\", \"front_gap_ika-main\", \"rensya_frame-main\", \"saidai_damege-main\", \"damage_min-sub\", \n",
    "    \"damage_max-sub\", \"install_num-sub\", \"good-sub\", \"direct_range-sub\", \"damage_max-special\", \n",
    "    \"damage_min-special\", \"duration-special\", \"good-special\", \"direct_rad-special\", \"close_rad-special\", \"distant_rad-special\"\n",
    "]\n"
   ]
  },
  {
   "cell_type": "code",
   "execution_count": null,
   "metadata": {},
   "outputs": [],
   "source": [
    "feature_cols = []\n",
    "for name in num_cols_:\n",
    "    for col in X.columns:\n",
    "        if name in col:\n",
    "            feature_cols.append(col)\n",
    "                \n",
    "importance.loc[feature_cols]#.sort_values('importance', ascending=False)"
   ]
  },
  {
   "cell_type": "code",
   "execution_count": null,
   "metadata": {},
   "outputs": [],
   "source": [
    "sss = []\n",
    "\n",
    "\"\"\"\n",
    "A-direct_range-sub-mean 30\n",
    "A-distant_range_sub-max\n",
    "B-rapid-std\t52\n",
    "ink-sub\n",
    "A-kill_time_human-main-median\t36\n",
    "A-kill_time_ika-main-median\t58\n",
    "A-front_gap_human-main-std\t25\n",
    "A-front_gap_ika-main-std\t48\n",
    "A-saidai_damege-main-mean\t40\n",
    "damage_max-sub 37\n",
    "install_num-sub 10\n",
    "direct_range-sub 30\n",
    "damage_max-special 47\n",
    "duration-special 46\n",
    "close_rad-special 30\n",
    "distant_rad-special 21\n",
    "\"\"\"\n",
    "\n",
    "\n",
    "\n",
    "\n",
    "for col in X.columns:\n",
    "    if \"distant_rad-special\" in col:\n",
    "        sss.append(col)\n",
    "                \n",
    "importance.loc[sss].sort_values('importance', ascending=False)"
   ]
  },
  {
   "cell_type": "code",
   "execution_count": null,
   "metadata": {},
   "outputs": [],
   "source": []
  },
  {
   "cell_type": "code",
   "execution_count": null,
   "metadata": {},
   "outputs": [],
   "source": [
    "train_df[\"y\"] = y"
   ]
  },
  {
   "cell_type": "code",
   "execution_count": null,
   "metadata": {
    "scrolled": false
   },
   "outputs": [],
   "source": [
    "reskin_g = pd.concat([\n",
    "    #train_df[[\"reskin-A1\", \"y\"]].rename(columns={\"reskin-A1\" : \"reskin\"}), \n",
    "    train_df[[\"reskin-A2\", \"y\"]].rename(columns={\"reskin-A2\" : \"reskin\"}), \n",
    "    train_df[[\"reskin-A3\", \"y\"]].rename(columns={\"reskin-A3\" : \"reskin\"}), \n",
    "    train_df[[\"reskin-A4\", \"y\"]].rename(columns={\"reskin-A4\" : \"reskin\"}),\n",
    "    pd.concat([train_df[\"reskin-B1\"], train_df[\"y\"].apply(lambda x : 1-x)], axis=1).rename(columns={\"reskin-B1\" : \"reskin\"}),\n",
    "    pd.concat([train_df[\"reskin-B2\"], train_df[\"y\"].apply(lambda x : 1-x)], axis=1).rename(columns={\"reskin-B2\" : \"reskin\"}),\n",
    "    pd.concat([train_df[\"reskin-B3\"], train_df[\"y\"].apply(lambda x : 1-x)], axis=1).rename(columns={\"reskin-B3\" : \"reskin\"}),\n",
    "    pd.concat([train_df[\"reskin-B4\"], train_df[\"y\"].apply(lambda x : 1-x)], axis=1).rename(columns={\"reskin-B4\" : \"reskin\"}),\n",
    "],axis=0, ignore_index=True).groupby(\"reskin\")"
   ]
  },
  {
   "cell_type": "code",
   "execution_count": null,
   "metadata": {},
   "outputs": [],
   "source": [
    "win_rate = reskin_g.sum() / reskin_g.count()"
   ]
  },
  {
   "cell_type": "code",
   "execution_count": null,
   "metadata": {},
   "outputs": [],
   "source": [
    "win_rate"
   ]
  },
  {
   "cell_type": "code",
   "execution_count": null,
   "metadata": {},
   "outputs": [],
   "source": [
    "weapon = pd.concat([\n",
    "    #train_df[[\"weapon-A1\", \"y\"]].rename(columns={\"weapon-A1\" : \"weapon\"}), \n",
    "    train_df[[\"A2-weapon\", \"y\"]].rename(columns={\"A2-weapon\" : \"weapon\"}), \n",
    "    train_df[[\"A3-weapon\", \"y\"]].rename(columns={\"A3-weapon\" : \"weapon\"}), \n",
    "    train_df[[\"A4-weapon\", \"y\"]].rename(columns={\"A4-weapon\" : \"weapon\"}),\n",
    "    pd.concat([train_df[\"B1-weapon\"], train_df[\"y\"].apply(lambda x : 1-x)], axis=1).rename(columns={\"B1-weapon\" : \"weapon\"}),\n",
    "    pd.concat([train_df[\"B2-weapon\"], train_df[\"y\"].apply(lambda x : 1-x)], axis=1).rename(columns={\"B2-weapon\" : \"weapon\"}),\n",
    "    pd.concat([train_df[\"B3-weapon\"], train_df[\"y\"].apply(lambda x : 1-x)], axis=1).rename(columns={\"B3-weapon\" : \"weapon\"}),\n",
    "    pd.concat([train_df[\"B4-weapon\"], train_df[\"y\"].apply(lambda x : 1-x)], axis=1).rename(columns={\"B4-weapon\" : \"weapon\"}),\n",
    "],axis=0, ignore_index=True)"
   ]
  },
  {
   "cell_type": "code",
   "execution_count": null,
   "metadata": {},
   "outputs": [],
   "source": [
    "win_rate = (weapon.groupby(\"weapon\").sum() / weapon.groupby(\"weapon\").count()).sort_values(\"y\", ascending=False)\n",
    "win_rate.loc[\"bold_7\"]"
   ]
  },
  {
   "cell_type": "code",
   "execution_count": null,
   "metadata": {},
   "outputs": [],
   "source": []
  },
  {
   "cell_type": "code",
   "execution_count": null,
   "metadata": {},
   "outputs": [],
   "source": []
  },
  {
   "cell_type": "code",
   "execution_count": null,
   "metadata": {},
   "outputs": [],
   "source": [
    "def mizumashi_perm(df, y):\n",
    "    df[\"y\"] = y\n",
    "    li = [\"B1\", \"B2\", \"B3\", \"B4\"]\n",
    "    cols = df.columns\n",
    "    for p1, p2, p3, p4 in itertools.permutations(li):\n",
    "        B1_cols = [col for col in cols if \"B1\" in col]\n",
    "        B2_cols = [col for col in cols if \"B1\" in col]\n",
    "        B3_cols = [col for col in cols if \"B1\" in col]\n",
    "        B4_cols = [col for col in cols if \"B1\" in col]\n",
    "    \n",
    "    \n",
    "    \n",
    "    y = df[\"y\"].values\n",
    "    df.drop(columns=[\"y\"], inplace=True)\n",
    "    return df, y"
   ]
  },
  {
   "cell_type": "code",
   "execution_count": null,
   "metadata": {},
   "outputs": [],
   "source": []
  },
  {
   "cell_type": "code",
   "execution_count": null,
   "metadata": {},
   "outputs": [],
   "source": []
  },
  {
   "cell_type": "code",
   "execution_count": null,
   "metadata": {},
   "outputs": [],
   "source": []
  },
  {
   "cell_type": "code",
   "execution_count": null,
   "metadata": {},
   "outputs": [],
   "source": []
  },
  {
   "cell_type": "code",
   "execution_count": null,
   "metadata": {},
   "outputs": [],
   "source": []
  },
  {
   "cell_type": "code",
   "execution_count": null,
   "metadata": {},
   "outputs": [],
   "source": [
    "train_df"
   ]
  },
  {
   "cell_type": "code",
   "execution_count": null,
   "metadata": {},
   "outputs": [],
   "source": [
    "li = [[1, 2, 3], [2, 3, 4]]"
   ]
  },
  {
   "cell_type": "code",
   "execution_count": null,
   "metadata": {},
   "outputs": [],
   "source": [
    "print(*li)"
   ]
  },
  {
   "cell_type": "code",
   "execution_count": null,
   "metadata": {},
   "outputs": [],
   "source": []
  }
 ],
 "metadata": {
  "kernelspec": {
   "display_name": "Python 3",
   "language": "python",
   "name": "python3"
  },
  "language_info": {
   "codemirror_mode": {
    "name": "ipython",
    "version": 3
   },
   "file_extension": ".py",
   "mimetype": "text/x-python",
   "name": "python",
   "nbconvert_exporter": "python",
   "pygments_lexer": "ipython3",
   "version": "3.6.12"
  }
 },
 "nbformat": 4,
 "nbformat_minor": 4
}
