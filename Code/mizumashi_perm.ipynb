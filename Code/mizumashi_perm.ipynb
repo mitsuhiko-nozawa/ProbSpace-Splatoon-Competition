{
 "cells": [
  {
   "cell_type": "code",
   "execution_count": null,
   "metadata": {},
   "outputs": [],
   "source": [
    "import numpy as np\n",
    "import pandas as pd\n",
    "import itertools\n",
    "pd.set_option(\"display.max_columns\", 1000)\n",
    "pd.set_option(\"display.max_rows\", 1000)\n",
    "\n",
    "\n",
    "def mizumashi_perm(df, y):\n",
    "    \n",
    "    df[\"y\"] = y\n",
    "    res_df = df.copy()\n",
    "    li_A = [\"A2\", \"A3\", \"A4\"]\n",
    "    li_B = [\"B1\", \"B2\", \"B3\", \"B4\"]\n",
    "    cols = df.columns\n",
    "    i = 0\n",
    "    \n",
    "    B1_cols = [col for col in cols if \"B1\" in col]\n",
    "    B2_cols = [col for col in cols if \"B2\" in col]\n",
    "    B3_cols = [col for col in cols if \"B3\" in col]\n",
    "    B4_cols = [col for col in cols if \"B4\" in col]\n",
    "    \n",
    "    A2_cols = [col for col in cols if \"A2\" in col]\n",
    "    A3_cols = [col for col in cols if \"A3\" in col]\n",
    "    A4_cols = [col for col in cols if \"A4\" in col]\n",
    "    \n",
    "    for p1, p2, p3, p4 in itertools.permutations(li_B):\n",
    "        df_c = df.copy()\n",
    "        i+=1\n",
    "        if i == 1:\n",
    "            print(p1, p2, p3, p4)\n",
    "            continue\n",
    "\n",
    "        for col in B1_cols:\n",
    "            tag_name = col.replace(\"B1\", \"C1\")\n",
    "            df_c.rename(columns={col: tag_name}, inplace=True)\n",
    "        for col in B2_cols:\n",
    "            tag_name = col.replace(\"B2\", \"C2\")\n",
    "            df_c.rename(columns={col: tag_name}, inplace=True)\n",
    "        for col in B3_cols:\n",
    "            tag_name = col.replace(\"B3\", \"C3\")\n",
    "            df_c.rename(columns={col: tag_name}, inplace=True)\n",
    "        for col in B4_cols:\n",
    "            tag_name = col.replace(\"B4\", \"C4\")\n",
    "            df_c.rename(columns={col: tag_name}, inplace=True)\n",
    "            \n",
    "        for col in B1_cols:\n",
    "            c_name = col.replace(\"B1\", \"C1\")\n",
    "            tag_name = col.replace(\"C1\", p1)\n",
    "            df_c.rename(columns={c_name: tag_name}, inplace=True)\n",
    "        for col in B2_cols:\n",
    "            c_name = col.replace(\"B2\", \"C2\")\n",
    "            tag_name = col.replace(\"C2\", p2)\n",
    "            df_c.rename(columns={c_name: tag_name}, inplace=True)\n",
    "        for col in B3_cols:\n",
    "            c_name = col.replace(\"B3\", \"C3\")\n",
    "            tag_name = col.replace(\"C3\", p3)\n",
    "            df_c.rename(columns={c_name: tag_name}, inplace=True)\n",
    "        for col in B4_cols:\n",
    "            c_name = col.replace(\"B4\", \"C4\")\n",
    "            tag_name = col.replace(\"C4\", p4)\n",
    "            df_c.rename(columns={c_name: tag_name}, inplace=True)\n",
    "            \n",
    "            \n",
    "        print(p1, p2, p3, p4)\n",
    "        res_df = pd.concat([res_df, df_c])\n",
    "\n",
    "\n",
    "    i = 0\n",
    "    df = res_df\n",
    "    \n",
    "    for p2, p3, p4 in itertools.permutations(li_A):\n",
    "        df_c = df.copy()\n",
    "        i+=1\n",
    "        if i == 1:\n",
    "            print(p2, p3, p4)\n",
    "            continue\n",
    "\n",
    "\n",
    "        for col in A2_cols:\n",
    "            tag_name = col.replace(\"A2\", \"C2\")\n",
    "            df_c.rename(columns={col: tag_name}, inplace=True)\n",
    "        for col in A3_cols:\n",
    "            tag_name = col.replace(\"A3\", \"C3\")\n",
    "            df_c.rename(columns={col: tag_name}, inplace=True)\n",
    "        for col in A4_cols:\n",
    "            tag_name = col.replace(\"A4\", \"C4\")\n",
    "            df_c.rename(columns={col: tag_name}, inplace=True)\n",
    "            \n",
    "\n",
    "        for col in A2_cols:\n",
    "            c_name = col.replace(\"A2\", \"C2\")\n",
    "            tag_name = col.replace(\"C2\", p2)\n",
    "            df_c.rename(columns={c_name: tag_name}, inplace=True)\n",
    "        for col in A3_cols:\n",
    "            c_name = col.replace(\"A3\", \"C3\")\n",
    "            tag_name = col.replace(\"C3\", p3)\n",
    "            df_c.rename(columns={c_name: tag_name}, inplace=True)\n",
    "        for col in A4_cols:\n",
    "            c_name = col.replace(\"A4\", \"C4\")\n",
    "            tag_name = col.replace(\"C4\", p4)\n",
    "            df_c.rename(columns={c_name: tag_name}, inplace=True)\n",
    "        \n",
    "        print(p2, p3, p4)\n",
    "        res_df = pd.concat([res_df, df_c])\n",
    "\n",
    "        \n",
    "    \n",
    "    y = res_df[\"y\"].values\n",
    "    res_df.drop(columns=[\"y\"], inplace=True)\n",
    "    return res_df, y"
   ]
  },
  {
   "cell_type": "code",
   "execution_count": null,
   "metadata": {},
   "outputs": [],
   "source": [
    "train_df = pd.read_csv(\"../data/Processed/train2.csv\")\n",
    "test_df = pd.read_csv(\"../data/Processed/test2.csv\")\n",
    "print(train_df.shape)\n",
    "print(test_df.shape)"
   ]
  },
  {
   "cell_type": "code",
   "execution_count": null,
   "metadata": {},
   "outputs": [],
   "source": [
    "y = train_df[\"y\"].values\n",
    "train_df = train_df.drop(\"y\", axis=1)"
   ]
  },
  {
   "cell_type": "code",
   "execution_count": null,
   "metadata": {},
   "outputs": [],
   "source": [
    "train_df, y = mizumashi_perm(train_df, y)"
   ]
  },
  {
   "cell_type": "code",
   "execution_count": null,
   "metadata": {},
   "outputs": [],
   "source": [
    "print(train_df.shape)"
   ]
  },
  {
   "cell_type": "code",
   "execution_count": null,
   "metadata": {},
   "outputs": [],
   "source": [
    "train_df[\"y\"] = y\n",
    "train_df.to_csv(\"../data/Processed/train3.csv.gz\")"
   ]
  },
  {
   "cell_type": "code",
   "execution_count": null,
   "metadata": {},
   "outputs": [],
   "source": [
    "cols = train_df.columns\n",
    "temp_cols = temp.columns"
   ]
  },
  {
   "cell_type": "code",
   "execution_count": null,
   "metadata": {},
   "outputs": [],
   "source": [
    "for col in cols:\n",
    "    if col not in temp_cols:\n",
    "        print(col)"
   ]
  },
  {
   "cell_type": "code",
   "execution_count": null,
   "metadata": {},
   "outputs": [],
   "source": [
    "temp"
   ]
  },
  {
   "cell_type": "code",
   "execution_count": null,
   "metadata": {},
   "outputs": [],
   "source": []
  }
 ],
 "metadata": {
  "kernelspec": {
   "display_name": "Python 3",
   "language": "python",
   "name": "python3"
  },
  "language_info": {
   "codemirror_mode": {
    "name": "ipython",
    "version": 3
   },
   "file_extension": ".py",
   "mimetype": "text/x-python",
   "name": "python",
   "nbconvert_exporter": "python",
   "pygments_lexer": "ipython3",
   "version": "3.6.12"
  }
 },
 "nbformat": 4,
 "nbformat_minor": 4
}
