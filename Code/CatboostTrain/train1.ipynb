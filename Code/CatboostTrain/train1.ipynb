{
 "cells": [
  {
   "cell_type": "markdown",
   "metadata": {},
   "source": [
    "# Categorical Boost"
   ]
  },
  {
   "cell_type": "code",
   "execution_count": 1,
   "metadata": {},
   "outputs": [],
   "source": [
    "import sys\n",
    "sys.path.append('../')\n",
    "import pandas as pd\n",
    "import numpy as np\n",
    "import sklearn\n",
    "from Functions import prepro\n",
    "pd.set_option(\"display.max_columns\", 400)\n",
    "pd.set_option(\"display.max_rows\", 400)"
   ]
  },
  {
   "cell_type": "code",
   "execution_count": 2,
   "metadata": {},
   "outputs": [
    {
     "name": "stdout",
     "output_type": "stream",
     "text": [
      "(132250, 191)\n",
      "(28340, 190)\n"
     ]
    }
   ],
   "source": [
    "train_df = pd.read_csv(\"../../data/Processed/train2.csv\", index_col='id')\n",
    "test_df = pd.read_csv(\"../../data/Processed/test2.csv\", index_col=\"id\")\n",
    "print(train_df.shape)\n",
    "print(test_df.shape)"
   ]
  },
  {
   "cell_type": "code",
   "execution_count": null,
   "metadata": {},
   "outputs": [],
   "source": [
    "#train_df.head()"
   ]
  },
  {
   "cell_type": "code",
   "execution_count": null,
   "metadata": {
    "scrolled": true
   },
   "outputs": [],
   "source": [
    "#train_df.info()"
   ]
  },
  {
   "cell_type": "code",
   "execution_count": null,
   "metadata": {},
   "outputs": [],
   "source": [
    "#test_df.head()"
   ]
  },
  {
   "cell_type": "markdown",
   "metadata": {},
   "source": [
    "### 武器の情報を個人ごとからチームごとに変える\n",
    "category1, 2を落とす、\n",
    "\n",
    "他のカテゴリをチームごとにする\n",
    "\n",
    "reskinそのまま"
   ]
  },
  {
   "cell_type": "code",
   "execution_count": null,
   "metadata": {},
   "outputs": [],
   "source": [
    "# 落とさないほうが精度上がってしまった。。。\n",
    "\n",
    "\"\"\"suffixes = [\"-A1\", \"-A2\", \"-A3\", \"-A4\", \"-B1\", \"-B2\", \"-B3\", \"-B4\"]\n",
    "drop_cols = [\"category1\", \"category2\"]\n",
    "\n",
    "for c in drop_cols:\n",
    "    for s in suffixes:\n",
    "        col = c+s\n",
    "        train_df.drop(col, axis=1, inplace=True)\n",
    "        test_df.drop(col, axis=1, inplace=True)\n",
    "\"\"\""
   ]
  },
  {
   "cell_type": "code",
   "execution_count": null,
   "metadata": {},
   "outputs": [],
   "source": [
    "#train_df.columns"
   ]
  },
  {
   "cell_type": "code",
   "execution_count": 3,
   "metadata": {},
   "outputs": [],
   "source": [
    "y = train_df[\"y\"]\n",
    "train_df = train_df.drop(\"y\", axis=1)"
   ]
  },
  {
   "cell_type": "code",
   "execution_count": 4,
   "metadata": {},
   "outputs": [
    {
     "name": "stdout",
     "output_type": "stream",
     "text": [
      "(160590, 190)\n",
      "special-A\n",
      "special-B\n",
      "subweapon-A\n",
      "subweapon-B\n",
      "category1-A\n",
      "category1-B\n",
      "category2-A\n",
      "category2-B\n",
      "(160590, 278)\n",
      "complete\n"
     ]
    }
   ],
   "source": [
    "# add team info\n",
    "train_df,  test_df = prepro.addTeamInfo(train_df, test_df, cols=[\"special\", \"subweapon\", \"category1\", \"category2\"])"
   ]
  },
  {
   "cell_type": "code",
   "execution_count": 5,
   "metadata": {},
   "outputs": [],
   "source": [
    "# add disconnection info\n",
    "\n",
    "train_df = prepro.add_disconnection(train_df)\n",
    "test_df = prepro.add_disconnection(test_df)"
   ]
  },
  {
   "cell_type": "code",
   "execution_count": 6,
   "metadata": {},
   "outputs": [],
   "source": [
    "# add info about numeric column\n",
    "from Functions import prepro\n",
    "\n",
    "num_cols = [\"level\", \"range\", \"rapid\", \"atack\"]\n",
    "\n",
    "train_df = prepro.flat(train_df, num_cols)\n",
    "test_df = prepro.flat(test_df, num_cols)\n",
    "\n",
    "train_df = prepro.add_numeric_info(train_df, num_cols)\n",
    "test_df = prepro.add_numeric_info(test_df, num_cols)"
   ]
  },
  {
   "cell_type": "code",
   "execution_count": 7,
   "metadata": {
    "scrolled": true
   },
   "outputs": [],
   "source": [
    "# make input\n",
    "\n",
    "drop_cols = [\"id\", \"lobby\", \"lobby-mode\",  \"period\", \"game-ver\", \"A1-weapon\", \"A2-weapon\", \"A3-weapon\", \"A4-weapon\", \\\n",
    "              \"B1-weapon\", \"B2-weapon\", \"B3-weapon\", \"B4-weapon\"]\n",
    "X, test_X = prepro.make_input(train_df, test_df, drop_cols, categorical_encode = False, verbose=False)"
   ]
  },
  {
   "cell_type": "code",
   "execution_count": null,
   "metadata": {
    "scrolled": true
   },
   "outputs": [],
   "source": [
    "\"\"\"print(train_df.shape)\n",
    "print(test_df.shape)\n",
    "for col in X.columns:\n",
    "    print(col)\"\"\""
   ]
  },
  {
   "cell_type": "code",
   "execution_count": 14,
   "metadata": {},
   "outputs": [],
   "source": [
    "import random\n",
    "\n",
    "from sklearn.model_selection import train_test_split\n",
    "from sklearn.metrics import accuracy_score\n",
    "from catboost import Pool, CatBoostClassifier\n",
    "\n",
    "categorical_features_indices = np.where(X.dtypes != np.float)[0]\n",
    "\n",
    "random.seed(0)"
   ]
  },
  {
   "cell_type": "code",
   "execution_count": 15,
   "metadata": {},
   "outputs": [
    {
     "name": "stdout",
     "output_type": "stream",
     "text": [
      "5\n",
      "fold  1  size is  26450\n",
      "fold  2  size is  26450\n",
      "fold  3  size is  26450\n",
      "fold  4  size is  26450\n",
      "fold  5  size is  26450\n",
      "successfully split\n"
     ]
    }
   ],
   "source": [
    "# 全データを5つに分割\n",
    "SIZE = X.shape[0]\n",
    "K = 5\n",
    "\n",
    "def make_kfolds(SIZE, K):\n",
    "    # return list object, each element is indices of its fold\n",
    "    FOLD_SIZE = int(SIZE/K)\n",
    "    res = []\n",
    "    indices = [i for i in range(SIZE)]\n",
    "    for i in range(K-1):\n",
    "        fold = random.sample(indices, FOLD_SIZE)\n",
    "        indices = list(set(indices) - set(fold))\n",
    "        res.append(fold)\n",
    "    res.append(indices)\n",
    "    return res\n",
    "\n",
    "folds = make_kfolds(SIZE, K)\n",
    "print(len(folds))\n",
    "for i, fold in enumerate(folds):\n",
    "    print(\"fold \", i+1, \" size is \", len(fold))\n",
    "    \n",
    "\n",
    "    \n",
    "if SIZE != len(set(sum(folds, []))):\n",
    "    print(\"error is occuring in spliting\")\n",
    "else :\n",
    "    print(\"successfully split\")\n"
   ]
  },
  {
   "cell_type": "code",
   "execution_count": 27,
   "metadata": {},
   "outputs": [
    {
     "name": "stdout",
     "output_type": "stream",
     "text": [
      "0:\tlearn: 0.6923983\ttest: 0.6923906\tbest: 0.6923906 (0)\ttotal: 778ms\tremaining: 2m 34s\n",
      "10:\tlearn: 0.6881603\ttest: 0.6884269\tbest: 0.6884269 (10)\ttotal: 10.4s\tremaining: 2m 59s\n",
      "20:\tlearn: 0.6859922\ttest: 0.6869619\tbest: 0.6869619 (20)\ttotal: 20.1s\tremaining: 2m 51s\n",
      "30:\tlearn: 0.6842954\ttest: 0.6858608\tbest: 0.6858608 (30)\ttotal: 30s\tremaining: 2m 43s\n",
      "40:\tlearn: 0.6831518\ttest: 0.6850963\tbest: 0.6850963 (40)\ttotal: 40.2s\tremaining: 2m 35s\n",
      "50:\tlearn: 0.6821503\ttest: 0.6845987\tbest: 0.6845987 (50)\ttotal: 51.7s\tremaining: 2m 30s\n",
      "60:\tlearn: 0.6810374\ttest: 0.6840780\tbest: 0.6840773 (59)\ttotal: 1m 2s\tremaining: 2m 22s\n",
      "70:\tlearn: 0.6800230\ttest: 0.6835352\tbest: 0.6835352 (70)\ttotal: 1m 11s\tremaining: 2m 10s\n",
      "80:\tlearn: 0.6792773\ttest: 0.6832978\tbest: 0.6832877 (79)\ttotal: 1m 20s\tremaining: 1m 58s\n",
      "90:\tlearn: 0.6785028\ttest: 0.6830766\tbest: 0.6830766 (90)\ttotal: 1m 34s\tremaining: 1m 53s\n",
      "100:\tlearn: 0.6777354\ttest: 0.6828883\tbest: 0.6828834 (99)\ttotal: 1m 49s\tremaining: 1m 47s\n",
      "110:\tlearn: 0.6767923\ttest: 0.6826826\tbest: 0.6826783 (109)\ttotal: 1m 59s\tremaining: 1m 35s\n",
      "120:\tlearn: 0.6757247\ttest: 0.6823245\tbest: 0.6823245 (120)\ttotal: 2m 8s\tremaining: 1m 23s\n",
      "130:\tlearn: 0.6746805\ttest: 0.6820757\tbest: 0.6820757 (130)\ttotal: 2m 18s\tremaining: 1m 12s\n",
      "140:\tlearn: 0.6736105\ttest: 0.6817832\tbest: 0.6817832 (140)\ttotal: 2m 28s\tremaining: 1m 1s\n",
      "150:\tlearn: 0.6727335\ttest: 0.6817082\tbest: 0.6817082 (150)\ttotal: 2m 37s\tremaining: 51.1s\n",
      "160:\tlearn: 0.6717628\ttest: 0.6816426\tbest: 0.6816426 (160)\ttotal: 2m 48s\tremaining: 40.9s\n",
      "170:\tlearn: 0.6706739\ttest: 0.6814525\tbest: 0.6814525 (170)\ttotal: 2m 58s\tremaining: 30.3s\n",
      "180:\tlearn: 0.6697877\ttest: 0.6814717\tbest: 0.6814293 (174)\ttotal: 3m 8s\tremaining: 19.8s\n",
      "190:\tlearn: 0.6689847\ttest: 0.6813689\tbest: 0.6813676 (189)\ttotal: 3m 18s\tremaining: 9.37s\n",
      "199:\tlearn: 0.6682319\ttest: 0.6813105\tbest: 0.6813105 (199)\ttotal: 3m 27s\tremaining: 0us\n",
      "\n",
      "bestTest = 0.6813105323\n",
      "bestIteration = 199\n",
      "\n",
      "0:\tlearn: 0.6923347\ttest: 0.6925039\tbest: 0.6925039 (0)\ttotal: 935ms\tremaining: 3m 6s\n",
      "10:\tlearn: 0.6877839\ttest: 0.6894955\tbest: 0.6894955 (10)\ttotal: 10.5s\tremaining: 2m 59s\n",
      "20:\tlearn: 0.6857178\ttest: 0.6882514\tbest: 0.6882514 (20)\ttotal: 19.3s\tremaining: 2m 44s\n",
      "30:\tlearn: 0.6839602\ttest: 0.6872526\tbest: 0.6872526 (30)\ttotal: 29.1s\tremaining: 2m 38s\n",
      "40:\tlearn: 0.6823542\ttest: 0.6864087\tbest: 0.6864087 (40)\ttotal: 39.7s\tremaining: 2m 34s\n",
      "50:\tlearn: 0.6814130\ttest: 0.6860641\tbest: 0.6860508 (49)\ttotal: 49.9s\tremaining: 2m 25s\n",
      "60:\tlearn: 0.6803618\ttest: 0.6857375\tbest: 0.6857375 (60)\ttotal: 1m 3s\tremaining: 2m 25s\n",
      "70:\tlearn: 0.6794921\ttest: 0.6854287\tbest: 0.6854287 (70)\ttotal: 1m 17s\tremaining: 2m 20s\n",
      "80:\tlearn: 0.6786461\ttest: 0.6850756\tbest: 0.6850756 (80)\ttotal: 1m 27s\tremaining: 2m 8s\n",
      "90:\tlearn: 0.6778351\ttest: 0.6849474\tbest: 0.6849289 (89)\ttotal: 1m 35s\tremaining: 1m 54s\n",
      "100:\tlearn: 0.6770974\ttest: 0.6847668\tbest: 0.6847668 (100)\ttotal: 1m 44s\tremaining: 1m 42s\n",
      "110:\tlearn: 0.6761497\ttest: 0.6846529\tbest: 0.6846529 (110)\ttotal: 1m 56s\tremaining: 1m 33s\n",
      "120:\tlearn: 0.6751791\ttest: 0.6844587\tbest: 0.6844587 (120)\ttotal: 2m 5s\tremaining: 1m 21s\n",
      "130:\tlearn: 0.6740300\ttest: 0.6841879\tbest: 0.6841879 (130)\ttotal: 2m 14s\tremaining: 1m 10s\n",
      "140:\tlearn: 0.6729721\ttest: 0.6840588\tbest: 0.6840181 (138)\ttotal: 2m 22s\tremaining: 59.6s\n",
      "150:\tlearn: 0.6719780\ttest: 0.6839573\tbest: 0.6839290 (147)\ttotal: 2m 30s\tremaining: 48.8s\n",
      "160:\tlearn: 0.6708862\ttest: 0.6837315\tbest: 0.6837315 (160)\ttotal: 2m 37s\tremaining: 38.1s\n",
      "170:\tlearn: 0.6698757\ttest: 0.6836752\tbest: 0.6836752 (170)\ttotal: 2m 44s\tremaining: 27.9s\n",
      "180:\tlearn: 0.6689668\ttest: 0.6837199\tbest: 0.6836752 (170)\ttotal: 2m 53s\tremaining: 18.2s\n",
      "Stopped by overfitting detector  (10 iterations wait)\n",
      "\n",
      "bestTest = 0.6836752022\n",
      "bestIteration = 170\n",
      "\n",
      "Shrink model to first 171 iterations.\n",
      "0:\tlearn: 0.6922949\ttest: 0.6923060\tbest: 0.6923060 (0)\ttotal: 788ms\tremaining: 2m 36s\n",
      "10:\tlearn: 0.6883564\ttest: 0.6887955\tbest: 0.6887955 (10)\ttotal: 8.23s\tremaining: 2m 21s\n",
      "20:\tlearn: 0.6861242\ttest: 0.6869969\tbest: 0.6869969 (20)\ttotal: 15.7s\tremaining: 2m 13s\n",
      "30:\tlearn: 0.6843974\ttest: 0.6859180\tbest: 0.6859180 (30)\ttotal: 23.3s\tremaining: 2m 6s\n",
      "40:\tlearn: 0.6830637\ttest: 0.6852553\tbest: 0.6852553 (40)\ttotal: 31.3s\tremaining: 2m 1s\n",
      "50:\tlearn: 0.6818638\ttest: 0.6847305\tbest: 0.6847305 (50)\ttotal: 39.3s\tremaining: 1m 54s\n",
      "60:\tlearn: 0.6808954\ttest: 0.6843000\tbest: 0.6843000 (60)\ttotal: 46.9s\tremaining: 1m 46s\n",
      "70:\tlearn: 0.6800183\ttest: 0.6840333\tbest: 0.6840333 (70)\ttotal: 54.6s\tremaining: 1m 39s\n",
      "80:\tlearn: 0.6790797\ttest: 0.6838821\tbest: 0.6838821 (80)\ttotal: 1m 2s\tremaining: 1m 31s\n",
      "90:\tlearn: 0.6783428\ttest: 0.6836724\tbest: 0.6836724 (90)\ttotal: 1m 10s\tremaining: 1m 24s\n",
      "100:\tlearn: 0.6776890\ttest: 0.6835395\tbest: 0.6835220 (99)\ttotal: 1m 18s\tremaining: 1m 16s\n",
      "110:\tlearn: 0.6768524\ttest: 0.6833185\tbest: 0.6833185 (110)\ttotal: 1m 25s\tremaining: 1m 8s\n",
      "120:\tlearn: 0.6758997\ttest: 0.6831969\tbest: 0.6831969 (120)\ttotal: 1m 33s\tremaining: 1m 1s\n",
      "130:\tlearn: 0.6749148\ttest: 0.6829744\tbest: 0.6829744 (130)\ttotal: 1m 41s\tremaining: 53.4s\n",
      "140:\tlearn: 0.6737749\ttest: 0.6827974\tbest: 0.6827837 (139)\ttotal: 1m 49s\tremaining: 45.6s\n",
      "150:\tlearn: 0.6726395\ttest: 0.6825711\tbest: 0.6825711 (150)\ttotal: 1m 56s\tremaining: 37.9s\n",
      "160:\tlearn: 0.6714901\ttest: 0.6824666\tbest: 0.6824666 (160)\ttotal: 2m 4s\tremaining: 30.3s\n",
      "170:\tlearn: 0.6706419\ttest: 0.6823000\tbest: 0.6823000 (170)\ttotal: 2m 13s\tremaining: 22.6s\n",
      "180:\tlearn: 0.6698187\ttest: 0.6822666\tbest: 0.6822666 (180)\ttotal: 2m 21s\tremaining: 14.8s\n",
      "190:\tlearn: 0.6687577\ttest: 0.6820902\tbest: 0.6820902 (190)\ttotal: 2m 28s\tremaining: 7.01s\n",
      "199:\tlearn: 0.6679024\ttest: 0.6820358\tbest: 0.6820358 (199)\ttotal: 2m 36s\tremaining: 0us\n",
      "\n",
      "bestTest = 0.6820358319\n",
      "bestIteration = 199\n",
      "\n",
      "0:\tlearn: 0.6924211\ttest: 0.6923696\tbest: 0.6923696 (0)\ttotal: 662ms\tremaining: 2m 11s\n",
      "10:\tlearn: 0.6883208\ttest: 0.6885485\tbest: 0.6885485 (10)\ttotal: 8.27s\tremaining: 2m 22s\n",
      "20:\tlearn: 0.6859613\ttest: 0.6867984\tbest: 0.6867984 (20)\ttotal: 15.9s\tremaining: 2m 15s\n",
      "30:\tlearn: 0.6843586\ttest: 0.6858526\tbest: 0.6858526 (30)\ttotal: 23.3s\tremaining: 2m 7s\n",
      "40:\tlearn: 0.6831600\ttest: 0.6852813\tbest: 0.6852813 (40)\ttotal: 31.1s\tremaining: 2m\n",
      "50:\tlearn: 0.6820697\ttest: 0.6848407\tbest: 0.6848407 (50)\ttotal: 38.5s\tremaining: 1m 52s\n",
      "60:\tlearn: 0.6809576\ttest: 0.6844114\tbest: 0.6844114 (60)\ttotal: 46.5s\tremaining: 1m 45s\n",
      "70:\tlearn: 0.6799916\ttest: 0.6840707\tbest: 0.6840707 (70)\ttotal: 54.2s\tremaining: 1m 38s\n",
      "80:\tlearn: 0.6790751\ttest: 0.6836664\tbest: 0.6836664 (80)\ttotal: 1m 2s\tremaining: 1m 31s\n",
      "90:\tlearn: 0.6783737\ttest: 0.6834475\tbest: 0.6834475 (90)\ttotal: 1m 10s\tremaining: 1m 24s\n",
      "100:\tlearn: 0.6775776\ttest: 0.6831581\tbest: 0.6831581 (100)\ttotal: 1m 18s\tremaining: 1m 17s\n",
      "110:\tlearn: 0.6767638\ttest: 0.6828315\tbest: 0.6828315 (110)\ttotal: 1m 26s\tremaining: 1m 9s\n",
      "120:\tlearn: 0.6759954\ttest: 0.6827077\tbest: 0.6827077 (120)\ttotal: 1m 35s\tremaining: 1m 2s\n",
      "130:\tlearn: 0.6749479\ttest: 0.6825428\tbest: 0.6825428 (130)\ttotal: 1m 43s\tremaining: 54.3s\n",
      "140:\tlearn: 0.6738568\ttest: 0.6823347\tbest: 0.6823178 (139)\ttotal: 1m 50s\tremaining: 46.4s\n",
      "150:\tlearn: 0.6727783\ttest: 0.6821532\tbest: 0.6821532 (150)\ttotal: 1m 58s\tremaining: 38.6s\n",
      "160:\tlearn: 0.6717088\ttest: 0.6821245\tbest: 0.6821245 (160)\ttotal: 2m 6s\tremaining: 30.7s\n",
      "170:\tlearn: 0.6708652\ttest: 0.6820380\tbest: 0.6820123 (169)\ttotal: 2m 15s\tremaining: 22.9s\n",
      "180:\tlearn: 0.6698960\ttest: 0.6819700\tbest: 0.6819612 (176)\ttotal: 2m 23s\tremaining: 15.1s\n",
      "190:\tlearn: 0.6691247\ttest: 0.6819328\tbest: 0.6818892 (187)\ttotal: 2m 31s\tremaining: 7.15s\n",
      "Stopped by overfitting detector  (10 iterations wait)\n",
      "\n",
      "bestTest = 0.6818892484\n",
      "bestIteration = 187\n",
      "\n",
      "Shrink model to first 188 iterations.\n",
      "0:\tlearn: 0.6923736\ttest: 0.6924779\tbest: 0.6924779 (0)\ttotal: 814ms\tremaining: 2m 41s\n",
      "10:\tlearn: 0.6882852\ttest: 0.6889708\tbest: 0.6889708 (10)\ttotal: 7.93s\tremaining: 2m 16s\n",
      "20:\tlearn: 0.6861682\ttest: 0.6874036\tbest: 0.6874036 (20)\ttotal: 15.8s\tremaining: 2m 14s\n",
      "30:\tlearn: 0.6845028\ttest: 0.6863506\tbest: 0.6863506 (30)\ttotal: 23.8s\tremaining: 2m 9s\n",
      "40:\tlearn: 0.6832214\ttest: 0.6855041\tbest: 0.6855041 (40)\ttotal: 31.8s\tremaining: 2m 3s\n",
      "50:\tlearn: 0.6818059\ttest: 0.6846941\tbest: 0.6846941 (50)\ttotal: 39.5s\tremaining: 1m 55s\n",
      "60:\tlearn: 0.6807837\ttest: 0.6842606\tbest: 0.6842606 (60)\ttotal: 47.5s\tremaining: 1m 48s\n"
     ]
    },
    {
     "name": "stdout",
     "output_type": "stream",
     "text": [
      "70:\tlearn: 0.6799235\ttest: 0.6838629\tbest: 0.6838629 (70)\ttotal: 55.6s\tremaining: 1m 41s\n",
      "80:\tlearn: 0.6792787\ttest: 0.6835849\tbest: 0.6835849 (80)\ttotal: 1m 4s\tremaining: 1m 34s\n",
      "90:\tlearn: 0.6784112\ttest: 0.6833047\tbest: 0.6833047 (90)\ttotal: 1m 11s\tremaining: 1m 26s\n",
      "100:\tlearn: 0.6775622\ttest: 0.6830272\tbest: 0.6830272 (100)\ttotal: 1m 20s\tremaining: 1m 18s\n",
      "110:\tlearn: 0.6767541\ttest: 0.6828336\tbest: 0.6828336 (110)\ttotal: 1m 28s\tremaining: 1m 10s\n",
      "120:\tlearn: 0.6758893\ttest: 0.6826519\tbest: 0.6826511 (119)\ttotal: 1m 36s\tremaining: 1m 3s\n",
      "130:\tlearn: 0.6749062\ttest: 0.6824180\tbest: 0.6824180 (130)\ttotal: 1m 44s\tremaining: 55.2s\n",
      "140:\tlearn: 0.6738077\ttest: 0.6822220\tbest: 0.6822220 (140)\ttotal: 1m 52s\tremaining: 47.1s\n",
      "150:\tlearn: 0.6728436\ttest: 0.6820186\tbest: 0.6820186 (150)\ttotal: 2m\tremaining: 39s\n",
      "160:\tlearn: 0.6720503\ttest: 0.6819182\tbest: 0.6819182 (160)\ttotal: 2m 8s\tremaining: 31.1s\n",
      "170:\tlearn: 0.6710553\ttest: 0.6817232\tbest: 0.6817232 (170)\ttotal: 2m 16s\tremaining: 23.1s\n",
      "180:\tlearn: 0.6700738\ttest: 0.6817836\tbest: 0.6817232 (170)\ttotal: 2m 24s\tremaining: 15.1s\n",
      "Stopped by overfitting detector  (10 iterations wait)\n",
      "\n",
      "bestTest = 0.6817231687\n",
      "bestIteration = 170\n",
      "\n",
      "Shrink model to first 171 iterations.\n",
      "cv score :  0.5522419659735349\n",
      "cv ratio :  0.4951304347826087\n"
     ]
    }
   ],
   "source": [
    "params = {\n",
    "    \"loss_function\" : \"Logloss\",\n",
    "    \"eval_metric\" : \"Logloss\",\n",
    "    \"iterations\":200,\n",
    "    \"learning_rate\" : 0.1,\n",
    "    \"use_best_model\": True,\n",
    "\n",
    "    \n",
    "\n",
    "}\n",
    "\n",
    "THRESHOLD = 0.50\n",
    "models = []\n",
    "cv_scores = []\n",
    "temp = 0\n",
    "train_pred = []\n",
    "\n",
    "all_indices = sum(folds, [])\n",
    "for i in range(K):\n",
    "    valid_indices = folds[i]\n",
    "    train_indices = list(set(all_indices) - set(valid_indices))\n",
    "    # print(\"train \", len(train_indices), \" , valid \", len(valid_indices))\n",
    "    \n",
    "    train_X = X.iloc[train_indices]\n",
    "    train_y = y.iloc[train_indices]\n",
    "    valid_X = X.iloc[valid_indices]\n",
    "    valid_y = y.iloc[valid_indices]\n",
    "    \n",
    "    train_data = Pool(train_X, train_y, cat_features=categorical_features_indices)\n",
    "    valid_data = Pool(valid_X, valid_y, cat_features=categorical_features_indices)\n",
    "    \n",
    "    model = CatBoostClassifier(**params)\n",
    "\n",
    "    \n",
    "    model.fit(\n",
    "        train_data,\n",
    "        eval_set=valid_data,\n",
    "        early_stopping_rounds=10,\n",
    "        verbose=10,\n",
    "        use_best_model=True,\n",
    "    )\n",
    "    \n",
    "    pred = model.predict(valid_X)\n",
    "    # pred = np.where(pred < THRESHOLD, 0, 1)\n",
    "    train_pred.append(pred)\n",
    "    temp += np.sum(pred)\n",
    "    \n",
    "    score = accuracy_score(pred, valid_y)\n",
    "    \n",
    "    models.append(model)\n",
    "    cv_scores.append(score)\n",
    "    \n",
    "    \n",
    "print(\"cv score : \", np.mean(cv_scores))    \n",
    "print(\"cv ratio : \", temp / SIZE)"
   ]
  },
  {
   "cell_type": "code",
   "execution_count": 28,
   "metadata": {},
   "outputs": [
    {
     "name": "stdout",
     "output_type": "stream",
     "text": [
      "0.5764290755116444\n",
      "0.5608327452364149\n",
      "0.5840860973888496\n",
      "0.5841919548341566\n",
      "0.5803458009880028\n",
      "0.5771771347918138\n"
     ]
    }
   ],
   "source": [
    "preds = []\n",
    "for i in range(K):\n",
    "    model = models[i]\n",
    "    pred = model.predict(test_X)\n",
    "    preds.append(pred)\n",
    "    print(np.sum(pred) / pred.shape[0])\n",
    "    \n",
    "preds = np.array(preds)\n",
    "preds = np.mean(preds, axis=0)\n",
    "print(np.sum(preds) / preds.shape[0])\n",
    "\n",
    "\n",
    "temp = pd.DataFrame({\"pred\":pred})\n",
    "# temp.hist(bins=20)"
   ]
  },
  {
   "cell_type": "code",
   "execution_count": 31,
   "metadata": {},
   "outputs": [
    {
     "name": "stdout",
     "output_type": "stream",
     "text": [
      "0.5811926605504587\n"
     ]
    }
   ],
   "source": [
    "preds = np.where(preds < THRESHOLD, 0, 1)\n",
    "print(np.sum(preds) / preds.shape[0])\n",
    "\n",
    "submit_df = pd.DataFrame({'y': preds})\n",
    "submit_df.index.name = 'id'\n",
    "submit_df.to_csv('../Submissions/submission_cat_1.csv')"
   ]
  },
  {
   "cell_type": "code",
   "execution_count": 24,
   "metadata": {},
   "outputs": [
    {
     "ename": "AttributeError",
     "evalue": "'CatBoostClassifier' object has no attribute 'feature_importance'",
     "output_type": "error",
     "traceback": [
      "\u001b[0;31m---------------------------------------------------------------------------\u001b[0m",
      "\u001b[0;31mAttributeError\u001b[0m                            Traceback (most recent call last)",
      "\u001b[0;32m<ipython-input-24-66185475fa65>\u001b[0m in \u001b[0;36m<module>\u001b[0;34m\u001b[0m\n\u001b[0;32m----> 1\u001b[0;31m \u001b[0mimportance\u001b[0m \u001b[0;34m=\u001b[0m \u001b[0mpd\u001b[0m\u001b[0;34m.\u001b[0m\u001b[0mDataFrame\u001b[0m\u001b[0;34m(\u001b[0m\u001b[0mmodels\u001b[0m\u001b[0;34m[\u001b[0m\u001b[0;36m1\u001b[0m\u001b[0;34m]\u001b[0m\u001b[0;34m.\u001b[0m\u001b[0mfeature_importance\u001b[0m\u001b[0;34m(\u001b[0m\u001b[0;34m)\u001b[0m\u001b[0;34m,\u001b[0m \u001b[0mindex\u001b[0m\u001b[0;34m=\u001b[0m\u001b[0mX\u001b[0m\u001b[0;34m.\u001b[0m\u001b[0mcolumns\u001b[0m\u001b[0;34m,\u001b[0m \u001b[0mcolumns\u001b[0m\u001b[0;34m=\u001b[0m\u001b[0;34m[\u001b[0m\u001b[0;34m'importance'\u001b[0m\u001b[0;34m]\u001b[0m\u001b[0;34m)\u001b[0m\u001b[0;34m.\u001b[0m\u001b[0msort_values\u001b[0m\u001b[0;34m(\u001b[0m\u001b[0;34m'importance'\u001b[0m\u001b[0;34m)\u001b[0m\u001b[0;34m\u001b[0m\u001b[0;34m\u001b[0m\u001b[0m\n\u001b[0m\u001b[1;32m      2\u001b[0m \u001b[0mdisplay\u001b[0m\u001b[0;34m(\u001b[0m\u001b[0mimportance\u001b[0m\u001b[0;34m)\u001b[0m\u001b[0;34m\u001b[0m\u001b[0;34m\u001b[0m\u001b[0m\n",
      "\u001b[0;31mAttributeError\u001b[0m: 'CatBoostClassifier' object has no attribute 'feature_importance'"
     ]
    }
   ],
   "source": [
    "importance = pd.DataFrame(models[1].feature_importance(), index=X.columns, columns=['importance']).sort_values('importance')\n",
    "display(importance)"
   ]
  },
  {
   "cell_type": "code",
   "execution_count": 32,
   "metadata": {
    "scrolled": true
   },
   "outputs": [
    {
     "data": {
      "text/html": [
       "<div>\n",
       "<style scoped>\n",
       "    .dataframe tbody tr th:only-of-type {\n",
       "        vertical-align: middle;\n",
       "    }\n",
       "\n",
       "    .dataframe tbody tr th {\n",
       "        vertical-align: top;\n",
       "    }\n",
       "\n",
       "    .dataframe thead th {\n",
       "        text-align: right;\n",
       "    }\n",
       "</style>\n",
       "<table border=\"1\" class=\"dataframe\">\n",
       "  <thead>\n",
       "    <tr style=\"text-align: right;\">\n",
       "      <th></th>\n",
       "      <th>y</th>\n",
       "    </tr>\n",
       "    <tr>\n",
       "      <th>id</th>\n",
       "      <th></th>\n",
       "    </tr>\n",
       "  </thead>\n",
       "  <tbody>\n",
       "    <tr>\n",
       "      <th>0</th>\n",
       "      <td>0</td>\n",
       "    </tr>\n",
       "    <tr>\n",
       "      <th>1</th>\n",
       "      <td>0</td>\n",
       "    </tr>\n",
       "    <tr>\n",
       "      <th>2</th>\n",
       "      <td>1</td>\n",
       "    </tr>\n",
       "    <tr>\n",
       "      <th>3</th>\n",
       "      <td>1</td>\n",
       "    </tr>\n",
       "    <tr>\n",
       "      <th>4</th>\n",
       "      <td>1</td>\n",
       "    </tr>\n",
       "    <tr>\n",
       "      <th>...</th>\n",
       "      <td>...</td>\n",
       "    </tr>\n",
       "    <tr>\n",
       "      <th>28335</th>\n",
       "      <td>1</td>\n",
       "    </tr>\n",
       "    <tr>\n",
       "      <th>28336</th>\n",
       "      <td>1</td>\n",
       "    </tr>\n",
       "    <tr>\n",
       "      <th>28337</th>\n",
       "      <td>1</td>\n",
       "    </tr>\n",
       "    <tr>\n",
       "      <th>28338</th>\n",
       "      <td>1</td>\n",
       "    </tr>\n",
       "    <tr>\n",
       "      <th>28339</th>\n",
       "      <td>0</td>\n",
       "    </tr>\n",
       "  </tbody>\n",
       "</table>\n",
       "<p>28340 rows × 1 columns</p>\n",
       "</div>"
      ],
      "text/plain": [
       "       y\n",
       "id      \n",
       "0      0\n",
       "1      0\n",
       "2      1\n",
       "3      1\n",
       "4      1\n",
       "...   ..\n",
       "28335  1\n",
       "28336  1\n",
       "28337  1\n",
       "28338  1\n",
       "28339  0\n",
       "\n",
       "[28340 rows x 1 columns]"
      ]
     },
     "execution_count": 32,
     "metadata": {},
     "output_type": "execute_result"
    }
   ],
   "source": [
    "submit_df"
   ]
  },
  {
   "cell_type": "code",
   "execution_count": null,
   "metadata": {},
   "outputs": [],
   "source": []
  },
  {
   "cell_type": "code",
   "execution_count": null,
   "metadata": {},
   "outputs": [],
   "source": []
  }
 ],
 "metadata": {
  "kernelspec": {
   "display_name": "Python 3",
   "language": "python",
   "name": "python3"
  },
  "language_info": {
   "codemirror_mode": {
    "name": "ipython",
    "version": 3
   },
   "file_extension": ".py",
   "mimetype": "text/x-python",
   "name": "python",
   "nbconvert_exporter": "python",
   "pygments_lexer": "ipython3",
   "version": "3.6.12"
  }
 },
 "nbformat": 4,
 "nbformat_minor": 4
}
