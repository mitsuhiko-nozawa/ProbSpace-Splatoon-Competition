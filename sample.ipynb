{
 "cells": [
  {
   "cell_type": "code",
   "execution_count": 1,
   "metadata": {},
   "outputs": [],
   "source": [
    "import pandas as pd\n",
    "import numpy as np\n",
    "import matplotlib.pyplot as plt\n",
    "%matplotlib inline\n",
    "import lightgbm as lgb\n",
    "from sklearn.model_selection import train_test_split\n",
    "from sklearn.model_selection import KFold\n",
    "from sklearn.metrics import accuracy_score as acc\n",
    "from sklearn.preprocessing import MultiLabelBinarizer\n",
    "\n",
    "import warnings\n",
    "warnings.filterwarnings('ignore')\n",
    "\n",
    "# データの読込\n",
    "train = pd.read_csv(\"./data/train_data.csv\")\n",
    "test = pd.read_csv(\"./data/test_data.csv\")\n",
    "weapon_info = pd.read_csv(\"./data/statink-weapon2.csv\")\n",
    "\n",
    "import os\n",
    "os.environ['KMP_DUPLICATE_LIB_OK']='True'"
   ]
  },
  {
   "cell_type": "code",
   "execution_count": 55,
   "metadata": {},
   "outputs": [
    {
     "data": {
      "text/plain": [
       "MultiLabelBinarizer(classes=None, sparse_output=False)"
      ]
     },
     "execution_count": 55,
     "metadata": {},
     "output_type": "execute_result"
    }
   ],
   "source": [
    "mlb_subweapon = MultiLabelBinarizer()\n",
    "mlb_subweapon.fit([set(weapon_info.fillna(\"none\").subweapon)])"
   ]
  },
  {
   "cell_type": "code",
   "execution_count": 60,
   "metadata": {},
   "outputs": [
    {
     "data": {
      "text/plain": [
       "Index(['category1', 'category2', 'key', 'subweapon', 'special', 'mainweapon',\n",
       "       'reskin', 'splatnet', '[de-DE]', '[en-GB]', '[en-US]', '[es-ES]',\n",
       "       '[es-MX]', '[fr-CA]', '[fr-FR]', '[it-IT]', '[ja-JP]', '[nl-NL]',\n",
       "       '[ru-RU]', '[zh-CN]', '[zh-TW]'],\n",
       "      dtype='object')"
      ]
     },
     "execution_count": 60,
     "metadata": {},
     "output_type": "execute_result"
    }
   ],
   "source": [
    "weapon_info.keys()"
   ]
  },
  {
   "cell_type": "code",
   "execution_count": 62,
   "metadata": {},
   "outputs": [
    {
     "data": {
      "text/plain": [
       "MultiLabelBinarizer(classes=None, sparse_output=False)"
      ]
     },
     "execution_count": 62,
     "metadata": {},
     "output_type": "execute_result"
    }
   ],
   "source": [
    "change_weapon = {\n",
    "    \"heroblaster_replica\":  \"hotblaster\",\n",
    "    \"herobrush_replica\": \"hokusai\", \n",
    "    \"herocharger_replica\":  \"splatcharger\",\n",
    "    \"heromaneuver_replica\":\"maneuver\",\n",
    "    \"heroroller_replica\":\"splatroller\",\n",
    "    \"heroshelter_replica\":\"parashelter\",\n",
    "    \"heroshooter_replica\":\"sshooter\",\n",
    "    \"heroslosher_replica\":\"bucketslosher\",\n",
    "    \"herospinner_replica\":\"barrelspinner\",\n",
    "    \"octoshooter_replica\":\"sshooter\"\n",
    "                }\n",
    "\n",
    "train = train.replace(change_weapon)\n",
    "test = test.replace(change_weapon)\n",
    "\n",
    "mlb = MultiLabelBinarizer()\n",
    "mlb.fit([set(weapon_info.fillna(\"none\").key)])\n",
    "mlb_subweapon = MultiLabelBinarizer()\n",
    "mlb_subweapon.fit([set(weapon_info.fillna(\"none\").subweapon)])\n",
    "mlb_mainweapon = MultiLabelBinarizer()\n",
    "mlb_mainweapon.fit([set(weapon_info.fillna(\"none\").mainweapon)])\n",
    "mlb_special = MultiLabelBinarizer()\n",
    "mlb_special.fit([set(weapon_info.fillna(\"none\").special)])"
   ]
  },
  {
   "cell_type": "code",
   "execution_count": 64,
   "metadata": {},
   "outputs": [
    {
     "data": {
      "text/plain": [
       "array(['curlingbomb', 'jumpbeacon', 'kyubanbomb', 'pointsensor',\n",
       "       'poisonmist', 'quickbomb', 'robotbomb', 'splashbomb',\n",
       "       'splashshield', 'sprinkler', 'tansanbomb', 'torpedo', 'trap'],\n",
       "      dtype=object)"
      ]
     },
     "execution_count": 64,
     "metadata": {},
     "output_type": "execute_result"
    }
   ],
   "source": [
    "mlb_subweapon.classes_"
   ]
  },
  {
   "cell_type": "code",
   "execution_count": 4,
   "metadata": {},
   "outputs": [
    {
     "data": {
      "text/plain": [
       "139"
      ]
     },
     "execution_count": 4,
     "metadata": {},
     "output_type": "execute_result"
    }
   ],
   "source": [
    "len(mlb.classes_)"
   ]
  },
  {
   "cell_type": "code",
   "execution_count": 5,
   "metadata": {},
   "outputs": [
    {
     "data": {
      "text/html": [
       "<div>\n",
       "<style scoped>\n",
       "    .dataframe tbody tr th:only-of-type {\n",
       "        vertical-align: middle;\n",
       "    }\n",
       "\n",
       "    .dataframe tbody tr th {\n",
       "        vertical-align: top;\n",
       "    }\n",
       "\n",
       "    .dataframe thead th {\n",
       "        text-align: right;\n",
       "    }\n",
       "</style>\n",
       "<table border=\"1\" class=\"dataframe\">\n",
       "  <thead>\n",
       "    <tr style=\"text-align: right;\">\n",
       "      <th></th>\n",
       "      <th>id</th>\n",
       "      <th>period</th>\n",
       "      <th>game-ver</th>\n",
       "      <th>lobby-mode</th>\n",
       "      <th>lobby</th>\n",
       "      <th>mode</th>\n",
       "      <th>stage</th>\n",
       "      <th>A1-weapon</th>\n",
       "      <th>A1-rank</th>\n",
       "      <th>A1-level</th>\n",
       "      <th>...</th>\n",
       "      <th>B2-weapon</th>\n",
       "      <th>B2-rank</th>\n",
       "      <th>B2-level</th>\n",
       "      <th>B3-weapon</th>\n",
       "      <th>B3-rank</th>\n",
       "      <th>B3-level</th>\n",
       "      <th>B4-weapon</th>\n",
       "      <th>B4-rank</th>\n",
       "      <th>B4-level</th>\n",
       "      <th>y</th>\n",
       "    </tr>\n",
       "  </thead>\n",
       "  <tbody>\n",
       "    <tr>\n",
       "      <td>0</td>\n",
       "      <td>1</td>\n",
       "      <td>2019-10-15T20:00:00+00:00</td>\n",
       "      <td>5.0.1</td>\n",
       "      <td>regular</td>\n",
       "      <td>standard</td>\n",
       "      <td>nawabari</td>\n",
       "      <td>sumeshi</td>\n",
       "      <td>sshooter_becchu</td>\n",
       "      <td>NaN</td>\n",
       "      <td>139</td>\n",
       "      <td>...</td>\n",
       "      <td>hokusai_becchu</td>\n",
       "      <td>NaN</td>\n",
       "      <td>26.0</td>\n",
       "      <td>splatcharger</td>\n",
       "      <td>NaN</td>\n",
       "      <td>68.0</td>\n",
       "      <td>sharp_neo</td>\n",
       "      <td>NaN</td>\n",
       "      <td>31.0</td>\n",
       "      <td>1</td>\n",
       "    </tr>\n",
       "    <tr>\n",
       "      <td>1</td>\n",
       "      <td>2</td>\n",
       "      <td>2019-12-14T04:00:00+00:00</td>\n",
       "      <td>5.0.1</td>\n",
       "      <td>regular</td>\n",
       "      <td>standard</td>\n",
       "      <td>nawabari</td>\n",
       "      <td>arowana</td>\n",
       "      <td>parashelter_sorella</td>\n",
       "      <td>NaN</td>\n",
       "      <td>198</td>\n",
       "      <td>...</td>\n",
       "      <td>squiclean_b</td>\n",
       "      <td>NaN</td>\n",
       "      <td>118.0</td>\n",
       "      <td>campingshelter</td>\n",
       "      <td>NaN</td>\n",
       "      <td>168.0</td>\n",
       "      <td>sputtery_clear</td>\n",
       "      <td>NaN</td>\n",
       "      <td>151.0</td>\n",
       "      <td>0</td>\n",
       "    </tr>\n",
       "    <tr>\n",
       "      <td>2</td>\n",
       "      <td>3</td>\n",
       "      <td>2019-12-25T14:00:00+00:00</td>\n",
       "      <td>5.0.1</td>\n",
       "      <td>gachi</td>\n",
       "      <td>standard</td>\n",
       "      <td>hoko</td>\n",
       "      <td>ama</td>\n",
       "      <td>nzap89</td>\n",
       "      <td>a-</td>\n",
       "      <td>114</td>\n",
       "      <td>...</td>\n",
       "      <td>nzap85</td>\n",
       "      <td>a+</td>\n",
       "      <td>163.0</td>\n",
       "      <td>prime_becchu</td>\n",
       "      <td>a-</td>\n",
       "      <td>160.0</td>\n",
       "      <td>dualsweeper_custom</td>\n",
       "      <td>a</td>\n",
       "      <td>126.0</td>\n",
       "      <td>0</td>\n",
       "    </tr>\n",
       "  </tbody>\n",
       "</table>\n",
       "<p>3 rows × 32 columns</p>\n",
       "</div>"
      ],
      "text/plain": [
       "   id                     period game-ver lobby-mode     lobby      mode  \\\n",
       "0   1  2019-10-15T20:00:00+00:00    5.0.1    regular  standard  nawabari   \n",
       "1   2  2019-12-14T04:00:00+00:00    5.0.1    regular  standard  nawabari   \n",
       "2   3  2019-12-25T14:00:00+00:00    5.0.1      gachi  standard      hoko   \n",
       "\n",
       "     stage            A1-weapon A1-rank  A1-level  ...       B2-weapon  \\\n",
       "0  sumeshi      sshooter_becchu     NaN       139  ...  hokusai_becchu   \n",
       "1  arowana  parashelter_sorella     NaN       198  ...     squiclean_b   \n",
       "2      ama               nzap89      a-       114  ...          nzap85   \n",
       "\n",
       "  B2-rank  B2-level       B3-weapon B3-rank  B3-level           B4-weapon  \\\n",
       "0     NaN      26.0    splatcharger     NaN      68.0           sharp_neo   \n",
       "1     NaN     118.0  campingshelter     NaN     168.0      sputtery_clear   \n",
       "2      a+     163.0    prime_becchu      a-     160.0  dualsweeper_custom   \n",
       "\n",
       "  B4-rank  B4-level  y  \n",
       "0     NaN      31.0  1  \n",
       "1     NaN     151.0  0  \n",
       "2       a     126.0  0  \n",
       "\n",
       "[3 rows x 32 columns]"
      ]
     },
     "execution_count": 5,
     "metadata": {},
     "output_type": "execute_result"
    }
   ],
   "source": [
    "train.head(3)"
   ]
  },
  {
   "cell_type": "code",
   "execution_count": 6,
   "metadata": {},
   "outputs": [
    {
     "name": "stdout",
     "output_type": "stream",
     "text": [
      "all\t 66125 28340\n",
      "regular\t 14444 6272\n",
      "gachi\t 51681 22068\n",
      "['regular' 'gachi']\n"
     ]
    }
   ],
   "source": [
    "print(\"all\\t\",len(train), len(test))\n",
    "print(\"regular\\t\", len(train[train[\"lobby-mode\"]==\"regular\"]), len(test[test[\"lobby-mode\"]==\"regular\"]))\n",
    "print(\"gachi\\t\", len(train[train[\"lobby-mode\"]==\"gachi\"]), len(test[test[\"lobby-mode\"]==\"gachi\"]))\n",
    "print(train[\"lobby-mode\"].unique())"
   ]
  },
  {
   "cell_type": "code",
   "execution_count": 7,
   "metadata": {},
   "outputs": [
    {
     "data": {
      "text/plain": [
       "34696"
      ]
     },
     "execution_count": 7,
     "metadata": {},
     "output_type": "execute_result"
    }
   ],
   "source": [
    "train.y.sum()"
   ]
  },
  {
   "cell_type": "code",
   "execution_count": 81,
   "metadata": {},
   "outputs": [],
   "source": [
    "#武器名を武器の情報に変換し、要素を追加したい。\n",
    "A = ['A1-weapon', 'A2-weapon', 'A3-weapon', 'A4-weapon']\n",
    "for idx in train.index:\n",
    "    for i in A:\n",
    "        weapon_info[weapon_info[\"key\"]==train[i].iloc[idx]]"
   ]
  },
  {
   "cell_type": "code",
   "execution_count": 65,
   "metadata": {},
   "outputs": [],
   "source": [
    "def make_feature(df_train, df_test):\n",
    "    train_num = len(df_train)\n",
    "    df = pd.concat([df_train, df_test])\n",
    "    \n",
    "    \n",
    "    #print(len(df))\n",
    "    cat_cols = [\"lobby-mode\", \"mode\", \"stage\"]\n",
    "    for c in cat_cols:\n",
    "        vv, obj = pd.factorize(df[c])\n",
    "        df[c] = vv\n",
    "    #print(len(df))\n",
    "    \n",
    "    A = ['A1-weapon', 'A2-weapon', 'A3-weapon', 'A4-weapon']\n",
    "    B = ['B1-weapon', 'B2-weapon', 'B3-weapon', 'B4-weapon']\n",
    "\n",
    "    wa = mlb.transform(df[A].fillna(\"none\")[A].values)\n",
    "    wb = mlb.transform(df[B].fillna(\"none\")[B].values)\n",
    "    \n",
    "    swa = mlb_subweapon.transform(df[A])\n",
    "    swb\n",
    "    \n",
    "    mwa\n",
    "    mwb\n",
    "    \n",
    "    sa\n",
    "    sb\n",
    "    \n",
    "    for i in range(wa.shape[1]):\n",
    "        df[\"A-\" + mlb.classes_[i]] = wa[:, i]\n",
    "        df[\"B-\" + mlb.classes_[i]] = wb[:, i]\n",
    "    s = [\"A\", \"B\"]\n",
    "    p = [\"1\", \"2\", \"3\", \"4\"]\n",
    "    for i in s:\n",
    "        for j in p:\n",
    "            df[i+j+\"-level\"] = df[i+j+\"-level\"]//10\n",
    "            #df[i+j+\"-level\"] = df[i+j+\"-level\"].clip(0,30)\n",
    "\n",
    "        \n",
    "    return df[:train_num], df[train_num:]"
   ]
  },
  {
   "cell_type": "code",
   "execution_count": 9,
   "metadata": {},
   "outputs": [
    {
     "name": "stdout",
     "output_type": "stream",
     "text": [
      "(51681, 310)\n"
     ]
    }
   ],
   "source": [
    "#tr, te = make_feature(train, test)\n",
    "#tr, te = make_feature(train[train['lobby-mode']=='regular'], test[test['lobby-mode']=='regular'])\n",
    "tr, te = make_feature(train[train['lobby-mode']=='gachi'], test[test['lobby-mode']=='gachi'])\n",
    "\n",
    "feature_cols = [\n",
    "     'lobby-mode', 'mode', 'stage',\n",
    "]\n",
    "feature_cols.extend([\"A-\" + i for i in mlb.classes_])\n",
    "feature_cols.extend([\"B-\" + i for i in mlb.classes_])\n",
    "print(tr.shape)"
   ]
  },
  {
   "cell_type": "code",
   "execution_count": 10,
   "metadata": {},
   "outputs": [
    {
     "data": {
      "text/html": [
       "<div>\n",
       "<style scoped>\n",
       "    .dataframe tbody tr th:only-of-type {\n",
       "        vertical-align: middle;\n",
       "    }\n",
       "\n",
       "    .dataframe tbody tr th {\n",
       "        vertical-align: top;\n",
       "    }\n",
       "\n",
       "    .dataframe thead th {\n",
       "        text-align: right;\n",
       "    }\n",
       "</style>\n",
       "<table border=\"1\" class=\"dataframe\">\n",
       "  <thead>\n",
       "    <tr style=\"text-align: right;\">\n",
       "      <th></th>\n",
       "      <th>A1-level</th>\n",
       "      <th>A1-rank</th>\n",
       "      <th>A1-weapon</th>\n",
       "      <th>A2-level</th>\n",
       "      <th>A2-rank</th>\n",
       "      <th>A2-weapon</th>\n",
       "      <th>A3-level</th>\n",
       "      <th>A3-rank</th>\n",
       "      <th>A3-weapon</th>\n",
       "      <th>A4-level</th>\n",
       "      <th>...</th>\n",
       "      <th>A-sshooter_becchu</th>\n",
       "      <th>B-sshooter_becchu</th>\n",
       "      <th>A-sshooter_collabo</th>\n",
       "      <th>B-sshooter_collabo</th>\n",
       "      <th>A-variableroller</th>\n",
       "      <th>B-variableroller</th>\n",
       "      <th>A-variableroller_foil</th>\n",
       "      <th>B-variableroller_foil</th>\n",
       "      <th>A-wakaba</th>\n",
       "      <th>B-wakaba</th>\n",
       "    </tr>\n",
       "  </thead>\n",
       "  <tbody>\n",
       "    <tr>\n",
       "      <td>2</td>\n",
       "      <td>11</td>\n",
       "      <td>a-</td>\n",
       "      <td>nzap89</td>\n",
       "      <td>6.0</td>\n",
       "      <td>a</td>\n",
       "      <td>quadhopper_black</td>\n",
       "      <td>22.0</td>\n",
       "      <td>a</td>\n",
       "      <td>prime_becchu</td>\n",
       "      <td>10.0</td>\n",
       "      <td>...</td>\n",
       "      <td>0</td>\n",
       "      <td>0</td>\n",
       "      <td>0</td>\n",
       "      <td>0</td>\n",
       "      <td>0</td>\n",
       "      <td>0</td>\n",
       "      <td>0</td>\n",
       "      <td>0</td>\n",
       "      <td>0</td>\n",
       "      <td>0</td>\n",
       "    </tr>\n",
       "    <tr>\n",
       "      <td>4</td>\n",
       "      <td>29</td>\n",
       "      <td>x</td>\n",
       "      <td>bold_7</td>\n",
       "      <td>9.0</td>\n",
       "      <td>x</td>\n",
       "      <td>hissen_hue</td>\n",
       "      <td>9.0</td>\n",
       "      <td>x</td>\n",
       "      <td>h3reelgun_d</td>\n",
       "      <td>13.0</td>\n",
       "      <td>...</td>\n",
       "      <td>0</td>\n",
       "      <td>0</td>\n",
       "      <td>0</td>\n",
       "      <td>0</td>\n",
       "      <td>0</td>\n",
       "      <td>0</td>\n",
       "      <td>0</td>\n",
       "      <td>0</td>\n",
       "      <td>0</td>\n",
       "      <td>1</td>\n",
       "    </tr>\n",
       "    <tr>\n",
       "      <td>5</td>\n",
       "      <td>19</td>\n",
       "      <td>s</td>\n",
       "      <td>nzap85</td>\n",
       "      <td>11.0</td>\n",
       "      <td>s</td>\n",
       "      <td>dualsweeper_custom</td>\n",
       "      <td>27.0</td>\n",
       "      <td>s</td>\n",
       "      <td>prime_becchu</td>\n",
       "      <td>5.0</td>\n",
       "      <td>...</td>\n",
       "      <td>0</td>\n",
       "      <td>0</td>\n",
       "      <td>0</td>\n",
       "      <td>0</td>\n",
       "      <td>0</td>\n",
       "      <td>0</td>\n",
       "      <td>0</td>\n",
       "      <td>0</td>\n",
       "      <td>0</td>\n",
       "      <td>0</td>\n",
       "    </tr>\n",
       "  </tbody>\n",
       "</table>\n",
       "<p>3 rows × 310 columns</p>\n",
       "</div>"
      ],
      "text/plain": [
       "   A1-level A1-rank A1-weapon  A2-level A2-rank           A2-weapon  A3-level  \\\n",
       "2        11      a-    nzap89       6.0       a    quadhopper_black      22.0   \n",
       "4        29       x    bold_7       9.0       x          hissen_hue       9.0   \n",
       "5        19       s    nzap85      11.0       s  dualsweeper_custom      27.0   \n",
       "\n",
       "  A3-rank     A3-weapon  A4-level  ... A-sshooter_becchu B-sshooter_becchu  \\\n",
       "2       a  prime_becchu      10.0  ...                 0                 0   \n",
       "4       x   h3reelgun_d      13.0  ...                 0                 0   \n",
       "5       s  prime_becchu       5.0  ...                 0                 0   \n",
       "\n",
       "   A-sshooter_collabo B-sshooter_collabo A-variableroller  B-variableroller  \\\n",
       "2                   0                  0                0                 0   \n",
       "4                   0                  0                0                 0   \n",
       "5                   0                  0                0                 0   \n",
       "\n",
       "  A-variableroller_foil B-variableroller_foil  A-wakaba B-wakaba  \n",
       "2                     0                     0         0        0  \n",
       "4                     0                     0         0        1  \n",
       "5                     0                     0         0        0  \n",
       "\n",
       "[3 rows x 310 columns]"
      ]
     },
     "execution_count": 10,
     "metadata": {},
     "output_type": "execute_result"
    }
   ],
   "source": [
    "tr.head(3)"
   ]
  },
  {
   "cell_type": "code",
   "execution_count": 11,
   "metadata": {},
   "outputs": [
    {
     "name": "stdout",
     "output_type": "stream",
     "text": [
      "fold1 score is :0.5036277449937119\n",
      "fold2 score is :0.5055147058823529\n",
      "fold3 score is :0.5071594427244582\n",
      "fold4 score is :0.506578947368421\n",
      "fold5 score is :0.5143188854489165\n",
      "average :  0.50744\n"
     ]
    }
   ],
   "source": [
    "#def cv_score(clf,X,y,n_splits=5,kf=StratifiedKFold(n_splits=5))->float:\n",
    "    \n",
    "kf=KFold(n_splits=5, random_state = 0)\n",
    "score = 0\n",
    "counter = 1\n",
    "for train_index, valid_index in kf.split(tr, tr.y):\n",
    "        train_X,valid_X = tr.loc[train_index,:].copy(),tr.loc[valid_index,:].copy()\n",
    "        train_y,valid_y = tr.y.iloc[train_index],tr.y.iloc[valid_index]\n",
    "        \n",
    "        train_X, valid_X = make_feature(train_X, valid_X)\n",
    "        \n",
    "        \n",
    "        clf = lgb.LGBMClassifier()\n",
    "        clf.fit(train_X[feature_cols],train_y)\n",
    "        preds = clf.predict(valid_X[feature_cols])\n",
    "        acc_score = acc(valid_y,preds)\n",
    "        print(f\"fold{counter} score is :{acc_score}\")\n",
    "        score += acc_score\n",
    "        counter += 1\n",
    "print(\"average : \",round(score/5,5))"
   ]
  },
  {
   "cell_type": "code",
   "execution_count": 12,
   "metadata": {
    "scrolled": false
   },
   "outputs": [
    {
     "name": "stdout",
     "output_type": "stream",
     "text": [
      "A1-level                            17\n",
      "A1-rank                              x\n",
      "A1-weapon                prime_collabo\n",
      "A2-level                            13\n",
      "A2-rank                              x\n",
      "                             ...      \n",
      "B-variableroller                     0\n",
      "A-variableroller_foil                0\n",
      "B-variableroller_foil                0\n",
      "A-wakaba                             0\n",
      "B-wakaba                             0\n",
      "Name: 0, Length: 310, dtype: object\n"
     ]
    }
   ],
   "source": [
    "tr, te = make_feature(train, test)\n",
    "print(te.iloc[0])\n",
    "#for i in tr.columns:\n",
    "    #print(i)"
   ]
  },
  {
   "cell_type": "code",
   "execution_count": 29,
   "metadata": {},
   "outputs": [],
   "source": [
    "tr, te = make_feature(train, test)\n",
    "tr_0 = tr[tr[\"lobby-mode\"]==0]\n",
    "tr_1 = tr[tr[\"lobby-mode\"]==1]\n",
    "clf_0 = lgb.LGBMClassifier().fit(tr_0[feature_cols].fillna(0),tr_0[\"y\"].fillna(0))\n",
    "clf_1 = lgb.LGBMClassifier().fit(tr_1[feature_cols].fillna(0),tr_1[\"y\"].fillna(0))\n",
    "pred_test = []\n",
    "for idx in range(len(te)):\n",
    "    pred = 0\n",
    "    data = te.iloc[idx][feature_cols]\n",
    "    if data[\"lobby-mode\"]==0:\n",
    "        pred=clf_0.predict([data])[0]\n",
    "    elif data[\"lobby-mode\"]==1:\n",
    "        pred=clf_1.predict([data])[0]\n",
    "    pred_test.append(pred)\n",
    "pd.DataFrame({\"id\": range(len(pred_test)), \"y\": pred_test }).to_csv(\"submission.csv\", index=False)"
   ]
  },
  {
   "cell_type": "code",
   "execution_count": 30,
   "metadata": {},
   "outputs": [],
   "source": [
    "pred_test=np.array(pred_test)"
   ]
  },
  {
   "cell_type": "code",
   "execution_count": 31,
   "metadata": {},
   "outputs": [
    {
     "data": {
      "text/plain": [
       "18637.0"
      ]
     },
     "execution_count": 31,
     "metadata": {},
     "output_type": "execute_result"
    }
   ],
   "source": [
    "pred_test[pred_test == 1].sum()"
   ]
  },
  {
   "cell_type": "code",
   "execution_count": 32,
   "metadata": {},
   "outputs": [
    {
     "data": {
      "text/plain": [
       "0.0"
      ]
     },
     "execution_count": 32,
     "metadata": {},
     "output_type": "execute_result"
    }
   ],
   "source": [
    "pred_test[pred_test == 0].sum()"
   ]
  },
  {
   "cell_type": "code",
   "execution_count": 33,
   "metadata": {},
   "outputs": [
    {
     "data": {
      "text/html": [
       "<div>\n",
       "<style scoped>\n",
       "    .dataframe tbody tr th:only-of-type {\n",
       "        vertical-align: middle;\n",
       "    }\n",
       "\n",
       "    .dataframe tbody tr th {\n",
       "        vertical-align: top;\n",
       "    }\n",
       "\n",
       "    .dataframe thead th {\n",
       "        text-align: right;\n",
       "    }\n",
       "</style>\n",
       "<table border=\"1\" class=\"dataframe\">\n",
       "  <thead>\n",
       "    <tr style=\"text-align: right;\">\n",
       "      <th></th>\n",
       "      <th>f</th>\n",
       "    </tr>\n",
       "  </thead>\n",
       "  <tbody>\n",
       "    <tr>\n",
       "      <td>stage</td>\n",
       "      <td>2220.498223</td>\n",
       "    </tr>\n",
       "    <tr>\n",
       "      <td>mode</td>\n",
       "      <td>836.989980</td>\n",
       "    </tr>\n",
       "    <tr>\n",
       "      <td>B-splatroller</td>\n",
       "      <td>249.123589</td>\n",
       "    </tr>\n",
       "    <tr>\n",
       "      <td>A-splatroller</td>\n",
       "      <td>203.655931</td>\n",
       "    </tr>\n",
       "    <tr>\n",
       "      <td>B-nzap85</td>\n",
       "      <td>201.465290</td>\n",
       "    </tr>\n",
       "    <tr>\n",
       "      <td>B-dualsweeper_custom</td>\n",
       "      <td>195.053128</td>\n",
       "    </tr>\n",
       "    <tr>\n",
       "      <td>A-prime_becchu</td>\n",
       "      <td>193.919700</td>\n",
       "    </tr>\n",
       "    <tr>\n",
       "      <td>A-nzap85</td>\n",
       "      <td>164.670461</td>\n",
       "    </tr>\n",
       "    <tr>\n",
       "      <td>B-prime_becchu</td>\n",
       "      <td>150.355181</td>\n",
       "    </tr>\n",
       "    <tr>\n",
       "      <td>A-wakaba</td>\n",
       "      <td>149.944809</td>\n",
       "    </tr>\n",
       "  </tbody>\n",
       "</table>\n",
       "</div>"
      ],
      "text/plain": [
       "                                f\n",
       "stage                 2220.498223\n",
       "mode                   836.989980\n",
       "B-splatroller          249.123589\n",
       "A-splatroller          203.655931\n",
       "B-nzap85               201.465290\n",
       "B-dualsweeper_custom   195.053128\n",
       "A-prime_becchu         193.919700\n",
       "A-nzap85               164.670461\n",
       "B-prime_becchu         150.355181\n",
       "A-wakaba               149.944809"
      ]
     },
     "execution_count": 33,
     "metadata": {},
     "output_type": "execute_result"
    }
   ],
   "source": [
    "# importanceを表示する\n",
    "#importance = pd.DataFrame(clf.feature_importances_,  index=feature_cols, importance = \"gain\")\n",
    "importance = pd.DataFrame(clf.booster_.feature_importance(importance_type='gain'), index=feature_cols, columns = [\"f\"])\n",
    "\n",
    "importance.sort_values(\"f\", ascending = False).head(10)"
   ]
  },
  {
   "cell_type": "code",
   "execution_count": 34,
   "metadata": {},
   "outputs": [
    {
     "data": {
      "text/plain": [
       "array(['52gal', '52gal_becchu', '52gal_deco', '96gal', '96gal_deco',\n",
       "       'bamboo14mk1', 'bamboo14mk2', 'bamboo14mk3', 'barrelspinner',\n",
       "       'barrelspinner_deco', 'barrelspinner_remix', 'bold', 'bold_7',\n",
       "       'bold_neo', 'bottlegeyser', 'bottlegeyser_foil', 'bucketslosher',\n",
       "       'bucketslosher_deco', 'bucketslosher_soda', 'campingshelter',\n",
       "       'campingshelter_camo', 'campingshelter_sorella', 'carbon',\n",
       "       'carbon_deco', 'clashblaster', 'clashblaster_neo', 'dualsweeper',\n",
       "       'dualsweeper_custom', 'dynamo', 'dynamo_becchu', 'dynamo_tesla',\n",
       "       'explosher', 'explosher_custom', 'furo', 'furo_deco', 'h3reelgun',\n",
       "       'h3reelgun_cherry', 'h3reelgun_d', 'heroblaster_replica',\n",
       "       'herobrush_replica', 'herocharger_replica', 'heromaneuver_replica',\n",
       "       'heroroller_replica', 'heroshelter_replica', 'heroshooter_replica',\n",
       "       'heroslosher_replica', 'herospinner_replica', 'hissen',\n",
       "       'hissen_hue', 'hokusai', 'hokusai_becchu', 'hokusai_hue',\n",
       "       'hotblaster', 'hotblaster_custom', 'hydra', 'hydra_custom',\n",
       "       'jetsweeper', 'jetsweeper_custom', 'kelvin525', 'kelvin525_becchu',\n",
       "       'kelvin525_deco', 'kugelschreiber', 'kugelschreiber_hue',\n",
       "       'l3reelgun', 'l3reelgun_becchu', 'l3reelgun_d', 'liter4k',\n",
       "       'liter4k_custom', 'liter4k_scope', 'liter4k_scope_custom',\n",
       "       'longblaster', 'longblaster_custom', 'longblaster_necro',\n",
       "       'maneuver', 'maneuver_becchu', 'maneuver_collabo', 'momiji',\n",
       "       'nautilus47', 'nautilus79', 'nova', 'nova_becchu', 'nova_neo',\n",
       "       'nzap83', 'nzap85', 'nzap89', 'ochiba', 'octoshooter_replica',\n",
       "       'pablo', 'pablo_hue', 'pablo_permanent', 'parashelter',\n",
       "       'parashelter_sorella', 'prime', 'prime_becchu', 'prime_collabo',\n",
       "       'promodeler_mg', 'promodeler_pg', 'promodeler_rg',\n",
       "       'quadhopper_black', 'quadhopper_white', 'rapid', 'rapid_becchu',\n",
       "       'rapid_deco', 'rapid_elite', 'rapid_elite_deco', 'screwslosher',\n",
       "       'screwslosher_becchu', 'screwslosher_neo', 'sharp', 'sharp_neo',\n",
       "       'soytuber', 'soytuber_custom', 'splatcharger',\n",
       "       'splatcharger_becchu', 'splatcharger_collabo', 'splatroller',\n",
       "       'splatroller_becchu', 'splatroller_collabo', 'splatscope',\n",
       "       'splatscope_becchu', 'splatscope_collabo', 'splatspinner',\n",
       "       'splatspinner_becchu', 'splatspinner_collabo', 'sputtery',\n",
       "       'sputtery_clear', 'sputtery_hue', 'spygadget', 'spygadget_becchu',\n",
       "       'spygadget_sorella', 'squiclean_a', 'squiclean_b', 'squiclean_g',\n",
       "       'sshooter', 'sshooter_becchu', 'sshooter_collabo',\n",
       "       'variableroller', 'variableroller_foil', 'wakaba'], dtype=object)"
      ]
     },
     "execution_count": 34,
     "metadata": {},
     "output_type": "execute_result"
    }
   ],
   "source": [
    "mlb.classes_"
   ]
  },
  {
   "cell_type": "code",
   "execution_count": 35,
   "metadata": {},
   "outputs": [],
   "source": [
    "s = [\"A\", \"B\"]\n",
    "p = [\"1\", \"2\", \"3\", \"4\"]\n",
    "d = []\n",
    "for i in s:\n",
    "    for j in p:\n",
    "        d .extend(list(train[i+j+\"-level\"].values))"
   ]
  },
  {
   "cell_type": "code",
   "execution_count": 36,
   "metadata": {},
   "outputs": [
    {
     "data": {
      "text/plain": [
       "<matplotlib.axes._subplots.AxesSubplot at 0x7fb5965816d0>"
      ]
     },
     "execution_count": 36,
     "metadata": {},
     "output_type": "execute_result"
    },
    {
     "data": {
      "image/png": "[encoded data removed]",
      "text/plain": [
       "<Figure size 2160x360 with 1 Axes>"
      ]
     },
     "metadata": {
      "needs_background": "light"
     },
     "output_type": "display_data"
    }
   ],
   "source": [
    "plt.figure(figsize = (30,5))\n",
    "c = pd.DataFrame(d, columns = [\"level\"])\n",
    "c.level = c.level//10\n",
    "c.level.clip(0,30).value_counts().plot(kind = \"bar\")"
   ]
  },
  {
   "cell_type": "code",
   "execution_count": 37,
   "metadata": {},
   "outputs": [
    {
     "data": {
      "text/plain": [
       "93.0"
      ]
     },
     "execution_count": 37,
     "metadata": {},
     "output_type": "execute_result"
    }
   ],
   "source": [
    "c.level.max()"
   ]
  },
  {
   "cell_type": "code",
   "execution_count": null,
   "metadata": {},
   "outputs": [],
   "source": []
  }
 ],
 "metadata": {
  "kernelspec": {
   "display_name": "Python 3",
   "language": "python",
   "name": "python3"
  },
  "language_info": {
   "codemirror_mode": {
    "name": "ipython",
    "version": 3
   },
   "file_extension": ".py",
   "mimetype": "text/x-python",
   "name": "python",
   "nbconvert_exporter": "python",
   "pygments_lexer": "ipython3",
   "version": "3.6.12"
  }
 },
 "nbformat": 4,
 "nbformat_minor": 4
}
